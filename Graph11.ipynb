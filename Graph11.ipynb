{
 "cells": [
  {
   "cell_type": "code",
   "execution_count": null,
   "id": "93016e5d-2cae-4a78-89a0-c726a4ca9d13",
   "metadata": {},
   "outputs": [],
   "source": [
    "using GeoDataFrames\n",
    "using DataFrames\n",
    "using XLSX\n",
    "using Plots\n",
    "pyplot()\n",
    "using Shapefile"
   ]
  },
  {
   "cell_type": "code",
   "execution_count": null,
   "id": "52bd6258-3b81-4974-ba4a-a3071305ede3",
   "metadata": {},
   "outputs": [],
   "source": [
    "###Carregar shapefile\n",
    "\n",
    "shapefile_path = \"C:\\\\Users\\\\daves\\\\OneDrive\\\\Pessoal\\\\Acadêmico\\\\Mestrado\\\\Dissertação - Execução\\\\Análises\\\\MT_Municipios_2022\\\\MT_Municipios_2022.shp\"\n",
    "municipalities = Shapefile.Table(shapefile_path) |> DataFrame"
   ]
  },
  {
   "cell_type": "code",
   "execution_count": null,
   "id": "70b74293-14a6-4283-9d65-e9536260fb28",
   "metadata": {},
   "outputs": [],
   "source": [
    "###Carregar os dados a serem plotados\n",
    "\n",
    "excel_path = \"C:\\\\Users\\\\daves\\\\OneDrive\\\\Pessoal\\\\Acadêmico\\\\Mestrado\\\\Dissertação - Execução\\\\Análises\\\\Dados do Censo - não usar na regressão\\\\População total.xlsx\"\n",
    "population_data = XLSX.readtable(excel_path, \"Julia\") |> DataFrame"
   ]
  },
  {
   "cell_type": "code",
   "execution_count": null,
   "id": "a23196ec-c556-4dfd-9e8a-bcad3faa5e82",
   "metadata": {},
   "outputs": [],
   "source": [
    "###Filtrar os dados\n",
    "\n",
    "decreasing_population = filter(row -> row.Diferença< 0, population_data)"
   ]
  },
  {
   "cell_type": "code",
   "execution_count": null,
   "id": "cd73e2f2-8b22-4eae-9117-7a94d445c3c0",
   "metadata": {},
   "outputs": [],
   "source": [
    "###Mesclar os dados\n",
    "\n",
    "Merged = innerjoin(municipalities, decreasing_population, on = :NM_MUN => :Cidades)\n"
   ]
  },
  {
   "cell_type": "code",
   "execution_count": null,
   "id": "bc690a53-4e8a-40a2-8e77-af54ecf554d6",
   "metadata": {},
   "outputs": [],
   "source": [
    "###Gerar paleta de cores\n",
    "\n",
    "num_cities = nrow(Merged)\n",
    "colors = distinguishable_colors(num_cities)\n"
   ]
  },
  {
   "cell_type": "code",
   "execution_count": null,
   "id": "b2644409-951a-458d-b856-627fa03b70c8",
   "metadata": {},
   "outputs": [],
   "source": [
    "plot(size=(1000, 800))  # Definir tamanho do gráfico\n",
    "plot!(municipalities.geometry, color=:white, alpha=0.5, label=\"\")\n",
    "\n",
    "for (i, row) in enumerate(eachrow(Merged))\n",
    "    plot!(row.geometry, color=colors[i], alpha=0.7, label=row.NM_MUN)\n",
    "end\n",
    "\n",
    "xlabel!(\"\")\n",
    "ylabel!(\"\")\n",
    "title!(\"\")\n",
    "plot!(legend=:outerright, legendfontsize=8)  # Colocar a legenda ao lado e diminuir o tamanho da legenda\n",
    "\n",
    "# Remover plotagem dos eixos\n",
    "plot!(framestyle=:none)\n"
   ]
  },
  {
   "cell_type": "code",
   "execution_count": null,
   "id": "c6067200-8255-4cc7-89db-1a515d94dfa5",
   "metadata": {},
   "outputs": [],
   "source": [
    "# Salvar o gráfico\n",
    "savefig(\"C:\\\\Users\\\\daves\\\\OneDrive\\\\Pessoal\\\\Acadêmico\\\\Mestrado\\\\Dissertação - Execução\\\\Dissertação\\\\Quadros e gráficos\\\\Graph11.png\")\n"
   ]
  },
  {
   "cell_type": "code",
   "execution_count": null,
   "id": "35f45dec-4b41-4380-ac70-a4b4e45a9e38",
   "metadata": {},
   "outputs": [],
   "source": []
  }
 ],
 "metadata": {
  "kernelspec": {
   "display_name": "Julia 1.11.0",
   "language": "julia",
   "name": "julia-1.11"
  },
  "language_info": {
   "file_extension": ".jl",
   "mimetype": "application/julia",
   "name": "julia",
   "version": "1.11.0"
  }
 },
 "nbformat": 4,
 "nbformat_minor": 5
}
