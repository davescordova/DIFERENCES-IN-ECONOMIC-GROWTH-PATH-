{
 "cells": [
  {
   "cell_type": "code",
   "execution_count": null,
   "id": "93016e5d-2cae-4a78-89a0-c726a4ca9d13",
   "metadata": {},
   "outputs": [],
   "source": [
    "import matplotlib.pyplot as plt\n",
    "import numpy as np\n",
    "import pandas as pd\n",
    "from matplotlib.ticker import PercentFormatter"
   ]
  },
  {
   "cell_type": "code",
   "execution_count": null,
   "id": "70b74293-14a6-4283-9d65-e9536260fb28",
   "metadata": {},
   "outputs": [],
   "source": [
    "# Carregar os dados a serem plotados\n",
    "file_path = \"C:\\\\Users\\\\daves\\\\OneDrive\\\\Pessoal\\\\Acadêmico\\\\Mestrado\\\\Dissertação - Execução\\\\Análises\\\\Orientação Técnica\\\\Orientação Técnica.xlsx\"\n",
    "sheet_name = \"Final Values\"\n",
    "df = pd.read_excel(file_path, sheet_name=sheet_name)"
   ]
  },
  {
   "cell_type": "code",
   "execution_count": null,
   "id": "c241025c-83d5-4afb-b580-2093fcbd06fe",
   "metadata": {},
   "outputs": [],
   "source": [
    "# Criar novas colunas\n",
    "df['Percentage with technical orientation'] = df['With technical orientation'] / df['Total']\n",
    "df['Public origin'] = df['Public'] / df['With technical orientation']\n",
    "df['Proper origin'] = df['Proper'] / df['With technical orientation']\n",
    "df['Other origin'] = df['Other'] / df['With technical orientation']"
   ]
  },
  {
   "cell_type": "code",
   "execution_count": null,
   "id": "b5faaed2-d036-4b9f-8654-1bd08c647ab9",
   "metadata": {},
   "outputs": [],
   "source": [
    "# Definindo o índice como MultiIndex\n",
    "df.set_index(['Census', 'Hectares'], inplace=True)\n",
    "df"
   ]
  },
  {
   "cell_type": "code",
   "execution_count": null,
   "id": "89bbcdc5-db23-46be-a558-c9137cee6baa",
   "metadata": {},
   "outputs": [],
   "source": [
    "# Agrupar por 'Census' e somar as colunas relevantes\n",
    "grouped_df = df.groupby('Census').sum()\n",
    "\n",
    "# Calcular a proporção de 'Public' em relação a 'With technical orientation'\n",
    "grouped_df['Public_origin_absolute'] = grouped_df['Public'] / grouped_df['With technical orientation']\n",
    "grouped_df['Proper_origin_absolute'] = grouped_df['Proper'] / grouped_df['With technical orientation']\n",
    "grouped_df['Other_origin_absolute'] = grouped_df['Other'] / grouped_df['With technical orientation']\n",
    "grouped_df"
   ]
  },
  {
   "cell_type": "code",
   "execution_count": null,
   "id": "56ea5c06-6986-49ba-b52f-36a3de1185a9",
   "metadata": {},
   "outputs": [],
   "source": [
    "import matplotlib.pyplot as plt\n",
    "from matplotlib.ticker import PercentFormatter\n",
    "\n",
    "# Criando a figura e o eixo principal\n",
    "fig, ax1 = plt.subplots(figsize=(12, 6))\n",
    "\n",
    "# Plotando o gráfico de barras empilhadas no eixo principal\n",
    "df[['Public origin', 'Proper origin', 'Other origin']].plot(kind='bar', stacked=True, ax=ax1)\n",
    "ax1.set_xlabel('Hectares')  # Agora o eixo x representa 'Hectares'\n",
    "ax1.set_ylabel('Origin Proportion')\n",
    "\n",
    "# Formatando o eixo y como porcentagem\n",
    "ax1.yaxis.set_major_formatter(PercentFormatter(1.0))  # 1.0 representa 100%\n",
    "ax1.set_ylim(0, 1)  # Definindo o limite do eixo y de 0 a 1\n",
    "\n",
    "# Posicionando a legenda\n",
    "ax1.legend(title='Origin Type', loc='center left', bbox_to_anchor=(1.05, 0.5))\n",
    "\n",
    "# Criando um segundo eixo y que compartilha o mesmo eixo x\n",
    "ax2 = ax1.twinx()  # Usamos twinx() para compartilhar o eixo x\n",
    "\n",
    "# Plotando o gráfico de linha no segundo eixo y\n",
    "df['Percentage with technical orientation'].plot(kind='line', ax=ax2, color='red', marker='o', label='Technical Orientation')\n",
    "ax2.legend(loc='best', bbox_to_anchor=(1.05, 0.4))\n",
    "\n",
    "# Ajustar o segundo eixo y para ter os mesmos limites do primeiro eixo y\n",
    "ax2.set_ylim(ax1.get_ylim())  # Compartilha os limites de ax1\n",
    "\n",
    "# Remover os valores do segundo eixo y\n",
    "ax2.yaxis.set_visible(False)\n",
    "\n",
    "# Ajustar a legenda para evitar sobreposição\n",
    "plt.subplots_adjust(right=0.8)\n",
    "\n",
    "# Ajustar os rótulos do eixo x manualmente e centralizar\n",
    "ax1.set_xticklabels([f'{hectares}' for census, hectares in df.index], rotation=90, ha='center')\n",
    "\n",
    "# Criando um segundo eixo x para o conteúdo de Census\n",
    "ax3 = ax1.twiny()\n",
    "ax3.set_xlim(ax1.get_xlim())\n",
    "ax3.set_xticks(ax1.get_xticks())\n",
    "ax3.set_xticklabels([f'{census}' for census, hectares in df.index], rotation=90, ha='center')\n",
    "ax3.set_xlabel('Census')\n",
    "\n",
    "# Salvar o gráfico\n",
    "plt.tight_layout()\n",
    "plt.savefig(r'C:\\Users\\daves\\OneDrive\\Pessoal\\Acadêmico\\Mestrado\\Dissertação - Execução\\Dissertação\\Quadros e gráficos\\Origin Proportion and Technical Orientation by Census.png')\n",
    "\n",
    "# Mostrando o gráfico\n",
    "plt.show()"
   ]
  },
  {
   "cell_type": "code",
   "execution_count": null,
   "id": "c842ace4-a8af-48c8-bbb6-425fe6a81562",
   "metadata": {},
   "outputs": [],
   "source": [
    "# Criar a figura e o eixo principal\n",
    "fig, ax = plt.subplots(figsize=(10, 6))\n",
    "\n",
    "# Plotar o gráfico de linha para 'Public_origin_absolute'\n",
    "grouped_df['Public_origin_absolute'].plot(kind='line', ax=ax, color='green', marker='o', label='Public')\n",
    "\n",
    "# Plotar o gráfico de linha para 'Proper_origin_absolute'\n",
    "grouped_df['Proper_origin_absolute'].plot(kind='line', ax=ax, color='blue', marker='o', label='Proper')\n",
    "\n",
    "# Plotar o gráfico de linha para 'Other_origin_absolute'\n",
    "grouped_df['Other_origin_absolute'].plot(kind='line', ax=ax, color='red', marker='o', label='Other')\n",
    "\n",
    "# Configurações do gráfico\n",
    "ax.set_xlabel('Census')\n",
    "ax.set_ylabel('Proportion')\n",
    "ax.set_ylim(0, 1)  # Definir o limite do eixo y de 0 a 1\n",
    "ax.yaxis.set_major_formatter(PercentFormatter(1.0))  # Formatar eixo y como porcentagem\n",
    "\n",
    "# Adicionar grade\n",
    "ax.grid(True, linestyle='--', alpha=0.6)\n",
    "\n",
    "# Posicionar a legenda fora do gráfico\n",
    "ax.legend(title='Origin Type', bbox_to_anchor=(1.05, 1), loc='upper left')\n",
    "\n",
    "# Ajustar os rótulos do eixo x\n",
    "ax.set_xticks(grouped_df.index)\n",
    "ax.set_xticklabels(grouped_df.index, rotation=45, ha='right')\n",
    "\n",
    "# Salvar o gráfico\n",
    "plt.tight_layout()\n",
    "plt.savefig(r'C:\\Users\\daves\\OneDrive\\Pessoal\\Acadêmico\\Mestrado\\Dissertação - Execução\\Dissertação\\Quadros e gráficos\\Global proportion of technical assistance.png')\n",
    "\n",
    "# Mostrar o gráfico\n",
    "plt.tight_layout()\n",
    "plt.show()"
   ]
  },
  {
   "cell_type": "code",
   "execution_count": null,
   "id": "14eb9143-b78d-4b06-b67a-24818b774442",
   "metadata": {},
   "outputs": [],
   "source": []
  }
 ],
 "metadata": {
  "kernelspec": {
   "display_name": "Python [conda env:base] *",
   "language": "python",
   "name": "conda-base-py"
  },
  "language_info": {
   "codemirror_mode": {
    "name": "ipython",
    "version": 3
   },
   "file_extension": ".py",
   "mimetype": "text/x-python",
   "name": "python",
   "nbconvert_exporter": "python",
   "pygments_lexer": "ipython3",
   "version": "3.12.8"
  }
 },
 "nbformat": 4,
 "nbformat_minor": 5
}
