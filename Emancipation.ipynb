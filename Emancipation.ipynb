{
 "cells": [
  {
   "cell_type": "code",
   "execution_count": 4,
   "id": "24df6076",
   "metadata": {},
   "outputs": [
    {
     "name": "stdout",
     "output_type": "stream",
     "text": [
      "Interactive graph saved to:\n",
      "C:\\Users\\daves\\OneDrive\\Pessoal\\Acadêmico\\Mestrado\\Dissertação - Execução\\Dissertação\\Quadros e gráficos\\municipal_emancipation_timeline_hover_updated.html\n",
      "Static image saving skipped as requested.\n"
     ]
    },
    {
     "data": {
      "application/vnd.plotly.v1+json": {
       "config": {
        "plotlyServerURL": "https://plot.ly"
       },
       "data": [
        {
         "hoverinfo": "text",
         "hovertemplate": "Acorizal<br>Emancipated from Cuiabá<br>in 1953<extra></extra>",
         "hovertext": "Acorizal<br>Emancipated from Cuiabá<br>in 1953",
         "legendgroup": "Acorizal",
         "line": {
          "color": "blue",
          "width": 1.5
         },
         "mode": "lines",
         "name": "Acorizal",
         "showlegend": false,
         "type": "scatter",
         "x": [
          1719,
          1953
         ],
         "y": [
          35,
          0
         ]
        },
        {
         "hoverinfo": "text",
         "hovertemplate": "Acorizal<br>Emancipated from Cuiabá<br>in 1953<extra></extra>",
         "hovertext": "Acorizal<br>Emancipated from Cuiabá<br>in 1953",
         "legendgroup": "Acorizal",
         "marker": {
          "color": "darkblue",
          "size": 10
         },
         "mode": "markers+text",
         "name": "Acorizal",
         "showlegend": false,
         "text": [
          "Acorizal"
         ],
         "textposition": "middle left",
         "type": "scatter",
         "x": [
          1953
         ],
         "y": [
          0
         ]
        },
        {
         "hoverinfo": "text",
         "hovertemplate": "Alta Floresta<br>Emancipated from Colíder<br>in 1979<extra></extra>",
         "hovertext": "Alta Floresta<br>Emancipated from Colíder<br>in 1979",
         "legendgroup": "Alta Floresta",
         "line": {
          "color": "blue",
          "width": 1.5
         },
         "mode": "lines",
         "name": "Alta Floresta",
         "showlegend": false,
         "type": "scatter",
         "x": [
          1979,
          1979
         ],
         "y": [
          31,
          1
         ]
        },
        {
         "hoverinfo": "text",
         "hovertemplate": "Alta Floresta<br>Emancipated from Colíder<br>in 1979<extra></extra>",
         "hovertext": "Alta Floresta<br>Emancipated from Colíder<br>in 1979",
         "legendgroup": "Alta Floresta",
         "marker": {
          "color": "darkblue",
          "size": 10
         },
         "mode": "markers+text",
         "name": "Alta Floresta",
         "showlegend": false,
         "text": [
          "Alta Floresta"
         ],
         "textposition": "middle left",
         "type": "scatter",
         "x": [
          1979
         ],
         "y": [
          1
         ]
        },
        {
         "hoverinfo": "text",
         "hovertemplate": "Alto Araguaia<br>Emancipated from Santa Rita do Araguaia<br>in 1948<extra></extra>",
         "hovertext": "Alto Araguaia<br>Emancipated from Santa Rita do Araguaia<br>in 1948",
         "legendgroup": "Alto Araguaia",
         "line": {
          "color": "blue",
          "width": 1.5
         },
         "mode": "lines",
         "name": "Alto Araguaia",
         "showlegend": false,
         "type": "scatter",
         "x": [
          1938,
          1948
         ],
         "y": [
          117,
          2
         ]
        },
        {
         "hoverinfo": "text",
         "hovertemplate": "Alto Araguaia<br>Emancipated from Santa Rita do Araguaia<br>in 1948<extra></extra>",
         "hovertext": "Alto Araguaia<br>Emancipated from Santa Rita do Araguaia<br>in 1948",
         "legendgroup": "Alto Araguaia",
         "marker": {
          "color": "darkblue",
          "size": 10
         },
         "mode": "markers+text",
         "name": "Alto Araguaia",
         "showlegend": false,
         "text": [
          "Alto Araguaia"
         ],
         "textposition": "middle left",
         "type": "scatter",
         "x": [
          1948
         ],
         "y": [
          2
         ]
        },
        {
         "hoverinfo": "text",
         "hovertemplate": "Alto Boa Vista<br>Emancipated from São Félix do Araguaia<br>in 1995<extra></extra>",
         "hovertext": "Alto Boa Vista<br>Emancipated from São Félix do Araguaia<br>in 1995",
         "legendgroup": "Alto Boa Vista",
         "line": {
          "color": "blue",
          "width": 1.5
         },
         "mode": "lines",
         "name": "Alto Boa Vista",
         "showlegend": false,
         "type": "scatter",
         "x": [
          1976,
          1995
         ],
         "y": [
          127,
          3
         ]
        },
        {
         "hoverinfo": "text",
         "hovertemplate": "Alto Boa Vista<br>Emancipated from São Félix do Araguaia<br>in 1995<extra></extra>",
         "hovertext": "Alto Boa Vista<br>Emancipated from São Félix do Araguaia<br>in 1995",
         "legendgroup": "Alto Boa Vista",
         "marker": {
          "color": "darkblue",
          "size": 10
         },
         "mode": "markers+text",
         "name": "Alto Boa Vista",
         "showlegend": false,
         "text": [
          "Alto Boa Vista"
         ],
         "textposition": "middle left",
         "type": "scatter",
         "x": [
          1995
         ],
         "y": [
          3
         ]
        },
        {
         "hoverinfo": "text",
         "hovertemplate": "Alto Garças<br>Emancipated from Alto Araguaia<br>in 1953<extra></extra>",
         "hovertext": "Alto Garças<br>Emancipated from Alto Araguaia<br>in 1953",
         "legendgroup": "Alto Garças",
         "line": {
          "color": "blue",
          "width": 1.5
         },
         "mode": "lines",
         "name": "Alto Garças",
         "showlegend": false,
         "type": "scatter",
         "x": [
          1948,
          1953
         ],
         "y": [
          2,
          4
         ]
        },
        {
         "hoverinfo": "text",
         "hovertemplate": "Alto Garças<br>Emancipated from Alto Araguaia<br>in 1953<extra></extra>",
         "hovertext": "Alto Garças<br>Emancipated from Alto Araguaia<br>in 1953",
         "legendgroup": "Alto Garças",
         "marker": {
          "color": "darkblue",
          "size": 10
         },
         "mode": "markers+text",
         "name": "Alto Garças",
         "showlegend": false,
         "text": [
          "Alto Garças"
         ],
         "textposition": "middle left",
         "type": "scatter",
         "x": [
          1953
         ],
         "y": [
          4
         ]
        },
        {
         "hoverinfo": "text",
         "hovertemplate": "Alto Paraguai<br>Emancipated from Diamantino<br>in 1948<extra></extra>",
         "hovertext": "Alto Paraguai<br>Emancipated from Diamantino<br>in 1948",
         "legendgroup": "Alto Paraguai",
         "line": {
          "color": "blue",
          "width": 1.5
         },
         "mode": "lines",
         "name": "Alto Paraguai",
         "showlegend": false,
         "type": "scatter",
         "x": [
          1858,
          1948
         ],
         "y": [
          39,
          5
         ]
        },
        {
         "hoverinfo": "text",
         "hovertemplate": "Alto Paraguai<br>Emancipated from Diamantino<br>in 1948<extra></extra>",
         "hovertext": "Alto Paraguai<br>Emancipated from Diamantino<br>in 1948",
         "legendgroup": "Alto Paraguai",
         "marker": {
          "color": "darkblue",
          "size": 10
         },
         "mode": "markers+text",
         "name": "Alto Paraguai",
         "showlegend": false,
         "text": [
          "Alto Paraguai"
         ],
         "textposition": "middle left",
         "type": "scatter",
         "x": [
          1948
         ],
         "y": [
          5
         ]
        },
        {
         "hoverinfo": "text",
         "hovertemplate": "Alto Taquari<br>Emancipated from Alto Araguaia<br>in 1987<extra></extra>",
         "hovertext": "Alto Taquari<br>Emancipated from Alto Araguaia<br>in 1987",
         "legendgroup": "Alto Taquari",
         "line": {
          "color": "blue",
          "width": 1.5
         },
         "mode": "lines",
         "name": "Alto Taquari",
         "showlegend": false,
         "type": "scatter",
         "x": [
          1948,
          1987
         ],
         "y": [
          2,
          6
         ]
        },
        {
         "hoverinfo": "text",
         "hovertemplate": "Alto Taquari<br>Emancipated from Alto Araguaia<br>in 1987<extra></extra>",
         "hovertext": "Alto Taquari<br>Emancipated from Alto Araguaia<br>in 1987",
         "legendgroup": "Alto Taquari",
         "marker": {
          "color": "darkblue",
          "size": 10
         },
         "mode": "markers+text",
         "name": "Alto Taquari",
         "showlegend": false,
         "text": [
          "Alto Taquari"
         ],
         "textposition": "middle left",
         "type": "scatter",
         "x": [
          1987
         ],
         "y": [
          6
         ]
        },
        {
         "hoverinfo": "text",
         "hovertemplate": "Apiacás<br>Emancipated from Alta Floresta<br>in 1988<extra></extra>",
         "hovertext": "Apiacás<br>Emancipated from Alta Floresta<br>in 1988",
         "legendgroup": "Apiacás",
         "line": {
          "color": "blue",
          "width": 1.5
         },
         "mode": "lines",
         "name": "Apiacás",
         "showlegend": false,
         "type": "scatter",
         "x": [
          1979,
          1988
         ],
         "y": [
          1,
          7
         ]
        },
        {
         "hoverinfo": "text",
         "hovertemplate": "Apiacás<br>Emancipated from Alta Floresta<br>in 1988<extra></extra>",
         "hovertext": "Apiacás<br>Emancipated from Alta Floresta<br>in 1988",
         "legendgroup": "Apiacás",
         "marker": {
          "color": "darkblue",
          "size": 10
         },
         "mode": "markers+text",
         "name": "Apiacás",
         "showlegend": false,
         "text": [
          "Apiacás"
         ],
         "textposition": "middle left",
         "type": "scatter",
         "x": [
          1988
         ],
         "y": [
          7
         ]
        },
        {
         "hoverinfo": "text",
         "hovertemplate": "Araguaiana<br>Emancipated from Barra do Garças<br>in 1963<extra></extra>",
         "hovertext": "Araguaiana<br>Emancipated from Barra do Garças<br>in 1963",
         "legendgroup": "Araguaiana",
         "line": {
          "color": "blue",
          "width": 1.5
         },
         "mode": "lines",
         "name": "Araguaiana",
         "showlegend": false,
         "type": "scatter",
         "x": [
          1924,
          1963
         ],
         "y": [
          14,
          8
         ]
        },
        {
         "hoverinfo": "text",
         "hovertemplate": "Araguaiana<br>Emancipated from Barra do Garças<br>in 1963<extra></extra>",
         "hovertext": "Araguaiana<br>Emancipated from Barra do Garças<br>in 1963",
         "legendgroup": "Araguaiana",
         "marker": {
          "color": "darkblue",
          "size": 10
         },
         "mode": "markers+text",
         "name": "Araguaiana",
         "showlegend": false,
         "text": [
          "Araguaiana"
         ],
         "textposition": "middle left",
         "type": "scatter",
         "x": [
          1963
         ],
         "y": [
          8
         ]
        },
        {
         "hoverinfo": "text",
         "hovertemplate": "Araguainha<br>Emancipated from Alto Araguaia<br>in 1963<extra></extra>",
         "hovertext": "Araguainha<br>Emancipated from Alto Araguaia<br>in 1963",
         "legendgroup": "Araguainha",
         "line": {
          "color": "blue",
          "width": 1.5
         },
         "mode": "lines",
         "name": "Araguainha",
         "showlegend": false,
         "type": "scatter",
         "x": [
          1948,
          1963
         ],
         "y": [
          2,
          9
         ]
        },
        {
         "hoverinfo": "text",
         "hovertemplate": "Araguainha<br>Emancipated from Alto Araguaia<br>in 1963<extra></extra>",
         "hovertext": "Araguainha<br>Emancipated from Alto Araguaia<br>in 1963",
         "legendgroup": "Araguainha",
         "marker": {
          "color": "darkblue",
          "size": 10
         },
         "mode": "markers+text",
         "name": "Araguainha",
         "showlegend": false,
         "text": [
          "Araguainha"
         ],
         "textposition": "middle left",
         "type": "scatter",
         "x": [
          1963
         ],
         "y": [
          9
         ]
        },
        {
         "hoverinfo": "text",
         "hovertemplate": "Araputanga<br>Emancipated from Mirassol d'Oeste<br>in 1980<extra></extra>",
         "hovertext": "Araputanga<br>Emancipated from Mirassol d'Oeste<br>in 1980",
         "legendgroup": "Araputanga",
         "line": {
          "color": "blue",
          "width": 1.5
         },
         "mode": "lines",
         "name": "Araputanga",
         "showlegend": false,
         "type": "scatter",
         "x": [
          1976,
          1980
         ],
         "y": [
          65,
          10
         ]
        },
        {
         "hoverinfo": "text",
         "hovertemplate": "Araputanga<br>Emancipated from Mirassol d'Oeste<br>in 1980<extra></extra>",
         "hovertext": "Araputanga<br>Emancipated from Mirassol d'Oeste<br>in 1980",
         "legendgroup": "Araputanga",
         "marker": {
          "color": "darkblue",
          "size": 10
         },
         "mode": "markers+text",
         "name": "Araputanga",
         "showlegend": false,
         "text": [
          "Araputanga"
         ],
         "textposition": "middle left",
         "type": "scatter",
         "x": [
          1980
         ],
         "y": [
          10
         ]
        },
        {
         "hoverinfo": "text",
         "hovertemplate": "Arenápolis<br>Emancipated from Diamantino<br>in 1963<extra></extra>",
         "hovertext": "Arenápolis<br>Emancipated from Diamantino<br>in 1963",
         "legendgroup": "Arenápolis",
         "line": {
          "color": "blue",
          "width": 1.5
         },
         "mode": "lines",
         "name": "Arenápolis",
         "showlegend": false,
         "type": "scatter",
         "x": [
          1858,
          1963
         ],
         "y": [
          39,
          11
         ]
        },
        {
         "hoverinfo": "text",
         "hovertemplate": "Arenápolis<br>Emancipated from Diamantino<br>in 1963<extra></extra>",
         "hovertext": "Arenápolis<br>Emancipated from Diamantino<br>in 1963",
         "legendgroup": "Arenápolis",
         "marker": {
          "color": "darkblue",
          "size": 10
         },
         "mode": "markers+text",
         "name": "Arenápolis",
         "showlegend": false,
         "text": [
          "Arenápolis"
         ],
         "textposition": "middle left",
         "type": "scatter",
         "x": [
          1963
         ],
         "y": [
          11
         ]
        },
        {
         "hoverinfo": "text",
         "hovertemplate": "Aripuanã<br>Emancipated from Juína<br>in 1988<extra></extra>",
         "hovertext": "Aripuanã<br>Emancipated from Juína<br>in 1988",
         "legendgroup": "Aripuanã",
         "line": {
          "color": "blue",
          "width": 1.5
         },
         "mode": "lines",
         "name": "Aripuanã",
         "showlegend": false,
         "type": "scatter",
         "x": [
          1979,
          1988
         ],
         "y": [
          59,
          12
         ]
        },
        {
         "hoverinfo": "text",
         "hovertemplate": "Aripuanã<br>Emancipated from Juína<br>in 1988<extra></extra>",
         "hovertext": "Aripuanã<br>Emancipated from Juína<br>in 1988",
         "legendgroup": "Aripuanã",
         "marker": {
          "color": "darkblue",
          "size": 10
         },
         "mode": "markers+text",
         "name": "Aripuanã",
         "showlegend": false,
         "text": [
          "Aripuanã"
         ],
         "textposition": "middle left",
         "type": "scatter",
         "x": [
          1988
         ],
         "y": [
          12
         ]
        },
        {
         "hoverinfo": "text",
         "hovertemplate": "Barra do Bugres<br>Emancipated from Cáceres<br>in 1948<extra></extra>",
         "hovertext": "Barra do Bugres<br>Emancipated from Cáceres<br>in 1948",
         "legendgroup": "Barra do Bugres",
         "line": {
          "color": "blue",
          "width": 1.5
         },
         "mode": "lines",
         "name": "Barra do Bugres",
         "showlegend": false,
         "type": "scatter",
         "x": [
          1873,
          1948
         ],
         "y": [
          37,
          13
         ]
        },
        {
         "hoverinfo": "text",
         "hovertemplate": "Barra do Bugres<br>Emancipated from Cáceres<br>in 1948<extra></extra>",
         "hovertext": "Barra do Bugres<br>Emancipated from Cáceres<br>in 1948",
         "legendgroup": "Barra do Bugres",
         "marker": {
          "color": "darkblue",
          "size": 10
         },
         "mode": "markers+text",
         "name": "Barra do Bugres",
         "showlegend": false,
         "text": [
          "Barra do Bugres"
         ],
         "textposition": "middle left",
         "type": "scatter",
         "x": [
          1948
         ],
         "y": [
          13
         ]
        },
        {
         "hoverinfo": "text",
         "hovertemplate": "Barra do Garças<br>Origin city (year: 1924)<extra></extra>",
         "hovertext": "Barra do Garças<br>Origin city (year: 1924)",
         "legendgroup": "Barra do Garças",
         "marker": {
          "color": "lightblue",
          "size": 10
         },
         "mode": "markers+text",
         "name": "Barra do Garças",
         "showlegend": false,
         "text": [
          "Barra do Garças"
         ],
         "textposition": "middle right",
         "type": "scatter",
         "x": [
          1924
         ],
         "y": [
          14
         ]
        },
        {
         "hoverinfo": "text",
         "hovertemplate": "Barra do Garças<br>Emancipated from Rosário Oeste<br>in 1924<extra></extra>",
         "hovertext": "Barra do Garças<br>Emancipated from Rosário Oeste<br>in 1924",
         "legendgroup": "Barra do Garças",
         "line": {
          "color": "blue",
          "width": 1.5
         },
         "mode": "lines",
         "name": "Barra do Garças",
         "showlegend": false,
         "type": "scatter",
         "x": [
          1858,
          1924
         ],
         "y": [
          113,
          14
         ]
        },
        {
         "hoverinfo": "text",
         "hovertemplate": "Barão de Melgaço<br>Emancipated from Cuiabá<br>in 1938<extra></extra>",
         "hovertext": "Barão de Melgaço<br>Emancipated from Cuiabá<br>in 1938",
         "legendgroup": "Barão de Melgaço",
         "line": {
          "color": "blue",
          "width": 1.5
         },
         "mode": "lines",
         "name": "Barão de Melgaço",
         "showlegend": false,
         "type": "scatter",
         "x": [
          1719,
          1938
         ],
         "y": [
          35,
          15
         ]
        },
        {
         "hoverinfo": "text",
         "hovertemplate": "Barão de Melgaço<br>Emancipated from Cuiabá<br>in 1938<extra></extra>",
         "hovertext": "Barão de Melgaço<br>Emancipated from Cuiabá<br>in 1938",
         "legendgroup": "Barão de Melgaço",
         "marker": {
          "color": "darkblue",
          "size": 10
         },
         "mode": "markers+text",
         "name": "Barão de Melgaço",
         "showlegend": false,
         "text": [
          "Barão de Melgaço"
         ],
         "textposition": "middle left",
         "type": "scatter",
         "x": [
          1938
         ],
         "y": [
          15
         ]
        },
        {
         "hoverinfo": "text",
         "hovertemplate": "Boa Esperança do Norte<br>Emancipated from Nova Ubiratã and Sorriso<br>in 2023<extra></extra>",
         "hovertext": "Boa Esperança do Norte<br>Emancipated from Nova Ubiratã and Sorriso<br>in 2023",
         "legendgroup": "Boa Esperança do Norte",
         "line": {
          "color": "blue",
          "width": 1.5
         },
         "mode": "lines",
         "name": "Boa Esperança do Norte",
         "showlegend": false,
         "type": "scatter",
         "x": [
          2023,
          2023
         ],
         "y": [
          85,
          16
         ]
        },
        {
         "hoverinfo": "text",
         "hovertemplate": "Boa Esperança do Norte<br>Emancipated from Nova Ubiratã and Sorriso<br>in 2023<extra></extra>",
         "hovertext": "Boa Esperança do Norte<br>Emancipated from Nova Ubiratã and Sorriso<br>in 2023",
         "legendgroup": "Boa Esperança do Norte",
         "marker": {
          "color": "darkblue",
          "size": 10
         },
         "mode": "markers+text",
         "name": "Boa Esperança do Norte",
         "showlegend": false,
         "text": [
          "Boa Esperança do Norte"
         ],
         "textposition": "middle left",
         "type": "scatter",
         "x": [
          2023
         ],
         "y": [
          16
         ]
        },
        {
         "hoverinfo": "text",
         "hovertemplate": "Bom Jesus do Araguaia<br>Emancipated from São Félix do Araguaia<br>in 1995<extra></extra>",
         "hovertext": "Bom Jesus do Araguaia<br>Emancipated from São Félix do Araguaia<br>in 1995",
         "legendgroup": "Bom Jesus do Araguaia",
         "line": {
          "color": "blue",
          "width": 1.5
         },
         "mode": "lines",
         "name": "Bom Jesus do Araguaia",
         "showlegend": false,
         "type": "scatter",
         "x": [
          1976,
          1995
         ],
         "y": [
          127,
          17
         ]
        },
        {
         "hoverinfo": "text",
         "hovertemplate": "Bom Jesus do Araguaia<br>Emancipated from São Félix do Araguaia<br>in 1995<extra></extra>",
         "hovertext": "Bom Jesus do Araguaia<br>Emancipated from São Félix do Araguaia<br>in 1995",
         "legendgroup": "Bom Jesus do Araguaia",
         "marker": {
          "color": "darkblue",
          "size": 10
         },
         "mode": "markers+text",
         "name": "Bom Jesus do Araguaia",
         "showlegend": false,
         "text": [
          "Bom Jesus do Araguaia"
         ],
         "textposition": "middle left",
         "type": "scatter",
         "x": [
          1995
         ],
         "y": [
          17
         ]
        },
        {
         "hoverinfo": "text",
         "hovertemplate": "Brasnorte<br>Emancipated from Juara<br>in 1994<extra></extra>",
         "hovertext": "Brasnorte<br>Emancipated from Juara<br>in 1994",
         "legendgroup": "Brasnorte",
         "line": {
          "color": "blue",
          "width": 1.5
         },
         "mode": "lines",
         "name": "Brasnorte",
         "showlegend": false,
         "type": "scatter",
         "x": [
          1986,
          1994
         ],
         "y": [
          56,
          18
         ]
        },
        {
         "hoverinfo": "text",
         "hovertemplate": "Brasnorte<br>Emancipated from Juara<br>in 1994<extra></extra>",
         "hovertext": "Brasnorte<br>Emancipated from Juara<br>in 1994",
         "legendgroup": "Brasnorte",
         "marker": {
          "color": "darkblue",
          "size": 10
         },
         "mode": "markers+text",
         "name": "Brasnorte",
         "showlegend": false,
         "text": [
          "Brasnorte"
         ],
         "textposition": "middle left",
         "type": "scatter",
         "x": [
          1994
         ],
         "y": [
          18
         ]
        },
        {
         "hoverinfo": "text",
         "hovertemplate": "Campinápolis<br>Emancipated from Barra do Garças<br>in 1980<extra></extra>",
         "hovertext": "Campinápolis<br>Emancipated from Barra do Garças<br>in 1980",
         "legendgroup": "Campinápolis",
         "line": {
          "color": "blue",
          "width": 1.5
         },
         "mode": "lines",
         "name": "Campinápolis",
         "showlegend": false,
         "type": "scatter",
         "x": [
          1924,
          1980
         ],
         "y": [
          14,
          19
         ]
        },
        {
         "hoverinfo": "text",
         "hovertemplate": "Campinápolis<br>Emancipated from Barra do Garças<br>in 1980<extra></extra>",
         "hovertext": "Campinápolis<br>Emancipated from Barra do Garças<br>in 1980",
         "legendgroup": "Campinápolis",
         "marker": {
          "color": "darkblue",
          "size": 10
         },
         "mode": "markers+text",
         "name": "Campinápolis",
         "showlegend": false,
         "text": [
          "Campinápolis"
         ],
         "textposition": "middle left",
         "type": "scatter",
         "x": [
          1980
         ],
         "y": [
          19
         ]
        },
        {
         "hoverinfo": "text",
         "hovertemplate": "Campo Novo do Parecis<br>Emancipated from Campos de Júlio<br>in 1994<extra></extra>",
         "hovertext": "Campo Novo do Parecis<br>Emancipated from Campos de Júlio<br>in 1994",
         "legendgroup": "Campo Novo do Parecis",
         "line": {
          "color": "blue",
          "width": 1.5
         },
         "mode": "lines",
         "name": "Campo Novo do Parecis",
         "showlegend": false,
         "type": "scatter",
         "x": [
          1994,
          1994
         ],
         "y": [
          22,
          20
         ]
        },
        {
         "hoverinfo": "text",
         "hovertemplate": "Campo Novo do Parecis<br>Emancipated from Campos de Júlio<br>in 1994<extra></extra>",
         "hovertext": "Campo Novo do Parecis<br>Emancipated from Campos de Júlio<br>in 1994",
         "legendgroup": "Campo Novo do Parecis",
         "marker": {
          "color": "darkblue",
          "size": 10
         },
         "mode": "markers+text",
         "name": "Campo Novo do Parecis",
         "showlegend": false,
         "text": [
          "Campo Novo do Parecis"
         ],
         "textposition": "middle left",
         "type": "scatter",
         "x": [
          1994
         ],
         "y": [
          20
         ]
        },
        {
         "hoverinfo": "text",
         "hovertemplate": "Campo Verde<br>Emancipated from Dom Aquino<br>in 1988<extra></extra>",
         "hovertext": "Campo Verde<br>Emancipated from Dom Aquino<br>in 1988",
         "legendgroup": "Campo Verde",
         "line": {
          "color": "blue",
          "width": 1.5
         },
         "mode": "lines",
         "name": "Campo Verde",
         "showlegend": false,
         "type": "scatter",
         "x": [
          1963,
          1988
         ],
         "y": [
          40,
          21
         ]
        },
        {
         "hoverinfo": "text",
         "hovertemplate": "Campo Verde<br>Emancipated from Dom Aquino<br>in 1988<extra></extra>",
         "hovertext": "Campo Verde<br>Emancipated from Dom Aquino<br>in 1988",
         "legendgroup": "Campo Verde",
         "marker": {
          "color": "darkblue",
          "size": 10
         },
         "mode": "markers+text",
         "name": "Campo Verde",
         "showlegend": false,
         "text": [
          "Campo Verde"
         ],
         "textposition": "middle left",
         "type": "scatter",
         "x": [
          1988
         ],
         "y": [
          21
         ]
        },
        {
         "hoverinfo": "text",
         "hovertemplate": "Campos de Júlio<br>Origin city (year: 1994)<extra></extra>",
         "hovertext": "Campos de Júlio<br>Origin city (year: 1994)",
         "legendgroup": "Campos de Júlio",
         "marker": {
          "color": "lightblue",
          "size": 10
         },
         "mode": "markers+text",
         "name": "Campos de Júlio",
         "showlegend": false,
         "text": [
          "Campos de Júlio"
         ],
         "textposition": "middle right",
         "type": "scatter",
         "x": [
          1994
         ],
         "y": [
          22
         ]
        },
        {
         "hoverinfo": "text",
         "hovertemplate": "Campos de Júlio<br>Emancipated from Comodoro<br>in 1994<extra></extra>",
         "hovertext": "Campos de Júlio<br>Emancipated from Comodoro<br>in 1994",
         "legendgroup": "Campos de Júlio",
         "line": {
          "color": "blue",
          "width": 1.5
         },
         "mode": "lines",
         "name": "Campos de Júlio",
         "showlegend": false,
         "type": "scatter",
         "x": [
          1993,
          1994
         ],
         "y": [
          32,
          22
         ]
        },
        {
         "hoverinfo": "text",
         "hovertemplate": "Canabrava do Norte<br>Emancipated from São Félix do Araguaia<br>in 1995<extra></extra>",
         "hovertext": "Canabrava do Norte<br>Emancipated from São Félix do Araguaia<br>in 1995",
         "legendgroup": "Canabrava do Norte",
         "line": {
          "color": "blue",
          "width": 1.5
         },
         "mode": "lines",
         "name": "Canabrava do Norte",
         "showlegend": false,
         "type": "scatter",
         "x": [
          1976,
          1995
         ],
         "y": [
          127,
          23
         ]
        },
        {
         "hoverinfo": "text",
         "hovertemplate": "Canabrava do Norte<br>Emancipated from São Félix do Araguaia<br>in 1995<extra></extra>",
         "hovertext": "Canabrava do Norte<br>Emancipated from São Félix do Araguaia<br>in 1995",
         "legendgroup": "Canabrava do Norte",
         "marker": {
          "color": "darkblue",
          "size": 10
         },
         "mode": "markers+text",
         "name": "Canabrava do Norte",
         "showlegend": false,
         "text": [
          "Canabrava do Norte"
         ],
         "textposition": "middle left",
         "type": "scatter",
         "x": [
          1995
         ],
         "y": [
          23
         ]
        },
        {
         "hoverinfo": "text",
         "hovertemplate": "Canarana<br>Origin city (year: 1975)<extra></extra>",
         "hovertext": "Canarana<br>Origin city (year: 1975)",
         "legendgroup": "Canarana",
         "marker": {
          "color": "lightblue",
          "size": 10
         },
         "mode": "markers+text",
         "name": "Canarana",
         "showlegend": false,
         "text": [
          "Canarana"
         ],
         "textposition": "middle right",
         "type": "scatter",
         "x": [
          1975
         ],
         "y": [
          24
         ]
        },
        {
         "hoverinfo": "text",
         "hovertemplate": "Canarana<br>Emancipated from Barra do Garças<br>in 1975<extra></extra>",
         "hovertext": "Canarana<br>Emancipated from Barra do Garças<br>in 1975",
         "legendgroup": "Canarana",
         "line": {
          "color": "blue",
          "width": 1.5
         },
         "mode": "lines",
         "name": "Canarana",
         "showlegend": false,
         "type": "scatter",
         "x": [
          1924,
          1975
         ],
         "y": [
          14,
          24
         ]
        },
        {
         "hoverinfo": "text",
         "hovertemplate": "Carlinda<br>Emancipated from Peixoto de Azevedo<br>in 1991<extra></extra>",
         "hovertext": "Carlinda<br>Emancipated from Peixoto de Azevedo<br>in 1991",
         "legendgroup": "Carlinda",
         "line": {
          "color": "blue",
          "width": 1.5
         },
         "mode": "lines",
         "name": "Carlinda",
         "showlegend": false,
         "type": "scatter",
         "x": [
          1979,
          1991
         ],
         "y": [
          94,
          25
         ]
        },
        {
         "hoverinfo": "text",
         "hovertemplate": "Carlinda<br>Emancipated from Peixoto de Azevedo<br>in 1991<extra></extra>",
         "hovertext": "Carlinda<br>Emancipated from Peixoto de Azevedo<br>in 1991",
         "legendgroup": "Carlinda",
         "marker": {
          "color": "darkblue",
          "size": 10
         },
         "mode": "markers+text",
         "name": "Carlinda",
         "showlegend": false,
         "text": [
          "Carlinda"
         ],
         "textposition": "middle left",
         "type": "scatter",
         "x": [
          1991
         ],
         "y": [
          25
         ]
        },
        {
         "hoverinfo": "text",
         "hovertemplate": "Castanheira<br>Emancipated from Juína<br>in 1994<extra></extra>",
         "hovertext": "Castanheira<br>Emancipated from Juína<br>in 1994",
         "legendgroup": "Castanheira",
         "line": {
          "color": "blue",
          "width": 1.5
         },
         "mode": "lines",
         "name": "Castanheira",
         "showlegend": false,
         "type": "scatter",
         "x": [
          1979,
          1994
         ],
         "y": [
          59,
          26
         ]
        },
        {
         "hoverinfo": "text",
         "hovertemplate": "Castanheira<br>Emancipated from Juína<br>in 1994<extra></extra>",
         "hovertext": "Castanheira<br>Emancipated from Juína<br>in 1994",
         "legendgroup": "Castanheira",
         "marker": {
          "color": "darkblue",
          "size": 10
         },
         "mode": "markers+text",
         "name": "Castanheira",
         "showlegend": false,
         "text": [
          "Castanheira"
         ],
         "textposition": "middle left",
         "type": "scatter",
         "x": [
          1994
         ],
         "y": [
          26
         ]
        },
        {
         "hoverinfo": "text",
         "hovertemplate": "Chapada dos Guimarães<br>Emancipated from Cuiabá<br>in 1953<extra></extra>",
         "hovertext": "Chapada dos Guimarães<br>Emancipated from Cuiabá<br>in 1953",
         "legendgroup": "Chapada dos Guimarães",
         "line": {
          "color": "blue",
          "width": 1.5
         },
         "mode": "lines",
         "name": "Chapada dos Guimarães",
         "showlegend": false,
         "type": "scatter",
         "x": [
          1719,
          1953
         ],
         "y": [
          35,
          27
         ]
        },
        {
         "hoverinfo": "text",
         "hovertemplate": "Chapada dos Guimarães<br>Emancipated from Cuiabá<br>in 1953<extra></extra>",
         "hovertext": "Chapada dos Guimarães<br>Emancipated from Cuiabá<br>in 1953",
         "legendgroup": "Chapada dos Guimarães",
         "marker": {
          "color": "darkblue",
          "size": 10
         },
         "mode": "markers+text",
         "name": "Chapada dos Guimarães",
         "showlegend": false,
         "text": [
          "Chapada dos Guimarães"
         ],
         "textposition": "middle left",
         "type": "scatter",
         "x": [
          1953
         ],
         "y": [
          27
         ]
        },
        {
         "hoverinfo": "text",
         "hovertemplate": "Cláudia<br>Emancipated from Sinop<br>in 1994<extra></extra>",
         "hovertext": "Cláudia<br>Emancipated from Sinop<br>in 1994",
         "legendgroup": "Cláudia",
         "line": {
          "color": "blue",
          "width": 1.5
         },
         "mode": "lines",
         "name": "Cláudia",
         "showlegend": false,
         "type": "scatter",
         "x": [
          1979,
          1994
         ],
         "y": [
          125,
          28
         ]
        },
        {
         "hoverinfo": "text",
         "hovertemplate": "Cláudia<br>Emancipated from Sinop<br>in 1994<extra></extra>",
         "hovertext": "Cláudia<br>Emancipated from Sinop<br>in 1994",
         "legendgroup": "Cláudia",
         "marker": {
          "color": "darkblue",
          "size": 10
         },
         "mode": "markers+text",
         "name": "Cláudia",
         "showlegend": false,
         "text": [
          "Cláudia"
         ],
         "textposition": "middle left",
         "type": "scatter",
         "x": [
          1994
         ],
         "y": [
          28
         ]
        },
        {
         "hoverinfo": "text",
         "hovertemplate": "Cocalinho<br>Emancipated from Barra do Garças<br>in 1985<extra></extra>",
         "hovertext": "Cocalinho<br>Emancipated from Barra do Garças<br>in 1985",
         "legendgroup": "Cocalinho",
         "line": {
          "color": "blue",
          "width": 1.5
         },
         "mode": "lines",
         "name": "Cocalinho",
         "showlegend": false,
         "type": "scatter",
         "x": [
          1924,
          1985
         ],
         "y": [
          14,
          29
         ]
        },
        {
         "hoverinfo": "text",
         "hovertemplate": "Cocalinho<br>Emancipated from Barra do Garças<br>in 1985<extra></extra>",
         "hovertext": "Cocalinho<br>Emancipated from Barra do Garças<br>in 1985",
         "legendgroup": "Cocalinho",
         "marker": {
          "color": "darkblue",
          "size": 10
         },
         "mode": "markers+text",
         "name": "Cocalinho",
         "showlegend": false,
         "text": [
          "Cocalinho"
         ],
         "textposition": "middle left",
         "type": "scatter",
         "x": [
          1985
         ],
         "y": [
          29
         ]
        },
        {
         "hoverinfo": "text",
         "hovertemplate": "Colniza<br>Emancipated from Aripuanã<br>in 1998<extra></extra>",
         "hovertext": "Colniza<br>Emancipated from Aripuanã<br>in 1998",
         "legendgroup": "Colniza",
         "line": {
          "color": "blue",
          "width": 1.5
         },
         "mode": "lines",
         "name": "Colniza",
         "showlegend": false,
         "type": "scatter",
         "x": [
          1988,
          1998
         ],
         "y": [
          12,
          30
         ]
        },
        {
         "hoverinfo": "text",
         "hovertemplate": "Colniza<br>Emancipated from Aripuanã<br>in 1998<extra></extra>",
         "hovertext": "Colniza<br>Emancipated from Aripuanã<br>in 1998",
         "legendgroup": "Colniza",
         "marker": {
          "color": "darkblue",
          "size": 10
         },
         "mode": "markers+text",
         "name": "Colniza",
         "showlegend": false,
         "text": [
          "Colniza"
         ],
         "textposition": "middle left",
         "type": "scatter",
         "x": [
          1998
         ],
         "y": [
          30
         ]
        },
        {
         "hoverinfo": "text",
         "hovertemplate": "Colíder<br>Origin city (year: 1979)<extra></extra>",
         "hovertext": "Colíder<br>Origin city (year: 1979)",
         "legendgroup": "Colíder",
         "marker": {
          "color": "lightblue",
          "size": 10
         },
         "mode": "markers+text",
         "name": "Colíder",
         "showlegend": false,
         "text": [
          "Colíder"
         ],
         "textposition": "middle right",
         "type": "scatter",
         "x": [
          1979
         ],
         "y": [
          31
         ]
        },
        {
         "hoverinfo": "text",
         "hovertemplate": "Colíder<br>Emancipated from Terra Nova do Norte<br>in 1979<extra></extra>",
         "hovertext": "Colíder<br>Emancipated from Terra Nova do Norte<br>in 1979",
         "legendgroup": "Colíder",
         "line": {
          "color": "blue",
          "width": 1.5
         },
         "mode": "lines",
         "name": "Colíder",
         "showlegend": false,
         "type": "scatter",
         "x": [
          1986,
          1979
         ],
         "y": [
          136,
          31
         ]
        },
        {
         "hoverinfo": "text",
         "hovertemplate": "Comodoro<br>Origin city (year: 1993)<extra></extra>",
         "hovertext": "Comodoro<br>Origin city (year: 1993)",
         "legendgroup": "Comodoro",
         "marker": {
          "color": "lightblue",
          "size": 10
         },
         "mode": "markers+text",
         "name": "Comodoro",
         "showlegend": false,
         "text": [
          "Comodoro"
         ],
         "textposition": "middle right",
         "type": "scatter",
         "x": [
          1993
         ],
         "y": [
          32
         ]
        },
        {
         "hoverinfo": "text",
         "hovertemplate": "Comodoro<br>Emancipated from Vila Bela da Santíssima Trindade<br>in 1993<extra></extra>",
         "hovertext": "Comodoro<br>Emancipated from Vila Bela da Santíssima Trindade<br>in 1993",
         "legendgroup": "Comodoro",
         "line": {
          "color": "blue",
          "width": 1.5
         },
         "mode": "lines",
         "name": "Comodoro",
         "showlegend": false,
         "type": "scatter",
         "x": [
          1752,
          1993
         ],
         "y": [
          143,
          32
         ]
        },
        {
         "hoverinfo": "text",
         "hovertemplate": "Confresa<br>Emancipated from São Félix do Araguaia<br>in 1993<extra></extra>",
         "hovertext": "Confresa<br>Emancipated from São Félix do Araguaia<br>in 1993",
         "legendgroup": "Confresa",
         "line": {
          "color": "blue",
          "width": 1.5
         },
         "mode": "lines",
         "name": "Confresa",
         "showlegend": false,
         "type": "scatter",
         "x": [
          1976,
          1993
         ],
         "y": [
          127,
          33
         ]
        },
        {
         "hoverinfo": "text",
         "hovertemplate": "Confresa<br>Emancipated from São Félix do Araguaia<br>in 1993<extra></extra>",
         "hovertext": "Confresa<br>Emancipated from São Félix do Araguaia<br>in 1993",
         "legendgroup": "Confresa",
         "marker": {
          "color": "darkblue",
          "size": 10
         },
         "mode": "markers+text",
         "name": "Confresa",
         "showlegend": false,
         "text": [
          "Confresa"
         ],
         "textposition": "middle left",
         "type": "scatter",
         "x": [
          1993
         ],
         "y": [
          33
         ]
        },
        {
         "hoverinfo": "text",
         "hovertemplate": "Cotriguaçu<br>Emancipated from Juína<br>in 1995<extra></extra>",
         "hovertext": "Cotriguaçu<br>Emancipated from Juína<br>in 1995",
         "legendgroup": "Cotriguaçu",
         "line": {
          "color": "blue",
          "width": 1.5
         },
         "mode": "lines",
         "name": "Cotriguaçu",
         "showlegend": false,
         "type": "scatter",
         "x": [
          1979,
          1995
         ],
         "y": [
          59,
          34
         ]
        },
        {
         "hoverinfo": "text",
         "hovertemplate": "Cotriguaçu<br>Emancipated from Juína<br>in 1995<extra></extra>",
         "hovertext": "Cotriguaçu<br>Emancipated from Juína<br>in 1995",
         "legendgroup": "Cotriguaçu",
         "marker": {
          "color": "darkblue",
          "size": 10
         },
         "mode": "markers+text",
         "name": "Cotriguaçu",
         "showlegend": false,
         "text": [
          "Cotriguaçu"
         ],
         "textposition": "middle left",
         "type": "scatter",
         "x": [
          1995
         ],
         "y": [
          34
         ]
        },
        {
         "hoverinfo": "text",
         "hovertemplate": "Cuiabá<br>Origin city (year: 1719)<extra></extra>",
         "hovertext": "Cuiabá<br>Origin city (year: 1719)",
         "legendgroup": "Cuiabá",
         "marker": {
          "color": "lightblue",
          "size": 10
         },
         "mode": "markers+text",
         "name": "Cuiabá",
         "showlegend": false,
         "text": [
          "Cuiabá"
         ],
         "textposition": "middle right",
         "type": "scatter",
         "x": [
          1719
         ],
         "y": [
          35
         ]
        },
        {
         "hoverinfo": "text",
         "hovertemplate": "Cuiabá<br>Emancipated from None (founded as village)<br>in 1719<extra></extra>",
         "hovertext": "Cuiabá<br>Emancipated from None (founded as village)<br>in 1719",
         "legendgroup": "Cuiabá",
         "line": {
          "color": "blue",
          "width": 1.5
         },
         "mode": "lines",
         "name": "Cuiabá",
         "showlegend": false,
         "type": "scatter",
         "x": [
          1719,
          1719
         ],
         "y": [
          67,
          35
         ]
        },
        {
         "hoverinfo": "text",
         "hovertemplate": "Curvelândia<br>Emancipated from Mirassol d'Oeste<br>in 1995<extra></extra>",
         "hovertext": "Curvelândia<br>Emancipated from Mirassol d'Oeste<br>in 1995",
         "legendgroup": "Curvelândia",
         "line": {
          "color": "blue",
          "width": 1.5
         },
         "mode": "lines",
         "name": "Curvelândia",
         "showlegend": false,
         "type": "scatter",
         "x": [
          1976,
          1995
         ],
         "y": [
          65,
          36
         ]
        },
        {
         "hoverinfo": "text",
         "hovertemplate": "Curvelândia<br>Emancipated from Mirassol d'Oeste<br>in 1995<extra></extra>",
         "hovertext": "Curvelândia<br>Emancipated from Mirassol d'Oeste<br>in 1995",
         "legendgroup": "Curvelândia",
         "marker": {
          "color": "darkblue",
          "size": 10
         },
         "mode": "markers+text",
         "name": "Curvelândia",
         "showlegend": false,
         "text": [
          "Curvelândia"
         ],
         "textposition": "middle left",
         "type": "scatter",
         "x": [
          1995
         ],
         "y": [
          36
         ]
        },
        {
         "hoverinfo": "text",
         "hovertemplate": "Cáceres<br>Origin city (year: 1873)<extra></extra>",
         "hovertext": "Cáceres<br>Origin city (year: 1873)",
         "legendgroup": "Cáceres",
         "marker": {
          "color": "lightblue",
          "size": 10
         },
         "mode": "markers+text",
         "name": "Cáceres",
         "showlegend": false,
         "text": [
          "Cáceres"
         ],
         "textposition": "middle right",
         "type": "scatter",
         "x": [
          1873
         ],
         "y": [
          37
         ]
        },
        {
         "hoverinfo": "text",
         "hovertemplate": "Cáceres<br>Emancipated from Vila Bela da Santíssima Trindade<br>in 1873<extra></extra>",
         "hovertext": "Cáceres<br>Emancipated from Vila Bela da Santíssima Trindade<br>in 1873",
         "legendgroup": "Cáceres",
         "line": {
          "color": "blue",
          "width": 1.5
         },
         "mode": "lines",
         "name": "Cáceres",
         "showlegend": false,
         "type": "scatter",
         "x": [
          1752,
          1873
         ],
         "y": [
          143,
          37
         ]
        },
        {
         "hoverinfo": "text",
         "hovertemplate": "Denise<br>Emancipated from Barra do Bugres<br>in 1993<extra></extra>",
         "hovertext": "Denise<br>Emancipated from Barra do Bugres<br>in 1993",
         "legendgroup": "Denise",
         "line": {
          "color": "blue",
          "width": 1.5
         },
         "mode": "lines",
         "name": "Denise",
         "showlegend": false,
         "type": "scatter",
         "x": [
          1948,
          1993
         ],
         "y": [
          13,
          38
         ]
        },
        {
         "hoverinfo": "text",
         "hovertemplate": "Denise<br>Emancipated from Barra do Bugres<br>in 1993<extra></extra>",
         "hovertext": "Denise<br>Emancipated from Barra do Bugres<br>in 1993",
         "legendgroup": "Denise",
         "marker": {
          "color": "darkblue",
          "size": 10
         },
         "mode": "markers+text",
         "name": "Denise",
         "showlegend": false,
         "text": [
          "Denise"
         ],
         "textposition": "middle left",
         "type": "scatter",
         "x": [
          1993
         ],
         "y": [
          38
         ]
        },
        {
         "hoverinfo": "text",
         "hovertemplate": "Diamantino<br>Origin city (year: 1858)<extra></extra>",
         "hovertext": "Diamantino<br>Origin city (year: 1858)",
         "legendgroup": "Diamantino",
         "marker": {
          "color": "lightblue",
          "size": 10
         },
         "mode": "markers+text",
         "name": "Diamantino",
         "showlegend": false,
         "text": [
          "Diamantino"
         ],
         "textposition": "middle right",
         "type": "scatter",
         "x": [
          1858
         ],
         "y": [
          39
         ]
        },
        {
         "hoverinfo": "text",
         "hovertemplate": "Diamantino<br>Emancipated from Vila Bela da Santíssima Trindade<br>in 1858<extra></extra>",
         "hovertext": "Diamantino<br>Emancipated from Vila Bela da Santíssima Trindade<br>in 1858",
         "legendgroup": "Diamantino",
         "line": {
          "color": "blue",
          "width": 1.5
         },
         "mode": "lines",
         "name": "Diamantino",
         "showlegend": false,
         "type": "scatter",
         "x": [
          1752,
          1858
         ],
         "y": [
          143,
          39
         ]
        },
        {
         "hoverinfo": "text",
         "hovertemplate": "Dom Aquino<br>Origin city (year: 1963)<extra></extra>",
         "hovertext": "Dom Aquino<br>Origin city (year: 1963)",
         "legendgroup": "Dom Aquino",
         "marker": {
          "color": "lightblue",
          "size": 10
         },
         "mode": "markers+text",
         "name": "Dom Aquino",
         "showlegend": false,
         "text": [
          "Dom Aquino"
         ],
         "textposition": "middle right",
         "type": "scatter",
         "x": [
          1963
         ],
         "y": [
          40
         ]
        },
        {
         "hoverinfo": "text",
         "hovertemplate": "Dom Aquino<br>Emancipated from Itiquira<br>in 1963<extra></extra>",
         "hovertext": "Dom Aquino<br>Emancipated from Itiquira<br>in 1963",
         "legendgroup": "Dom Aquino",
         "line": {
          "color": "blue",
          "width": 1.5
         },
         "mode": "lines",
         "name": "Dom Aquino",
         "showlegend": false,
         "type": "scatter",
         "x": [
          1953,
          1963
         ],
         "y": [
          52,
          40
         ]
        },
        {
         "hoverinfo": "text",
         "hovertemplate": "Feliz Natal<br>Emancipated from Vera<br>in 1995<extra></extra>",
         "hovertext": "Feliz Natal<br>Emancipated from Vera<br>in 1995",
         "legendgroup": "Feliz Natal",
         "line": {
          "color": "blue",
          "width": 1.5
         },
         "mode": "lines",
         "name": "Feliz Natal",
         "showlegend": false,
         "type": "scatter",
         "x": [
          1986,
          1995
         ],
         "y": [
          141,
          41
         ]
        },
        {
         "hoverinfo": "text",
         "hovertemplate": "Feliz Natal<br>Emancipated from Vera<br>in 1995<extra></extra>",
         "hovertext": "Feliz Natal<br>Emancipated from Vera<br>in 1995",
         "legendgroup": "Feliz Natal",
         "marker": {
          "color": "darkblue",
          "size": 10
         },
         "mode": "markers+text",
         "name": "Feliz Natal",
         "showlegend": false,
         "text": [
          "Feliz Natal"
         ],
         "textposition": "middle left",
         "type": "scatter",
         "x": [
          1995
         ],
         "y": [
          41
         ]
        },
        {
         "hoverinfo": "text",
         "hovertemplate": "Figueirópolis d'Oeste<br>Emancipated from Pontes e Lacerda<br>in 1995<extra></extra>",
         "hovertext": "Figueirópolis d'Oeste<br>Emancipated from Pontes e Lacerda<br>in 1995",
         "legendgroup": "Figueirópolis d'Oeste",
         "line": {
          "color": "blue",
          "width": 1.5
         },
         "mode": "lines",
         "name": "Figueirópolis d'Oeste",
         "showlegend": false,
         "type": "scatter",
         "x": [
          1953,
          1995
         ],
         "y": [
          99,
          42
         ]
        },
        {
         "hoverinfo": "text",
         "hovertemplate": "Figueirópolis d'Oeste<br>Emancipated from Pontes e Lacerda<br>in 1995<extra></extra>",
         "hovertext": "Figueirópolis d'Oeste<br>Emancipated from Pontes e Lacerda<br>in 1995",
         "legendgroup": "Figueirópolis d'Oeste",
         "marker": {
          "color": "darkblue",
          "size": 10
         },
         "mode": "markers+text",
         "name": "Figueirópolis d'Oeste",
         "showlegend": false,
         "text": [
          "Figueirópolis d'Oeste"
         ],
         "textposition": "middle left",
         "type": "scatter",
         "x": [
          1995
         ],
         "y": [
          42
         ]
        },
        {
         "hoverinfo": "text",
         "hovertemplate": "Gaúcha do Norte<br>Emancipated from Campinápolis<br>in 1995<extra></extra>",
         "hovertext": "Gaúcha do Norte<br>Emancipated from Campinápolis<br>in 1995",
         "legendgroup": "Gaúcha do Norte",
         "line": {
          "color": "blue",
          "width": 1.5
         },
         "mode": "lines",
         "name": "Gaúcha do Norte",
         "showlegend": false,
         "type": "scatter",
         "x": [
          1980,
          1995
         ],
         "y": [
          19,
          43
         ]
        },
        {
         "hoverinfo": "text",
         "hovertemplate": "Gaúcha do Norte<br>Emancipated from Campinápolis<br>in 1995<extra></extra>",
         "hovertext": "Gaúcha do Norte<br>Emancipated from Campinápolis<br>in 1995",
         "legendgroup": "Gaúcha do Norte",
         "marker": {
          "color": "darkblue",
          "size": 10
         },
         "mode": "markers+text",
         "name": "Gaúcha do Norte",
         "showlegend": false,
         "text": [
          "Gaúcha do Norte"
         ],
         "textposition": "middle left",
         "type": "scatter",
         "x": [
          1995
         ],
         "y": [
          43
         ]
        },
        {
         "hoverinfo": "text",
         "hovertemplate": "General Carneiro<br>Emancipated from Poxoréu<br>in 1953<extra></extra>",
         "hovertext": "General Carneiro<br>Emancipated from Poxoréu<br>in 1953",
         "legendgroup": "General Carneiro",
         "line": {
          "color": "blue",
          "width": 1.5
         },
         "mode": "lines",
         "name": "General Carneiro",
         "showlegend": false,
         "type": "scatter",
         "x": [
          1938,
          1953
         ],
         "y": [
          104,
          44
         ]
        },
        {
         "hoverinfo": "text",
         "hovertemplate": "General Carneiro<br>Emancipated from Poxoréu<br>in 1953<extra></extra>",
         "hovertext": "General Carneiro<br>Emancipated from Poxoréu<br>in 1953",
         "legendgroup": "General Carneiro",
         "marker": {
          "color": "darkblue",
          "size": 10
         },
         "mode": "markers+text",
         "name": "General Carneiro",
         "showlegend": false,
         "text": [
          "General Carneiro"
         ],
         "textposition": "middle left",
         "type": "scatter",
         "x": [
          1953
         ],
         "y": [
          44
         ]
        },
        {
         "hoverinfo": "text",
         "hovertemplate": "Glória d'Oeste<br>Emancipated from Pontes e Lacerda<br>in 1995<extra></extra>",
         "hovertext": "Glória d'Oeste<br>Emancipated from Pontes e Lacerda<br>in 1995",
         "legendgroup": "Glória d'Oeste",
         "line": {
          "color": "blue",
          "width": 1.5
         },
         "mode": "lines",
         "name": "Glória d'Oeste",
         "showlegend": false,
         "type": "scatter",
         "x": [
          1953,
          1995
         ],
         "y": [
          99,
          45
         ]
        },
        {
         "hoverinfo": "text",
         "hovertemplate": "Glória d'Oeste<br>Emancipated from Pontes e Lacerda<br>in 1995<extra></extra>",
         "hovertext": "Glória d'Oeste<br>Emancipated from Pontes e Lacerda<br>in 1995",
         "legendgroup": "Glória d'Oeste",
         "marker": {
          "color": "darkblue",
          "size": 10
         },
         "mode": "markers+text",
         "name": "Glória d'Oeste",
         "showlegend": false,
         "text": [
          "Glória d'Oeste"
         ],
         "textposition": "middle left",
         "type": "scatter",
         "x": [
          1995
         ],
         "y": [
          45
         ]
        },
        {
         "hoverinfo": "text",
         "hovertemplate": "Guarantã do Norte<br>Emancipated from Peixoto de Azevedo<br>in 1988<extra></extra>",
         "hovertext": "Guarantã do Norte<br>Emancipated from Peixoto de Azevedo<br>in 1988",
         "legendgroup": "Guarantã do Norte",
         "line": {
          "color": "blue",
          "width": 1.5
         },
         "mode": "lines",
         "name": "Guarantã do Norte",
         "showlegend": false,
         "type": "scatter",
         "x": [
          1979,
          1988
         ],
         "y": [
          94,
          46
         ]
        },
        {
         "hoverinfo": "text",
         "hovertemplate": "Guarantã do Norte<br>Emancipated from Peixoto de Azevedo<br>in 1988<extra></extra>",
         "hovertext": "Guarantã do Norte<br>Emancipated from Peixoto de Azevedo<br>in 1988",
         "legendgroup": "Guarantã do Norte",
         "marker": {
          "color": "darkblue",
          "size": 10
         },
         "mode": "markers+text",
         "name": "Guarantã do Norte",
         "showlegend": false,
         "text": [
          "Guarantã do Norte"
         ],
         "textposition": "middle left",
         "type": "scatter",
         "x": [
          1988
         ],
         "y": [
          46
         ]
        },
        {
         "hoverinfo": "text",
         "hovertemplate": "Guiratinga<br>Emancipated from Alto Araguaia<br>in 1948<extra></extra>",
         "hovertext": "Guiratinga<br>Emancipated from Alto Araguaia<br>in 1948",
         "legendgroup": "Guiratinga",
         "line": {
          "color": "blue",
          "width": 1.5
         },
         "mode": "lines",
         "name": "Guiratinga",
         "showlegend": false,
         "type": "scatter",
         "x": [
          1948,
          1948
         ],
         "y": [
          2,
          47
         ]
        },
        {
         "hoverinfo": "text",
         "hovertemplate": "Guiratinga<br>Emancipated from Alto Araguaia<br>in 1948<extra></extra>",
         "hovertext": "Guiratinga<br>Emancipated from Alto Araguaia<br>in 1948",
         "legendgroup": "Guiratinga",
         "marker": {
          "color": "darkblue",
          "size": 10
         },
         "mode": "markers+text",
         "name": "Guiratinga",
         "showlegend": false,
         "text": [
          "Guiratinga"
         ],
         "textposition": "middle left",
         "type": "scatter",
         "x": [
          1948
         ],
         "y": [
          47
         ]
        },
        {
         "hoverinfo": "text",
         "hovertemplate": "Indiavaí<br>Emancipated from Araputanga<br>in 1995<extra></extra>",
         "hovertext": "Indiavaí<br>Emancipated from Araputanga<br>in 1995",
         "legendgroup": "Indiavaí",
         "line": {
          "color": "blue",
          "width": 1.5
         },
         "mode": "lines",
         "name": "Indiavaí",
         "showlegend": false,
         "type": "scatter",
         "x": [
          1980,
          1995
         ],
         "y": [
          10,
          48
         ]
        },
        {
         "hoverinfo": "text",
         "hovertemplate": "Indiavaí<br>Emancipated from Araputanga<br>in 1995<extra></extra>",
         "hovertext": "Indiavaí<br>Emancipated from Araputanga<br>in 1995",
         "legendgroup": "Indiavaí",
         "marker": {
          "color": "darkblue",
          "size": 10
         },
         "mode": "markers+text",
         "name": "Indiavaí",
         "showlegend": false,
         "text": [
          "Indiavaí"
         ],
         "textposition": "middle left",
         "type": "scatter",
         "x": [
          1995
         ],
         "y": [
          48
         ]
        },
        {
         "hoverinfo": "text",
         "hovertemplate": "Ipiranga do Norte<br>Emancipated from Tapurah<br>in 1995<extra></extra>",
         "hovertext": "Ipiranga do Norte<br>Emancipated from Tapurah<br>in 1995",
         "legendgroup": "Ipiranga do Norte",
         "line": {
          "color": "blue",
          "width": 1.5
         },
         "mode": "lines",
         "name": "Ipiranga do Norte",
         "showlegend": false,
         "type": "scatter",
         "x": [
          1986,
          1995
         ],
         "y": [
          135,
          49
         ]
        },
        {
         "hoverinfo": "text",
         "hovertemplate": "Ipiranga do Norte<br>Emancipated from Tapurah<br>in 1995<extra></extra>",
         "hovertext": "Ipiranga do Norte<br>Emancipated from Tapurah<br>in 1995",
         "legendgroup": "Ipiranga do Norte",
         "marker": {
          "color": "darkblue",
          "size": 10
         },
         "mode": "markers+text",
         "name": "Ipiranga do Norte",
         "showlegend": false,
         "text": [
          "Ipiranga do Norte"
         ],
         "textposition": "middle left",
         "type": "scatter",
         "x": [
          1995
         ],
         "y": [
          49
         ]
        },
        {
         "hoverinfo": "text",
         "hovertemplate": "Itanhangá<br>Emancipated from Nova Ubiratã<br>in 2001<extra></extra>",
         "hovertext": "Itanhangá<br>Emancipated from Nova Ubiratã<br>in 2001",
         "legendgroup": "Itanhangá",
         "line": {
          "color": "blue",
          "width": 1.5
         },
         "mode": "lines",
         "name": "Itanhangá",
         "showlegend": false,
         "type": "scatter",
         "x": [
          1994,
          2001
         ],
         "y": [
          84,
          50
         ]
        },
        {
         "hoverinfo": "text",
         "hovertemplate": "Itanhangá<br>Emancipated from Nova Ubiratã<br>in 2001<extra></extra>",
         "hovertext": "Itanhangá<br>Emancipated from Nova Ubiratã<br>in 2001",
         "legendgroup": "Itanhangá",
         "marker": {
          "color": "darkblue",
          "size": 10
         },
         "mode": "markers+text",
         "name": "Itanhangá",
         "showlegend": false,
         "text": [
          "Itanhangá"
         ],
         "textposition": "middle left",
         "type": "scatter",
         "x": [
          2001
         ],
         "y": [
          50
         ]
        },
        {
         "hoverinfo": "text",
         "hovertemplate": "Itaúba<br>Emancipated from Colíder<br>in 1986<extra></extra>",
         "hovertext": "Itaúba<br>Emancipated from Colíder<br>in 1986",
         "legendgroup": "Itaúba",
         "line": {
          "color": "blue",
          "width": 1.5
         },
         "mode": "lines",
         "name": "Itaúba",
         "showlegend": false,
         "type": "scatter",
         "x": [
          1979,
          1986
         ],
         "y": [
          31,
          51
         ]
        },
        {
         "hoverinfo": "text",
         "hovertemplate": "Itaúba<br>Emancipated from Colíder<br>in 1986<extra></extra>",
         "hovertext": "Itaúba<br>Emancipated from Colíder<br>in 1986",
         "legendgroup": "Itaúba",
         "marker": {
          "color": "darkblue",
          "size": 10
         },
         "mode": "markers+text",
         "name": "Itaúba",
         "showlegend": false,
         "text": [
          "Itaúba"
         ],
         "textposition": "middle left",
         "type": "scatter",
         "x": [
          1986
         ],
         "y": [
          51
         ]
        },
        {
         "hoverinfo": "text",
         "hovertemplate": "Itiquira<br>Origin city (year: 1953)<extra></extra>",
         "hovertext": "Itiquira<br>Origin city (year: 1953)",
         "legendgroup": "Itiquira",
         "marker": {
          "color": "lightblue",
          "size": 10
         },
         "mode": "markers+text",
         "name": "Itiquira",
         "showlegend": false,
         "text": [
          "Itiquira"
         ],
         "textposition": "middle right",
         "type": "scatter",
         "x": [
          1953
         ],
         "y": [
          52
         ]
        },
        {
         "hoverinfo": "text",
         "hovertemplate": "Itiquira<br>Emancipated from Alto Araguaia<br>in 1953<extra></extra>",
         "hovertext": "Itiquira<br>Emancipated from Alto Araguaia<br>in 1953",
         "legendgroup": "Itiquira",
         "line": {
          "color": "blue",
          "width": 1.5
         },
         "mode": "lines",
         "name": "Itiquira",
         "showlegend": false,
         "type": "scatter",
         "x": [
          1948,
          1953
         ],
         "y": [
          2,
          52
         ]
        },
        {
         "hoverinfo": "text",
         "hovertemplate": "Jaciara<br>Emancipated from Dom Aquino<br>in 1953<extra></extra>",
         "hovertext": "Jaciara<br>Emancipated from Dom Aquino<br>in 1953",
         "legendgroup": "Jaciara",
         "line": {
          "color": "blue",
          "width": 1.5
         },
         "mode": "lines",
         "name": "Jaciara",
         "showlegend": false,
         "type": "scatter",
         "x": [
          1963,
          1953
         ],
         "y": [
          40,
          53
         ]
        },
        {
         "hoverinfo": "text",
         "hovertemplate": "Jaciara<br>Emancipated from Dom Aquino<br>in 1953<extra></extra>",
         "hovertext": "Jaciara<br>Emancipated from Dom Aquino<br>in 1953",
         "legendgroup": "Jaciara",
         "marker": {
          "color": "darkblue",
          "size": 10
         },
         "mode": "markers+text",
         "name": "Jaciara",
         "showlegend": false,
         "text": [
          "Jaciara"
         ],
         "textposition": "middle left",
         "type": "scatter",
         "x": [
          1953
         ],
         "y": [
          53
         ]
        },
        {
         "hoverinfo": "text",
         "hovertemplate": "Jangada<br>Emancipated from Nossa Senhora do Livramento<br>in 1948<extra></extra>",
         "hovertext": "Jangada<br>Emancipated from Nossa Senhora do Livramento<br>in 1948",
         "legendgroup": "Jangada",
         "line": {
          "color": "blue",
          "width": 1.5
         },
         "mode": "lines",
         "name": "Jangada",
         "showlegend": false,
         "type": "scatter",
         "x": [
          1859,
          1948
         ],
         "y": [
          71,
          54
         ]
        },
        {
         "hoverinfo": "text",
         "hovertemplate": "Jangada<br>Emancipated from Nossa Senhora do Livramento<br>in 1948<extra></extra>",
         "hovertext": "Jangada<br>Emancipated from Nossa Senhora do Livramento<br>in 1948",
         "legendgroup": "Jangada",
         "marker": {
          "color": "darkblue",
          "size": 10
         },
         "mode": "markers+text",
         "name": "Jangada",
         "showlegend": false,
         "text": [
          "Jangada"
         ],
         "textposition": "middle left",
         "type": "scatter",
         "x": [
          1948
         ],
         "y": [
          54
         ]
        },
        {
         "hoverinfo": "text",
         "hovertemplate": "Jauru<br>Emancipated from Pontes e Lacerda<br>in 1994<extra></extra>",
         "hovertext": "Jauru<br>Emancipated from Pontes e Lacerda<br>in 1994",
         "legendgroup": "Jauru",
         "line": {
          "color": "blue",
          "width": 1.5
         },
         "mode": "lines",
         "name": "Jauru",
         "showlegend": false,
         "type": "scatter",
         "x": [
          1953,
          1994
         ],
         "y": [
          99,
          55
         ]
        },
        {
         "hoverinfo": "text",
         "hovertemplate": "Jauru<br>Emancipated from Pontes e Lacerda<br>in 1994<extra></extra>",
         "hovertext": "Jauru<br>Emancipated from Pontes e Lacerda<br>in 1994",
         "legendgroup": "Jauru",
         "marker": {
          "color": "darkblue",
          "size": 10
         },
         "mode": "markers+text",
         "name": "Jauru",
         "showlegend": false,
         "text": [
          "Jauru"
         ],
         "textposition": "middle left",
         "type": "scatter",
         "x": [
          1994
         ],
         "y": [
          55
         ]
        },
        {
         "hoverinfo": "text",
         "hovertemplate": "Juara<br>Origin city (year: 1986)<extra></extra>",
         "hovertext": "Juara<br>Origin city (year: 1986)",
         "legendgroup": "Juara",
         "marker": {
          "color": "lightblue",
          "size": 10
         },
         "mode": "markers+text",
         "name": "Juara",
         "showlegend": false,
         "text": [
          "Juara"
         ],
         "textposition": "middle right",
         "type": "scatter",
         "x": [
          1986
         ],
         "y": [
          56
         ]
        },
        {
         "hoverinfo": "text",
         "hovertemplate": "Juara<br>Emancipated from Porto dos Gaúchos<br>in 1986<extra></extra>",
         "hovertext": "Juara<br>Emancipated from Porto dos Gaúchos<br>in 1986",
         "legendgroup": "Juara",
         "line": {
          "color": "blue",
          "width": 1.5
         },
         "mode": "lines",
         "name": "Juara",
         "showlegend": false,
         "type": "scatter",
         "x": [
          1953,
          1986
         ],
         "y": [
          103,
          56
         ]
        },
        {
         "hoverinfo": "text",
         "hovertemplate": "Juruena<br>Emancipated from Cotriguaçu<br>in 1998<extra></extra>",
         "hovertext": "Juruena<br>Emancipated from Cotriguaçu<br>in 1998",
         "legendgroup": "Juruena",
         "line": {
          "color": "blue",
          "width": 1.5
         },
         "mode": "lines",
         "name": "Juruena",
         "showlegend": false,
         "type": "scatter",
         "x": [
          1995,
          1998
         ],
         "y": [
          34,
          57
         ]
        },
        {
         "hoverinfo": "text",
         "hovertemplate": "Juruena<br>Emancipated from Cotriguaçu<br>in 1998<extra></extra>",
         "hovertext": "Juruena<br>Emancipated from Cotriguaçu<br>in 1998",
         "legendgroup": "Juruena",
         "marker": {
          "color": "darkblue",
          "size": 10
         },
         "mode": "markers+text",
         "name": "Juruena",
         "showlegend": false,
         "text": [
          "Juruena"
         ],
         "textposition": "middle left",
         "type": "scatter",
         "x": [
          1998
         ],
         "y": [
          57
         ]
        },
        {
         "hoverinfo": "text",
         "hovertemplate": "Juscimeira<br>Emancipated from Rondonópolis<br>in 1995<extra></extra>",
         "hovertext": "Juscimeira<br>Emancipated from Rondonópolis<br>in 1995",
         "legendgroup": "Juscimeira",
         "line": {
          "color": "blue",
          "width": 1.5
         },
         "mode": "lines",
         "name": "Juscimeira",
         "showlegend": false,
         "type": "scatter",
         "x": [
          1948,
          1995
         ],
         "y": [
          112,
          58
         ]
        },
        {
         "hoverinfo": "text",
         "hovertemplate": "Juscimeira<br>Emancipated from Rondonópolis<br>in 1995<extra></extra>",
         "hovertext": "Juscimeira<br>Emancipated from Rondonópolis<br>in 1995",
         "legendgroup": "Juscimeira",
         "marker": {
          "color": "darkblue",
          "size": 10
         },
         "mode": "markers+text",
         "name": "Juscimeira",
         "showlegend": false,
         "text": [
          "Juscimeira"
         ],
         "textposition": "middle left",
         "type": "scatter",
         "x": [
          1995
         ],
         "y": [
          58
         ]
        },
        {
         "hoverinfo": "text",
         "hovertemplate": "Juína<br>Origin city (year: 1979)<extra></extra>",
         "hovertext": "Juína<br>Origin city (year: 1979)",
         "legendgroup": "Juína",
         "marker": {
          "color": "lightblue",
          "size": 10
         },
         "mode": "markers+text",
         "name": "Juína",
         "showlegend": false,
         "text": [
          "Juína"
         ],
         "textposition": "middle right",
         "type": "scatter",
         "x": [
          1979
         ],
         "y": [
          59
         ]
        },
        {
         "hoverinfo": "text",
         "hovertemplate": "Juína<br>Emancipated from Aripuanã<br>in 1979<extra></extra>",
         "hovertext": "Juína<br>Emancipated from Aripuanã<br>in 1979",
         "legendgroup": "Juína",
         "line": {
          "color": "blue",
          "width": 1.5
         },
         "mode": "lines",
         "name": "Juína",
         "showlegend": false,
         "type": "scatter",
         "x": [
          1988,
          1979
         ],
         "y": [
          12,
          59
         ]
        },
        {
         "hoverinfo": "text",
         "hovertemplate": "Lambari d'Oeste<br>Emancipated from São José dos Quatro Marcos<br>in 1995<extra></extra>",
         "hovertext": "Lambari d'Oeste<br>Emancipated from São José dos Quatro Marcos<br>in 1995",
         "legendgroup": "Lambari d'Oeste",
         "line": {
          "color": "blue",
          "width": 1.5
         },
         "mode": "lines",
         "name": "Lambari d'Oeste",
         "showlegend": false,
         "type": "scatter",
         "x": [
          1986,
          1995
         ],
         "y": [
          131,
          60
         ]
        },
        {
         "hoverinfo": "text",
         "hovertemplate": "Lambari d'Oeste<br>Emancipated from São José dos Quatro Marcos<br>in 1995<extra></extra>",
         "hovertext": "Lambari d'Oeste<br>Emancipated from São José dos Quatro Marcos<br>in 1995",
         "legendgroup": "Lambari d'Oeste",
         "marker": {
          "color": "darkblue",
          "size": 10
         },
         "mode": "markers+text",
         "name": "Lambari d'Oeste",
         "showlegend": false,
         "text": [
          "Lambari d'Oeste"
         ],
         "textposition": "middle left",
         "type": "scatter",
         "x": [
          1995
         ],
         "y": [
          60
         ]
        },
        {
         "hoverinfo": "text",
         "hovertemplate": "Lucas do Rio Verde<br>Emancipated from Sorriso<br>in 1988<extra></extra>",
         "hovertext": "Lucas do Rio Verde<br>Emancipated from Sorriso<br>in 1988",
         "legendgroup": "Lucas do Rio Verde",
         "line": {
          "color": "blue",
          "width": 1.5
         },
         "mode": "lines",
         "name": "Lucas do Rio Verde",
         "showlegend": false,
         "type": "scatter",
         "x": [
          1986,
          1988
         ],
         "y": [
          126,
          61
         ]
        },
        {
         "hoverinfo": "text",
         "hovertemplate": "Lucas do Rio Verde<br>Emancipated from Sorriso<br>in 1988<extra></extra>",
         "hovertext": "Lucas do Rio Verde<br>Emancipated from Sorriso<br>in 1988",
         "legendgroup": "Lucas do Rio Verde",
         "marker": {
          "color": "darkblue",
          "size": 10
         },
         "mode": "markers+text",
         "name": "Lucas do Rio Verde",
         "showlegend": false,
         "text": [
          "Lucas do Rio Verde"
         ],
         "textposition": "middle left",
         "type": "scatter",
         "x": [
          1988
         ],
         "y": [
          61
         ]
        },
        {
         "hoverinfo": "text",
         "hovertemplate": "Luciara<br>Emancipated from São Félix do Araguaia<br>in 1963<extra></extra>",
         "hovertext": "Luciara<br>Emancipated from São Félix do Araguaia<br>in 1963",
         "legendgroup": "Luciara",
         "line": {
          "color": "blue",
          "width": 1.5
         },
         "mode": "lines",
         "name": "Luciara",
         "showlegend": false,
         "type": "scatter",
         "x": [
          1976,
          1963
         ],
         "y": [
          127,
          62
         ]
        },
        {
         "hoverinfo": "text",
         "hovertemplate": "Luciara<br>Emancipated from São Félix do Araguaia<br>in 1963<extra></extra>",
         "hovertext": "Luciara<br>Emancipated from São Félix do Araguaia<br>in 1963",
         "legendgroup": "Luciara",
         "marker": {
          "color": "darkblue",
          "size": 10
         },
         "mode": "markers+text",
         "name": "Luciara",
         "showlegend": false,
         "text": [
          "Luciara"
         ],
         "textposition": "middle left",
         "type": "scatter",
         "x": [
          1963
         ],
         "y": [
          62
         ]
        },
        {
         "hoverinfo": "text",
         "hovertemplate": "Marcelândia<br>Emancipated from União do Sul<br>in 1998<extra></extra>",
         "hovertext": "Marcelândia<br>Emancipated from União do Sul<br>in 1998",
         "legendgroup": "Marcelândia",
         "line": {
          "color": "blue",
          "width": 1.5
         },
         "mode": "lines",
         "name": "Marcelândia",
         "showlegend": false,
         "type": "scatter",
         "x": [
          1995,
          1998
         ],
         "y": [
          139,
          63
         ]
        },
        {
         "hoverinfo": "text",
         "hovertemplate": "Marcelândia<br>Emancipated from União do Sul<br>in 1998<extra></extra>",
         "hovertext": "Marcelândia<br>Emancipated from União do Sul<br>in 1998",
         "legendgroup": "Marcelândia",
         "marker": {
          "color": "darkblue",
          "size": 10
         },
         "mode": "markers+text",
         "name": "Marcelândia",
         "showlegend": false,
         "text": [
          "Marcelândia"
         ],
         "textposition": "middle left",
         "type": "scatter",
         "x": [
          1998
         ],
         "y": [
          63
         ]
        },
        {
         "hoverinfo": "text",
         "hovertemplate": "Matupá<br>Emancipated from Peixoto de Azevedo<br>in 1988<extra></extra>",
         "hovertext": "Matupá<br>Emancipated from Peixoto de Azevedo<br>in 1988",
         "legendgroup": "Matupá",
         "line": {
          "color": "blue",
          "width": 1.5
         },
         "mode": "lines",
         "name": "Matupá",
         "showlegend": false,
         "type": "scatter",
         "x": [
          1979,
          1988
         ],
         "y": [
          94,
          64
         ]
        },
        {
         "hoverinfo": "text",
         "hovertemplate": "Matupá<br>Emancipated from Peixoto de Azevedo<br>in 1988<extra></extra>",
         "hovertext": "Matupá<br>Emancipated from Peixoto de Azevedo<br>in 1988",
         "legendgroup": "Matupá",
         "marker": {
          "color": "darkblue",
          "size": 10
         },
         "mode": "markers+text",
         "name": "Matupá",
         "showlegend": false,
         "text": [
          "Matupá"
         ],
         "textposition": "middle left",
         "type": "scatter",
         "x": [
          1988
         ],
         "y": [
          64
         ]
        },
        {
         "hoverinfo": "text",
         "hovertemplate": "Mirassol d'Oeste<br>Origin city (year: 1976)<extra></extra>",
         "hovertext": "Mirassol d'Oeste<br>Origin city (year: 1976)",
         "legendgroup": "Mirassol d'Oeste",
         "marker": {
          "color": "lightblue",
          "size": 10
         },
         "mode": "markers+text",
         "name": "Mirassol d'Oeste",
         "showlegend": false,
         "text": [
          "Mirassol d'Oeste"
         ],
         "textposition": "middle right",
         "type": "scatter",
         "x": [
          1976
         ],
         "y": [
          65
         ]
        },
        {
         "hoverinfo": "text",
         "hovertemplate": "Mirassol d'Oeste<br>Emancipated from Cáceres<br>in 1976<extra></extra>",
         "hovertext": "Mirassol d'Oeste<br>Emancipated from Cáceres<br>in 1976",
         "legendgroup": "Mirassol d'Oeste",
         "line": {
          "color": "blue",
          "width": 1.5
         },
         "mode": "lines",
         "name": "Mirassol d'Oeste",
         "showlegend": false,
         "type": "scatter",
         "x": [
          1873,
          1976
         ],
         "y": [
          37,
          65
         ]
        },
        {
         "hoverinfo": "text",
         "hovertemplate": "Nobres<br>Emancipated from Rosário Oeste<br>in 1953<extra></extra>",
         "hovertext": "Nobres<br>Emancipated from Rosário Oeste<br>in 1953",
         "legendgroup": "Nobres",
         "line": {
          "color": "blue",
          "width": 1.5
         },
         "mode": "lines",
         "name": "Nobres",
         "showlegend": false,
         "type": "scatter",
         "x": [
          1858,
          1953
         ],
         "y": [
          113,
          66
         ]
        },
        {
         "hoverinfo": "text",
         "hovertemplate": "Nobres<br>Emancipated from Rosário Oeste<br>in 1953<extra></extra>",
         "hovertext": "Nobres<br>Emancipated from Rosário Oeste<br>in 1953",
         "legendgroup": "Nobres",
         "marker": {
          "color": "darkblue",
          "size": 10
         },
         "mode": "markers+text",
         "name": "Nobres",
         "showlegend": false,
         "text": [
          "Nobres"
         ],
         "textposition": "middle left",
         "type": "scatter",
         "x": [
          1953
         ],
         "y": [
          66
         ]
        },
        {
         "hoverinfo": "text",
         "hovertemplate": "None (founded as village)<br>Origin city (year: 1719)<extra></extra>",
         "hovertext": "None (founded as village)<br>Origin city (year: 1719)",
         "legendgroup": "None (founded as village)",
         "marker": {
          "color": "lightblue",
          "size": 10
         },
         "mode": "markers+text",
         "name": "None (founded as village)",
         "showlegend": false,
         "text": [
          "None (founded as village)"
         ],
         "textposition": "middle right",
         "type": "scatter",
         "x": [
          1719
         ],
         "y": [
          67
         ]
        },
        {
         "hoverinfo": "text",
         "hovertemplate": "None (founded in 1752)<br>Origin city (year: 1752)<extra></extra>",
         "hovertext": "None (founded in 1752)<br>Origin city (year: 1752)",
         "legendgroup": "None (founded in 1752)",
         "marker": {
          "color": "lightblue",
          "size": 10
         },
         "mode": "markers+text",
         "name": "None (founded in 1752)",
         "showlegend": false,
         "text": [
          "None (founded in 1752)"
         ],
         "textposition": "middle right",
         "type": "scatter",
         "x": [
          1752
         ],
         "y": [
          68
         ]
        },
        {
         "hoverinfo": "text",
         "hovertemplate": "None (founded in 1781)<br>Origin city (year: 1781)<extra></extra>",
         "hovertext": "None (founded in 1781)<br>Origin city (year: 1781)",
         "legendgroup": "None (founded in 1781)",
         "marker": {
          "color": "lightblue",
          "size": 10
         },
         "mode": "markers+text",
         "name": "None (founded in 1781)",
         "showlegend": false,
         "text": [
          "None (founded in 1781)"
         ],
         "textposition": "middle right",
         "type": "scatter",
         "x": [
          1781
         ],
         "y": [
          69
         ]
        },
        {
         "hoverinfo": "text",
         "hovertemplate": "Nortelândia<br>Emancipated from Diamantino<br>in 1963<extra></extra>",
         "hovertext": "Nortelândia<br>Emancipated from Diamantino<br>in 1963",
         "legendgroup": "Nortelândia",
         "line": {
          "color": "blue",
          "width": 1.5
         },
         "mode": "lines",
         "name": "Nortelândia",
         "showlegend": false,
         "type": "scatter",
         "x": [
          1858,
          1963
         ],
         "y": [
          39,
          70
         ]
        },
        {
         "hoverinfo": "text",
         "hovertemplate": "Nortelândia<br>Emancipated from Diamantino<br>in 1963<extra></extra>",
         "hovertext": "Nortelândia<br>Emancipated from Diamantino<br>in 1963",
         "legendgroup": "Nortelândia",
         "marker": {
          "color": "darkblue",
          "size": 10
         },
         "mode": "markers+text",
         "name": "Nortelândia",
         "showlegend": false,
         "text": [
          "Nortelândia"
         ],
         "textposition": "middle left",
         "type": "scatter",
         "x": [
          1963
         ],
         "y": [
          70
         ]
        },
        {
         "hoverinfo": "text",
         "hovertemplate": "Nossa Senhora do Livramento<br>Origin city (year: 1859)<extra></extra>",
         "hovertext": "Nossa Senhora do Livramento<br>Origin city (year: 1859)",
         "legendgroup": "Nossa Senhora do Livramento",
         "marker": {
          "color": "lightblue",
          "size": 10
         },
         "mode": "markers+text",
         "name": "Nossa Senhora do Livramento",
         "showlegend": false,
         "text": [
          "Nossa Senhora do Livramento"
         ],
         "textposition": "middle right",
         "type": "scatter",
         "x": [
          1859
         ],
         "y": [
          71
         ]
        },
        {
         "hoverinfo": "text",
         "hovertemplate": "Nossa Senhora do Livramento<br>Emancipated from Cuiabá<br>in 1859<extra></extra>",
         "hovertext": "Nossa Senhora do Livramento<br>Emancipated from Cuiabá<br>in 1859",
         "legendgroup": "Nossa Senhora do Livramento",
         "line": {
          "color": "blue",
          "width": 1.5
         },
         "mode": "lines",
         "name": "Nossa Senhora do Livramento",
         "showlegend": false,
         "type": "scatter",
         "x": [
          1719,
          1859
         ],
         "y": [
          35,
          71
         ]
        },
        {
         "hoverinfo": "text",
         "hovertemplate": "Nova Bandeirantes<br>Emancipated from Colíder<br>in 1995<extra></extra>",
         "hovertext": "Nova Bandeirantes<br>Emancipated from Colíder<br>in 1995",
         "legendgroup": "Nova Bandeirantes",
         "line": {
          "color": "blue",
          "width": 1.5
         },
         "mode": "lines",
         "name": "Nova Bandeirantes",
         "showlegend": false,
         "type": "scatter",
         "x": [
          1979,
          1995
         ],
         "y": [
          31,
          72
         ]
        },
        {
         "hoverinfo": "text",
         "hovertemplate": "Nova Bandeirantes<br>Emancipated from Colíder<br>in 1995<extra></extra>",
         "hovertext": "Nova Bandeirantes<br>Emancipated from Colíder<br>in 1995",
         "legendgroup": "Nova Bandeirantes",
         "marker": {
          "color": "darkblue",
          "size": 10
         },
         "mode": "markers+text",
         "name": "Nova Bandeirantes",
         "showlegend": false,
         "text": [
          "Nova Bandeirantes"
         ],
         "textposition": "middle left",
         "type": "scatter",
         "x": [
          1995
         ],
         "y": [
          72
         ]
        },
        {
         "hoverinfo": "text",
         "hovertemplate": "Nova Brasilândia<br>Emancipated from Alto Paraguai<br>in 1986<extra></extra>",
         "hovertext": "Nova Brasilândia<br>Emancipated from Alto Paraguai<br>in 1986",
         "legendgroup": "Nova Brasilândia",
         "line": {
          "color": "blue",
          "width": 1.5
         },
         "mode": "lines",
         "name": "Nova Brasilândia",
         "showlegend": false,
         "type": "scatter",
         "x": [
          1948,
          1986
         ],
         "y": [
          5,
          73
         ]
        },
        {
         "hoverinfo": "text",
         "hovertemplate": "Nova Brasilândia<br>Emancipated from Alto Paraguai<br>in 1986<extra></extra>",
         "hovertext": "Nova Brasilândia<br>Emancipated from Alto Paraguai<br>in 1986",
         "legendgroup": "Nova Brasilândia",
         "marker": {
          "color": "darkblue",
          "size": 10
         },
         "mode": "markers+text",
         "name": "Nova Brasilândia",
         "showlegend": false,
         "text": [
          "Nova Brasilândia"
         ],
         "textposition": "middle left",
         "type": "scatter",
         "x": [
          1986
         ],
         "y": [
          73
         ]
        },
        {
         "hoverinfo": "text",
         "hovertemplate": "Nova Canaã do Norte<br>Emancipated from Colíder<br>in 1995<extra></extra>",
         "hovertext": "Nova Canaã do Norte<br>Emancipated from Colíder<br>in 1995",
         "legendgroup": "Nova Canaã do Norte",
         "line": {
          "color": "blue",
          "width": 1.5
         },
         "mode": "lines",
         "name": "Nova Canaã do Norte",
         "showlegend": false,
         "type": "scatter",
         "x": [
          1979,
          1995
         ],
         "y": [
          31,
          74
         ]
        },
        {
         "hoverinfo": "text",
         "hovertemplate": "Nova Canaã do Norte<br>Emancipated from Colíder<br>in 1995<extra></extra>",
         "hovertext": "Nova Canaã do Norte<br>Emancipated from Colíder<br>in 1995",
         "legendgroup": "Nova Canaã do Norte",
         "marker": {
          "color": "darkblue",
          "size": 10
         },
         "mode": "markers+text",
         "name": "Nova Canaã do Norte",
         "showlegend": false,
         "text": [
          "Nova Canaã do Norte"
         ],
         "textposition": "middle left",
         "type": "scatter",
         "x": [
          1995
         ],
         "y": [
          74
         ]
        },
        {
         "hoverinfo": "text",
         "hovertemplate": "Nova Guarita<br>Emancipated from Terra Nova do Norte<br>in 1995<extra></extra>",
         "hovertext": "Nova Guarita<br>Emancipated from Terra Nova do Norte<br>in 1995",
         "legendgroup": "Nova Guarita",
         "line": {
          "color": "blue",
          "width": 1.5
         },
         "mode": "lines",
         "name": "Nova Guarita",
         "showlegend": false,
         "type": "scatter",
         "x": [
          1986,
          1995
         ],
         "y": [
          136,
          75
         ]
        },
        {
         "hoverinfo": "text",
         "hovertemplate": "Nova Guarita<br>Emancipated from Terra Nova do Norte<br>in 1995<extra></extra>",
         "hovertext": "Nova Guarita<br>Emancipated from Terra Nova do Norte<br>in 1995",
         "legendgroup": "Nova Guarita",
         "marker": {
          "color": "darkblue",
          "size": 10
         },
         "mode": "markers+text",
         "name": "Nova Guarita",
         "showlegend": false,
         "text": [
          "Nova Guarita"
         ],
         "textposition": "middle left",
         "type": "scatter",
         "x": [
          1995
         ],
         "y": [
          75
         ]
        },
        {
         "hoverinfo": "text",
         "hovertemplate": "Nova Lacerda<br>Emancipated from Vila Bela da Santíssima Trindade<br>in 1995<extra></extra>",
         "hovertext": "Nova Lacerda<br>Emancipated from Vila Bela da Santíssima Trindade<br>in 1995",
         "legendgroup": "Nova Lacerda",
         "line": {
          "color": "blue",
          "width": 1.5
         },
         "mode": "lines",
         "name": "Nova Lacerda",
         "showlegend": false,
         "type": "scatter",
         "x": [
          1752,
          1995
         ],
         "y": [
          143,
          76
         ]
        },
        {
         "hoverinfo": "text",
         "hovertemplate": "Nova Lacerda<br>Emancipated from Vila Bela da Santíssima Trindade<br>in 1995<extra></extra>",
         "hovertext": "Nova Lacerda<br>Emancipated from Vila Bela da Santíssima Trindade<br>in 1995",
         "legendgroup": "Nova Lacerda",
         "marker": {
          "color": "darkblue",
          "size": 10
         },
         "mode": "markers+text",
         "name": "Nova Lacerda",
         "showlegend": false,
         "text": [
          "Nova Lacerda"
         ],
         "textposition": "middle left",
         "type": "scatter",
         "x": [
          1995
         ],
         "y": [
          76
         ]
        },
        {
         "hoverinfo": "text",
         "hovertemplate": "Nova Marilândia<br>Emancipated from Alto Paraguai<br>in 1995<extra></extra>",
         "hovertext": "Nova Marilândia<br>Emancipated from Alto Paraguai<br>in 1995",
         "legendgroup": "Nova Marilândia",
         "line": {
          "color": "blue",
          "width": 1.5
         },
         "mode": "lines",
         "name": "Nova Marilândia",
         "showlegend": false,
         "type": "scatter",
         "x": [
          1948,
          1995
         ],
         "y": [
          5,
          77
         ]
        },
        {
         "hoverinfo": "text",
         "hovertemplate": "Nova Marilândia<br>Emancipated from Alto Paraguai<br>in 1995<extra></extra>",
         "hovertext": "Nova Marilândia<br>Emancipated from Alto Paraguai<br>in 1995",
         "legendgroup": "Nova Marilândia",
         "marker": {
          "color": "darkblue",
          "size": 10
         },
         "mode": "markers+text",
         "name": "Nova Marilândia",
         "showlegend": false,
         "text": [
          "Nova Marilândia"
         ],
         "textposition": "middle left",
         "type": "scatter",
         "x": [
          1995
         ],
         "y": [
          77
         ]
        },
        {
         "hoverinfo": "text",
         "hovertemplate": "Nova Maringá<br>Emancipated from Alto Paraguai<br>in 1995<extra></extra>",
         "hovertext": "Nova Maringá<br>Emancipated from Alto Paraguai<br>in 1995",
         "legendgroup": "Nova Maringá",
         "line": {
          "color": "blue",
          "width": 1.5
         },
         "mode": "lines",
         "name": "Nova Maringá",
         "showlegend": false,
         "type": "scatter",
         "x": [
          1948,
          1995
         ],
         "y": [
          5,
          78
         ]
        },
        {
         "hoverinfo": "text",
         "hovertemplate": "Nova Maringá<br>Emancipated from Alto Paraguai<br>in 1995<extra></extra>",
         "hovertext": "Nova Maringá<br>Emancipated from Alto Paraguai<br>in 1995",
         "legendgroup": "Nova Maringá",
         "marker": {
          "color": "darkblue",
          "size": 10
         },
         "mode": "markers+text",
         "name": "Nova Maringá",
         "showlegend": false,
         "text": [
          "Nova Maringá"
         ],
         "textposition": "middle left",
         "type": "scatter",
         "x": [
          1995
         ],
         "y": [
          78
         ]
        },
        {
         "hoverinfo": "text",
         "hovertemplate": "Nova Monte Verde<br>Emancipated from Alta Floresta<br>in 1995<extra></extra>",
         "hovertext": "Nova Monte Verde<br>Emancipated from Alta Floresta<br>in 1995",
         "legendgroup": "Nova Monte Verde",
         "line": {
          "color": "blue",
          "width": 1.5
         },
         "mode": "lines",
         "name": "Nova Monte Verde",
         "showlegend": false,
         "type": "scatter",
         "x": [
          1979,
          1995
         ],
         "y": [
          1,
          79
         ]
        },
        {
         "hoverinfo": "text",
         "hovertemplate": "Nova Monte Verde<br>Emancipated from Alta Floresta<br>in 1995<extra></extra>",
         "hovertext": "Nova Monte Verde<br>Emancipated from Alta Floresta<br>in 1995",
         "legendgroup": "Nova Monte Verde",
         "marker": {
          "color": "darkblue",
          "size": 10
         },
         "mode": "markers+text",
         "name": "Nova Monte Verde",
         "showlegend": false,
         "text": [
          "Nova Monte Verde"
         ],
         "textposition": "middle left",
         "type": "scatter",
         "x": [
          1995
         ],
         "y": [
          79
         ]
        },
        {
         "hoverinfo": "text",
         "hovertemplate": "Nova Mutum<br>Emancipated from Diamantino<br>in 1989<extra></extra>",
         "hovertext": "Nova Mutum<br>Emancipated from Diamantino<br>in 1989",
         "legendgroup": "Nova Mutum",
         "line": {
          "color": "blue",
          "width": 1.5
         },
         "mode": "lines",
         "name": "Nova Mutum",
         "showlegend": false,
         "type": "scatter",
         "x": [
          1858,
          1989
         ],
         "y": [
          39,
          80
         ]
        },
        {
         "hoverinfo": "text",
         "hovertemplate": "Nova Mutum<br>Emancipated from Diamantino<br>in 1989<extra></extra>",
         "hovertext": "Nova Mutum<br>Emancipated from Diamantino<br>in 1989",
         "legendgroup": "Nova Mutum",
         "marker": {
          "color": "darkblue",
          "size": 10
         },
         "mode": "markers+text",
         "name": "Nova Mutum",
         "showlegend": false,
         "text": [
          "Nova Mutum"
         ],
         "textposition": "middle left",
         "type": "scatter",
         "x": [
          1989
         ],
         "y": [
          80
         ]
        },
        {
         "hoverinfo": "text",
         "hovertemplate": "Nova Nazaré<br>Emancipated from Canarana<br>in 1995<extra></extra>",
         "hovertext": "Nova Nazaré<br>Emancipated from Canarana<br>in 1995",
         "legendgroup": "Nova Nazaré",
         "line": {
          "color": "blue",
          "width": 1.5
         },
         "mode": "lines",
         "name": "Nova Nazaré",
         "showlegend": false,
         "type": "scatter",
         "x": [
          1975,
          1995
         ],
         "y": [
          24,
          81
         ]
        },
        {
         "hoverinfo": "text",
         "hovertemplate": "Nova Nazaré<br>Emancipated from Canarana<br>in 1995<extra></extra>",
         "hovertext": "Nova Nazaré<br>Emancipated from Canarana<br>in 1995",
         "legendgroup": "Nova Nazaré",
         "marker": {
          "color": "darkblue",
          "size": 10
         },
         "mode": "markers+text",
         "name": "Nova Nazaré",
         "showlegend": false,
         "text": [
          "Nova Nazaré"
         ],
         "textposition": "middle left",
         "type": "scatter",
         "x": [
          1995
         ],
         "y": [
          81
         ]
        },
        {
         "hoverinfo": "text",
         "hovertemplate": "Nova Olímpia<br>Emancipated from Tangará da Serra<br>in 1979<extra></extra>",
         "hovertext": "Nova Olímpia<br>Emancipated from Tangará da Serra<br>in 1979",
         "legendgroup": "Nova Olímpia",
         "line": {
          "color": "blue",
          "width": 1.5
         },
         "mode": "lines",
         "name": "Nova Olímpia",
         "showlegend": false,
         "type": "scatter",
         "x": [
          1976,
          1979
         ],
         "y": [
          134,
          82
         ]
        },
        {
         "hoverinfo": "text",
         "hovertemplate": "Nova Olímpia<br>Emancipated from Tangará da Serra<br>in 1979<extra></extra>",
         "hovertext": "Nova Olímpia<br>Emancipated from Tangará da Serra<br>in 1979",
         "legendgroup": "Nova Olímpia",
         "marker": {
          "color": "darkblue",
          "size": 10
         },
         "mode": "markers+text",
         "name": "Nova Olímpia",
         "showlegend": false,
         "text": [
          "Nova Olímpia"
         ],
         "textposition": "middle left",
         "type": "scatter",
         "x": [
          1979
         ],
         "y": [
          82
         ]
        },
        {
         "hoverinfo": "text",
         "hovertemplate": "Nova Santa Helena<br>Emancipated from Verá<br>in 1995<extra></extra>",
         "hovertext": "Nova Santa Helena<br>Emancipated from Verá<br>in 1995",
         "legendgroup": "Nova Santa Helena",
         "line": {
          "color": "blue",
          "width": 1.5
         },
         "mode": "lines",
         "name": "Nova Santa Helena",
         "showlegend": false,
         "type": "scatter",
         "x": [
          1986,
          1995
         ],
         "y": [
          142,
          83
         ]
        },
        {
         "hoverinfo": "text",
         "hovertemplate": "Nova Santa Helena<br>Emancipated from Verá<br>in 1995<extra></extra>",
         "hovertext": "Nova Santa Helena<br>Emancipated from Verá<br>in 1995",
         "legendgroup": "Nova Santa Helena",
         "marker": {
          "color": "darkblue",
          "size": 10
         },
         "mode": "markers+text",
         "name": "Nova Santa Helena",
         "showlegend": false,
         "text": [
          "Nova Santa Helena"
         ],
         "textposition": "middle left",
         "type": "scatter",
         "x": [
          1995
         ],
         "y": [
          83
         ]
        },
        {
         "hoverinfo": "text",
         "hovertemplate": "Nova Ubiratã<br>Origin city (year: 1994)<extra></extra>",
         "hovertext": "Nova Ubiratã<br>Origin city (year: 1994)",
         "legendgroup": "Nova Ubiratã",
         "marker": {
          "color": "lightblue",
          "size": 10
         },
         "mode": "markers+text",
         "name": "Nova Ubiratã",
         "showlegend": false,
         "text": [
          "Nova Ubiratã"
         ],
         "textposition": "middle right",
         "type": "scatter",
         "x": [
          1994
         ],
         "y": [
          84
         ]
        },
        {
         "hoverinfo": "text",
         "hovertemplate": "Nova Ubiratã<br>Emancipated from Sorriso<br>in 1994<extra></extra>",
         "hovertext": "Nova Ubiratã<br>Emancipated from Sorriso<br>in 1994",
         "legendgroup": "Nova Ubiratã",
         "line": {
          "color": "blue",
          "width": 1.5
         },
         "mode": "lines",
         "name": "Nova Ubiratã",
         "showlegend": false,
         "type": "scatter",
         "x": [
          1986,
          1994
         ],
         "y": [
          126,
          84
         ]
        },
        {
         "hoverinfo": "text",
         "hovertemplate": "Nova Ubiratã and Sorriso<br>Origin city (year: 2023)<extra></extra>",
         "hovertext": "Nova Ubiratã and Sorriso<br>Origin city (year: 2023)",
         "legendgroup": "Nova Ubiratã and Sorriso",
         "marker": {
          "color": "lightblue",
          "size": 10
         },
         "mode": "markers+text",
         "name": "Nova Ubiratã and Sorriso",
         "showlegend": false,
         "text": [
          "Nova Ubiratã and Sorriso"
         ],
         "textposition": "middle right",
         "type": "scatter",
         "x": [
          2023
         ],
         "y": [
          85
         ]
        },
        {
         "hoverinfo": "text",
         "hovertemplate": "Nova Xavantina<br>Emancipated from Barra do Garças<br>in 1983<extra></extra>",
         "hovertext": "Nova Xavantina<br>Emancipated from Barra do Garças<br>in 1983",
         "legendgroup": "Nova Xavantina",
         "line": {
          "color": "blue",
          "width": 1.5
         },
         "mode": "lines",
         "name": "Nova Xavantina",
         "showlegend": false,
         "type": "scatter",
         "x": [
          1924,
          1983
         ],
         "y": [
          14,
          86
         ]
        },
        {
         "hoverinfo": "text",
         "hovertemplate": "Nova Xavantina<br>Emancipated from Barra do Garças<br>in 1983<extra></extra>",
         "hovertext": "Nova Xavantina<br>Emancipated from Barra do Garças<br>in 1983",
         "legendgroup": "Nova Xavantina",
         "marker": {
          "color": "darkblue",
          "size": 10
         },
         "mode": "markers+text",
         "name": "Nova Xavantina",
         "showlegend": false,
         "text": [
          "Nova Xavantina"
         ],
         "textposition": "middle left",
         "type": "scatter",
         "x": [
          1983
         ],
         "y": [
          86
         ]
        },
        {
         "hoverinfo": "text",
         "hovertemplate": "Novo Horizonte do Norte<br>Emancipated from Terra Nova do Norte<br>in 1995<extra></extra>",
         "hovertext": "Novo Horizonte do Norte<br>Emancipated from Terra Nova do Norte<br>in 1995",
         "legendgroup": "Novo Horizonte do Norte",
         "line": {
          "color": "blue",
          "width": 1.5
         },
         "mode": "lines",
         "name": "Novo Horizonte do Norte",
         "showlegend": false,
         "type": "scatter",
         "x": [
          1986,
          1995
         ],
         "y": [
          136,
          87
         ]
        },
        {
         "hoverinfo": "text",
         "hovertemplate": "Novo Horizonte do Norte<br>Emancipated from Terra Nova do Norte<br>in 1995<extra></extra>",
         "hovertext": "Novo Horizonte do Norte<br>Emancipated from Terra Nova do Norte<br>in 1995",
         "legendgroup": "Novo Horizonte do Norte",
         "marker": {
          "color": "darkblue",
          "size": 10
         },
         "mode": "markers+text",
         "name": "Novo Horizonte do Norte",
         "showlegend": false,
         "text": [
          "Novo Horizonte do Norte"
         ],
         "textposition": "middle left",
         "type": "scatter",
         "x": [
          1995
         ],
         "y": [
          87
         ]
        },
        {
         "hoverinfo": "text",
         "hovertemplate": "Novo Mundo<br>Emancipated from Peixoto de Azevedo<br>in 1995<extra></extra>",
         "hovertext": "Novo Mundo<br>Emancipated from Peixoto de Azevedo<br>in 1995",
         "legendgroup": "Novo Mundo",
         "line": {
          "color": "blue",
          "width": 1.5
         },
         "mode": "lines",
         "name": "Novo Mundo",
         "showlegend": false,
         "type": "scatter",
         "x": [
          1979,
          1995
         ],
         "y": [
          94,
          88
         ]
        },
        {
         "hoverinfo": "text",
         "hovertemplate": "Novo Mundo<br>Emancipated from Peixoto de Azevedo<br>in 1995<extra></extra>",
         "hovertext": "Novo Mundo<br>Emancipated from Peixoto de Azevedo<br>in 1995",
         "legendgroup": "Novo Mundo",
         "marker": {
          "color": "darkblue",
          "size": 10
         },
         "mode": "markers+text",
         "name": "Novo Mundo",
         "showlegend": false,
         "text": [
          "Novo Mundo"
         ],
         "textposition": "middle left",
         "type": "scatter",
         "x": [
          1995
         ],
         "y": [
          88
         ]
        },
        {
         "hoverinfo": "text",
         "hovertemplate": "Novo Santo Antônio<br>Emancipated from Brasnorte<br>in 1995<extra></extra>",
         "hovertext": "Novo Santo Antônio<br>Emancipated from Brasnorte<br>in 1995",
         "legendgroup": "Novo Santo Antônio",
         "line": {
          "color": "blue",
          "width": 1.5
         },
         "mode": "lines",
         "name": "Novo Santo Antônio",
         "showlegend": false,
         "type": "scatter",
         "x": [
          1994,
          1995
         ],
         "y": [
          18,
          89
         ]
        },
        {
         "hoverinfo": "text",
         "hovertemplate": "Novo Santo Antônio<br>Emancipated from Brasnorte<br>in 1995<extra></extra>",
         "hovertext": "Novo Santo Antônio<br>Emancipated from Brasnorte<br>in 1995",
         "legendgroup": "Novo Santo Antônio",
         "marker": {
          "color": "darkblue",
          "size": 10
         },
         "mode": "markers+text",
         "name": "Novo Santo Antônio",
         "showlegend": false,
         "text": [
          "Novo Santo Antônio"
         ],
         "textposition": "middle left",
         "type": "scatter",
         "x": [
          1995
         ],
         "y": [
          89
         ]
        },
        {
         "hoverinfo": "text",
         "hovertemplate": "Novo São Joaquim<br>Emancipated from Alto Araguaia<br>in 1986<extra></extra>",
         "hovertext": "Novo São Joaquim<br>Emancipated from Alto Araguaia<br>in 1986",
         "legendgroup": "Novo São Joaquim",
         "line": {
          "color": "blue",
          "width": 1.5
         },
         "mode": "lines",
         "name": "Novo São Joaquim",
         "showlegend": false,
         "type": "scatter",
         "x": [
          1948,
          1986
         ],
         "y": [
          2,
          90
         ]
        },
        {
         "hoverinfo": "text",
         "hovertemplate": "Novo São Joaquim<br>Emancipated from Alto Araguaia<br>in 1986<extra></extra>",
         "hovertext": "Novo São Joaquim<br>Emancipated from Alto Araguaia<br>in 1986",
         "legendgroup": "Novo São Joaquim",
         "marker": {
          "color": "darkblue",
          "size": 10
         },
         "mode": "markers+text",
         "name": "Novo São Joaquim",
         "showlegend": false,
         "text": [
          "Novo São Joaquim"
         ],
         "textposition": "middle left",
         "type": "scatter",
         "x": [
          1986
         ],
         "y": [
          90
         ]
        },
        {
         "hoverinfo": "text",
         "hovertemplate": "Paranatinga<br>Emancipated from Diamantino<br>in 1953<extra></extra>",
         "hovertext": "Paranatinga<br>Emancipated from Diamantino<br>in 1953",
         "legendgroup": "Paranatinga",
         "line": {
          "color": "blue",
          "width": 1.5
         },
         "mode": "lines",
         "name": "Paranatinga",
         "showlegend": false,
         "type": "scatter",
         "x": [
          1858,
          1953
         ],
         "y": [
          39,
          91
         ]
        },
        {
         "hoverinfo": "text",
         "hovertemplate": "Paranatinga<br>Emancipated from Diamantino<br>in 1953<extra></extra>",
         "hovertext": "Paranatinga<br>Emancipated from Diamantino<br>in 1953",
         "legendgroup": "Paranatinga",
         "marker": {
          "color": "darkblue",
          "size": 10
         },
         "mode": "markers+text",
         "name": "Paranatinga",
         "showlegend": false,
         "text": [
          "Paranatinga"
         ],
         "textposition": "middle left",
         "type": "scatter",
         "x": [
          1953
         ],
         "y": [
          91
         ]
        },
        {
         "hoverinfo": "text",
         "hovertemplate": "Paranaíta<br>Emancipated from Alta Floresta<br>in 1988<extra></extra>",
         "hovertext": "Paranaíta<br>Emancipated from Alta Floresta<br>in 1988",
         "legendgroup": "Paranaíta",
         "line": {
          "color": "blue",
          "width": 1.5
         },
         "mode": "lines",
         "name": "Paranaíta",
         "showlegend": false,
         "type": "scatter",
         "x": [
          1979,
          1988
         ],
         "y": [
          1,
          92
         ]
        },
        {
         "hoverinfo": "text",
         "hovertemplate": "Paranaíta<br>Emancipated from Alta Floresta<br>in 1988<extra></extra>",
         "hovertext": "Paranaíta<br>Emancipated from Alta Floresta<br>in 1988",
         "legendgroup": "Paranaíta",
         "marker": {
          "color": "darkblue",
          "size": 10
         },
         "mode": "markers+text",
         "name": "Paranaíta",
         "showlegend": false,
         "text": [
          "Paranaíta"
         ],
         "textposition": "middle left",
         "type": "scatter",
         "x": [
          1988
         ],
         "y": [
          92
         ]
        },
        {
         "hoverinfo": "text",
         "hovertemplate": "Pedra Preta<br>Emancipated from Rondonópolis<br>in 1948<extra></extra>",
         "hovertext": "Pedra Preta<br>Emancipated from Rondonópolis<br>in 1948",
         "legendgroup": "Pedra Preta",
         "line": {
          "color": "blue",
          "width": 1.5
         },
         "mode": "lines",
         "name": "Pedra Preta",
         "showlegend": false,
         "type": "scatter",
         "x": [
          1948,
          1948
         ],
         "y": [
          112,
          93
         ]
        },
        {
         "hoverinfo": "text",
         "hovertemplate": "Pedra Preta<br>Emancipated from Rondonópolis<br>in 1948<extra></extra>",
         "hovertext": "Pedra Preta<br>Emancipated from Rondonópolis<br>in 1948",
         "legendgroup": "Pedra Preta",
         "marker": {
          "color": "darkblue",
          "size": 10
         },
         "mode": "markers+text",
         "name": "Pedra Preta",
         "showlegend": false,
         "text": [
          "Pedra Preta"
         ],
         "textposition": "middle left",
         "type": "scatter",
         "x": [
          1948
         ],
         "y": [
          93
         ]
        },
        {
         "hoverinfo": "text",
         "hovertemplate": "Peixoto de Azevedo<br>Origin city (year: 1979)<extra></extra>",
         "hovertext": "Peixoto de Azevedo<br>Origin city (year: 1979)",
         "legendgroup": "Peixoto de Azevedo",
         "marker": {
          "color": "lightblue",
          "size": 10
         },
         "mode": "markers+text",
         "name": "Peixoto de Azevedo",
         "showlegend": false,
         "text": [
          "Peixoto de Azevedo"
         ],
         "textposition": "middle right",
         "type": "scatter",
         "x": [
          1979
         ],
         "y": [
          94
         ]
        },
        {
         "hoverinfo": "text",
         "hovertemplate": "Peixoto de Azevedo<br>Emancipated from Colíder<br>in 1979<extra></extra>",
         "hovertext": "Peixoto de Azevedo<br>Emancipated from Colíder<br>in 1979",
         "legendgroup": "Peixoto de Azevedo",
         "line": {
          "color": "blue",
          "width": 1.5
         },
         "mode": "lines",
         "name": "Peixoto de Azevedo",
         "showlegend": false,
         "type": "scatter",
         "x": [
          1979,
          1979
         ],
         "y": [
          31,
          94
         ]
        },
        {
         "hoverinfo": "text",
         "hovertemplate": "Planalto da Serra<br>Emancipated from Nobres<br>in 1994<extra></extra>",
         "hovertext": "Planalto da Serra<br>Emancipated from Nobres<br>in 1994",
         "legendgroup": "Planalto da Serra",
         "line": {
          "color": "blue",
          "width": 1.5
         },
         "mode": "lines",
         "name": "Planalto da Serra",
         "showlegend": false,
         "type": "scatter",
         "x": [
          1953,
          1994
         ],
         "y": [
          66,
          95
         ]
        },
        {
         "hoverinfo": "text",
         "hovertemplate": "Planalto da Serra<br>Emancipated from Nobres<br>in 1994<extra></extra>",
         "hovertext": "Planalto da Serra<br>Emancipated from Nobres<br>in 1994",
         "legendgroup": "Planalto da Serra",
         "marker": {
          "color": "darkblue",
          "size": 10
         },
         "mode": "markers+text",
         "name": "Planalto da Serra",
         "showlegend": false,
         "text": [
          "Planalto da Serra"
         ],
         "textposition": "middle left",
         "type": "scatter",
         "x": [
          1994
         ],
         "y": [
          95
         ]
        },
        {
         "hoverinfo": "text",
         "hovertemplate": "Poconé<br>Emancipated from None (founded in 1781)<br>in 1781<extra></extra>",
         "hovertext": "Poconé<br>Emancipated from None (founded in 1781)<br>in 1781",
         "legendgroup": "Poconé",
         "line": {
          "color": "blue",
          "width": 1.5
         },
         "mode": "lines",
         "name": "Poconé",
         "showlegend": false,
         "type": "scatter",
         "x": [
          1781,
          1781
         ],
         "y": [
          69,
          96
         ]
        },
        {
         "hoverinfo": "text",
         "hovertemplate": "Poconé<br>Emancipated from None (founded in 1781)<br>in 1781<extra></extra>",
         "hovertext": "Poconé<br>Emancipated from None (founded in 1781)<br>in 1781",
         "legendgroup": "Poconé",
         "marker": {
          "color": "darkblue",
          "size": 10
         },
         "mode": "markers+text",
         "name": "Poconé",
         "showlegend": false,
         "text": [
          "Poconé"
         ],
         "textposition": "middle left",
         "type": "scatter",
         "x": [
          1781
         ],
         "y": [
          96
         ]
        },
        {
         "hoverinfo": "text",
         "hovertemplate": "Pontal do Araguaia<br>Emancipated from Barra do Garças<br>in 1995<extra></extra>",
         "hovertext": "Pontal do Araguaia<br>Emancipated from Barra do Garças<br>in 1995",
         "legendgroup": "Pontal do Araguaia",
         "line": {
          "color": "blue",
          "width": 1.5
         },
         "mode": "lines",
         "name": "Pontal do Araguaia",
         "showlegend": false,
         "type": "scatter",
         "x": [
          1924,
          1995
         ],
         "y": [
          14,
          97
         ]
        },
        {
         "hoverinfo": "text",
         "hovertemplate": "Pontal do Araguaia<br>Emancipated from Barra do Garças<br>in 1995<extra></extra>",
         "hovertext": "Pontal do Araguaia<br>Emancipated from Barra do Garças<br>in 1995",
         "legendgroup": "Pontal do Araguaia",
         "marker": {
          "color": "darkblue",
          "size": 10
         },
         "mode": "markers+text",
         "name": "Pontal do Araguaia",
         "showlegend": false,
         "text": [
          "Pontal do Araguaia"
         ],
         "textposition": "middle left",
         "type": "scatter",
         "x": [
          1995
         ],
         "y": [
          97
         ]
        },
        {
         "hoverinfo": "text",
         "hovertemplate": "Ponte Branca<br>Emancipated from Alto Araguaia<br>in 1963<extra></extra>",
         "hovertext": "Ponte Branca<br>Emancipated from Alto Araguaia<br>in 1963",
         "legendgroup": "Ponte Branca",
         "line": {
          "color": "blue",
          "width": 1.5
         },
         "mode": "lines",
         "name": "Ponte Branca",
         "showlegend": false,
         "type": "scatter",
         "x": [
          1948,
          1963
         ],
         "y": [
          2,
          98
         ]
        },
        {
         "hoverinfo": "text",
         "hovertemplate": "Ponte Branca<br>Emancipated from Alto Araguaia<br>in 1963<extra></extra>",
         "hovertext": "Ponte Branca<br>Emancipated from Alto Araguaia<br>in 1963",
         "legendgroup": "Ponte Branca",
         "marker": {
          "color": "darkblue",
          "size": 10
         },
         "mode": "markers+text",
         "name": "Ponte Branca",
         "showlegend": false,
         "text": [
          "Ponte Branca"
         ],
         "textposition": "middle left",
         "type": "scatter",
         "x": [
          1963
         ],
         "y": [
          98
         ]
        },
        {
         "hoverinfo": "text",
         "hovertemplate": "Pontes e Lacerda<br>Origin city (year: 1953)<extra></extra>",
         "hovertext": "Pontes e Lacerda<br>Origin city (year: 1953)",
         "legendgroup": "Pontes e Lacerda",
         "marker": {
          "color": "lightblue",
          "size": 10
         },
         "mode": "markers+text",
         "name": "Pontes e Lacerda",
         "showlegend": false,
         "text": [
          "Pontes e Lacerda"
         ],
         "textposition": "middle right",
         "type": "scatter",
         "x": [
          1953
         ],
         "y": [
          99
         ]
        },
        {
         "hoverinfo": "text",
         "hovertemplate": "Pontes e Lacerda<br>Emancipated from Vila Bela da Santíssima Trindade<br>in 1953<extra></extra>",
         "hovertext": "Pontes e Lacerda<br>Emancipated from Vila Bela da Santíssima Trindade<br>in 1953",
         "legendgroup": "Pontes e Lacerda",
         "line": {
          "color": "blue",
          "width": 1.5
         },
         "mode": "lines",
         "name": "Pontes e Lacerda",
         "showlegend": false,
         "type": "scatter",
         "x": [
          1752,
          1953
         ],
         "y": [
          143,
          99
         ]
        },
        {
         "hoverinfo": "text",
         "hovertemplate": "Porto Alegre do Norte<br>Emancipated from São Félix do Araguaia<br>in 1986<extra></extra>",
         "hovertext": "Porto Alegre do Norte<br>Emancipated from São Félix do Araguaia<br>in 1986",
         "legendgroup": "Porto Alegre do Norte",
         "line": {
          "color": "blue",
          "width": 1.5
         },
         "mode": "lines",
         "name": "Porto Alegre do Norte",
         "showlegend": false,
         "type": "scatter",
         "x": [
          1976,
          1986
         ],
         "y": [
          127,
          100
         ]
        },
        {
         "hoverinfo": "text",
         "hovertemplate": "Porto Alegre do Norte<br>Emancipated from São Félix do Araguaia<br>in 1986<extra></extra>",
         "hovertext": "Porto Alegre do Norte<br>Emancipated from São Félix do Araguaia<br>in 1986",
         "legendgroup": "Porto Alegre do Norte",
         "marker": {
          "color": "darkblue",
          "size": 10
         },
         "mode": "markers+text",
         "name": "Porto Alegre do Norte",
         "showlegend": false,
         "text": [
          "Porto Alegre do Norte"
         ],
         "textposition": "middle left",
         "type": "scatter",
         "x": [
          1986
         ],
         "y": [
          100
         ]
        },
        {
         "hoverinfo": "text",
         "hovertemplate": "Porto Esperidião<br>Emancipated from Cáceres<br>in 1948<extra></extra>",
         "hovertext": "Porto Esperidião<br>Emancipated from Cáceres<br>in 1948",
         "legendgroup": "Porto Esperidião",
         "line": {
          "color": "blue",
          "width": 1.5
         },
         "mode": "lines",
         "name": "Porto Esperidião",
         "showlegend": false,
         "type": "scatter",
         "x": [
          1873,
          1948
         ],
         "y": [
          37,
          101
         ]
        },
        {
         "hoverinfo": "text",
         "hovertemplate": "Porto Esperidião<br>Emancipated from Cáceres<br>in 1948<extra></extra>",
         "hovertext": "Porto Esperidião<br>Emancipated from Cáceres<br>in 1948",
         "legendgroup": "Porto Esperidião",
         "marker": {
          "color": "darkblue",
          "size": 10
         },
         "mode": "markers+text",
         "name": "Porto Esperidião",
         "showlegend": false,
         "text": [
          "Porto Esperidião"
         ],
         "textposition": "middle left",
         "type": "scatter",
         "x": [
          1948
         ],
         "y": [
          101
         ]
        },
        {
         "hoverinfo": "text",
         "hovertemplate": "Porto Estrela<br>Emancipated from Cáceres<br>in 1963<extra></extra>",
         "hovertext": "Porto Estrela<br>Emancipated from Cáceres<br>in 1963",
         "legendgroup": "Porto Estrela",
         "line": {
          "color": "blue",
          "width": 1.5
         },
         "mode": "lines",
         "name": "Porto Estrela",
         "showlegend": false,
         "type": "scatter",
         "x": [
          1873,
          1963
         ],
         "y": [
          37,
          102
         ]
        },
        {
         "hoverinfo": "text",
         "hovertemplate": "Porto Estrela<br>Emancipated from Cáceres<br>in 1963<extra></extra>",
         "hovertext": "Porto Estrela<br>Emancipated from Cáceres<br>in 1963",
         "legendgroup": "Porto Estrela",
         "marker": {
          "color": "darkblue",
          "size": 10
         },
         "mode": "markers+text",
         "name": "Porto Estrela",
         "showlegend": false,
         "text": [
          "Porto Estrela"
         ],
         "textposition": "middle left",
         "type": "scatter",
         "x": [
          1963
         ],
         "y": [
          102
         ]
        },
        {
         "hoverinfo": "text",
         "hovertemplate": "Porto dos Gaúchos<br>Origin city (year: 1953)<extra></extra>",
         "hovertext": "Porto dos Gaúchos<br>Origin city (year: 1953)",
         "legendgroup": "Porto dos Gaúchos",
         "marker": {
          "color": "lightblue",
          "size": 10
         },
         "mode": "markers+text",
         "name": "Porto dos Gaúchos",
         "showlegend": false,
         "text": [
          "Porto dos Gaúchos"
         ],
         "textposition": "middle right",
         "type": "scatter",
         "x": [
          1953
         ],
         "y": [
          103
         ]
        },
        {
         "hoverinfo": "text",
         "hovertemplate": "Porto dos Gaúchos<br>Emancipated from Diamantino<br>in 1953<extra></extra>",
         "hovertext": "Porto dos Gaúchos<br>Emancipated from Diamantino<br>in 1953",
         "legendgroup": "Porto dos Gaúchos",
         "line": {
          "color": "blue",
          "width": 1.5
         },
         "mode": "lines",
         "name": "Porto dos Gaúchos",
         "showlegend": false,
         "type": "scatter",
         "x": [
          1858,
          1953
         ],
         "y": [
          39,
          103
         ]
        },
        {
         "hoverinfo": "text",
         "hovertemplate": "Poxoréu<br>Origin city (year: 1938)<extra></extra>",
         "hovertext": "Poxoréu<br>Origin city (year: 1938)",
         "legendgroup": "Poxoréu",
         "marker": {
          "color": "lightblue",
          "size": 10
         },
         "mode": "markers+text",
         "name": "Poxoréu",
         "showlegend": false,
         "text": [
          "Poxoréu"
         ],
         "textposition": "middle right",
         "type": "scatter",
         "x": [
          1938
         ],
         "y": [
          104
         ]
        },
        {
         "hoverinfo": "text",
         "hovertemplate": "Poxoréu<br>Emancipated from Cuiabá<br>in 1938<extra></extra>",
         "hovertext": "Poxoréu<br>Emancipated from Cuiabá<br>in 1938",
         "legendgroup": "Poxoréu",
         "line": {
          "color": "blue",
          "width": 1.5
         },
         "mode": "lines",
         "name": "Poxoréu",
         "showlegend": false,
         "type": "scatter",
         "x": [
          1719,
          1938
         ],
         "y": [
          35,
          104
         ]
        },
        {
         "hoverinfo": "text",
         "hovertemplate": "Primavera do Leste<br>Emancipated from Poxoréu<br>in 1986<extra></extra>",
         "hovertext": "Primavera do Leste<br>Emancipated from Poxoréu<br>in 1986",
         "legendgroup": "Primavera do Leste",
         "line": {
          "color": "blue",
          "width": 1.5
         },
         "mode": "lines",
         "name": "Primavera do Leste",
         "showlegend": false,
         "type": "scatter",
         "x": [
          1938,
          1986
         ],
         "y": [
          104,
          105
         ]
        },
        {
         "hoverinfo": "text",
         "hovertemplate": "Primavera do Leste<br>Emancipated from Poxoréu<br>in 1986<extra></extra>",
         "hovertext": "Primavera do Leste<br>Emancipated from Poxoréu<br>in 1986",
         "legendgroup": "Primavera do Leste",
         "marker": {
          "color": "darkblue",
          "size": 10
         },
         "mode": "markers+text",
         "name": "Primavera do Leste",
         "showlegend": false,
         "text": [
          "Primavera do Leste"
         ],
         "textposition": "middle left",
         "type": "scatter",
         "x": [
          1986
         ],
         "y": [
          105
         ]
        },
        {
         "hoverinfo": "text",
         "hovertemplate": "Querência<br>Emancipated from Barra do Garças<br>in 1988<extra></extra>",
         "hovertext": "Querência<br>Emancipated from Barra do Garças<br>in 1988",
         "legendgroup": "Querência",
         "line": {
          "color": "blue",
          "width": 1.5
         },
         "mode": "lines",
         "name": "Querência",
         "showlegend": false,
         "type": "scatter",
         "x": [
          1924,
          1988
         ],
         "y": [
          14,
          106
         ]
        },
        {
         "hoverinfo": "text",
         "hovertemplate": "Querência<br>Emancipated from Barra do Garças<br>in 1988<extra></extra>",
         "hovertext": "Querência<br>Emancipated from Barra do Garças<br>in 1988",
         "legendgroup": "Querência",
         "marker": {
          "color": "darkblue",
          "size": 10
         },
         "mode": "markers+text",
         "name": "Querência",
         "showlegend": false,
         "text": [
          "Querência"
         ],
         "textposition": "middle left",
         "type": "scatter",
         "x": [
          1988
         ],
         "y": [
          106
         ]
        },
        {
         "hoverinfo": "text",
         "hovertemplate": "Reserva do Cabaçal<br>Emancipated from Cáceres<br>in 1995<extra></extra>",
         "hovertext": "Reserva do Cabaçal<br>Emancipated from Cáceres<br>in 1995",
         "legendgroup": "Reserva do Cabaçal",
         "line": {
          "color": "blue",
          "width": 1.5
         },
         "mode": "lines",
         "name": "Reserva do Cabaçal",
         "showlegend": false,
         "type": "scatter",
         "x": [
          1873,
          1995
         ],
         "y": [
          37,
          107
         ]
        },
        {
         "hoverinfo": "text",
         "hovertemplate": "Reserva do Cabaçal<br>Emancipated from Cáceres<br>in 1995<extra></extra>",
         "hovertext": "Reserva do Cabaçal<br>Emancipated from Cáceres<br>in 1995",
         "legendgroup": "Reserva do Cabaçal",
         "marker": {
          "color": "darkblue",
          "size": 10
         },
         "mode": "markers+text",
         "name": "Reserva do Cabaçal",
         "showlegend": false,
         "text": [
          "Reserva do Cabaçal"
         ],
         "textposition": "middle left",
         "type": "scatter",
         "x": [
          1995
         ],
         "y": [
          107
         ]
        },
        {
         "hoverinfo": "text",
         "hovertemplate": "Ribeirão Cascalheira<br>Emancipated from Barra do Garças<br>in 1986<extra></extra>",
         "hovertext": "Ribeirão Cascalheira<br>Emancipated from Barra do Garças<br>in 1986",
         "legendgroup": "Ribeirão Cascalheira",
         "line": {
          "color": "blue",
          "width": 1.5
         },
         "mode": "lines",
         "name": "Ribeirão Cascalheira",
         "showlegend": false,
         "type": "scatter",
         "x": [
          1924,
          1986
         ],
         "y": [
          14,
          108
         ]
        },
        {
         "hoverinfo": "text",
         "hovertemplate": "Ribeirão Cascalheira<br>Emancipated from Barra do Garças<br>in 1986<extra></extra>",
         "hovertext": "Ribeirão Cascalheira<br>Emancipated from Barra do Garças<br>in 1986",
         "legendgroup": "Ribeirão Cascalheira",
         "marker": {
          "color": "darkblue",
          "size": 10
         },
         "mode": "markers+text",
         "name": "Ribeirão Cascalheira",
         "showlegend": false,
         "text": [
          "Ribeirão Cascalheira"
         ],
         "textposition": "middle left",
         "type": "scatter",
         "x": [
          1986
         ],
         "y": [
          108
         ]
        },
        {
         "hoverinfo": "text",
         "hovertemplate": "Ribeirãozinho<br>Emancipated from Torixoréu<br>in 1995<extra></extra>",
         "hovertext": "Ribeirãozinho<br>Emancipated from Torixoréu<br>in 1995",
         "legendgroup": "Ribeirãozinho",
         "line": {
          "color": "blue",
          "width": 1.5
         },
         "mode": "lines",
         "name": "Ribeirãozinho",
         "showlegend": false,
         "type": "scatter",
         "x": [
          1953,
          1995
         ],
         "y": [
          138,
          109
         ]
        },
        {
         "hoverinfo": "text",
         "hovertemplate": "Ribeirãozinho<br>Emancipated from Torixoréu<br>in 1995<extra></extra>",
         "hovertext": "Ribeirãozinho<br>Emancipated from Torixoréu<br>in 1995",
         "legendgroup": "Ribeirãozinho",
         "marker": {
          "color": "darkblue",
          "size": 10
         },
         "mode": "markers+text",
         "name": "Ribeirãozinho",
         "showlegend": false,
         "text": [
          "Ribeirãozinho"
         ],
         "textposition": "middle left",
         "type": "scatter",
         "x": [
          1995
         ],
         "y": [
          109
         ]
        },
        {
         "hoverinfo": "text",
         "hovertemplate": "Rio Branco<br>Emancipated from Barra do Garças<br>in 1995<extra></extra>",
         "hovertext": "Rio Branco<br>Emancipated from Barra do Garças<br>in 1995",
         "legendgroup": "Rio Branco",
         "line": {
          "color": "blue",
          "width": 1.5
         },
         "mode": "lines",
         "name": "Rio Branco",
         "showlegend": false,
         "type": "scatter",
         "x": [
          1924,
          1995
         ],
         "y": [
          14,
          110
         ]
        },
        {
         "hoverinfo": "text",
         "hovertemplate": "Rio Branco<br>Emancipated from Barra do Garças<br>in 1995<extra></extra>",
         "hovertext": "Rio Branco<br>Emancipated from Barra do Garças<br>in 1995",
         "legendgroup": "Rio Branco",
         "marker": {
          "color": "darkblue",
          "size": 10
         },
         "mode": "markers+text",
         "name": "Rio Branco",
         "showlegend": false,
         "text": [
          "Rio Branco"
         ],
         "textposition": "middle left",
         "type": "scatter",
         "x": [
          1995
         ],
         "y": [
          110
         ]
        },
        {
         "hoverinfo": "text",
         "hovertemplate": "Rondolândia<br>Emancipated from Aripuanã<br>in 1998<extra></extra>",
         "hovertext": "Rondolândia<br>Emancipated from Aripuanã<br>in 1998",
         "legendgroup": "Rondolândia",
         "line": {
          "color": "blue",
          "width": 1.5
         },
         "mode": "lines",
         "name": "Rondolândia",
         "showlegend": false,
         "type": "scatter",
         "x": [
          1988,
          1998
         ],
         "y": [
          12,
          111
         ]
        },
        {
         "hoverinfo": "text",
         "hovertemplate": "Rondolândia<br>Emancipated from Aripuanã<br>in 1998<extra></extra>",
         "hovertext": "Rondolândia<br>Emancipated from Aripuanã<br>in 1998",
         "legendgroup": "Rondolândia",
         "marker": {
          "color": "darkblue",
          "size": 10
         },
         "mode": "markers+text",
         "name": "Rondolândia",
         "showlegend": false,
         "text": [
          "Rondolândia"
         ],
         "textposition": "middle left",
         "type": "scatter",
         "x": [
          1998
         ],
         "y": [
          111
         ]
        },
        {
         "hoverinfo": "text",
         "hovertemplate": "Rondonópolis<br>Origin city (year: 1948)<extra></extra>",
         "hovertext": "Rondonópolis<br>Origin city (year: 1948)",
         "legendgroup": "Rondonópolis",
         "marker": {
          "color": "lightblue",
          "size": 10
         },
         "mode": "markers+text",
         "name": "Rondonópolis",
         "showlegend": false,
         "text": [
          "Rondonópolis"
         ],
         "textposition": "middle right",
         "type": "scatter",
         "x": [
          1948
         ],
         "y": [
          112
         ]
        },
        {
         "hoverinfo": "text",
         "hovertemplate": "Rondonópolis<br>Emancipated from Poxoréu<br>in 1948<extra></extra>",
         "hovertext": "Rondonópolis<br>Emancipated from Poxoréu<br>in 1948",
         "legendgroup": "Rondonópolis",
         "line": {
          "color": "blue",
          "width": 1.5
         },
         "mode": "lines",
         "name": "Rondonópolis",
         "showlegend": false,
         "type": "scatter",
         "x": [
          1938,
          1948
         ],
         "y": [
          104,
          112
         ]
        },
        {
         "hoverinfo": "text",
         "hovertemplate": "Rosário Oeste<br>Origin city (year: 1858)<extra></extra>",
         "hovertext": "Rosário Oeste<br>Origin city (year: 1858)",
         "legendgroup": "Rosário Oeste",
         "marker": {
          "color": "lightblue",
          "size": 10
         },
         "mode": "markers+text",
         "name": "Rosário Oeste",
         "showlegend": false,
         "text": [
          "Rosário Oeste"
         ],
         "textposition": "middle right",
         "type": "scatter",
         "x": [
          1858
         ],
         "y": [
          113
         ]
        },
        {
         "hoverinfo": "text",
         "hovertemplate": "Rosário Oeste<br>Emancipated from Cuiabá<br>in 1858<extra></extra>",
         "hovertext": "Rosário Oeste<br>Emancipated from Cuiabá<br>in 1858",
         "legendgroup": "Rosário Oeste",
         "line": {
          "color": "blue",
          "width": 1.5
         },
         "mode": "lines",
         "name": "Rosário Oeste",
         "showlegend": false,
         "type": "scatter",
         "x": [
          1719,
          1858
         ],
         "y": [
          35,
          113
         ]
        },
        {
         "hoverinfo": "text",
         "hovertemplate": "Salto do Céu<br>Emancipated from Cáceres<br>in 1986<extra></extra>",
         "hovertext": "Salto do Céu<br>Emancipated from Cáceres<br>in 1986",
         "legendgroup": "Salto do Céu",
         "line": {
          "color": "blue",
          "width": 1.5
         },
         "mode": "lines",
         "name": "Salto do Céu",
         "showlegend": false,
         "type": "scatter",
         "x": [
          1873,
          1986
         ],
         "y": [
          37,
          114
         ]
        },
        {
         "hoverinfo": "text",
         "hovertemplate": "Salto do Céu<br>Emancipated from Cáceres<br>in 1986<extra></extra>",
         "hovertext": "Salto do Céu<br>Emancipated from Cáceres<br>in 1986",
         "legendgroup": "Salto do Céu",
         "marker": {
          "color": "darkblue",
          "size": 10
         },
         "mode": "markers+text",
         "name": "Salto do Céu",
         "showlegend": false,
         "text": [
          "Salto do Céu"
         ],
         "textposition": "middle left",
         "type": "scatter",
         "x": [
          1986
         ],
         "y": [
          114
         ]
        },
        {
         "hoverinfo": "text",
         "hovertemplate": "Santa Carmem<br>Emancipated from Cláudia<br>in 1995<extra></extra>",
         "hovertext": "Santa Carmem<br>Emancipated from Cláudia<br>in 1995",
         "legendgroup": "Santa Carmem",
         "line": {
          "color": "blue",
          "width": 1.5
         },
         "mode": "lines",
         "name": "Santa Carmem",
         "showlegend": false,
         "type": "scatter",
         "x": [
          1994,
          1995
         ],
         "y": [
          28,
          115
         ]
        },
        {
         "hoverinfo": "text",
         "hovertemplate": "Santa Carmem<br>Emancipated from Cláudia<br>in 1995<extra></extra>",
         "hovertext": "Santa Carmem<br>Emancipated from Cláudia<br>in 1995",
         "legendgroup": "Santa Carmem",
         "marker": {
          "color": "darkblue",
          "size": 10
         },
         "mode": "markers+text",
         "name": "Santa Carmem",
         "showlegend": false,
         "text": [
          "Santa Carmem"
         ],
         "textposition": "middle left",
         "type": "scatter",
         "x": [
          1995
         ],
         "y": [
          115
         ]
        },
        {
         "hoverinfo": "text",
         "hovertemplate": "Santa Cruz do Xingu<br>Emancipated from São Félix do Araguaia<br>in 1995<extra></extra>",
         "hovertext": "Santa Cruz do Xingu<br>Emancipated from São Félix do Araguaia<br>in 1995",
         "legendgroup": "Santa Cruz do Xingu",
         "line": {
          "color": "blue",
          "width": 1.5
         },
         "mode": "lines",
         "name": "Santa Cruz do Xingu",
         "showlegend": false,
         "type": "scatter",
         "x": [
          1976,
          1995
         ],
         "y": [
          127,
          116
         ]
        },
        {
         "hoverinfo": "text",
         "hovertemplate": "Santa Cruz do Xingu<br>Emancipated from São Félix do Araguaia<br>in 1995<extra></extra>",
         "hovertext": "Santa Cruz do Xingu<br>Emancipated from São Félix do Araguaia<br>in 1995",
         "legendgroup": "Santa Cruz do Xingu",
         "marker": {
          "color": "darkblue",
          "size": 10
         },
         "mode": "markers+text",
         "name": "Santa Cruz do Xingu",
         "showlegend": false,
         "text": [
          "Santa Cruz do Xingu"
         ],
         "textposition": "middle left",
         "type": "scatter",
         "x": [
          1995
         ],
         "y": [
          116
         ]
        },
        {
         "hoverinfo": "text",
         "hovertemplate": "Santa Rita do Araguaia<br>Origin city (year: 1938)<extra></extra>",
         "hovertext": "Santa Rita do Araguaia<br>Origin city (year: 1938)",
         "legendgroup": "Santa Rita do Araguaia",
         "marker": {
          "color": "lightblue",
          "size": 10
         },
         "mode": "markers+text",
         "name": "Santa Rita do Araguaia",
         "showlegend": false,
         "text": [
          "Santa Rita do Araguaia"
         ],
         "textposition": "middle right",
         "type": "scatter",
         "x": [
          1938
         ],
         "y": [
          117
         ]
        },
        {
         "hoverinfo": "text",
         "hovertemplate": "Santa Rita do Trivelato<br>Emancipated from Sorriso<br>in 1995<extra></extra>",
         "hovertext": "Santa Rita do Trivelato<br>Emancipated from Sorriso<br>in 1995",
         "legendgroup": "Santa Rita do Trivelato",
         "line": {
          "color": "blue",
          "width": 1.5
         },
         "mode": "lines",
         "name": "Santa Rita do Trivelato",
         "showlegend": false,
         "type": "scatter",
         "x": [
          1986,
          1995
         ],
         "y": [
          126,
          118
         ]
        },
        {
         "hoverinfo": "text",
         "hovertemplate": "Santa Rita do Trivelato<br>Emancipated from Sorriso<br>in 1995<extra></extra>",
         "hovertext": "Santa Rita do Trivelato<br>Emancipated from Sorriso<br>in 1995",
         "legendgroup": "Santa Rita do Trivelato",
         "marker": {
          "color": "darkblue",
          "size": 10
         },
         "mode": "markers+text",
         "name": "Santa Rita do Trivelato",
         "showlegend": false,
         "text": [
          "Santa Rita do Trivelato"
         ],
         "textposition": "middle left",
         "type": "scatter",
         "x": [
          1995
         ],
         "y": [
          118
         ]
        },
        {
         "hoverinfo": "text",
         "hovertemplate": "Santa Terezinha<br>Emancipated from Barra do Garças<br>in 1995<extra></extra>",
         "hovertext": "Santa Terezinha<br>Emancipated from Barra do Garças<br>in 1995",
         "legendgroup": "Santa Terezinha",
         "line": {
          "color": "blue",
          "width": 1.5
         },
         "mode": "lines",
         "name": "Santa Terezinha",
         "showlegend": false,
         "type": "scatter",
         "x": [
          1924,
          1995
         ],
         "y": [
          14,
          119
         ]
        },
        {
         "hoverinfo": "text",
         "hovertemplate": "Santa Terezinha<br>Emancipated from Barra do Garças<br>in 1995<extra></extra>",
         "hovertext": "Santa Terezinha<br>Emancipated from Barra do Garças<br>in 1995",
         "legendgroup": "Santa Terezinha",
         "marker": {
          "color": "darkblue",
          "size": 10
         },
         "mode": "markers+text",
         "name": "Santa Terezinha",
         "showlegend": false,
         "text": [
          "Santa Terezinha"
         ],
         "textposition": "middle left",
         "type": "scatter",
         "x": [
          1995
         ],
         "y": [
          119
         ]
        },
        {
         "hoverinfo": "text",
         "hovertemplate": "Santo Afonso<br>Emancipated from Diamantino<br>in 1995<extra></extra>",
         "hovertext": "Santo Afonso<br>Emancipated from Diamantino<br>in 1995",
         "legendgroup": "Santo Afonso",
         "line": {
          "color": "blue",
          "width": 1.5
         },
         "mode": "lines",
         "name": "Santo Afonso",
         "showlegend": false,
         "type": "scatter",
         "x": [
          1858,
          1995
         ],
         "y": [
          39,
          120
         ]
        },
        {
         "hoverinfo": "text",
         "hovertemplate": "Santo Afonso<br>Emancipated from Diamantino<br>in 1995<extra></extra>",
         "hovertext": "Santo Afonso<br>Emancipated from Diamantino<br>in 1995",
         "legendgroup": "Santo Afonso",
         "marker": {
          "color": "darkblue",
          "size": 10
         },
         "mode": "markers+text",
         "name": "Santo Afonso",
         "showlegend": false,
         "text": [
          "Santo Afonso"
         ],
         "textposition": "middle left",
         "type": "scatter",
         "x": [
          1995
         ],
         "y": [
          120
         ]
        },
        {
         "hoverinfo": "text",
         "hovertemplate": "Santo Antônio de Leverger<br>Emancipated from Cuiabá<br>in 1835<extra></extra>",
         "hovertext": "Santo Antônio de Leverger<br>Emancipated from Cuiabá<br>in 1835",
         "legendgroup": "Santo Antônio de Leverger",
         "line": {
          "color": "blue",
          "width": 1.5
         },
         "mode": "lines",
         "name": "Santo Antônio de Leverger",
         "showlegend": false,
         "type": "scatter",
         "x": [
          1719,
          1835
         ],
         "y": [
          35,
          121
         ]
        },
        {
         "hoverinfo": "text",
         "hovertemplate": "Santo Antônio de Leverger<br>Emancipated from Cuiabá<br>in 1835<extra></extra>",
         "hovertext": "Santo Antônio de Leverger<br>Emancipated from Cuiabá<br>in 1835",
         "legendgroup": "Santo Antônio de Leverger",
         "marker": {
          "color": "darkblue",
          "size": 10
         },
         "mode": "markers+text",
         "name": "Santo Antônio de Leverger",
         "showlegend": false,
         "text": [
          "Santo Antônio de Leverger"
         ],
         "textposition": "middle left",
         "type": "scatter",
         "x": [
          1835
         ],
         "y": [
          121
         ]
        },
        {
         "hoverinfo": "text",
         "hovertemplate": "Santo Antônio do Leste<br>Emancipated from Barra do Garças<br>in 1995<extra></extra>",
         "hovertext": "Santo Antônio do Leste<br>Emancipated from Barra do Garças<br>in 1995",
         "legendgroup": "Santo Antônio do Leste",
         "line": {
          "color": "blue",
          "width": 1.5
         },
         "mode": "lines",
         "name": "Santo Antônio do Leste",
         "showlegend": false,
         "type": "scatter",
         "x": [
          1924,
          1995
         ],
         "y": [
          14,
          122
         ]
        },
        {
         "hoverinfo": "text",
         "hovertemplate": "Santo Antônio do Leste<br>Emancipated from Barra do Garças<br>in 1995<extra></extra>",
         "hovertext": "Santo Antônio do Leste<br>Emancipated from Barra do Garças<br>in 1995",
         "legendgroup": "Santo Antônio do Leste",
         "marker": {
          "color": "darkblue",
          "size": 10
         },
         "mode": "markers+text",
         "name": "Santo Antônio do Leste",
         "showlegend": false,
         "text": [
          "Santo Antônio do Leste"
         ],
         "textposition": "middle left",
         "type": "scatter",
         "x": [
          1995
         ],
         "y": [
          122
         ]
        },
        {
         "hoverinfo": "text",
         "hovertemplate": "Sapezal<br>Emancipated from Campos de Júlio<br>in 1998<extra></extra>",
         "hovertext": "Sapezal<br>Emancipated from Campos de Júlio<br>in 1998",
         "legendgroup": "Sapezal",
         "line": {
          "color": "blue",
          "width": 1.5
         },
         "mode": "lines",
         "name": "Sapezal",
         "showlegend": false,
         "type": "scatter",
         "x": [
          1994,
          1998
         ],
         "y": [
          22,
          123
         ]
        },
        {
         "hoverinfo": "text",
         "hovertemplate": "Sapezal<br>Emancipated from Campos de Júlio<br>in 1998<extra></extra>",
         "hovertext": "Sapezal<br>Emancipated from Campos de Júlio<br>in 1998",
         "legendgroup": "Sapezal",
         "marker": {
          "color": "darkblue",
          "size": 10
         },
         "mode": "markers+text",
         "name": "Sapezal",
         "showlegend": false,
         "text": [
          "Sapezal"
         ],
         "textposition": "middle left",
         "type": "scatter",
         "x": [
          1998
         ],
         "y": [
          123
         ]
        },
        {
         "hoverinfo": "text",
         "hovertemplate": "Serra Nova Dourada<br>Emancipated from São Félix do Araguaia<br>in 2001<extra></extra>",
         "hovertext": "Serra Nova Dourada<br>Emancipated from São Félix do Araguaia<br>in 2001",
         "legendgroup": "Serra Nova Dourada",
         "line": {
          "color": "blue",
          "width": 1.5
         },
         "mode": "lines",
         "name": "Serra Nova Dourada",
         "showlegend": false,
         "type": "scatter",
         "x": [
          1976,
          2001
         ],
         "y": [
          127,
          124
         ]
        },
        {
         "hoverinfo": "text",
         "hovertemplate": "Serra Nova Dourada<br>Emancipated from São Félix do Araguaia<br>in 2001<extra></extra>",
         "hovertext": "Serra Nova Dourada<br>Emancipated from São Félix do Araguaia<br>in 2001",
         "legendgroup": "Serra Nova Dourada",
         "marker": {
          "color": "darkblue",
          "size": 10
         },
         "mode": "markers+text",
         "name": "Serra Nova Dourada",
         "showlegend": false,
         "text": [
          "Serra Nova Dourada"
         ],
         "textposition": "middle left",
         "type": "scatter",
         "x": [
          2001
         ],
         "y": [
          124
         ]
        },
        {
         "hoverinfo": "text",
         "hovertemplate": "Sinop<br>Origin city (year: 1979)<extra></extra>",
         "hovertext": "Sinop<br>Origin city (year: 1979)",
         "legendgroup": "Sinop",
         "marker": {
          "color": "lightblue",
          "size": 10
         },
         "mode": "markers+text",
         "name": "Sinop",
         "showlegend": false,
         "text": [
          "Sinop"
         ],
         "textposition": "middle right",
         "type": "scatter",
         "x": [
          1979
         ],
         "y": [
          125
         ]
        },
        {
         "hoverinfo": "text",
         "hovertemplate": "Sinop<br>Emancipated from Colíder<br>in 1979<extra></extra>",
         "hovertext": "Sinop<br>Emancipated from Colíder<br>in 1979",
         "legendgroup": "Sinop",
         "line": {
          "color": "blue",
          "width": 1.5
         },
         "mode": "lines",
         "name": "Sinop",
         "showlegend": false,
         "type": "scatter",
         "x": [
          1979,
          1979
         ],
         "y": [
          31,
          125
         ]
        },
        {
         "hoverinfo": "text",
         "hovertemplate": "Sorriso<br>Origin city (year: 1986)<extra></extra>",
         "hovertext": "Sorriso<br>Origin city (year: 1986)",
         "legendgroup": "Sorriso",
         "marker": {
          "color": "lightblue",
          "size": 10
         },
         "mode": "markers+text",
         "name": "Sorriso",
         "showlegend": false,
         "text": [
          "Sorriso"
         ],
         "textposition": "middle right",
         "type": "scatter",
         "x": [
          1986
         ],
         "y": [
          126
         ]
        },
        {
         "hoverinfo": "text",
         "hovertemplate": "Sorriso<br>Emancipated from Nova Ubiratã<br>in 1986<extra></extra>",
         "hovertext": "Sorriso<br>Emancipated from Nova Ubiratã<br>in 1986",
         "legendgroup": "Sorriso",
         "line": {
          "color": "blue",
          "width": 1.5
         },
         "mode": "lines",
         "name": "Sorriso",
         "showlegend": false,
         "type": "scatter",
         "x": [
          1994,
          1986
         ],
         "y": [
          84,
          126
         ]
        },
        {
         "hoverinfo": "text",
         "hovertemplate": "São Félix do Araguaia<br>Origin city (year: 1976)<extra></extra>",
         "hovertext": "São Félix do Araguaia<br>Origin city (year: 1976)",
         "legendgroup": "São Félix do Araguaia",
         "marker": {
          "color": "lightblue",
          "size": 10
         },
         "mode": "markers+text",
         "name": "São Félix do Araguaia",
         "showlegend": false,
         "text": [
          "São Félix do Araguaia"
         ],
         "textposition": "middle right",
         "type": "scatter",
         "x": [
          1976
         ],
         "y": [
          127
         ]
        },
        {
         "hoverinfo": "text",
         "hovertemplate": "São Félix do Araguaia<br>Emancipated from Barra do Garças<br>in 1976<extra></extra>",
         "hovertext": "São Félix do Araguaia<br>Emancipated from Barra do Garças<br>in 1976",
         "legendgroup": "São Félix do Araguaia",
         "line": {
          "color": "blue",
          "width": 1.5
         },
         "mode": "lines",
         "name": "São Félix do Araguaia",
         "showlegend": false,
         "type": "scatter",
         "x": [
          1924,
          1976
         ],
         "y": [
          14,
          127
         ]
        },
        {
         "hoverinfo": "text",
         "hovertemplate": "São José do Povo<br>Emancipated from Rondonópolis<br>in 1995<extra></extra>",
         "hovertext": "São José do Povo<br>Emancipated from Rondonópolis<br>in 1995",
         "legendgroup": "São José do Povo",
         "line": {
          "color": "blue",
          "width": 1.5
         },
         "mode": "lines",
         "name": "São José do Povo",
         "showlegend": false,
         "type": "scatter",
         "x": [
          1948,
          1995
         ],
         "y": [
          112,
          128
         ]
        },
        {
         "hoverinfo": "text",
         "hovertemplate": "São José do Povo<br>Emancipated from Rondonópolis<br>in 1995<extra></extra>",
         "hovertext": "São José do Povo<br>Emancipated from Rondonópolis<br>in 1995",
         "legendgroup": "São José do Povo",
         "marker": {
          "color": "darkblue",
          "size": 10
         },
         "mode": "markers+text",
         "name": "São José do Povo",
         "showlegend": false,
         "text": [
          "São José do Povo"
         ],
         "textposition": "middle left",
         "type": "scatter",
         "x": [
          1995
         ],
         "y": [
          128
         ]
        },
        {
         "hoverinfo": "text",
         "hovertemplate": "São José do Rio Claro<br>Emancipated from Diamantino<br>in 1986<extra></extra>",
         "hovertext": "São José do Rio Claro<br>Emancipated from Diamantino<br>in 1986",
         "legendgroup": "São José do Rio Claro",
         "line": {
          "color": "blue",
          "width": 1.5
         },
         "mode": "lines",
         "name": "São José do Rio Claro",
         "showlegend": false,
         "type": "scatter",
         "x": [
          1858,
          1986
         ],
         "y": [
          39,
          129
         ]
        },
        {
         "hoverinfo": "text",
         "hovertemplate": "São José do Rio Claro<br>Emancipated from Diamantino<br>in 1986<extra></extra>",
         "hovertext": "São José do Rio Claro<br>Emancipated from Diamantino<br>in 1986",
         "legendgroup": "São José do Rio Claro",
         "marker": {
          "color": "darkblue",
          "size": 10
         },
         "mode": "markers+text",
         "name": "São José do Rio Claro",
         "showlegend": false,
         "text": [
          "São José do Rio Claro"
         ],
         "textposition": "middle left",
         "type": "scatter",
         "x": [
          1986
         ],
         "y": [
          129
         ]
        },
        {
         "hoverinfo": "text",
         "hovertemplate": "São José do Xingu<br>Emancipated from Confresa<br>in 1995<extra></extra>",
         "hovertext": "São José do Xingu<br>Emancipated from Confresa<br>in 1995",
         "legendgroup": "São José do Xingu",
         "line": {
          "color": "blue",
          "width": 1.5
         },
         "mode": "lines",
         "name": "São José do Xingu",
         "showlegend": false,
         "type": "scatter",
         "x": [
          1993,
          1995
         ],
         "y": [
          33,
          130
         ]
        },
        {
         "hoverinfo": "text",
         "hovertemplate": "São José do Xingu<br>Emancipated from Confresa<br>in 1995<extra></extra>",
         "hovertext": "São José do Xingu<br>Emancipated from Confresa<br>in 1995",
         "legendgroup": "São José do Xingu",
         "marker": {
          "color": "darkblue",
          "size": 10
         },
         "mode": "markers+text",
         "name": "São José do Xingu",
         "showlegend": false,
         "text": [
          "São José do Xingu"
         ],
         "textposition": "middle left",
         "type": "scatter",
         "x": [
          1995
         ],
         "y": [
          130
         ]
        },
        {
         "hoverinfo": "text",
         "hovertemplate": "São José dos Quatro Marcos<br>Origin city (year: 1986)<extra></extra>",
         "hovertext": "São José dos Quatro Marcos<br>Origin city (year: 1986)",
         "legendgroup": "São José dos Quatro Marcos",
         "marker": {
          "color": "lightblue",
          "size": 10
         },
         "mode": "markers+text",
         "name": "São José dos Quatro Marcos",
         "showlegend": false,
         "text": [
          "São José dos Quatro Marcos"
         ],
         "textposition": "middle right",
         "type": "scatter",
         "x": [
          1986
         ],
         "y": [
          131
         ]
        },
        {
         "hoverinfo": "text",
         "hovertemplate": "São José dos Quatro Marcos<br>Emancipated from Cáceres<br>in 1986<extra></extra>",
         "hovertext": "São José dos Quatro Marcos<br>Emancipated from Cáceres<br>in 1986",
         "legendgroup": "São José dos Quatro Marcos",
         "line": {
          "color": "blue",
          "width": 1.5
         },
         "mode": "lines",
         "name": "São José dos Quatro Marcos",
         "showlegend": false,
         "type": "scatter",
         "x": [
          1873,
          1986
         ],
         "y": [
          37,
          131
         ]
        },
        {
         "hoverinfo": "text",
         "hovertemplate": "São Pedro da Cipa<br>Emancipated from Rondonópolis<br>in 1995<extra></extra>",
         "hovertext": "São Pedro da Cipa<br>Emancipated from Rondonópolis<br>in 1995",
         "legendgroup": "São Pedro da Cipa",
         "line": {
          "color": "blue",
          "width": 1.5
         },
         "mode": "lines",
         "name": "São Pedro da Cipa",
         "showlegend": false,
         "type": "scatter",
         "x": [
          1948,
          1995
         ],
         "y": [
          112,
          132
         ]
        },
        {
         "hoverinfo": "text",
         "hovertemplate": "São Pedro da Cipa<br>Emancipated from Rondonópolis<br>in 1995<extra></extra>",
         "hovertext": "São Pedro da Cipa<br>Emancipated from Rondonópolis<br>in 1995",
         "legendgroup": "São Pedro da Cipa",
         "marker": {
          "color": "darkblue",
          "size": 10
         },
         "mode": "markers+text",
         "name": "São Pedro da Cipa",
         "showlegend": false,
         "text": [
          "São Pedro da Cipa"
         ],
         "textposition": "middle left",
         "type": "scatter",
         "x": [
          1995
         ],
         "y": [
          132
         ]
        },
        {
         "hoverinfo": "text",
         "hovertemplate": "Tabaporã<br>Emancipated from Juína<br>in 1995<extra></extra>",
         "hovertext": "Tabaporã<br>Emancipated from Juína<br>in 1995",
         "legendgroup": "Tabaporã",
         "line": {
          "color": "blue",
          "width": 1.5
         },
         "mode": "lines",
         "name": "Tabaporã",
         "showlegend": false,
         "type": "scatter",
         "x": [
          1979,
          1995
         ],
         "y": [
          59,
          133
         ]
        },
        {
         "hoverinfo": "text",
         "hovertemplate": "Tabaporã<br>Emancipated from Juína<br>in 1995<extra></extra>",
         "hovertext": "Tabaporã<br>Emancipated from Juína<br>in 1995",
         "legendgroup": "Tabaporã",
         "marker": {
          "color": "darkblue",
          "size": 10
         },
         "mode": "markers+text",
         "name": "Tabaporã",
         "showlegend": false,
         "text": [
          "Tabaporã"
         ],
         "textposition": "middle left",
         "type": "scatter",
         "x": [
          1995
         ],
         "y": [
          133
         ]
        },
        {
         "hoverinfo": "text",
         "hovertemplate": "Tangará da Serra<br>Origin city (year: 1976)<extra></extra>",
         "hovertext": "Tangará da Serra<br>Origin city (year: 1976)",
         "legendgroup": "Tangará da Serra",
         "marker": {
          "color": "lightblue",
          "size": 10
         },
         "mode": "markers+text",
         "name": "Tangará da Serra",
         "showlegend": false,
         "text": [
          "Tangará da Serra"
         ],
         "textposition": "middle right",
         "type": "scatter",
         "x": [
          1976
         ],
         "y": [
          134
         ]
        },
        {
         "hoverinfo": "text",
         "hovertemplate": "Tangará da Serra<br>Emancipated from Diamantino<br>in 1976<extra></extra>",
         "hovertext": "Tangará da Serra<br>Emancipated from Diamantino<br>in 1976",
         "legendgroup": "Tangará da Serra",
         "line": {
          "color": "blue",
          "width": 1.5
         },
         "mode": "lines",
         "name": "Tangará da Serra",
         "showlegend": false,
         "type": "scatter",
         "x": [
          1858,
          1976
         ],
         "y": [
          39,
          134
         ]
        },
        {
         "hoverinfo": "text",
         "hovertemplate": "Tapurah<br>Origin city (year: 1986)<extra></extra>",
         "hovertext": "Tapurah<br>Origin city (year: 1986)",
         "legendgroup": "Tapurah",
         "marker": {
          "color": "lightblue",
          "size": 10
         },
         "mode": "markers+text",
         "name": "Tapurah",
         "showlegend": false,
         "text": [
          "Tapurah"
         ],
         "textposition": "middle right",
         "type": "scatter",
         "x": [
          1986
         ],
         "y": [
          135
         ]
        },
        {
         "hoverinfo": "text",
         "hovertemplate": "Tapurah<br>Emancipated from Diamantino<br>in 1986<extra></extra>",
         "hovertext": "Tapurah<br>Emancipated from Diamantino<br>in 1986",
         "legendgroup": "Tapurah",
         "line": {
          "color": "blue",
          "width": 1.5
         },
         "mode": "lines",
         "name": "Tapurah",
         "showlegend": false,
         "type": "scatter",
         "x": [
          1858,
          1986
         ],
         "y": [
          39,
          135
         ]
        },
        {
         "hoverinfo": "text",
         "hovertemplate": "Terra Nova do Norte<br>Origin city (year: 1986)<extra></extra>",
         "hovertext": "Terra Nova do Norte<br>Origin city (year: 1986)",
         "legendgroup": "Terra Nova do Norte",
         "marker": {
          "color": "lightblue",
          "size": 10
         },
         "mode": "markers+text",
         "name": "Terra Nova do Norte",
         "showlegend": false,
         "text": [
          "Terra Nova do Norte"
         ],
         "textposition": "middle right",
         "type": "scatter",
         "x": [
          1986
         ],
         "y": [
          136
         ]
        },
        {
         "hoverinfo": "text",
         "hovertemplate": "Terra Nova do Norte<br>Emancipated from Colíder<br>in 1986<extra></extra>",
         "hovertext": "Terra Nova do Norte<br>Emancipated from Colíder<br>in 1986",
         "legendgroup": "Terra Nova do Norte",
         "line": {
          "color": "blue",
          "width": 1.5
         },
         "mode": "lines",
         "name": "Terra Nova do Norte",
         "showlegend": false,
         "type": "scatter",
         "x": [
          1979,
          1986
         ],
         "y": [
          31,
          136
         ]
        },
        {
         "hoverinfo": "text",
         "hovertemplate": "Tesouro<br>Emancipated from Poxoréu<br>in 1948<extra></extra>",
         "hovertext": "Tesouro<br>Emancipated from Poxoréu<br>in 1948",
         "legendgroup": "Tesouro",
         "line": {
          "color": "blue",
          "width": 1.5
         },
         "mode": "lines",
         "name": "Tesouro",
         "showlegend": false,
         "type": "scatter",
         "x": [
          1938,
          1948
         ],
         "y": [
          104,
          137
         ]
        },
        {
         "hoverinfo": "text",
         "hovertemplate": "Tesouro<br>Emancipated from Poxoréu<br>in 1948<extra></extra>",
         "hovertext": "Tesouro<br>Emancipated from Poxoréu<br>in 1948",
         "legendgroup": "Tesouro",
         "marker": {
          "color": "darkblue",
          "size": 10
         },
         "mode": "markers+text",
         "name": "Tesouro",
         "showlegend": false,
         "text": [
          "Tesouro"
         ],
         "textposition": "middle left",
         "type": "scatter",
         "x": [
          1948
         ],
         "y": [
          137
         ]
        },
        {
         "hoverinfo": "text",
         "hovertemplate": "Torixoréu<br>Origin city (year: 1953)<extra></extra>",
         "hovertext": "Torixoréu<br>Origin city (year: 1953)",
         "legendgroup": "Torixoréu",
         "marker": {
          "color": "lightblue",
          "size": 10
         },
         "mode": "markers+text",
         "name": "Torixoréu",
         "showlegend": false,
         "text": [
          "Torixoréu"
         ],
         "textposition": "middle right",
         "type": "scatter",
         "x": [
          1953
         ],
         "y": [
          138
         ]
        },
        {
         "hoverinfo": "text",
         "hovertemplate": "Torixoréu<br>Emancipated from Barra do Garças<br>in 1953<extra></extra>",
         "hovertext": "Torixoréu<br>Emancipated from Barra do Garças<br>in 1953",
         "legendgroup": "Torixoréu",
         "line": {
          "color": "blue",
          "width": 1.5
         },
         "mode": "lines",
         "name": "Torixoréu",
         "showlegend": false,
         "type": "scatter",
         "x": [
          1924,
          1953
         ],
         "y": [
          14,
          138
         ]
        },
        {
         "hoverinfo": "text",
         "hovertemplate": "União do Sul<br>Origin city (year: 1995)<extra></extra>",
         "hovertext": "União do Sul<br>Origin city (year: 1995)",
         "legendgroup": "União do Sul",
         "marker": {
          "color": "lightblue",
          "size": 10
         },
         "mode": "markers+text",
         "name": "União do Sul",
         "showlegend": false,
         "text": [
          "União do Sul"
         ],
         "textposition": "middle right",
         "type": "scatter",
         "x": [
          1995
         ],
         "y": [
          139
         ]
        },
        {
         "hoverinfo": "text",
         "hovertemplate": "União do Sul<br>Emancipated from Sinop<br>in 1995<extra></extra>",
         "hovertext": "União do Sul<br>Emancipated from Sinop<br>in 1995",
         "legendgroup": "União do Sul",
         "line": {
          "color": "blue",
          "width": 1.5
         },
         "mode": "lines",
         "name": "União do Sul",
         "showlegend": false,
         "type": "scatter",
         "x": [
          1979,
          1995
         ],
         "y": [
          125,
          139
         ]
        },
        {
         "hoverinfo": "text",
         "hovertemplate": "Vale de São Domingos<br>Emancipated from Pontes e Lacerda<br>in 1995<extra></extra>",
         "hovertext": "Vale de São Domingos<br>Emancipated from Pontes e Lacerda<br>in 1995",
         "legendgroup": "Vale de São Domingos",
         "line": {
          "color": "blue",
          "width": 1.5
         },
         "mode": "lines",
         "name": "Vale de São Domingos",
         "showlegend": false,
         "type": "scatter",
         "x": [
          1953,
          1995
         ],
         "y": [
          99,
          140
         ]
        },
        {
         "hoverinfo": "text",
         "hovertemplate": "Vale de São Domingos<br>Emancipated from Pontes e Lacerda<br>in 1995<extra></extra>",
         "hovertext": "Vale de São Domingos<br>Emancipated from Pontes e Lacerda<br>in 1995",
         "legendgroup": "Vale de São Domingos",
         "marker": {
          "color": "darkblue",
          "size": 10
         },
         "mode": "markers+text",
         "name": "Vale de São Domingos",
         "showlegend": false,
         "text": [
          "Vale de São Domingos"
         ],
         "textposition": "middle left",
         "type": "scatter",
         "x": [
          1995
         ],
         "y": [
          140
         ]
        },
        {
         "hoverinfo": "text",
         "hovertemplate": "Vera<br>Origin city (year: 1986)<extra></extra>",
         "hovertext": "Vera<br>Origin city (year: 1986)",
         "legendgroup": "Vera",
         "marker": {
          "color": "lightblue",
          "size": 10
         },
         "mode": "markers+text",
         "name": "Vera",
         "showlegend": false,
         "text": [
          "Vera"
         ],
         "textposition": "middle right",
         "type": "scatter",
         "x": [
          1986
         ],
         "y": [
          141
         ]
        },
        {
         "hoverinfo": "text",
         "hovertemplate": "Vera<br>Emancipated from Feliz Natal<br>in 1986<extra></extra>",
         "hovertext": "Vera<br>Emancipated from Feliz Natal<br>in 1986",
         "legendgroup": "Vera",
         "line": {
          "color": "blue",
          "width": 1.5
         },
         "mode": "lines",
         "name": "Vera",
         "showlegend": false,
         "type": "scatter",
         "x": [
          1995,
          1986
         ],
         "y": [
          41,
          141
         ]
        },
        {
         "hoverinfo": "text",
         "hovertemplate": "Verá<br>Origin city (year: 1986)<extra></extra>",
         "hovertext": "Verá<br>Origin city (year: 1986)",
         "legendgroup": "Verá",
         "marker": {
          "color": "lightblue",
          "size": 10
         },
         "mode": "markers+text",
         "name": "Verá",
         "showlegend": false,
         "text": [
          "Verá"
         ],
         "textposition": "middle right",
         "type": "scatter",
         "x": [
          1986
         ],
         "y": [
          142
         ]
        },
        {
         "hoverinfo": "text",
         "hovertemplate": "Vila Bela da Santíssima Trindade<br>Origin city (year: 1752)<extra></extra>",
         "hovertext": "Vila Bela da Santíssima Trindade<br>Origin city (year: 1752)",
         "legendgroup": "Vila Bela da Santíssima Trindade",
         "marker": {
          "color": "lightblue",
          "size": 10
         },
         "mode": "markers+text",
         "name": "Vila Bela da Santíssima Trindade",
         "showlegend": false,
         "text": [
          "Vila Bela da Santíssima Trindade"
         ],
         "textposition": "middle right",
         "type": "scatter",
         "x": [
          1752
         ],
         "y": [
          143
         ]
        },
        {
         "hoverinfo": "text",
         "hovertemplate": "Vila Bela da Santíssima Trindade<br>Emancipated from None (founded in 1752)<br>in 1752<extra></extra>",
         "hovertext": "Vila Bela da Santíssima Trindade<br>Emancipated from None (founded in 1752)<br>in 1752",
         "legendgroup": "Vila Bela da Santíssima Trindade",
         "line": {
          "color": "blue",
          "width": 1.5
         },
         "mode": "lines",
         "name": "Vila Bela da Santíssima Trindade",
         "showlegend": false,
         "type": "scatter",
         "x": [
          1752,
          1752
         ],
         "y": [
          68,
          143
         ]
        },
        {
         "hoverinfo": "text",
         "hovertemplate": "Vila Rica<br>Emancipated from São Félix do Araguaia<br>in 1995<extra></extra>",
         "hovertext": "Vila Rica<br>Emancipated from São Félix do Araguaia<br>in 1995",
         "legendgroup": "Vila Rica",
         "line": {
          "color": "blue",
          "width": 1.5
         },
         "mode": "lines",
         "name": "Vila Rica",
         "showlegend": false,
         "type": "scatter",
         "x": [
          1976,
          1995
         ],
         "y": [
          127,
          144
         ]
        },
        {
         "hoverinfo": "text",
         "hovertemplate": "Vila Rica<br>Emancipated from São Félix do Araguaia<br>in 1995<extra></extra>",
         "hovertext": "Vila Rica<br>Emancipated from São Félix do Araguaia<br>in 1995",
         "legendgroup": "Vila Rica",
         "marker": {
          "color": "darkblue",
          "size": 10
         },
         "mode": "markers+text",
         "name": "Vila Rica",
         "showlegend": false,
         "text": [
          "Vila Rica"
         ],
         "textposition": "middle left",
         "type": "scatter",
         "x": [
          1995
         ],
         "y": [
          144
         ]
        },
        {
         "hoverinfo": "text",
         "hovertemplate": "Várzea Grande<br>Emancipated from Cuiabá<br>in 1948<extra></extra>",
         "hovertext": "Várzea Grande<br>Emancipated from Cuiabá<br>in 1948",
         "legendgroup": "Várzea Grande",
         "line": {
          "color": "blue",
          "width": 1.5
         },
         "mode": "lines",
         "name": "Várzea Grande",
         "showlegend": false,
         "type": "scatter",
         "x": [
          1719,
          1948
         ],
         "y": [
          35,
          145
         ]
        },
        {
         "hoverinfo": "text",
         "hovertemplate": "Várzea Grande<br>Emancipated from Cuiabá<br>in 1948<extra></extra>",
         "hovertext": "Várzea Grande<br>Emancipated from Cuiabá<br>in 1948",
         "legendgroup": "Várzea Grande",
         "marker": {
          "color": "darkblue",
          "size": 10
         },
         "mode": "markers+text",
         "name": "Várzea Grande",
         "showlegend": false,
         "text": [
          "Várzea Grande"
         ],
         "textposition": "middle left",
         "type": "scatter",
         "x": [
          1948
         ],
         "y": [
          145
         ]
        },
        {
         "hoverinfo": "text",
         "hovertemplate": "Água Boa<br>Emancipated from Canarana<br>in 1978<extra></extra>",
         "hovertext": "Água Boa<br>Emancipated from Canarana<br>in 1978",
         "legendgroup": "Água Boa",
         "line": {
          "color": "blue",
          "width": 1.5
         },
         "mode": "lines",
         "name": "Água Boa",
         "showlegend": false,
         "type": "scatter",
         "x": [
          1975,
          1978
         ],
         "y": [
          24,
          146
         ]
        },
        {
         "hoverinfo": "text",
         "hovertemplate": "Água Boa<br>Emancipated from Canarana<br>in 1978<extra></extra>",
         "hovertext": "Água Boa<br>Emancipated from Canarana<br>in 1978",
         "legendgroup": "Água Boa",
         "marker": {
          "color": "darkblue",
          "size": 10
         },
         "mode": "markers+text",
         "name": "Água Boa",
         "showlegend": false,
         "text": [
          "Água Boa"
         ],
         "textposition": "middle left",
         "type": "scatter",
         "x": [
          1978
         ],
         "y": [
          146
         ]
        }
       ],
       "layout": {
        "annotations": [
         {
          "font": {
           "color": "black",
           "size": 12
          },
          "showarrow": false,
          "text": "<b>Early Foundations</b>",
          "x": 1775,
          "xref": "x",
          "y": -4.088,
          "yref": "y"
         },
         {
          "font": {
           "color": "black",
           "size": 12
          },
          "showarrow": false,
          "text": "<b>First Emancipation Wave</b>",
          "x": 1875,
          "xref": "x",
          "y": -4.088,
          "yref": "y"
         },
         {
          "font": {
           "color": "black",
           "size": 12
          },
          "showarrow": false,
          "text": "<b>Mid-Century Expansion</b>",
          "x": 1955,
          "xref": "x",
          "y": -4.088,
          "yref": "y"
         },
         {
          "font": {
           "color": "black",
           "size": 12
          },
          "showarrow": false,
          "text": "<b>Post-1970 Expansion</b>",
          "x": 1987.5,
          "xref": "x",
          "y": -4.088,
          "yref": "y"
         },
         {
          "font": {
           "color": "black",
           "size": 12
          },
          "showarrow": false,
          "text": "<b>Recent Formations</b>",
          "x": 2015,
          "xref": "x",
          "y": -4.088,
          "yref": "y"
         },
         {
          "align": "center",
          "font": {
           "size": 11
          },
          "showarrow": false,
          "text": "<b>Interactive Features:</b> Drag to pan, double-click to zoom in, use scroll wheel to zoom, use the dropdown for preset views or to select a city, or use the toolbar in the top-right",
          "x": 0.5,
          "xref": "paper",
          "y": 1.06,
          "yref": "paper"
         }
        ],
        "dragmode": "zoom",
        "height": 1470,
        "hoverlabel": {
         "bgcolor": "white",
         "font": {
          "family": "Arial",
          "size": 12
         }
        },
        "hovermode": "closest",
        "margin": {
         "b": 50,
         "l": 200,
         "r": 50,
         "t": 100
        },
        "modebar": {
         "add": [
          "zoomIn",
          "zoomOut",
          "resetScale"
         ]
        },
        "plot_bgcolor": "rgba(240, 240, 240, 0.8)",
        "shapes": [
         {
          "fillcolor": "rgba(255, 200, 200, 0.2)",
          "layer": "below",
          "line": {
           "width": 0
          },
          "opacity": 1,
          "type": "rect",
          "x0": 1700,
          "x1": 1850,
          "y0": -7.300000000000001,
          "y1": 153.3
         },
         {
          "fillcolor": "rgba(200, 255, 200, 0.2)",
          "layer": "below",
          "line": {
           "width": 0
          },
          "opacity": 1,
          "type": "rect",
          "x0": 1850,
          "x1": 1900,
          "y0": -7.300000000000001,
          "y1": 153.3
         },
         {
          "fillcolor": "rgba(200, 200, 255, 0.2)",
          "layer": "below",
          "line": {
           "width": 0
          },
          "opacity": 1,
          "type": "rect",
          "x0": 1940,
          "x1": 1970,
          "y0": -7.300000000000001,
          "y1": 153.3
         },
         {
          "fillcolor": "rgba(255, 255, 200, 0.2)",
          "layer": "below",
          "line": {
           "width": 0
          },
          "opacity": 1,
          "type": "rect",
          "x0": 1970,
          "x1": 2005,
          "y0": -7.300000000000001,
          "y1": 153.3
         },
         {
          "fillcolor": "rgba(255, 200, 255, 0.2)",
          "layer": "below",
          "line": {
           "width": 0
          },
          "opacity": 1,
          "type": "rect",
          "x0": 2005,
          "x1": 2025,
          "y0": -7.300000000000001,
          "y1": 153.3
         }
        ],
        "showlegend": false,
        "template": {
         "data": {
          "bar": [
           {
            "error_x": {
             "color": "#2a3f5f"
            },
            "error_y": {
             "color": "#2a3f5f"
            },
            "marker": {
             "line": {
              "color": "#E5ECF6",
              "width": 0.5
             },
             "pattern": {
              "fillmode": "overlay",
              "size": 10,
              "solidity": 0.2
             }
            },
            "type": "bar"
           }
          ],
          "barpolar": [
           {
            "marker": {
             "line": {
              "color": "#E5ECF6",
              "width": 0.5
             },
             "pattern": {
              "fillmode": "overlay",
              "size": 10,
              "solidity": 0.2
             }
            },
            "type": "barpolar"
           }
          ],
          "carpet": [
           {
            "aaxis": {
             "endlinecolor": "#2a3f5f",
             "gridcolor": "white",
             "linecolor": "white",
             "minorgridcolor": "white",
             "startlinecolor": "#2a3f5f"
            },
            "baxis": {
             "endlinecolor": "#2a3f5f",
             "gridcolor": "white",
             "linecolor": "white",
             "minorgridcolor": "white",
             "startlinecolor": "#2a3f5f"
            },
            "type": "carpet"
           }
          ],
          "choropleth": [
           {
            "colorbar": {
             "outlinewidth": 0,
             "ticks": ""
            },
            "type": "choropleth"
           }
          ],
          "contour": [
           {
            "colorbar": {
             "outlinewidth": 0,
             "ticks": ""
            },
            "colorscale": [
             [
              0,
              "#0d0887"
             ],
             [
              0.1111111111111111,
              "#46039f"
             ],
             [
              0.2222222222222222,
              "#7201a8"
             ],
             [
              0.3333333333333333,
              "#9c179e"
             ],
             [
              0.4444444444444444,
              "#bd3786"
             ],
             [
              0.5555555555555556,
              "#d8576b"
             ],
             [
              0.6666666666666666,
              "#ed7953"
             ],
             [
              0.7777777777777778,
              "#fb9f3a"
             ],
             [
              0.8888888888888888,
              "#fdca26"
             ],
             [
              1,
              "#f0f921"
             ]
            ],
            "type": "contour"
           }
          ],
          "contourcarpet": [
           {
            "colorbar": {
             "outlinewidth": 0,
             "ticks": ""
            },
            "type": "contourcarpet"
           }
          ],
          "heatmap": [
           {
            "colorbar": {
             "outlinewidth": 0,
             "ticks": ""
            },
            "colorscale": [
             [
              0,
              "#0d0887"
             ],
             [
              0.1111111111111111,
              "#46039f"
             ],
             [
              0.2222222222222222,
              "#7201a8"
             ],
             [
              0.3333333333333333,
              "#9c179e"
             ],
             [
              0.4444444444444444,
              "#bd3786"
             ],
             [
              0.5555555555555556,
              "#d8576b"
             ],
             [
              0.6666666666666666,
              "#ed7953"
             ],
             [
              0.7777777777777778,
              "#fb9f3a"
             ],
             [
              0.8888888888888888,
              "#fdca26"
             ],
             [
              1,
              "#f0f921"
             ]
            ],
            "type": "heatmap"
           }
          ],
          "histogram": [
           {
            "marker": {
             "pattern": {
              "fillmode": "overlay",
              "size": 10,
              "solidity": 0.2
             }
            },
            "type": "histogram"
           }
          ],
          "histogram2d": [
           {
            "colorbar": {
             "outlinewidth": 0,
             "ticks": ""
            },
            "colorscale": [
             [
              0,
              "#0d0887"
             ],
             [
              0.1111111111111111,
              "#46039f"
             ],
             [
              0.2222222222222222,
              "#7201a8"
             ],
             [
              0.3333333333333333,
              "#9c179e"
             ],
             [
              0.4444444444444444,
              "#bd3786"
             ],
             [
              0.5555555555555556,
              "#d8576b"
             ],
             [
              0.6666666666666666,
              "#ed7953"
             ],
             [
              0.7777777777777778,
              "#fb9f3a"
             ],
             [
              0.8888888888888888,
              "#fdca26"
             ],
             [
              1,
              "#f0f921"
             ]
            ],
            "type": "histogram2d"
           }
          ],
          "histogram2dcontour": [
           {
            "colorbar": {
             "outlinewidth": 0,
             "ticks": ""
            },
            "colorscale": [
             [
              0,
              "#0d0887"
             ],
             [
              0.1111111111111111,
              "#46039f"
             ],
             [
              0.2222222222222222,
              "#7201a8"
             ],
             [
              0.3333333333333333,
              "#9c179e"
             ],
             [
              0.4444444444444444,
              "#bd3786"
             ],
             [
              0.5555555555555556,
              "#d8576b"
             ],
             [
              0.6666666666666666,
              "#ed7953"
             ],
             [
              0.7777777777777778,
              "#fb9f3a"
             ],
             [
              0.8888888888888888,
              "#fdca26"
             ],
             [
              1,
              "#f0f921"
             ]
            ],
            "type": "histogram2dcontour"
           }
          ],
          "mesh3d": [
           {
            "colorbar": {
             "outlinewidth": 0,
             "ticks": ""
            },
            "type": "mesh3d"
           }
          ],
          "parcoords": [
           {
            "line": {
             "colorbar": {
              "outlinewidth": 0,
              "ticks": ""
             }
            },
            "type": "parcoords"
           }
          ],
          "pie": [
           {
            "automargin": true,
            "type": "pie"
           }
          ],
          "scatter": [
           {
            "fillpattern": {
             "fillmode": "overlay",
             "size": 10,
             "solidity": 0.2
            },
            "type": "scatter"
           }
          ],
          "scatter3d": [
           {
            "line": {
             "colorbar": {
              "outlinewidth": 0,
              "ticks": ""
             }
            },
            "marker": {
             "colorbar": {
              "outlinewidth": 0,
              "ticks": ""
             }
            },
            "type": "scatter3d"
           }
          ],
          "scattercarpet": [
           {
            "marker": {
             "colorbar": {
              "outlinewidth": 0,
              "ticks": ""
             }
            },
            "type": "scattercarpet"
           }
          ],
          "scattergeo": [
           {
            "marker": {
             "colorbar": {
              "outlinewidth": 0,
              "ticks": ""
             }
            },
            "type": "scattergeo"
           }
          ],
          "scattergl": [
           {
            "marker": {
             "colorbar": {
              "outlinewidth": 0,
              "ticks": ""
             }
            },
            "type": "scattergl"
           }
          ],
          "scattermap": [
           {
            "marker": {
             "colorbar": {
              "outlinewidth": 0,
              "ticks": ""
             }
            },
            "type": "scattermap"
           }
          ],
          "scattermapbox": [
           {
            "marker": {
             "colorbar": {
              "outlinewidth": 0,
              "ticks": ""
             }
            },
            "type": "scattermapbox"
           }
          ],
          "scatterpolar": [
           {
            "marker": {
             "colorbar": {
              "outlinewidth": 0,
              "ticks": ""
             }
            },
            "type": "scatterpolar"
           }
          ],
          "scatterpolargl": [
           {
            "marker": {
             "colorbar": {
              "outlinewidth": 0,
              "ticks": ""
             }
            },
            "type": "scatterpolargl"
           }
          ],
          "scatterternary": [
           {
            "marker": {
             "colorbar": {
              "outlinewidth": 0,
              "ticks": ""
             }
            },
            "type": "scatterternary"
           }
          ],
          "surface": [
           {
            "colorbar": {
             "outlinewidth": 0,
             "ticks": ""
            },
            "colorscale": [
             [
              0,
              "#0d0887"
             ],
             [
              0.1111111111111111,
              "#46039f"
             ],
             [
              0.2222222222222222,
              "#7201a8"
             ],
             [
              0.3333333333333333,
              "#9c179e"
             ],
             [
              0.4444444444444444,
              "#bd3786"
             ],
             [
              0.5555555555555556,
              "#d8576b"
             ],
             [
              0.6666666666666666,
              "#ed7953"
             ],
             [
              0.7777777777777778,
              "#fb9f3a"
             ],
             [
              0.8888888888888888,
              "#fdca26"
             ],
             [
              1,
              "#f0f921"
             ]
            ],
            "type": "surface"
           }
          ],
          "table": [
           {
            "cells": {
             "fill": {
              "color": "#EBF0F8"
             },
             "line": {
              "color": "white"
             }
            },
            "header": {
             "fill": {
              "color": "#C8D4E3"
             },
             "line": {
              "color": "white"
             }
            },
            "type": "table"
           }
          ]
         },
         "layout": {
          "annotationdefaults": {
           "arrowcolor": "#2a3f5f",
           "arrowhead": 0,
           "arrowwidth": 1
          },
          "autotypenumbers": "strict",
          "coloraxis": {
           "colorbar": {
            "outlinewidth": 0,
            "ticks": ""
           }
          },
          "colorscale": {
           "diverging": [
            [
             0,
             "#8e0152"
            ],
            [
             0.1,
             "#c51b7d"
            ],
            [
             0.2,
             "#de77ae"
            ],
            [
             0.3,
             "#f1b6da"
            ],
            [
             0.4,
             "#fde0ef"
            ],
            [
             0.5,
             "#f7f7f7"
            ],
            [
             0.6,
             "#e6f5d0"
            ],
            [
             0.7,
             "#b8e186"
            ],
            [
             0.8,
             "#7fbc41"
            ],
            [
             0.9,
             "#4d9221"
            ],
            [
             1,
             "#276419"
            ]
           ],
           "sequential": [
            [
             0,
             "#0d0887"
            ],
            [
             0.1111111111111111,
             "#46039f"
            ],
            [
             0.2222222222222222,
             "#7201a8"
            ],
            [
             0.3333333333333333,
             "#9c179e"
            ],
            [
             0.4444444444444444,
             "#bd3786"
            ],
            [
             0.5555555555555556,
             "#d8576b"
            ],
            [
             0.6666666666666666,
             "#ed7953"
            ],
            [
             0.7777777777777778,
             "#fb9f3a"
            ],
            [
             0.8888888888888888,
             "#fdca26"
            ],
            [
             1,
             "#f0f921"
            ]
           ],
           "sequentialminus": [
            [
             0,
             "#0d0887"
            ],
            [
             0.1111111111111111,
             "#46039f"
            ],
            [
             0.2222222222222222,
             "#7201a8"
            ],
            [
             0.3333333333333333,
             "#9c179e"
            ],
            [
             0.4444444444444444,
             "#bd3786"
            ],
            [
             0.5555555555555556,
             "#d8576b"
            ],
            [
             0.6666666666666666,
             "#ed7953"
            ],
            [
             0.7777777777777778,
             "#fb9f3a"
            ],
            [
             0.8888888888888888,
             "#fdca26"
            ],
            [
             1,
             "#f0f921"
            ]
           ]
          },
          "colorway": [
           "#636efa",
           "#EF553B",
           "#00cc96",
           "#ab63fa",
           "#FFA15A",
           "#19d3f3",
           "#FF6692",
           "#B6E880",
           "#FF97FF",
           "#FECB52"
          ],
          "font": {
           "color": "#2a3f5f"
          },
          "geo": {
           "bgcolor": "white",
           "lakecolor": "white",
           "landcolor": "#E5ECF6",
           "showlakes": true,
           "showland": true,
           "subunitcolor": "white"
          },
          "hoverlabel": {
           "align": "left"
          },
          "hovermode": "closest",
          "mapbox": {
           "style": "light"
          },
          "paper_bgcolor": "white",
          "plot_bgcolor": "#E5ECF6",
          "polar": {
           "angularaxis": {
            "gridcolor": "white",
            "linecolor": "white",
            "ticks": ""
           },
           "bgcolor": "#E5ECF6",
           "radialaxis": {
            "gridcolor": "white",
            "linecolor": "white",
            "ticks": ""
           }
          },
          "scene": {
           "xaxis": {
            "backgroundcolor": "#E5ECF6",
            "gridcolor": "white",
            "gridwidth": 2,
            "linecolor": "white",
            "showbackground": true,
            "ticks": "",
            "zerolinecolor": "white"
           },
           "yaxis": {
            "backgroundcolor": "#E5ECF6",
            "gridcolor": "white",
            "gridwidth": 2,
            "linecolor": "white",
            "showbackground": true,
            "ticks": "",
            "zerolinecolor": "white"
           },
           "zaxis": {
            "backgroundcolor": "#E5ECF6",
            "gridcolor": "white",
            "gridwidth": 2,
            "linecolor": "white",
            "showbackground": true,
            "ticks": "",
            "zerolinecolor": "white"
           }
          },
          "shapedefaults": {
           "line": {
            "color": "#2a3f5f"
           }
          },
          "ternary": {
           "aaxis": {
            "gridcolor": "white",
            "linecolor": "white",
            "ticks": ""
           },
           "baxis": {
            "gridcolor": "white",
            "linecolor": "white",
            "ticks": ""
           },
           "bgcolor": "#E5ECF6",
           "caxis": {
            "gridcolor": "white",
            "linecolor": "white",
            "ticks": ""
           }
          },
          "title": {
           "x": 0.05
          },
          "xaxis": {
           "automargin": true,
           "gridcolor": "white",
           "linecolor": "white",
           "ticks": "",
           "title": {
            "standoff": 15
           },
           "zerolinecolor": "white",
           "zerolinewidth": 2
          },
          "yaxis": {
           "automargin": true,
           "gridcolor": "white",
           "linecolor": "white",
           "ticks": "",
           "title": {
            "standoff": 15
           },
           "zerolinecolor": "white",
           "zerolinewidth": 2
          }
         }
        },
        "title": {
         "text": "<b>Timeline of Municipal Emancipation in Mato Grosso</b>"
        },
        "updatemenus": [
         {
          "bgcolor": "white",
          "bordercolor": "gray",
          "borderwidth": 1,
          "buttons": [
           {
            "args": [
             {
              "xaxis.range": [
               1700,
               2030
              ],
              "yaxis.range": [
               -7.300000000000001,
               153.3
              ]
             }
            ],
            "label": "Reset View",
            "method": "relayout"
           },
           {
            "args": [
             {
              "xaxis.range": [
               1700,
               1850
              ],
              "yaxis.range": [
               -7.300000000000001,
               153.3
              ]
             }
            ],
            "label": "Zoom to Early Foundations",
            "method": "relayout"
           },
           {
            "args": [
             {
              "xaxis.range": [
               1930,
               2040
              ]
             }
            ],
            "label": "Zoom to Modern Era (1930+)",
            "method": "relayout"
           },
           {
            "args": [
             {
              "xaxis.range": [
               1970,
               1990
              ]
             }
            ],
            "label": "Zoom to 1970s/80s Boom",
            "method": "relayout"
           },
           {
            "args": [
             {
              "xaxis.range": [
               1990,
               2005
              ]
             }
            ],
            "label": "Zoom to 1990s Wave",
            "method": "relayout"
           },
           {
            "args": [
             {
              "xaxis.range": [
               1933,
               1973
              ],
              "yaxis.range": [
               -5,
               5
              ]
             }
            ],
            "label": "Acorizal",
            "method": "relayout"
           },
           {
            "args": [
             {
              "xaxis.range": [
               1959,
               1999
              ],
              "yaxis.range": [
               -4,
               6
              ]
             }
            ],
            "label": "Alta Floresta",
            "method": "relayout"
           },
           {
            "args": [
             {
              "xaxis.range": [
               1928,
               1968
              ],
              "yaxis.range": [
               -3,
               7
              ]
             }
            ],
            "label": "Alto Araguaia",
            "method": "relayout"
           },
           {
            "args": [
             {
              "xaxis.range": [
               1975,
               2015
              ],
              "yaxis.range": [
               -2,
               8
              ]
             }
            ],
            "label": "Alto Boa Vista",
            "method": "relayout"
           },
           {
            "args": [
             {
              "xaxis.range": [
               1933,
               1973
              ],
              "yaxis.range": [
               -1,
               9
              ]
             }
            ],
            "label": "Alto Garças",
            "method": "relayout"
           },
           {
            "args": [
             {
              "xaxis.range": [
               1928,
               1968
              ],
              "yaxis.range": [
               0,
               10
              ]
             }
            ],
            "label": "Alto Paraguai",
            "method": "relayout"
           },
           {
            "args": [
             {
              "xaxis.range": [
               1967,
               2007
              ],
              "yaxis.range": [
               1,
               11
              ]
             }
            ],
            "label": "Alto Taquari",
            "method": "relayout"
           },
           {
            "args": [
             {
              "xaxis.range": [
               1968,
               2008
              ],
              "yaxis.range": [
               2,
               12
              ]
             }
            ],
            "label": "Apiacás",
            "method": "relayout"
           },
           {
            "args": [
             {
              "xaxis.range": [
               1943,
               1983
              ],
              "yaxis.range": [
               3,
               13
              ]
             }
            ],
            "label": "Araguaiana",
            "method": "relayout"
           },
           {
            "args": [
             {
              "xaxis.range": [
               1943,
               1983
              ],
              "yaxis.range": [
               4,
               14
              ]
             }
            ],
            "label": "Araguainha",
            "method": "relayout"
           },
           {
            "args": [
             {
              "xaxis.range": [
               1960,
               2000
              ],
              "yaxis.range": [
               5,
               15
              ]
             }
            ],
            "label": "Araputanga",
            "method": "relayout"
           },
           {
            "args": [
             {
              "xaxis.range": [
               1943,
               1983
              ],
              "yaxis.range": [
               6,
               16
              ]
             }
            ],
            "label": "Arenápolis",
            "method": "relayout"
           },
           {
            "args": [
             {
              "xaxis.range": [
               1968,
               2008
              ],
              "yaxis.range": [
               7,
               17
              ]
             }
            ],
            "label": "Aripuanã",
            "method": "relayout"
           },
           {
            "args": [
             {
              "xaxis.range": [
               1928,
               1968
              ],
              "yaxis.range": [
               8,
               18
              ]
             }
            ],
            "label": "Barra do Bugres",
            "method": "relayout"
           },
           {
            "args": [
             {
              "xaxis.range": [
               1904,
               1944
              ],
              "yaxis.range": [
               9,
               19
              ]
             }
            ],
            "label": "Barra do Garças",
            "method": "relayout"
           },
           {
            "args": [
             {
              "xaxis.range": [
               1918,
               1958
              ],
              "yaxis.range": [
               10,
               20
              ]
             }
            ],
            "label": "Barão de Melgaço",
            "method": "relayout"
           },
           {
            "args": [
             {
              "xaxis.range": [
               2003,
               2043
              ],
              "yaxis.range": [
               11,
               21
              ]
             }
            ],
            "label": "Boa Esperança do Norte",
            "method": "relayout"
           },
           {
            "args": [
             {
              "xaxis.range": [
               1975,
               2015
              ],
              "yaxis.range": [
               12,
               22
              ]
             }
            ],
            "label": "Bom Jesus do Araguaia",
            "method": "relayout"
           },
           {
            "args": [
             {
              "xaxis.range": [
               1974,
               2014
              ],
              "yaxis.range": [
               13,
               23
              ]
             }
            ],
            "label": "Brasnorte",
            "method": "relayout"
           },
           {
            "args": [
             {
              "xaxis.range": [
               1960,
               2000
              ],
              "yaxis.range": [
               14,
               24
              ]
             }
            ],
            "label": "Campinápolis",
            "method": "relayout"
           },
           {
            "args": [
             {
              "xaxis.range": [
               1974,
               2014
              ],
              "yaxis.range": [
               15,
               25
              ]
             }
            ],
            "label": "Campo Novo do Parecis",
            "method": "relayout"
           },
           {
            "args": [
             {
              "xaxis.range": [
               1968,
               2008
              ],
              "yaxis.range": [
               16,
               26
              ]
             }
            ],
            "label": "Campo Verde",
            "method": "relayout"
           },
           {
            "args": [
             {
              "xaxis.range": [
               1974,
               2014
              ],
              "yaxis.range": [
               17,
               27
              ]
             }
            ],
            "label": "Campos de Júlio",
            "method": "relayout"
           },
           {
            "args": [
             {
              "xaxis.range": [
               1975,
               2015
              ],
              "yaxis.range": [
               18,
               28
              ]
             }
            ],
            "label": "Canabrava do Norte",
            "method": "relayout"
           },
           {
            "args": [
             {
              "xaxis.range": [
               1955,
               1995
              ],
              "yaxis.range": [
               19,
               29
              ]
             }
            ],
            "label": "Canarana",
            "method": "relayout"
           },
           {
            "args": [
             {
              "xaxis.range": [
               1971,
               2011
              ],
              "yaxis.range": [
               20,
               30
              ]
             }
            ],
            "label": "Carlinda",
            "method": "relayout"
           },
           {
            "args": [
             {
              "xaxis.range": [
               1974,
               2014
              ],
              "yaxis.range": [
               21,
               31
              ]
             }
            ],
            "label": "Castanheira",
            "method": "relayout"
           },
           {
            "args": [
             {
              "xaxis.range": [
               1933,
               1973
              ],
              "yaxis.range": [
               22,
               32
              ]
             }
            ],
            "label": "Chapada dos Guimarães",
            "method": "relayout"
           },
           {
            "args": [
             {
              "xaxis.range": [
               1974,
               2014
              ],
              "yaxis.range": [
               23,
               33
              ]
             }
            ],
            "label": "Cláudia",
            "method": "relayout"
           },
           {
            "args": [
             {
              "xaxis.range": [
               1965,
               2005
              ],
              "yaxis.range": [
               24,
               34
              ]
             }
            ],
            "label": "Cocalinho",
            "method": "relayout"
           },
           {
            "args": [
             {
              "xaxis.range": [
               1978,
               2018
              ],
              "yaxis.range": [
               25,
               35
              ]
             }
            ],
            "label": "Colniza",
            "method": "relayout"
           },
           {
            "args": [
             {
              "xaxis.range": [
               1959,
               1999
              ],
              "yaxis.range": [
               26,
               36
              ]
             }
            ],
            "label": "Colíder",
            "method": "relayout"
           },
           {
            "args": [
             {
              "xaxis.range": [
               1973,
               2013
              ],
              "yaxis.range": [
               27,
               37
              ]
             }
            ],
            "label": "Comodoro",
            "method": "relayout"
           },
           {
            "args": [
             {
              "xaxis.range": [
               1973,
               2013
              ],
              "yaxis.range": [
               28,
               38
              ]
             }
            ],
            "label": "Confresa",
            "method": "relayout"
           },
           {
            "args": [
             {
              "xaxis.range": [
               1975,
               2015
              ],
              "yaxis.range": [
               29,
               39
              ]
             }
            ],
            "label": "Cotriguaçu",
            "method": "relayout"
           },
           {
            "args": [
             {
              "xaxis.range": [
               1699,
               1739
              ],
              "yaxis.range": [
               30,
               40
              ]
             }
            ],
            "label": "Cuiabá",
            "method": "relayout"
           },
           {
            "args": [
             {
              "xaxis.range": [
               1975,
               2015
              ],
              "yaxis.range": [
               31,
               41
              ]
             }
            ],
            "label": "Curvelândia",
            "method": "relayout"
           },
           {
            "args": [
             {
              "xaxis.range": [
               1853,
               1893
              ],
              "yaxis.range": [
               32,
               42
              ]
             }
            ],
            "label": "Cáceres",
            "method": "relayout"
           },
           {
            "args": [
             {
              "xaxis.range": [
               1973,
               2013
              ],
              "yaxis.range": [
               33,
               43
              ]
             }
            ],
            "label": "Denise",
            "method": "relayout"
           },
           {
            "args": [
             {
              "xaxis.range": [
               1838,
               1878
              ],
              "yaxis.range": [
               34,
               44
              ]
             }
            ],
            "label": "Diamantino",
            "method": "relayout"
           },
           {
            "args": [
             {
              "xaxis.range": [
               1943,
               1983
              ],
              "yaxis.range": [
               35,
               45
              ]
             }
            ],
            "label": "Dom Aquino",
            "method": "relayout"
           },
           {
            "args": [
             {
              "xaxis.range": [
               1975,
               2015
              ],
              "yaxis.range": [
               36,
               46
              ]
             }
            ],
            "label": "Feliz Natal",
            "method": "relayout"
           },
           {
            "args": [
             {
              "xaxis.range": [
               1975,
               2015
              ],
              "yaxis.range": [
               37,
               47
              ]
             }
            ],
            "label": "Figueirópolis d'Oeste",
            "method": "relayout"
           },
           {
            "args": [
             {
              "xaxis.range": [
               1975,
               2015
              ],
              "yaxis.range": [
               38,
               48
              ]
             }
            ],
            "label": "Gaúcha do Norte",
            "method": "relayout"
           },
           {
            "args": [
             {
              "xaxis.range": [
               1933,
               1973
              ],
              "yaxis.range": [
               39,
               49
              ]
             }
            ],
            "label": "General Carneiro",
            "method": "relayout"
           },
           {
            "args": [
             {
              "xaxis.range": [
               1975,
               2015
              ],
              "yaxis.range": [
               40,
               50
              ]
             }
            ],
            "label": "Glória d'Oeste",
            "method": "relayout"
           },
           {
            "args": [
             {
              "xaxis.range": [
               1968,
               2008
              ],
              "yaxis.range": [
               41,
               51
              ]
             }
            ],
            "label": "Guarantã do Norte",
            "method": "relayout"
           },
           {
            "args": [
             {
              "xaxis.range": [
               1928,
               1968
              ],
              "yaxis.range": [
               42,
               52
              ]
             }
            ],
            "label": "Guiratinga",
            "method": "relayout"
           },
           {
            "args": [
             {
              "xaxis.range": [
               1975,
               2015
              ],
              "yaxis.range": [
               43,
               53
              ]
             }
            ],
            "label": "Indiavaí",
            "method": "relayout"
           },
           {
            "args": [
             {
              "xaxis.range": [
               1975,
               2015
              ],
              "yaxis.range": [
               44,
               54
              ]
             }
            ],
            "label": "Ipiranga do Norte",
            "method": "relayout"
           },
           {
            "args": [
             {
              "xaxis.range": [
               1981,
               2021
              ],
              "yaxis.range": [
               45,
               55
              ]
             }
            ],
            "label": "Itanhangá",
            "method": "relayout"
           },
           {
            "args": [
             {
              "xaxis.range": [
               1966,
               2006
              ],
              "yaxis.range": [
               46,
               56
              ]
             }
            ],
            "label": "Itaúba",
            "method": "relayout"
           },
           {
            "args": [
             {
              "xaxis.range": [
               1933,
               1973
              ],
              "yaxis.range": [
               47,
               57
              ]
             }
            ],
            "label": "Itiquira",
            "method": "relayout"
           },
           {
            "args": [
             {
              "xaxis.range": [
               1933,
               1973
              ],
              "yaxis.range": [
               48,
               58
              ]
             }
            ],
            "label": "Jaciara",
            "method": "relayout"
           },
           {
            "args": [
             {
              "xaxis.range": [
               1928,
               1968
              ],
              "yaxis.range": [
               49,
               59
              ]
             }
            ],
            "label": "Jangada",
            "method": "relayout"
           },
           {
            "args": [
             {
              "xaxis.range": [
               1974,
               2014
              ],
              "yaxis.range": [
               50,
               60
              ]
             }
            ],
            "label": "Jauru",
            "method": "relayout"
           },
           {
            "args": [
             {
              "xaxis.range": [
               1966,
               2006
              ],
              "yaxis.range": [
               51,
               61
              ]
             }
            ],
            "label": "Juara",
            "method": "relayout"
           },
           {
            "args": [
             {
              "xaxis.range": [
               1978,
               2018
              ],
              "yaxis.range": [
               52,
               62
              ]
             }
            ],
            "label": "Juruena",
            "method": "relayout"
           },
           {
            "args": [
             {
              "xaxis.range": [
               1975,
               2015
              ],
              "yaxis.range": [
               53,
               63
              ]
             }
            ],
            "label": "Juscimeira",
            "method": "relayout"
           },
           {
            "args": [
             {
              "xaxis.range": [
               1959,
               1999
              ],
              "yaxis.range": [
               54,
               64
              ]
             }
            ],
            "label": "Juína",
            "method": "relayout"
           },
           {
            "args": [
             {
              "xaxis.range": [
               1975,
               2015
              ],
              "yaxis.range": [
               55,
               65
              ]
             }
            ],
            "label": "Lambari d'Oeste",
            "method": "relayout"
           },
           {
            "args": [
             {
              "xaxis.range": [
               1968,
               2008
              ],
              "yaxis.range": [
               56,
               66
              ]
             }
            ],
            "label": "Lucas do Rio Verde",
            "method": "relayout"
           },
           {
            "args": [
             {
              "xaxis.range": [
               1943,
               1983
              ],
              "yaxis.range": [
               57,
               67
              ]
             }
            ],
            "label": "Luciara",
            "method": "relayout"
           },
           {
            "args": [
             {
              "xaxis.range": [
               1978,
               2018
              ],
              "yaxis.range": [
               58,
               68
              ]
             }
            ],
            "label": "Marcelândia",
            "method": "relayout"
           },
           {
            "args": [
             {
              "xaxis.range": [
               1968,
               2008
              ],
              "yaxis.range": [
               59,
               69
              ]
             }
            ],
            "label": "Matupá",
            "method": "relayout"
           },
           {
            "args": [
             {
              "xaxis.range": [
               1956,
               1996
              ],
              "yaxis.range": [
               60,
               70
              ]
             }
            ],
            "label": "Mirassol d'Oeste",
            "method": "relayout"
           },
           {
            "args": [
             {
              "xaxis.range": [
               1933,
               1973
              ],
              "yaxis.range": [
               61,
               71
              ]
             }
            ],
            "label": "Nobres",
            "method": "relayout"
           },
           {
            "args": [
             {
              "xaxis.range": [
               1699,
               1739
              ],
              "yaxis.range": [
               62,
               72
              ]
             }
            ],
            "label": "None (founded as village)",
            "method": "relayout"
           },
           {
            "args": [
             {
              "xaxis.range": [
               1732,
               1772
              ],
              "yaxis.range": [
               63,
               73
              ]
             }
            ],
            "label": "None (founded in 1752)",
            "method": "relayout"
           },
           {
            "args": [
             {
              "xaxis.range": [
               1761,
               1801
              ],
              "yaxis.range": [
               64,
               74
              ]
             }
            ],
            "label": "None (founded in 1781)",
            "method": "relayout"
           },
           {
            "args": [
             {
              "xaxis.range": [
               1943,
               1983
              ],
              "yaxis.range": [
               65,
               75
              ]
             }
            ],
            "label": "Nortelândia",
            "method": "relayout"
           },
           {
            "args": [
             {
              "xaxis.range": [
               1839,
               1879
              ],
              "yaxis.range": [
               66,
               76
              ]
             }
            ],
            "label": "Nossa Senhora do Livramento",
            "method": "relayout"
           },
           {
            "args": [
             {
              "xaxis.range": [
               1975,
               2015
              ],
              "yaxis.range": [
               67,
               77
              ]
             }
            ],
            "label": "Nova Bandeirantes",
            "method": "relayout"
           },
           {
            "args": [
             {
              "xaxis.range": [
               1966,
               2006
              ],
              "yaxis.range": [
               68,
               78
              ]
             }
            ],
            "label": "Nova Brasilândia",
            "method": "relayout"
           },
           {
            "args": [
             {
              "xaxis.range": [
               1975,
               2015
              ],
              "yaxis.range": [
               69,
               79
              ]
             }
            ],
            "label": "Nova Canaã do Norte",
            "method": "relayout"
           },
           {
            "args": [
             {
              "xaxis.range": [
               1975,
               2015
              ],
              "yaxis.range": [
               70,
               80
              ]
             }
            ],
            "label": "Nova Guarita",
            "method": "relayout"
           },
           {
            "args": [
             {
              "xaxis.range": [
               1975,
               2015
              ],
              "yaxis.range": [
               71,
               81
              ]
             }
            ],
            "label": "Nova Lacerda",
            "method": "relayout"
           },
           {
            "args": [
             {
              "xaxis.range": [
               1975,
               2015
              ],
              "yaxis.range": [
               72,
               82
              ]
             }
            ],
            "label": "Nova Marilândia",
            "method": "relayout"
           },
           {
            "args": [
             {
              "xaxis.range": [
               1975,
               2015
              ],
              "yaxis.range": [
               73,
               83
              ]
             }
            ],
            "label": "Nova Maringá",
            "method": "relayout"
           },
           {
            "args": [
             {
              "xaxis.range": [
               1975,
               2015
              ],
              "yaxis.range": [
               74,
               84
              ]
             }
            ],
            "label": "Nova Monte Verde",
            "method": "relayout"
           },
           {
            "args": [
             {
              "xaxis.range": [
               1969,
               2009
              ],
              "yaxis.range": [
               75,
               85
              ]
             }
            ],
            "label": "Nova Mutum",
            "method": "relayout"
           },
           {
            "args": [
             {
              "xaxis.range": [
               1975,
               2015
              ],
              "yaxis.range": [
               76,
               86
              ]
             }
            ],
            "label": "Nova Nazaré",
            "method": "relayout"
           },
           {
            "args": [
             {
              "xaxis.range": [
               1959,
               1999
              ],
              "yaxis.range": [
               77,
               87
              ]
             }
            ],
            "label": "Nova Olímpia",
            "method": "relayout"
           },
           {
            "args": [
             {
              "xaxis.range": [
               1975,
               2015
              ],
              "yaxis.range": [
               78,
               88
              ]
             }
            ],
            "label": "Nova Santa Helena",
            "method": "relayout"
           },
           {
            "args": [
             {
              "xaxis.range": [
               1974,
               2014
              ],
              "yaxis.range": [
               79,
               89
              ]
             }
            ],
            "label": "Nova Ubiratã",
            "method": "relayout"
           },
           {
            "args": [
             {
              "xaxis.range": [
               2003,
               2043
              ],
              "yaxis.range": [
               80,
               90
              ]
             }
            ],
            "label": "Nova Ubiratã and Sorriso",
            "method": "relayout"
           },
           {
            "args": [
             {
              "xaxis.range": [
               1963,
               2003
              ],
              "yaxis.range": [
               81,
               91
              ]
             }
            ],
            "label": "Nova Xavantina",
            "method": "relayout"
           },
           {
            "args": [
             {
              "xaxis.range": [
               1975,
               2015
              ],
              "yaxis.range": [
               82,
               92
              ]
             }
            ],
            "label": "Novo Horizonte do Norte",
            "method": "relayout"
           },
           {
            "args": [
             {
              "xaxis.range": [
               1975,
               2015
              ],
              "yaxis.range": [
               83,
               93
              ]
             }
            ],
            "label": "Novo Mundo",
            "method": "relayout"
           },
           {
            "args": [
             {
              "xaxis.range": [
               1975,
               2015
              ],
              "yaxis.range": [
               84,
               94
              ]
             }
            ],
            "label": "Novo Santo Antônio",
            "method": "relayout"
           },
           {
            "args": [
             {
              "xaxis.range": [
               1966,
               2006
              ],
              "yaxis.range": [
               85,
               95
              ]
             }
            ],
            "label": "Novo São Joaquim",
            "method": "relayout"
           },
           {
            "args": [
             {
              "xaxis.range": [
               1933,
               1973
              ],
              "yaxis.range": [
               86,
               96
              ]
             }
            ],
            "label": "Paranatinga",
            "method": "relayout"
           },
           {
            "args": [
             {
              "xaxis.range": [
               1968,
               2008
              ],
              "yaxis.range": [
               87,
               97
              ]
             }
            ],
            "label": "Paranaíta",
            "method": "relayout"
           },
           {
            "args": [
             {
              "xaxis.range": [
               1928,
               1968
              ],
              "yaxis.range": [
               88,
               98
              ]
             }
            ],
            "label": "Pedra Preta",
            "method": "relayout"
           },
           {
            "args": [
             {
              "xaxis.range": [
               1959,
               1999
              ],
              "yaxis.range": [
               89,
               99
              ]
             }
            ],
            "label": "Peixoto de Azevedo",
            "method": "relayout"
           },
           {
            "args": [
             {
              "xaxis.range": [
               1974,
               2014
              ],
              "yaxis.range": [
               90,
               100
              ]
             }
            ],
            "label": "Planalto da Serra",
            "method": "relayout"
           },
           {
            "args": [
             {
              "xaxis.range": [
               1761,
               1801
              ],
              "yaxis.range": [
               91,
               101
              ]
             }
            ],
            "label": "Poconé",
            "method": "relayout"
           },
           {
            "args": [
             {
              "xaxis.range": [
               1975,
               2015
              ],
              "yaxis.range": [
               92,
               102
              ]
             }
            ],
            "label": "Pontal do Araguaia",
            "method": "relayout"
           },
           {
            "args": [
             {
              "xaxis.range": [
               1943,
               1983
              ],
              "yaxis.range": [
               93,
               103
              ]
             }
            ],
            "label": "Ponte Branca",
            "method": "relayout"
           },
           {
            "args": [
             {
              "xaxis.range": [
               1933,
               1973
              ],
              "yaxis.range": [
               94,
               104
              ]
             }
            ],
            "label": "Pontes e Lacerda",
            "method": "relayout"
           },
           {
            "args": [
             {
              "xaxis.range": [
               1966,
               2006
              ],
              "yaxis.range": [
               95,
               105
              ]
             }
            ],
            "label": "Porto Alegre do Norte",
            "method": "relayout"
           },
           {
            "args": [
             {
              "xaxis.range": [
               1928,
               1968
              ],
              "yaxis.range": [
               96,
               106
              ]
             }
            ],
            "label": "Porto Esperidião",
            "method": "relayout"
           },
           {
            "args": [
             {
              "xaxis.range": [
               1943,
               1983
              ],
              "yaxis.range": [
               97,
               107
              ]
             }
            ],
            "label": "Porto Estrela",
            "method": "relayout"
           },
           {
            "args": [
             {
              "xaxis.range": [
               1933,
               1973
              ],
              "yaxis.range": [
               98,
               108
              ]
             }
            ],
            "label": "Porto dos Gaúchos",
            "method": "relayout"
           },
           {
            "args": [
             {
              "xaxis.range": [
               1918,
               1958
              ],
              "yaxis.range": [
               99,
               109
              ]
             }
            ],
            "label": "Poxoréu",
            "method": "relayout"
           },
           {
            "args": [
             {
              "xaxis.range": [
               1966,
               2006
              ],
              "yaxis.range": [
               100,
               110
              ]
             }
            ],
            "label": "Primavera do Leste",
            "method": "relayout"
           },
           {
            "args": [
             {
              "xaxis.range": [
               1968,
               2008
              ],
              "yaxis.range": [
               101,
               111
              ]
             }
            ],
            "label": "Querência",
            "method": "relayout"
           },
           {
            "args": [
             {
              "xaxis.range": [
               1975,
               2015
              ],
              "yaxis.range": [
               102,
               112
              ]
             }
            ],
            "label": "Reserva do Cabaçal",
            "method": "relayout"
           },
           {
            "args": [
             {
              "xaxis.range": [
               1966,
               2006
              ],
              "yaxis.range": [
               103,
               113
              ]
             }
            ],
            "label": "Ribeirão Cascalheira",
            "method": "relayout"
           },
           {
            "args": [
             {
              "xaxis.range": [
               1975,
               2015
              ],
              "yaxis.range": [
               104,
               114
              ]
             }
            ],
            "label": "Ribeirãozinho",
            "method": "relayout"
           },
           {
            "args": [
             {
              "xaxis.range": [
               1975,
               2015
              ],
              "yaxis.range": [
               105,
               115
              ]
             }
            ],
            "label": "Rio Branco",
            "method": "relayout"
           },
           {
            "args": [
             {
              "xaxis.range": [
               1978,
               2018
              ],
              "yaxis.range": [
               106,
               116
              ]
             }
            ],
            "label": "Rondolândia",
            "method": "relayout"
           },
           {
            "args": [
             {
              "xaxis.range": [
               1928,
               1968
              ],
              "yaxis.range": [
               107,
               117
              ]
             }
            ],
            "label": "Rondonópolis",
            "method": "relayout"
           },
           {
            "args": [
             {
              "xaxis.range": [
               1838,
               1878
              ],
              "yaxis.range": [
               108,
               118
              ]
             }
            ],
            "label": "Rosário Oeste",
            "method": "relayout"
           },
           {
            "args": [
             {
              "xaxis.range": [
               1966,
               2006
              ],
              "yaxis.range": [
               109,
               119
              ]
             }
            ],
            "label": "Salto do Céu",
            "method": "relayout"
           },
           {
            "args": [
             {
              "xaxis.range": [
               1975,
               2015
              ],
              "yaxis.range": [
               110,
               120
              ]
             }
            ],
            "label": "Santa Carmem",
            "method": "relayout"
           },
           {
            "args": [
             {
              "xaxis.range": [
               1975,
               2015
              ],
              "yaxis.range": [
               111,
               121
              ]
             }
            ],
            "label": "Santa Cruz do Xingu",
            "method": "relayout"
           },
           {
            "args": [
             {
              "xaxis.range": [
               1918,
               1958
              ],
              "yaxis.range": [
               112,
               122
              ]
             }
            ],
            "label": "Santa Rita do Araguaia",
            "method": "relayout"
           },
           {
            "args": [
             {
              "xaxis.range": [
               1975,
               2015
              ],
              "yaxis.range": [
               113,
               123
              ]
             }
            ],
            "label": "Santa Rita do Trivelato",
            "method": "relayout"
           },
           {
            "args": [
             {
              "xaxis.range": [
               1975,
               2015
              ],
              "yaxis.range": [
               114,
               124
              ]
             }
            ],
            "label": "Santa Terezinha",
            "method": "relayout"
           },
           {
            "args": [
             {
              "xaxis.range": [
               1975,
               2015
              ],
              "yaxis.range": [
               115,
               125
              ]
             }
            ],
            "label": "Santo Afonso",
            "method": "relayout"
           },
           {
            "args": [
             {
              "xaxis.range": [
               1815,
               1855
              ],
              "yaxis.range": [
               116,
               126
              ]
             }
            ],
            "label": "Santo Antônio de Leverger",
            "method": "relayout"
           },
           {
            "args": [
             {
              "xaxis.range": [
               1975,
               2015
              ],
              "yaxis.range": [
               117,
               127
              ]
             }
            ],
            "label": "Santo Antônio do Leste",
            "method": "relayout"
           },
           {
            "args": [
             {
              "xaxis.range": [
               1978,
               2018
              ],
              "yaxis.range": [
               118,
               128
              ]
             }
            ],
            "label": "Sapezal",
            "method": "relayout"
           },
           {
            "args": [
             {
              "xaxis.range": [
               1981,
               2021
              ],
              "yaxis.range": [
               119,
               129
              ]
             }
            ],
            "label": "Serra Nova Dourada",
            "method": "relayout"
           },
           {
            "args": [
             {
              "xaxis.range": [
               1959,
               1999
              ],
              "yaxis.range": [
               120,
               130
              ]
             }
            ],
            "label": "Sinop",
            "method": "relayout"
           },
           {
            "args": [
             {
              "xaxis.range": [
               1966,
               2006
              ],
              "yaxis.range": [
               121,
               131
              ]
             }
            ],
            "label": "Sorriso",
            "method": "relayout"
           },
           {
            "args": [
             {
              "xaxis.range": [
               1956,
               1996
              ],
              "yaxis.range": [
               122,
               132
              ]
             }
            ],
            "label": "São Félix do Araguaia",
            "method": "relayout"
           },
           {
            "args": [
             {
              "xaxis.range": [
               1975,
               2015
              ],
              "yaxis.range": [
               123,
               133
              ]
             }
            ],
            "label": "São José do Povo",
            "method": "relayout"
           },
           {
            "args": [
             {
              "xaxis.range": [
               1966,
               2006
              ],
              "yaxis.range": [
               124,
               134
              ]
             }
            ],
            "label": "São José do Rio Claro",
            "method": "relayout"
           },
           {
            "args": [
             {
              "xaxis.range": [
               1975,
               2015
              ],
              "yaxis.range": [
               125,
               135
              ]
             }
            ],
            "label": "São José do Xingu",
            "method": "relayout"
           },
           {
            "args": [
             {
              "xaxis.range": [
               1966,
               2006
              ],
              "yaxis.range": [
               126,
               136
              ]
             }
            ],
            "label": "São José dos Quatro Marcos",
            "method": "relayout"
           },
           {
            "args": [
             {
              "xaxis.range": [
               1975,
               2015
              ],
              "yaxis.range": [
               127,
               137
              ]
             }
            ],
            "label": "São Pedro da Cipa",
            "method": "relayout"
           },
           {
            "args": [
             {
              "xaxis.range": [
               1975,
               2015
              ],
              "yaxis.range": [
               128,
               138
              ]
             }
            ],
            "label": "Tabaporã",
            "method": "relayout"
           },
           {
            "args": [
             {
              "xaxis.range": [
               1956,
               1996
              ],
              "yaxis.range": [
               129,
               139
              ]
             }
            ],
            "label": "Tangará da Serra",
            "method": "relayout"
           },
           {
            "args": [
             {
              "xaxis.range": [
               1966,
               2006
              ],
              "yaxis.range": [
               130,
               140
              ]
             }
            ],
            "label": "Tapurah",
            "method": "relayout"
           },
           {
            "args": [
             {
              "xaxis.range": [
               1966,
               2006
              ],
              "yaxis.range": [
               131,
               141
              ]
             }
            ],
            "label": "Terra Nova do Norte",
            "method": "relayout"
           },
           {
            "args": [
             {
              "xaxis.range": [
               1928,
               1968
              ],
              "yaxis.range": [
               132,
               142
              ]
             }
            ],
            "label": "Tesouro",
            "method": "relayout"
           },
           {
            "args": [
             {
              "xaxis.range": [
               1933,
               1973
              ],
              "yaxis.range": [
               133,
               143
              ]
             }
            ],
            "label": "Torixoréu",
            "method": "relayout"
           },
           {
            "args": [
             {
              "xaxis.range": [
               1975,
               2015
              ],
              "yaxis.range": [
               134,
               144
              ]
             }
            ],
            "label": "União do Sul",
            "method": "relayout"
           },
           {
            "args": [
             {
              "xaxis.range": [
               1975,
               2015
              ],
              "yaxis.range": [
               135,
               145
              ]
             }
            ],
            "label": "Vale de São Domingos",
            "method": "relayout"
           },
           {
            "args": [
             {
              "xaxis.range": [
               1966,
               2006
              ],
              "yaxis.range": [
               136,
               146
              ]
             }
            ],
            "label": "Vera",
            "method": "relayout"
           },
           {
            "args": [
             {
              "xaxis.range": [
               1966,
               2006
              ],
              "yaxis.range": [
               137,
               147
              ]
             }
            ],
            "label": "Verá",
            "method": "relayout"
           },
           {
            "args": [
             {
              "xaxis.range": [
               1732,
               1772
              ],
              "yaxis.range": [
               138,
               148
              ]
             }
            ],
            "label": "Vila Bela da Santíssima Trindade",
            "method": "relayout"
           },
           {
            "args": [
             {
              "xaxis.range": [
               1975,
               2015
              ],
              "yaxis.range": [
               139,
               149
              ]
             }
            ],
            "label": "Vila Rica",
            "method": "relayout"
           },
           {
            "args": [
             {
              "xaxis.range": [
               1928,
               1968
              ],
              "yaxis.range": [
               140,
               150
              ]
             }
            ],
            "label": "Várzea Grande",
            "method": "relayout"
           },
           {
            "args": [
             {
              "xaxis.range": [
               1958,
               1998
              ],
              "yaxis.range": [
               141,
               151
              ]
             }
            ],
            "label": "Água Boa",
            "method": "relayout"
           }
          ],
          "direction": "down",
          "pad": {
           "r": 10,
           "t": 10
          },
          "showactive": true,
          "type": "dropdown",
          "x": 0.5,
          "xanchor": "center",
          "y": 1.15,
          "yanchor": "top"
         }
        ],
        "width": 2500,
        "xaxis": {
         "autorange": false,
         "dtick": 10,
         "range": [
          1700,
          2030
         ],
         "rangeslider": {
          "visible": false
         },
         "title": {
          "text": "Year of Emancipation"
         },
         "type": "linear"
        },
        "yaxis": {
         "fixedrange": true,
         "range": [
          -7.300000000000001,
          153.3
         ],
         "showticklabels": false,
         "title": {
          "text": "Municipality (Alphabetical Order)"
         }
        }
       }
      }
     },
     "metadata": {},
     "output_type": "display_data"
    }
   ],
   "source": [
    "import pandas as pd\n",
    "import plotly.graph_objects as go\n",
    "import numpy as np\n",
    "import os\n",
    "\n",
    "# Data containing information about Mato Grosso municipalities,\n",
    "# their emancipation origin, and the year of emancipation.\n",
    "# This list includes all 141 municipalities.\n",
    "data = [\n",
    "    {\"city\": \"Acorizal\", \"emancipated_from\": \"Cuiabá\", \"year\": 1953},\n",
    "    {\"city\": \"Água Boa\", \"emancipated_from\": \"Canarana\", \"year\": 1978},\n",
    "    {\"city\": \"Alta Floresta\", \"emancipated_from\": \"Colíder\", \"year\": 1979},\n",
    "    {\"city\": \"Alto Araguaia\", \"emancipated_from\": \"Santa Rita do Araguaia\", \"year\": 1948},\n",
    "    {\"city\": \"Alto Boa Vista\", \"emancipated_from\": \"São Félix do Araguaia\", \"year\": 1995},\n",
    "    {\"city\": \"Alto Garças\", \"emancipated_from\": \"Alto Araguaia\", \"year\": 1953},\n",
    "    {\"city\": \"Alto Paraguai\", \"emancipated_from\": \"Diamantino\", \"year\": 1948},\n",
    "    {\"city\": \"Alto Taquari\", \"emancipated_from\": \"Alto Araguaia\", \"year\": 1987},\n",
    "    {\"city\": \"Apiacás\", \"emancipated_from\": \"Alta Floresta\", \"year\": 1988},\n",
    "    {\"city\": \"Araguaiana\", \"emancipated_from\": \"Barra do Garças\", \"year\": 1963},\n",
    "    {\"city\": \"Araguainha\", \"emancipated_from\": \"Alto Araguaia\", \"year\": 1963},\n",
    "    {\"city\": \"Araputanga\", \"emancipated_from\": \"Mirassol d'Oeste\", \"year\": 1980},\n",
    "    {\"city\": \"Arenápolis\", \"emancipated_from\": \"Diamantino\", \"year\": 1963},\n",
    "    {\"city\": \"Aripuanã\", \"emancipated_from\": \"Juína\", \"year\": 1988},\n",
    "    {\"city\": \"Barão de Melgaço\", \"emancipated_from\": \"Cuiabá\", \"year\": 1938},\n",
    "    {\"city\": \"Barra do Bugres\", \"emancipated_from\": \"Cáceres\", \"year\": 1948},\n",
    "    {\"city\": \"Barra do Garças\", \"emancipated_from\": \"Rosário Oeste\", \"year\": 1924},\n",
    "    {\"city\": \"Boa Esperança do Norte\", \"emancipated_from\": \"Nova Ubiratã and Sorriso\", \"year\": 2023},\n",
    "    {\"city\": \"Bom Jesus do Araguaia\", \"emancipated_from\": \"São Félix do Araguaia\", \"year\": 1995},\n",
    "    {\"city\": \"Brasnorte\", \"emancipated_from\": \"Juara\", \"year\": 1994},\n",
    "    {\"city\": \"Cáceres\", \"emancipated_from\": \"Vila Bela da Santíssima Trindade\", \"year\": 1873},\n",
    "    {\"city\": \"Campinápolis\", \"emancipated_from\": \"Barra do Garças\", \"year\": 1980},\n",
    "    {\"city\": \"Campo Novo do Parecis\", \"emancipated_from\": \"Campos de Júlio\", \"year\": 1994},\n",
    "    {\"city\": \"Campo Verde\", \"emancipated_from\": \"Dom Aquino\", \"year\": 1988},\n",
    "    {\"city\": \"Campos de Júlio\", \"emancipated_from\": \"Comodoro\", \"year\": 1994},\n",
    "    {\"city\": \"Canabrava do Norte\", \"emancipated_from\": \"São Félix do Araguaia\", \"year\": 1995},\n",
    "    {\"city\": \"Canarana\", \"emancipated_from\": \"Barra do Garças\", \"year\": 1975},\n",
    "    {\"city\": \"Carlinda\", \"emancipated_from\": \"Peixoto de Azevedo\", \"year\": 1991},\n",
    "    {\"city\": \"Castanheira\", \"emancipated_from\": \"Juína\", \"year\": 1994},\n",
    "    {\"city\": \"Chapada dos Guimarães\", \"emancipated_from\": \"Cuiabá\", \"year\": 1953},\n",
    "    {\"city\": \"Cláudia\", \"emancipated_from\": \"Sinop\", \"year\": 1994},\n",
    "    {\"city\": \"Cocalinho\", \"emancipated_from\": \"Barra do Garças\", \"year\": 1985},\n",
    "    {\"city\": \"Colíder\", \"emancipated_from\": \"Terra Nova do Norte\", \"year\": 1979},\n",
    "    {\"city\": \"Colniza\", \"emancipated_from\": \"Aripuanã\", \"year\": 1998},\n",
    "    {\"city\": \"Comodoro\", \"emancipated_from\": \"Vila Bela da Santíssima Trindade\", \"year\": 1993},\n",
    "    {\"city\": \"Confresa\", \"emancipated_from\": \"São Félix do Araguaia\", \"year\": 1993},\n",
    "    {\"city\": \"Cotriguaçu\", \"emancipated_from\": \"Juína\", \"year\": 1995},\n",
    "    {\"city\": \"Cuiabá\", \"emancipated_from\": \"None (founded as village)\", \"year\": 1719},\n",
    "    {\"city\": \"Curvelândia\", \"emancipated_from\": \"Mirassol d'Oeste\", \"year\": 1995},\n",
    "    {\"city\": \"Denise\", \"emancipated_from\": \"Barra do Bugres\", \"year\": 1993},\n",
    "    {\"city\": \"Diamantino\", \"emancipated_from\": \"Vila Bela da Santíssima Trindade\", \"year\": 1858},\n",
    "    {\"city\": \"Dom Aquino\", \"emancipated_from\": \"Itiquira\", \"year\": 1963},\n",
    "    {\"city\": \"Feliz Natal\", \"emancipated_from\": \"Vera\", \"year\": 1995},\n",
    "    {\"city\": \"Figueirópolis d'Oeste\", \"emancipated_from\": \"Pontes e Lacerda\", \"year\": 1995},\n",
    "    {\"city\": \"Gaúcha do Norte\", \"emancipated_from\": \"Campinápolis\", \"year\": 1995},\n",
    "    {\"city\": \"General Carneiro\", \"emancipated_from\": \"Poxoréu\", \"year\": 1953},\n",
    "    {\"city\": \"Glória d'Oeste\", \"emancipated_from\": \"Pontes e Lacerda\", \"year\": 1995},\n",
    "    {\"city\": \"Guarantã do Norte\", \"emancipated_from\": \"Peixoto de Azevedo\", \"year\": 1988},\n",
    "    {\"city\": \"Guiratinga\", \"emancipated_from\": \"Alto Araguaia\", \"year\": 1948},\n",
    "    {\"city\": \"Indiavaí\", \"emancipated_from\": \"Araputanga\", \"year\": 1995},\n",
    "    {\"city\": \"Ipiranga do Norte\", \"emancipated_from\": \"Tapurah\", \"year\": 1995},\n",
    "    {\"city\": \"Itanhangá\", \"emancipated_from\": \"Nova Ubiratã\", \"year\": 2001},\n",
    "    {\"city\": \"Itaúba\", \"emancipated_from\": \"Colíder\", \"year\": 1986},\n",
    "    {\"city\": \"Itiquira\", \"emancipated_from\": \"Alto Araguaia\", \"year\": 1953},\n",
    "    {\"city\": \"Jaciara\", \"emancipated_from\": \"Dom Aquino\", \"year\": 1953},\n",
    "    {\"city\": \"Jangada\", \"emancipated_from\": \"Nossa Senhora do Livramento\", \"year\": 1948},\n",
    "    {\"city\": \"Jauru\", \"emancipated_from\": \"Pontes e Lacerda\", \"year\": 1994},\n",
    "    {\"city\": \"Juara\", \"emancipated_from\": \"Porto dos Gaúchos\", \"year\": 1986},\n",
    "    {\"city\": \"Juína\", \"emancipated_from\": \"Aripuanã\", \"year\": 1979},\n",
    "    {\"city\": \"Juruena\", \"emancipated_from\": \"Cotriguaçu\", \"year\": 1998},\n",
    "    {\"city\": \"Juscimeira\", \"emancipated_from\": \"Rondonópolis\", \"year\": 1995},\n",
    "    {\"city\": \"Lambari d'Oeste\", \"emancipated_from\": \"São José dos Quatro Marcos\", \"year\": 1995},\n",
    "    {\"city\": \"Lucas do Rio Verde\", \"emancipated_from\": \"Sorriso\", \"year\": 1988},\n",
    "    {\"city\": \"Luciara\", \"emancipated_from\": \"São Félix do Araguaia\", \"year\": 1963},\n",
    "    {\"city\": \"Marcelândia\", \"emancipated_from\": \"União do Sul\", \"year\": 1998},\n",
    "    {\"city\": \"Matupá\", \"emancipated_from\": \"Peixoto de Azevedo\", \"year\": 1988},\n",
    "    {\"city\": \"Mirassol d'Oeste\", \"emancipated_from\": \"Cáceres\", \"year\": 1976},\n",
    "    {\"city\": \"Nobres\", \"emancipated_from\": \"Rosário Oeste\", \"year\": 1953},\n",
    "    {\"city\": \"Nortelândia\", \"emancipated_from\": \"Diamantino\", \"year\": 1963},\n",
    "    {\"city\": \"Nossa Senhora do Livramento\", \"emancipated_from\": \"Cuiabá\", \"year\": 1859},\n",
    "    {\"city\": \"Nova Bandeirantes\", \"emancipated_from\": \"Colíder\", \"year\": 1995},\n",
    "    {\"city\": \"Nova Brasilândia\", \"emancipated_from\": \"Alto Paraguai\", \"year\": 1986},\n",
    "    {\"city\": \"Nova Canaã do Norte\", \"emancipated_from\": \"Colíder\", \"year\": 1995},\n",
    "    {\"city\": \"Nova Guarita\", \"emancipated_from\": \"Terra Nova do Norte\", \"year\": 1995},\n",
    "    {\"city\": \"Nova Lacerda\", \"emancipated_from\": \"Vila Bela da Santíssima Trindade\", \"year\": 1995},\n",
    "    {\"city\": \"Nova Marilândia\", \"emancipated_from\": \"Alto Paraguai\", \"year\": 1995},\n",
    "    {\"city\": \"Nova Maringá\", \"emancipated_from\": \"Alto Paraguai\", \"year\": 1995},\n",
    "    {\"city\": \"Nova Monte Verde\", \"emancipated_from\": \"Alta Floresta\", \"year\": 1995},\n",
    "    {\"city\": \"Nova Mutum\", \"emancipated_from\": \"Diamantino\", \"year\": 1989},\n",
    "    {\"city\": \"Nova Nazaré\", \"emancipated_from\": \"Canarana\", \"year\": 1995},\n",
    "    {\"city\": \"Nova Olímpia\", \"emancipated_from\": \"Tangará da Serra\", \"year\": 1979},\n",
    "    {\"city\": \"Nova Santa Helena\", \"emancipated_from\": \"Verá\", \"year\": 1995},\n",
    "    {\"city\": \"Nova Ubiratã\", \"emancipated_from\": \"Sorriso\", \"year\": 1994},\n",
    "    {\"city\": \"Nova Xavantina\", \"emancipated_from\": \"Barra do Garças\", \"year\": 1983},\n",
    "    {\"city\": \"Novo Horizonte do Norte\", \"emancipated_from\": \"Terra Nova do Norte\", \"year\": 1995},\n",
    "    {\"city\": \"Novo Mundo\", \"emancipated_from\": \"Peixoto de Azevedo\", \"year\": 1995},\n",
    "    {\"city\": \"Novo Santo Antônio\", \"emancipated_from\": \"Brasnorte\", \"year\": 1995},\n",
    "    {\"city\": \"Novo São Joaquim\", \"emancipated_from\": \"Alto Araguaia\", \"year\": 1986},\n",
    "    {\"city\": \"Paranaíta\", \"emancipated_from\": \"Alta Floresta\", \"year\": 1988},\n",
    "    {\"city\": \"Paranatinga\", \"emancipated_from\": \"Diamantino\", \"year\": 1953},\n",
    "    {\"city\": \"Pedra Preta\", \"emancipated_from\": \"Rondonópolis\", \"year\": 1948},\n",
    "    {\"city\": \"Peixoto de Azevedo\", \"emancipated_from\": \"Colíder\", \"year\": 1979},\n",
    "    {\"city\": \"Planalto da Serra\", \"emancipated_from\": \"Nobres\", \"year\": 1994},\n",
    "    {\"city\": \"Poconé\", \"emancipated_from\": \"None (founded in 1781)\", \"year\": 1781},\n",
    "    {\"city\": \"Pontal do Araguaia\", \"emancipated_from\": \"Barra do Garças\", \"year\": 1995},\n",
    "    {\"city\": \"Ponte Branca\", \"emancipated_from\": \"Alto Araguaia\", \"year\": 1963},\n",
    "    {\"city\": \"Pontes e Lacerda\", \"emancipated_from\": \"Vila Bela da Santíssima Trindade\", \"year\": 1953},\n",
    "    {\"city\": \"Porto Alegre do Norte\", \"emancipated_from\": \"São Félix do Araguaia\", \"year\": 1986},\n",
    "    {\"city\": \"Porto dos Gaúchos\", \"emancipated_from\": \"Diamantino\", \"year\": 1953},\n",
    "    {\"city\": \"Porto Esperidião\", \"emancipated_from\": \"Cáceres\", \"year\": 1948},\n",
    "    {\"city\": \"Porto Estrela\", \"emancipated_from\": \"Cáceres\", \"year\": 1963},\n",
    "    {\"city\": \"Poxoréu\", \"emancipated_from\": \"Cuiabá\", \"year\": 1938},\n",
    "    {\"city\": \"Primavera do Leste\", \"emancipated_from\": \"Poxoréu\", \"year\": 1986},\n",
    "    {\"city\": \"Querência\", \"emancipated_from\": \"Barra do Garças\", \"year\": 1988},\n",
    "    {\"city\": \"Reserva do Cabaçal\", \"emancipated_from\": \"Cáceres\", \"year\": 1995},\n",
    "    {\"city\": \"Ribeirão Cascalheira\", \"emancipated_from\": \"Barra do Garças\", \"year\": 1986},\n",
    "    {\"city\": \"Ribeirãozinho\", \"emancipated_from\": \"Torixoréu\", \"year\": 1995},\n",
    "    {\"city\": \"Rio Branco\", \"emancipated_from\": \"Barra do Garças\", \"year\": 1995},\n",
    "    {\"city\": \"Rondolândia\", \"emancipated_from\": \"Aripuanã\", \"year\": 1998},\n",
    "    {\"city\": \"Rondonópolis\", \"emancipated_from\": \"Poxoréu\", \"year\": 1948},\n",
    "    {\"city\": \"Rosário Oeste\", \"emancipated_from\": \"Cuiabá\", \"year\": 1858},\n",
    "    {\"city\": \"Salto do Céu\", \"emancipated_from\": \"Cáceres\", \"year\": 1986},\n",
    "    {\"city\": \"Santa Carmem\", \"emancipated_from\": \"Cláudia\", \"year\": 1995},\n",
    "    {\"city\": \"Santa Cruz do Xingu\", \"emancipated_from\": \"São Félix do Araguaia\", \"year\": 1995},\n",
    "    {\"city\": \"Santa Rita do Trivelato\", \"emancipated_from\": \"Sorriso\", \"year\": 1995},\n",
    "    {\"city\": \"Santa Terezinha\", \"emancipated_from\": \"Barra do Garças\", \"year\": 1995},\n",
    "    {\"city\": \"Santo Afonso\", \"emancipated_from\": \"Diamantino\", \"year\": 1995},\n",
    "    {\"city\": \"Santo Antônio do Leste\", \"emancipated_from\": \"Barra do Garças\", \"year\": 1995},\n",
    "    {\"city\": \"Santo Antônio de Leverger\", \"emancipated_from\": \"Cuiabá\", \"year\": 1835},\n",
    "    {\"city\": \"São Félix do Araguaia\", \"emancipated_from\": \"Barra do Garças\", \"year\": 1976},\n",
    "    {\"city\": \"São José do Povo\", \"emancipated_from\": \"Rondonópolis\", \"year\": 1995},\n",
    "    {\"city\": \"São José do Rio Claro\", \"emancipated_from\": \"Diamantino\", \"year\": 1986},\n",
    "    {\"city\": \"São José do Xingu\", \"emancipated_from\": \"Confresa\", \"year\": 1995},\n",
    "    {\"city\": \"São José dos Quatro Marcos\", \"emancipated_from\": \"Cáceres\", \"year\": 1986},\n",
    "    {\"city\": \"São Pedro da Cipa\", \"emancipated_from\": \"Rondonópolis\", \"year\": 1995},\n",
    "    {\"city\": \"Sapezal\", \"emancipated_from\": \"Campos de Júlio\", \"year\": 1998},\n",
    "    {\"city\": \"Serra Nova Dourada\", \"emancipated_from\": \"São Félix do Araguaia\", \"year\": 2001},\n",
    "    {\"city\": \"Sinop\", \"emancipated_from\": \"Colíder\", \"year\": 1979},\n",
    "    {\"city\": \"Sorriso\", \"emancipated_from\": \"Nova Ubiratã\", \"year\": 1986},\n",
    "    {\"city\": \"Tabaporã\", \"emancipated_from\": \"Juína\", \"year\": 1995},\n",
    "    {\"city\": \"Tangará da Serra\", \"emancipated_from\": \"Diamantino\", \"year\": 1976},\n",
    "    {\"city\": \"Tapurah\", \"emancipated_from\": \"Diamantino\", \"year\": 1986},\n",
    "    {\"city\": \"Terra Nova do Norte\", \"emancipated_from\": \"Colíder\", \"year\": 1986},\n",
    "    {\"city\": \"Tesouro\", \"emancipated_from\": \"Poxoréu\", \"year\": 1948},\n",
    "    {\"city\": \"Torixoréu\", \"emancipated_from\": \"Barra do Garças\", \"year\": 1953},\n",
    "    {\"city\": \"União do Sul\", \"emancipated_from\": \"Sinop\", \"year\": 1995},\n",
    "    {\"city\": \"Vale de São Domingos\", \"emancipated_from\": \"Pontes e Lacerda\", \"year\": 1995},\n",
    "    {\"city\": \"Várzea Grande\", \"emancipated_from\": \"Cuiabá\", \"year\": 1948},\n",
    "    {\"city\": \"Vera\", \"emancipated_from\": \"Feliz Natal\", \"year\": 1986},\n",
    "    {\"city\": \"Vila Bela da Santíssima Trindade\", \"emancipated_from\": \"None (founded in 1752)\", \"year\": 1752},\n",
    "    {\"city\": \"Vila Rica\", \"emancipated_from\": \"São Félix do Araguaia\", \"year\": 1995}\n",
    "]\n",
    "\n",
    "# Create a pandas DataFrame from the list of dictionaries.\n",
    "df = pd.DataFrame(data)\n",
    "\n",
    "# --- Y-Positioning Logic (Revised for better distribution) ---\n",
    "\n",
    "# Create a dictionary mapping city names to their emancipation year\n",
    "city_years = {row['city']: row['year'] for _, row in df.iterrows()}\n",
    "\n",
    "# Add years for special cities/origins not listed as cities in the main data\n",
    "# Added plausible years based on context/neighboring cities or child city emancipation\n",
    "city_years.update({\n",
    "    \"None (founded as village)\": 1719,\n",
    "    \"None (founded in 1752)\": 1752,\n",
    "    \"None (founded in 1781)\": 1781,\n",
    "    \"Santa Rita do Araguaia\": 1938,\n",
    "    \"Nova Ubiratã and Sorriso\": 2023, # This is the emancipation year of the child city\n",
    "    \"Verá\": 1986 # Added a plausible year based on the emancipation year of the child city Feliz Natal\n",
    "})\n",
    "\n",
    "\n",
    "# Identify all unique cities and origins that need a position on the Y axis\n",
    "all_entities = list(df['city'].unique()) + list(df['emancipated_from'].unique())\n",
    "# Filter out 'Mato Grosso' if present and remove duplicates\n",
    "unique_entities = sorted(list(set([entity for entity in all_entities if entity != \"Mato Grosso\"])))\n",
    "\n",
    "# Create a dictionary mapping each unique entity to a vertical position (rank)\n",
    "# We use index based on alphabetical sort for even distribution\n",
    "city_positions = {entity: i for i, entity in enumerate(unique_entities)}\n",
    "\n",
    "# --- End Y-Positioning Logic ---\n",
    "\n",
    "\n",
    "# Calculate the total height needed based on the number of unique positions\n",
    "# Use a constant spacing per entity multiplied by the number of unique entities\n",
    "spacing_per_entity = 10 # Further diminished vertical spacing per entity\n",
    "total_height = max(600, len(unique_entities) * spacing_per_entity) # Ensure a reasonable minimum height\n",
    "\n",
    "# Create a Plotly figure object\n",
    "fig = go.Figure()\n",
    "\n",
    "# Track cities that have been added to the plot to avoid duplicate text labels/markers\n",
    "cities_added = set()\n",
    "\n",
    "# Create a list to store trace data for alphabetical sorting (Legend is now off)\n",
    "trace_data = []\n",
    "\n",
    "# Iterate through each municipality in the DataFrame to add traces for the plot\n",
    "for _, row in df.iterrows():\n",
    "    city = row['city']\n",
    "    origin = row['emancipated_from']\n",
    "    year = row['year']\n",
    "\n",
    "    # Skip entries related to Mato Grosso or incomplete data\n",
    "    if city == \"Mato Grosso\" or origin == \"Mato Grosso\":\n",
    "        continue\n",
    "\n",
    "    # Check if both origin and city exist in the city_years and city_positions dictionaries\n",
    "    if origin in city_years and city in city_positions and origin in city_positions:\n",
    "        # Get y positions from our optimized mapping (rank-based)\n",
    "        city_y_pos = city_positions[city]\n",
    "        origin_y_pos = city_positions[origin]\n",
    "\n",
    "        # Add the emancipation connection (line)\n",
    "        trace_data.append({\n",
    "            'y': [origin_y_pos, city_y_pos],\n",
    "            'x': [city_years[origin], year],\n",
    "            'mode': 'lines',\n",
    "            'line': dict(width=1.5, color='blue'),\n",
    "            'name': city,\n",
    "            'legendgroup': city,\n",
    "            'showlegend': False, # Hide legend entry for this trace\n",
    "            'hoverinfo': 'text',\n",
    "            'hovertext': f\"{city}<br>Emancipated from {origin}<br>in {year}\" # Hover for the line\n",
    "        })\n",
    "\n",
    "        # Add the city node with text label (child city)\n",
    "        if city not in cities_added: # Avoid adding marker/text for the same city multiple times\n",
    "            trace_data.append({\n",
    "                'y': [city_y_pos],\n",
    "                'x': [year],\n",
    "                'mode': 'markers+text',\n",
    "                'marker': dict(size=10, color='darkblue'),\n",
    "                'text': [city],\n",
    "                'textposition': 'middle left',\n",
    "                'name': city,\n",
    "                'legendgroup': city,\n",
    "                'showlegend': False, # Hide legend entry for this trace\n",
    "                'hoverinfo': 'text',\n",
    "                # MODIFIED: Added origin city to the hovertext for the child city node\n",
    "                'hovertext': f\"{city}<br>Emancipated from {origin}<br>in {year}\"\n",
    "            })\n",
    "            cities_added.add(city)\n",
    "\n",
    "        # Add the origin city node if not already added (parent city)\n",
    "        if origin not in cities_added:\n",
    "            trace_data.append({\n",
    "                'y': [origin_y_pos],\n",
    "                'x': [city_years[origin]],\n",
    "                'mode': 'markers+text',\n",
    "                'marker': dict(size=10, color='lightblue'),\n",
    "                'text': [origin],\n",
    "                'textposition': 'middle right', # Position text on the right for origins\n",
    "                'name': origin,\n",
    "                'legendgroup': origin,\n",
    "                 'showlegend': False, # Hide legend entry for this trace\n",
    "                'hoverinfo': 'text',\n",
    "                'hovertext': f\"{origin}<br>Origin city (year: {city_years[origin]})\" # Hover for the origin city node\n",
    "            })\n",
    "            cities_added.add(origin) # Mark origin as added\n",
    "    else:\n",
    "        print(f\"Warning: Could not find position/year for connection from '{origin}' to '{city}'. Skipping connection.\")\n",
    "\n",
    "\n",
    "# Sort the trace data alphabetically by city name (this step is now mostly for consistency, legend is hidden)\n",
    "# Note: Sorting by name might not be ideal for combined traces (lines, markers, text) if name is the same.\n",
    "# Since legend is hidden and hoverinfo is explicit, this sort primarily affects internal trace order.\n",
    "# Let's keep it for potential future legend use, though it has less impact now.\n",
    "# A better approach for sorting might be needed if legend was visible.\n",
    "sorted_trace_data = sorted(trace_data, key=lambda x: x.get('name', '')) # Use .get for safety\n",
    "\n",
    "# Add traces to the figure in alphabetical order\n",
    "for trace in sorted_trace_data:\n",
    "    fig.add_trace(go.Scatter(**trace))\n",
    "\n",
    "\n",
    "# Determine the Y-axis range based on the calculated positions (0 to len(unique_entities) - 1)\n",
    "y_range_min = 0\n",
    "y_range_max = len(unique_entities) - 1\n",
    "y_padding = (y_range_max - y_range_min) * 0.05 # Add 5% padding relative to raw range\n",
    "\n",
    "y_range_min -= y_padding\n",
    "y_range_max += y_padding\n",
    "\n",
    "\n",
    "# --- Create city buttons for the dropdown ---\n",
    "city_dropdown_buttons = []\n",
    "# Sort unique entities alphabetically for the dropdown\n",
    "sorted_unique_entities = sorted(list(city_positions.keys()))\n",
    "\n",
    "for entity in sorted_unique_entities:\n",
    "    # Get the year and position for the entity\n",
    "    year = city_years.get(entity, 2000) # Use 2000 as a default if year is missing (shouldn't happen with current data)\n",
    "    y_pos = city_positions.get(entity, 0) # Use 0 as a default if position is missing (shouldn't happen)\n",
    "\n",
    "    # Define the range to zoom/pan to for this city\n",
    "    # Adjust these values as needed to control the zoom level when selecting a city\n",
    "    x_span = 40 # Years span around the city's year\n",
    "    y_span = 10 # Ranks span around the city's rank\n",
    "\n",
    "    city_dropdown_buttons.append(\n",
    "        dict(\n",
    "            args=[{\"xaxis.range\": [year - x_span/2, year + x_span/2],\n",
    "                   \"yaxis.range\": [y_pos - y_span/2, y_pos + y_span/2]}],\n",
    "            label=entity, # The city/origin name as the button label\n",
    "            method=\"relayout\"\n",
    "        )\n",
    "    )\n",
    "\n",
    "# Combine preset buttons and city buttons\n",
    "all_dropdown_buttons = [\n",
    "    dict(\n",
    "        args=[{\"xaxis.range\": [1700, 2030],\n",
    "               \"yaxis.range\": [y_range_min, y_range_max]}],\n",
    "        label=\"Reset View\",\n",
    "        method=\"relayout\"\n",
    "    ),\n",
    "    # --- Add \"Zoom to Early Foundations\" button ---\n",
    "    dict(\n",
    "        args=[{\"xaxis.range\": [1700, 1850], # Range for Early Foundations period\n",
    "               \"yaxis.range\": [y_range_min, y_range_max]}], # Full y-range\n",
    "        label=\"Zoom to Early Foundations\",\n",
    "        method=\"relayout\"\n",
    "    ),\n",
    "    dict(\n",
    "        args=[{\"xaxis.range\": [1930, 2040]}],\n",
    "        label=\"Zoom to Modern Era (1930+)\",\n",
    "        method=\"relayout\"\n",
    "    ),\n",
    "     dict(\n",
    "        args=[{\"xaxis.range\": [1970, 1990]}],\n",
    "        label=\"Zoom to 1970s/80s Boom\",\n",
    "        method=\"relayout\"\n",
    "    ),\n",
    "    dict(\n",
    "        args=[{\"xaxis.range\": [1990, 2005]}],\n",
    "        label=\"Zoom to 1990s Wave\",\n",
    "        method=\"relayout\"\n",
    "    ),\n",
    "    # Add a separator or a clear distinction if desired (not directly supported in buttons list)\n",
    "    # For now, just append the city buttons\n",
    "] + city_dropdown_buttons\n",
    "\n",
    "\n",
    "# Update layout for vertical timeline with dropdown menu and no rangeslider\n",
    "fig.update_layout(\n",
    "    title='<b>Timeline of Municipal Emancipation in Mato Grosso</b>',\n",
    "    xaxis_title='Year of Emancipation',\n",
    "    yaxis_title='Municipality (Alphabetical Order)', # Update axis title to reflect ordering\n",
    "    height=total_height, # Height based on calculation with smaller spacing\n",
    "    width=2500, # Increased width maintained\n",
    "    hovermode='closest',\n",
    "    showlegend=False, # --- Hide the overall legend ---\n",
    "    yaxis=dict(\n",
    "        showticklabels=False, # Hide tick labels as text annotations are used\n",
    "        range=[y_range_min, y_range_max], # Set range based on rank-based positions with padding\n",
    "        fixedrange=True,  # Prevent vertical zooming/scrolling on Y-axis\n",
    "    ),\n",
    "    xaxis=dict(\n",
    "        type='linear',\n",
    "        range=[1700, 2030], # Default X range\n",
    "        dtick=10,\n",
    "        # --- Remove rangeslider ---\n",
    "        rangeslider=dict(\n",
    "            visible=False\n",
    "        ),\n",
    "        autorange=False\n",
    "    ),\n",
    "    hoverlabel=dict(\n",
    "        bgcolor=\"white\",\n",
    "        font=dict(\n",
    "            size=12,\n",
    "            family=\"Arial\"\n",
    "        )\n",
    "    ),\n",
    "    margin=dict(l=200, r=50, b=50, t=100), # Adjust bottom margin as rangeslider is gone\n",
    "    plot_bgcolor='rgba(240, 240, 240, 0.8)',\n",
    "    dragmode=\"zoom\", # Enable zooming by dragging\n",
    "    modebar=dict(\n",
    "        add=[\"zoomIn\", \"zoomOut\", \"resetScale\"] # Add useful buttons\n",
    "    ),\n",
    "    # --- Use the combined list of buttons in the dropdown ---\n",
    "    updatemenus=[\n",
    "        dict(\n",
    "            type=\"dropdown\", # Change type to dropdown\n",
    "            direction=\"down\", # Dropdown direction\n",
    "            buttons=all_dropdown_buttons, # Use the combined list\n",
    "            pad={\"r\": 10, \"t\": 10},\n",
    "            showactive=True,\n",
    "            x=0.5, # Position dropdown horizontally\n",
    "            xanchor=\"center\",\n",
    "            y=1.15, # Position dropdown vertically (above title)\n",
    "            yanchor=\"top\",\n",
    "            bgcolor='white', # Add background color for visibility\n",
    "            bordercolor='gray',\n",
    "            borderwidth=1\n",
    "        )\n",
    "    ]\n",
    ")\n",
    "\n",
    "# Add time period annotations (shapes and text)\n",
    "emancipation_periods = [\n",
    "    {\"period\": \"Early Foundations\", \"start\": 1700, \"end\": 1850, \"color\": \"rgba(255, 200, 200, 0.2)\"},\n",
    "    {\"period\": \"First Emancipation Wave\", \"start\": 1850, \"end\": 1900, \"color\": \"rgba(200, 255, 200, 0.2)\"},\n",
    "    {\"period\": \"Mid-Century Expansion\", \"start\": 1940, \"end\": 1970, \"color\": \"rgba(200, 200, 255, 0.2)\"},\n",
    "    {\"period\": \"Post-1970 Expansion\", \"start\": 1970, \"end\": 2005, \"color\": \"rgba(255, 255, 200, 0.2)\"},\n",
    "    {\"period\": \"Recent Formations\", \"start\": 2005, \"end\": 2025, \"color\": \"rgba(255, 200, 255, 0.2)\"}\n",
    "]\n",
    "\n",
    "for period in emancipation_periods:\n",
    "    fig.add_shape(\n",
    "        type=\"rect\",\n",
    "        x0=period[\"start\"],\n",
    "        x1=period[\"end\"],\n",
    "        # Span the full calculated Y range based on ranks\n",
    "        y0=y_range_min,\n",
    "        y1=y_range_max,\n",
    "        fillcolor=period[\"color\"],\n",
    "        opacity=1,\n",
    "        layer=\"below\", # Place below the data points\n",
    "        line_width=0,\n",
    "    )\n",
    "\n",
    "    fig.add_annotation(\n",
    "        x=(period[\"start\"] + period[\"end\"])/2,\n",
    "        # Position text slightly above the bottom of the shape, relative to the scaled Y range\n",
    "        y=y_range_min + (y_range_max - y_range_min) * 0.02, # Position text lower\n",
    "        text=f\"<b>{period['period']}</b>\", # Make text bold\n",
    "        showarrow=False,\n",
    "        font=dict(size=12, color='black'), # Ensure text is visible\n",
    "        xref=\"x\", yref=\"y\" # Reference coordinates to the axes\n",
    "    )\n",
    "\n",
    "# Add custom hover template to all traces\n",
    "# This ensures hover info is consistent and helpful\n",
    "for i in range(len(fig.data)):\n",
    "     # Check if hovertext is defined before setting hovertemplate\n",
    "     if hasattr(fig.data[i], 'hovertext') and fig.data[i].hovertext is not None:\n",
    "        fig.data[i].hovertemplate = fig.data[i].hovertext + '<extra></extra>' # Use the existing hovertext and remove default extra box\n",
    "     else:\n",
    "         # Provide a default or handle cases where hovertext might be missing\n",
    "         fig.data[i].hovertemplate = '%{y}, %{x}<extra></extra>'\n",
    "\n",
    "\n",
    "# Add annotation with instructions\n",
    "fig.add_annotation(\n",
    "    xref=\"paper\", yref=\"paper\", # Reference coordinates to the paper (plot area)\n",
    "    x=0.5, y=1.06, # Position above the title\n",
    "    text=\"<b>Interactive Features:</b> Drag to pan, double-click to zoom in, use scroll wheel to zoom, use the dropdown for preset views or to select a city, or use the toolbar in the top-right\", # Updated instructions\n",
    "    showarrow=False,\n",
    "    font=dict(size=11),\n",
    "    align=\"center\"\n",
    ")\n",
    "\n",
    "\n",
    "# Create output directory if it doesn't exist\n",
    "output_dir = r\"C:\\Users\\daves\\OneDrive\\Pessoal\\Acadêmico\\Mestrado\\Dissertação - Execução\\Dissertação\\Quadros e gráficos\"\n",
    "os.makedirs(output_dir, exist_ok=True)\n",
    "\n",
    "# Save the figure as HTML\n",
    "output_path = os.path.join(output_dir, \"municipal_emancipation_timeline_hover_updated.html\")\n",
    "fig.write_html(output_path)\n",
    "\n",
    "# --- DO NOT SAVE STATIC IMAGE AS REQUESTED ---\n",
    "# image_path = os.path.join(output_dir, \"municipal_emancipation_timeline.png\")\n",
    "# fig.write_image(image_path, width=1800, height=total_height, scale=2) # Use adjusted height\n",
    "\n",
    "print(f\"Interactive graph saved to:\\n{output_path}\")\n",
    "print(\"Static image saving skipped as requested.\")\n",
    "\n",
    "# Show the figure\n",
    "fig.show()\n"
   ]
  },
  {
   "cell_type": "code",
   "execution_count": null,
   "id": "95ac55df",
   "metadata": {},
   "outputs": [],
   "source": []
  }
 ],
 "metadata": {
  "kernelspec": {
   "display_name": "Python 3",
   "language": "python",
   "name": "python3"
  },
  "language_info": {
   "codemirror_mode": {
    "name": "ipython",
    "version": 3
   },
   "file_extension": ".py",
   "mimetype": "text/x-python",
   "name": "python",
   "nbconvert_exporter": "python",
   "pygments_lexer": "ipython3",
   "version": "3.13.3"
  }
 },
 "nbformat": 4,
 "nbformat_minor": 5
}
