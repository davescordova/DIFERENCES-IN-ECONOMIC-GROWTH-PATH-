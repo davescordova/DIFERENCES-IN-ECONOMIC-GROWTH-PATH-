{
 "cells": [
  {
   "cell_type": "code",
   "execution_count": null,
   "id": "93016e5d-2cae-4a78-89a0-c726a4ca9d13",
   "metadata": {},
   "outputs": [],
   "source": [
    "using GeoDataFrames\n",
    "using DataFrames\n",
    "using Plots\n",
    "using Shapefile\n",
    "using Random\n",
    "using ArchGDAL\n",
    "using GeoInterface"
   ]
  },
  {
   "cell_type": "code",
   "execution_count": null,
   "id": "5791935e-dc48-4b65-908c-f53a74faec39",
   "metadata": {},
   "outputs": [],
   "source": [
    "###Shapefile municipalities\n",
    "\n",
    "shapefile_path = \"C:\\\\Users\\\\daves\\\\OneDrive\\\\Pessoal\\\\Acadêmico\\\\Mestrado\\\\Dissertação - Execução\\\\Análises\\\\MT_Municipios_2022\\\\MT_Municipios_2022.shp\"\n",
    "municipalities = Shapefile.Table(shapefile_path) |> DataFrame"
   ]
  },
  {
   "cell_type": "code",
   "execution_count": null,
   "id": "bf0989ca-04f8-4b1f-8efc-31b0abf4da3b",
   "metadata": {},
   "outputs": [],
   "source": [
    "#Filterig municipalities\n",
    "municipios_filtrados = [\n",
    "    \"Cuiabá\", \"Várzea Grande\"]\n",
    "\n",
    "filtered_municipalities = filter(row -> row.NM_MUN in municipios_filtrados, municipalities)\n",
    "\n",
    "println(filtered_municipalities)"
   ]
  },
  {
   "cell_type": "code",
   "execution_count": null,
   "id": "ce4fabaf-c811-4084-a5fe-b12e4f6778c2",
   "metadata": {},
   "outputs": [],
   "source": [
    "# Highway shapefile\n",
    "shapefile_path_highways = \"C:\\\\Users\\\\daves\\\\OneDrive\\\\Pessoal\\\\Acadêmico\\\\Mestrado\\\\Dissertação - Execução\\\\Análises\\\\Rodovias\\\\SNV_202410A.shp\"\n",
    "highways = Shapefile.Table(shapefile_path_highways) |> DataFrame"
   ]
  },
  {
   "cell_type": "code",
   "execution_count": null,
   "id": "8600f904-457e-4469-bf77-00f0a5805298",
   "metadata": {},
   "outputs": [],
   "source": [
    "# Filtering sg_uf equals to MT\n",
    "filtered_highways_MT = filter(row -> row.sg_uf == \"MT\", highways)\n",
    "\n",
    "# Grouping by vl_br row\n",
    "grouped_highways = groupby(filtered_highways_MT, :vl_br)"
   ]
  },
  {
   "cell_type": "code",
   "execution_count": null,
   "id": "daf2dae1-e64e-49fd-a846-8ab1d2d1bb45",
   "metadata": {},
   "outputs": [],
   "source": [
    "#Combine geometries\n",
    "function combine_geometries(geometries)\n",
    "\n",
    "    return mapfoldl(\n",
    "        x -> GeoInterface.convert(ArchGDAL, x), # map - apply to each element\n",
    "        ArchGDAL.union, # reduce 2 elements to 1 element\n",
    "        geometries # the vector to perform the operation on\n",
    "    )\n",
    "end"
   ]
  },
  {
   "cell_type": "code",
   "execution_count": null,
   "id": "672f4a4a-7759-4283-80fa-25d540a77264",
   "metadata": {},
   "outputs": [],
   "source": [
    "# Applying function\n",
    "combined_geometries = combine(grouped_highways, :geometry => combine_geometries => :geometry)"
   ]
  },
  {
   "cell_type": "code",
   "execution_count": null,
   "id": "4fd5e515-daa9-481e-bd47-5a9c54432d2c",
   "metadata": {},
   "outputs": [],
   "source": [
    "# Random colors for highways\n",
    "colors_highways = [RGB(rand(), rand(), rand()) for _ in 1:length(combined_geometries.geometry)]"
   ]
  },
  {
   "cell_type": "code",
   "execution_count": null,
   "id": "9a1d9c67-019d-4258-89d4-eaff361f7663",
   "metadata": {},
   "outputs": [],
   "source": [
    "# Random colors for highways muncicipality\n",
    "colors_municipalities = [RGB(rand(), rand(), rand()) for _ in 1:length(filtered_municipalities.geometry)]"
   ]
  },
  {
   "cell_type": "code",
   "execution_count": null,
   "id": "8d48d154-2d7f-4072-8db3-d2b56cb5fb1a",
   "metadata": {},
   "outputs": [],
   "source": [
    "#Ploting\n",
    "plot(size=(1000, 800))  \n",
    "plot!(legend=:outerright)\n",
    "plot!(municipalities.geometry, color=:white, linecolor=:black, label=false)\n",
    "\n",
    "for (i, geometry) in enumerate(filtered_municipalities.geometry)\n",
    "    plot!(geometry, color=colors_municipalities[i], label=municipios_filtrados[i])\n",
    "end\n",
    "\n",
    "for (i, geometry) in enumerate(combined_geometries.geometry)\n",
    "    plot!(geometry, color=colors_highways[i], linewidth=3, label=\"BR-\" * string(combined_geometries.vl_br[i]))\n",
    "end\n",
    "\n",
    "xlabel!(\"\")\n",
    "ylabel!(\"\")\n",
    "title!(\"\")\n",
    "plot!(legend=:outerright, legendfontsize=8) \n",
    "plot!(framestyle=:none, grid=false)  \n",
    "\n",
    "display(plot!())\n",
    "\n",
    "savefig(\"C:\\\\Users\\\\daves\\\\OneDrive\\\\Pessoal\\\\Acadêmico\\\\Mestrado\\\\Dissertação - Execução\\\\Dissertação\\\\Quadros e gráficos\\\\Graph- Hub Cuiabá e Várzea Grande.png\")"
   ]
  },
  {
   "cell_type": "code",
   "execution_count": null,
   "id": "41c316ea-39ef-4a61-aa90-0a7aaf39e59d",
   "metadata": {},
   "outputs": [],
   "source": []
  }
 ],
 "metadata": {
  "kernelspec": {
   "display_name": "Julia 1.11.0",
   "language": "julia",
   "name": "julia-1.11"
  },
  "language_info": {
   "file_extension": ".jl",
   "mimetype": "application/julia",
   "name": "julia",
   "version": "1.11.0"
  }
 },
 "nbformat": 4,
 "nbformat_minor": 5
}
