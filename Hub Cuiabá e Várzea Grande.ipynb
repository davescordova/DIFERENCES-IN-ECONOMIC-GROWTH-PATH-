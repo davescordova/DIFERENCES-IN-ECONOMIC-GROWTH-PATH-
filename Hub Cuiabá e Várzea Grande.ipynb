{
 "cells": [
  {
   "cell_type": "code",
   "execution_count": null,
   "id": "93016e5d-2cae-4a78-89a0-c726a4ca9d13",
   "metadata": {},
   "outputs": [],
   "source": [
    "using GeoDataFrames\n",
    "using DataFrames\n",
    "using Plots\n",
    "pyplot()\n",
    "using Shapefile\n",
    "using Random\n",
    "using ArchGDAL\n",
    "using GeoInterface"
   ]
  },
  {
   "cell_type": "code",
   "execution_count": null,
   "id": "5791935e-dc48-4b65-908c-f53a74faec39",
   "metadata": {},
   "outputs": [],
   "source": [
    "###Shapefile municipalities\n",
    "\n",
    "shapefile_path = \"C:\\\\Users\\\\daves\\\\OneDrive\\\\Pessoal\\\\Acadêmico\\\\Mestrado\\\\Dissertação - Execução\\\\Análises\\\\MT_Municipios_2022\\\\MT_Municipios_2022.shp\"\n",
    "municipalities = Shapefile.Table(shapefile_path) |> DataFrame"
   ]
  },
  {
   "cell_type": "code",
   "execution_count": null,
   "id": "bf0989ca-04f8-4b1f-8efc-31b0abf4da3b",
   "metadata": {},
   "outputs": [],
   "source": [
    "# Lista de municípios para filtrar\n",
    "municipios_filtrados = [\n",
    "    \"Cuiabá\", \"Várzea Grande\"]\n",
    "\n",
    "# Filtrando os dados\n",
    "filtered_municipalities = filter(row -> row.NM_MUN in municipios_filtrados, municipalities)\n",
    "\n",
    "# Exibindo os dados filtrados\n",
    "println(filtered_municipalities)"
   ]
  },
  {
   "cell_type": "code",
   "execution_count": null,
   "id": "ce4fabaf-c811-4084-a5fe-b12e4f6778c2",
   "metadata": {},
   "outputs": [],
   "source": [
    "# Highway shapefile\n",
    "shapefile_path_highways = \"C:\\\\Users\\\\daves\\\\OneDrive\\\\Pessoal\\\\Acadêmico\\\\Mestrado\\\\Dissertação - Execução\\\\Análises\\\\Rodovias\\\\SNV_202410A.shp\"\n",
    "highways = Shapefile.Table(shapefile_path_highways) |> DataFrame"
   ]
  },
  {
   "cell_type": "code",
   "execution_count": null,
   "id": "8600f904-457e-4469-bf77-00f0a5805298",
   "metadata": {},
   "outputs": [],
   "source": [
    "# Filtering sg_uf equals to MT\n",
    "filtered_highways_MT = filter(row -> row.sg_uf == \"MT\", highways)\n",
    "\n",
    "# Grouping by vl_br row\n",
    "grouped_highways = groupby(filtered_highways_MT, :vl_br)"
   ]
  },
  {
   "cell_type": "code",
   "execution_count": null,
   "id": "daf2dae1-e64e-49fd-a846-8ab1d2d1bb45",
   "metadata": {},
   "outputs": [],
   "source": [
    "#Combine geometries\n",
    "function combine_geometries(geometries)\n",
    "\n",
    "    return mapfoldl(\n",
    "        x -> GeoInterface.convert(ArchGDAL, x), # map - apply to each element\n",
    "        ArchGDAL.union, # reduce 2 elements to 1 element\n",
    "        geometries # the vector to perform the operation on\n",
    "    )\n",
    "end"
   ]
  },
  {
   "cell_type": "code",
   "execution_count": null,
   "id": "672f4a4a-7759-4283-80fa-25d540a77264",
   "metadata": {},
   "outputs": [],
   "source": [
    "# Applying function\n",
    "combined_geometries = combine(grouped_highways, :geometry => combine_geometries => :geometry)\n",
    "\n",
    "#Showing results\n",
    "println(combined_geometries)"
   ]
  },
  {
   "cell_type": "code",
   "execution_count": null,
   "id": "4fd5e515-daa9-481e-bd47-5a9c54432d2c",
   "metadata": {},
   "outputs": [],
   "source": [
    "# Gerar cores aleatórias para cada geometria\n",
    "colors = [RGB(rand(), rand(), rand()) for _ in 1:length(combined_geometries.geometry)]"
   ]
  },
  {
   "cell_type": "code",
   "execution_count": null,
   "id": "e2e8ebad-78ea-4a62-b7f9-7af7f42ba6de",
   "metadata": {},
   "outputs": [],
   "source": [
    "# Definir cores para municipios_filtrados\n",
    "colors2 = [:black, :gray]"
   ]
  },
  {
   "cell_type": "code",
   "execution_count": null,
   "id": "9aa873e0-434a-4bd2-bc1b-1fe0040af824",
   "metadata": {},
   "outputs": [],
   "source": [
    "# Plotar todos os municípios e as rodovias filtradas\n",
    "plot(size=(1000, 800))  # Definir tamanho do gráfico\n",
    "plot!(legend=:outerright)\n",
    "plot!(municipalities.geometry, color=:white, linecolor=:black, label=false)"
   ]
  },
  {
   "cell_type": "code",
   "execution_count": null,
   "id": "59b176db-0880-43f2-b844-b851d99acbf7",
   "metadata": {},
   "outputs": [],
   "source": [
    "# Plotar os municípios filtrados com cores específicas\n",
    "for (i, NM_MUN) in enumerate(filtered_municipalities.geometry)\n",
    "    plot!(NM_MUN, color=colors2[i], label=municipios_filtrados[i])\n",
    "end"
   ]
  },
  {
   "cell_type": "code",
   "execution_count": null,
   "id": "b490239a-1abf-4256-9e6a-b20cee6bc95b",
   "metadata": {},
   "outputs": [],
   "source": [
    "# Plotar as rodovias filtradas\n",
    "for (i, geometry) in enumerate(combined_geometries.geometry)\n",
    "    plot!(geometry, color=colors[i], linewidth=3, label=\"BR-\" * string(combined_geometries.vl_br[i]))\n",
    "end"
   ]
  },
  {
   "cell_type": "code",
   "execution_count": null,
   "id": "0dfb152f-33c3-458e-ac89-2ebd912cdd22",
   "metadata": {},
   "outputs": [],
   "source": [
    "xlabel!(\"\")\n",
    "ylabel!(\"\")\n",
    "title!(\"\")\n",
    "plot!(legend=:outerright, legendfontsize=8)  # Colocar a legenda ao lado e diminuir o tamanho da legenda\n",
    "plot!(framestyle=:none, grid=false)  # Excluir eixos e marcas de quadrado"
   ]
  },
  {
   "cell_type": "code",
   "execution_count": null,
   "id": "b0a9f440-6e47-43f1-8cf5-1509295ec50c",
   "metadata": {},
   "outputs": [],
   "source": [
    "# Salvar o gráfico\n",
    "savefig(\"C:\\\\Users\\\\daves\\\\OneDrive\\\\Pessoal\\\\Acadêmico\\\\Mestrado\\\\Dissertação - Execução\\\\Dissertação\\\\Quadros e gráficos\\\\Graph- Hub Cuiabá e Várzea Grande.png\")"
   ]
  },
  {
   "cell_type": "code",
   "execution_count": null,
   "id": "cac50a36-a7fc-4507-ae34-f3cdb604ec14",
   "metadata": {},
   "outputs": [],
   "source": []
  }
 ],
 "metadata": {
  "kernelspec": {
   "display_name": "Julia 1.11.0",
   "language": "julia",
   "name": "julia-1.11"
  },
  "language_info": {
   "file_extension": ".jl",
   "mimetype": "application/julia",
   "name": "julia",
   "version": "1.11.0"
  }
 },
 "nbformat": 4,
 "nbformat_minor": 5
}
