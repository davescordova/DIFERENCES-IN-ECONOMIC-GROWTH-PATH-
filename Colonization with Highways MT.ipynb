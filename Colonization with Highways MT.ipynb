{
 "cells": [
  {
   "cell_type": "code",
   "execution_count": null,
   "id": "4398ed26-7058-4b61-8909-cfc0bb8642f0",
   "metadata": {},
   "outputs": [],
   "source": [
    "import matplotlib.pyplot as plt\n",
    "import geopandas as gpd\n",
    "from matplotlib.lines import Line2D\n",
    "from matplotlib.colors import Normalize\n",
    "from matplotlib.cm import ScalarMappable\n",
    "import numpy as np"
   ]
  },
  {
   "cell_type": "code",
   "execution_count": null,
   "id": "07fb955a-672a-4baf-bdd2-003ad072c32d",
   "metadata": {},
   "outputs": [],
   "source": [
    "# Load shapfile\n",
    "#Muncipalities\n",
    "shapefile_path = \"C:\\\\Users\\\\daves\\\\OneDrive\\\\Pessoal\\\\Acadêmico\\\\Mestrado\\\\Dissertação - Execução\\\\Análises\\\\MT_Municipios_2022\\\\MT_Municipios_2022.shp\"\n",
    "municipalities = gpd.read_file(shapefile_path)\n",
    "\n",
    "#Highways\n",
    "shapefile_path_highways = \"C:\\\\Users\\\\daves\\\\OneDrive\\\\Pessoal\\\\Acadêmico\\\\Mestrado\\\\Dissertação - Execução\\\\Análises\\\\Rodovias\\\\SNV_202410A.shp\"\n",
    "highways = gpd.read_file(shapefile_path_highways)"
   ]
  },
  {
   "cell_type": "code",
   "execution_count": null,
   "id": "6a20ecb6-e74c-49be-b65a-aff4e8a92c2b",
   "metadata": {},
   "outputs": [],
   "source": [
    "# Filter sg_uf = MT\n",
    "filtered_highways_MT = highways[highways['sg_uf'] == 'MT']\n",
    "\n",
    "# Group by vl_br and combine geoetries\n",
    "def combine_geometries(group):\n",
    "    return unary_union(group['geometry'])\n",
    "\n",
    "combined_geometries = filtered_highways_MT.groupby('vl_br').apply(combine_geometries).reset_index(name='geometry')\n",
    "\n",
    "# combined_geometries being a GeoDataFrame\n",
    "combined_geometries = gpd.GeoDataFrame(combined_geometries, geometry='geometry')\n",
    "combined_geometries"
   ]
  },
  {
   "cell_type": "code",
   "execution_count": null,
   "id": "365da7db-0f70-41cb-99a2-92c81c065abf",
   "metadata": {},
   "outputs": [],
   "source": [
    "#Load data\n",
    "file_path = \"C:\\\\Users\\\\daves\\\\OneDrive\\\\Pessoal\\\\Acadêmico\\\\Mestrado\\\\Dissertação - Execução\\\\Dissertação\\\\Quadros e gráficos\\\\Table 1.xlsx\"\n",
    "colonization = pd.read_excel(file_path, sheet_name='Planilha1')\n",
    "\n",
    "# Joining data\n",
    "merged = pd.merge(municipalities, colonization, left_on='NM_MUN', right_on='City', how='inner')\n",
    "\n",
    "# FIltering Year is not null\n",
    "colonization_cities = merged[merged['Year'].notna()]\n",
    "\n",
    "colonization_cities"
   ]
  },
  {
   "cell_type": "code",
   "execution_count": null,
   "id": "6895d660-700e-46a6-819a-2d18e99d5e5d",
   "metadata": {},
   "outputs": [],
   "source": [
    "# Ploting\n",
    "fig, ax = plt.subplots(figsize=(10, 10))\n",
    "\n",
    "municipalities.plot(ax=ax, color='white', edgecolor='black', linewidth=0.5, label='Municipalities')\n",
    "\n",
    "colonization_cities.plot(ax=ax, column='NM_MUN', cmap='tab20', marker='o', markersize=50, legend=False)\n",
    "\n",
    "# Verifyng if 'vl_br' has strings\n",
    "if combined_geometries['vl_br'].dtype == object:  # if string\n",
    "    # mapping numerical values\n",
    "    vl_br_mapping = {value: idx for idx, value in enumerate(combined_geometries['vl_br'].unique())}\n",
    "    combined_geometries['vl_br_numeric'] = combined_geometries['vl_br'].map(vl_br_mapping)\n",
    "    column_to_plot = 'vl_br_numeric'\n",
    "else:\n",
    "    column_to_plot = 'vl_br'\n",
    "\n",
    "combined_geometries.plot(ax=ax, column=column_to_plot, cmap='tab20', linewidth=2, legend=False)\n",
    "\n",
    "vl_br_unique = combined_geometries['vl_br'].unique()\n",
    "vl_br_colors = plt.cm.tab20(np.linspace(0, 1, len(vl_br_unique)))  \n",
    "\n",
    "legend_elements_highways = [Line2D([0], [0], color=vl_br_colors[i], lw=2, label=f'BR-{vl_br_unique[i]}') for i in range(len(vl_br_unique))]\n",
    "\n",
    "colonization_unique = colonization_cities['NM_MUN'].unique()\n",
    "colonization_colors = plt.cm.tab20(np.linspace(0, 1, len(colonization_unique)))  # Gerar cores para cada valor único\n",
    "legend_elements_colonization = [Line2D([0], [0], color=colonization_colors[i], marker='o', markersize=10, linestyle='None', label=colonization_unique[i]) for i in range(len(colonization_unique))]\n",
    "\n",
    "unified_legend_elements = legend_elements_highways + legend_elements_colonization\n",
    "\n",
    "ax.legend(handles=unified_legend_elements, loc='lower left', bbox_to_anchor=(1, 0), prop={'size': 8})\n",
    "\n",
    "ax.set_xticks([])\n",
    "ax.set_yticks([])\n",
    "\n",
    "ax.set_axis_off()\n",
    "\n",
    "output_path = r\"C:\\Users\\daves\\OneDrive\\Pessoal\\Acadêmico\\Mestrado\\Dissertação - Execução\\Dissertação\\Quadros e gráficos\\Graph-Colonization with Highways.png\"\n",
    "plt.savefig(output_path, dpi=1200, bbox_inches='tight')\n",
    "\n",
    "plt.tight_layout()\n",
    "plt.show()"
   ]
  },
  {
   "cell_type": "code",
   "execution_count": null,
   "id": "08bc0e03-dbeb-48e2-a25e-09a1e2ccb461",
   "metadata": {},
   "outputs": [],
   "source": []
  }
 ],
 "metadata": {
  "kernelspec": {
   "display_name": "Python 3 (ipykernel)",
   "language": "python",
   "name": "python3"
  },
  "language_info": {
   "codemirror_mode": {
    "name": "ipython",
    "version": 3
   },
   "file_extension": ".py",
   "mimetype": "text/x-python",
   "name": "python",
   "nbconvert_exporter": "python",
   "pygments_lexer": "ipython3",
   "version": "3.12.8"
  }
 },
 "nbformat": 4,
 "nbformat_minor": 5
}
