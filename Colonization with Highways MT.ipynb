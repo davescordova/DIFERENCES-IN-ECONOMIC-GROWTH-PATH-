{
 "cells": [
  {
   "cell_type": "code",
   "execution_count": null,
   "id": "93016e5d-2cae-4a78-89a0-c726a4ca9d13",
   "metadata": {},
   "outputs": [],
   "source": [
    "using GeoDataFrames\n",
    "using DataFrames\n",
    "using Plots\n",
    "using Shapefile\n",
    "using Random\n",
    "using ArchGDAL\n",
    "using GeoInterface\n",
    "using XLSX"
   ]
  },
  {
   "cell_type": "code",
   "execution_count": null,
   "id": "5791935e-dc48-4b65-908c-f53a74faec39",
   "metadata": {},
   "outputs": [],
   "source": [
    "###Shapefile municipalities\n",
    "\n",
    "shapefile_path = \"C:\\\\Users\\\\daves\\\\OneDrive\\\\Pessoal\\\\Acadêmico\\\\Mestrado\\\\Dissertação - Execução\\\\Análises\\\\MT_Municipios_2022\\\\MT_Municipios_2022.shp\"\n",
    "municipalities = Shapefile.Table(shapefile_path) |> DataFrame\n",
    "\n",
    "# Highway shapefile\n",
    "shapefile_path_highways = \"C:\\\\Users\\\\daves\\\\OneDrive\\\\Pessoal\\\\Acadêmico\\\\Mestrado\\\\Dissertação - Execução\\\\Análises\\\\Rodovias\\\\SNV_202410A.shp\"\n",
    "highways = Shapefile.Table(shapefile_path_highways) |> DataFrame"
   ]
  },
  {
   "cell_type": "code",
   "execution_count": null,
   "id": "8600f904-457e-4469-bf77-00f0a5805298",
   "metadata": {},
   "outputs": [],
   "source": [
    "# Filtering sg_uf equals to MT\n",
    "filtered_highways_MT = filter(row -> row.sg_uf == \"MT\", highways)\n",
    "\n",
    "# Grouping by vl_br row\n",
    "grouped_highways = groupby(filtered_highways_MT, :vl_br)"
   ]
  },
  {
   "cell_type": "code",
   "execution_count": null,
   "id": "daf2dae1-e64e-49fd-a846-8ab1d2d1bb45",
   "metadata": {},
   "outputs": [],
   "source": [
    "#Combine geometries\n",
    "function combine_geometries(geometries)\n",
    "\n",
    "    return mapfoldl(\n",
    "        x -> GeoInterface.convert(ArchGDAL, x), # map - apply to each element\n",
    "        ArchGDAL.union, # reduce 2 elements to 1 element\n",
    "        geometries # the vector to perform the operation on\n",
    "    )\n",
    "end"
   ]
  },
  {
   "cell_type": "code",
   "execution_count": null,
   "id": "672f4a4a-7759-4283-80fa-25d540a77264",
   "metadata": {},
   "outputs": [],
   "source": [
    "# Applying function\n",
    "combined_geometries = combine(grouped_highways, :geometry => combine_geometries => :geometry)\n",
    "\n",
    "#Showing results\n",
    "println(combined_geometries)"
   ]
  },
  {
   "cell_type": "code",
   "execution_count": null,
   "id": "82114705-1dca-4027-9bd3-75333bd7ca30",
   "metadata": {},
   "outputs": [],
   "source": [
    "# Caminho para o arquivo Excel\n",
    "file_path = \"C:\\\\Users\\\\daves\\\\OneDrive\\\\Pessoal\\\\Acadêmico\\\\Mestrado\\\\Dissertação - Execução\\\\Dissertação\\\\Quadros e gráficos\\\\Table 1.xlsx\"\n",
    "\n",
    "# Carregar a planilha específica como uma tabela\n",
    "table = XLSX.readtable(file_path, \"Planilha1\")\n",
    "\n",
    "# Converter a tabela em DataFrame\n",
    "colonization = DataFrame(table)"
   ]
  },
  {
   "cell_type": "code",
   "execution_count": null,
   "id": "c3b8198d-edda-454a-8f01-119dfbe23ac1",
   "metadata": {},
   "outputs": [],
   "source": [
    "# Realizar a junção dos dados\n",
    "Merged = innerjoin(municipalities, colonization, on = :NM_MUN => :City)\n",
    "\n",
    "# Filtrar as linhas onde a coluna Year não é nula\n",
    "colonization_cities = filter(row -> !ismissing(row.Year), Merged)"
   ]
  },
  {
   "cell_type": "code",
   "execution_count": null,
   "id": "469623c3-3a9a-48c2-a3f2-2b62dd029ded",
   "metadata": {},
   "outputs": [],
   "source": [
    "# Gerar a paleta de cores\n",
    "num_cities = nrow(colonization_cities)\n",
    "colors_colonization = distinguishable_colors(num_cities)\n",
    "\n",
    "num_roads = nrow(combined_geometries)\n",
    "colors_roads = distinguishable_colors(num_roads)\n"
   ]
  },
  {
   "cell_type": "code",
   "execution_count": null,
   "id": "9aa873e0-434a-4bd2-bc1b-1fe0040af824",
   "metadata": {},
   "outputs": [],
   "source": [
    "# Definir tamanho do gráfico\n",
    "plot(size=(2000, 1600))\n",
    "\n",
    "# Plotar os municípios\n",
    "plot(municipalities.geometry, color=:white, linecolor=:black, label=false)\n"
   ]
  },
  {
   "cell_type": "code",
   "execution_count": null,
   "id": "e838d226-d44f-4279-b6b1-1cdfda7a3b70",
   "metadata": {},
   "outputs": [],
   "source": [
    "# Plotar os projetos de colonização\n",
    "for (i, geom) in enumerate(colonization_cities.geometry)\n",
    "    plot!(geom, color=colors_colonization[i], label=colonization_cities.NM_MUN[i])\n",
    "end\n"
   ]
  },
  {
   "cell_type": "code",
   "execution_count": null,
   "id": "170db916-28f1-440b-8124-30d8e6a341cc",
   "metadata": {},
   "outputs": [],
   "source": [
    "# Plotar as rodovias com cores diferentes e adicionar legenda\n",
    "for (i, geom) in enumerate(combined_geometries.geometry)\n",
    "    plot!(geom, color=colors_roads[i], linewidth=4, label=\"BR-\" * string(combined_geometries.vl_br[i]))\n",
    "end"
   ]
  },
  {
   "cell_type": "code",
   "execution_count": null,
   "id": "419dab6c-07ca-422b-b088-0bb5b9b92cf6",
   "metadata": {},
   "outputs": [],
   "source": [
    "# Ajustar a legenda\n",
    "plot!(legendfontsize=5, legend=:outerbottom, legend_lines = 8, legend_columns=4,legend_spacing=0.2)\n",
    "\n",
    "# Remover eixos e grades\n",
    "plot!(framestyle=:none, grid=false)\n",
    "\n",
    "# Ajustar títulos e rótulos dos eixos\n",
    "xlabel!(\"\")\n",
    "ylabel!(\"\")\n",
    "title!(\"\")"
   ]
  },
  {
   "cell_type": "code",
   "execution_count": null,
   "id": "b0a9f440-6e47-43f1-8cf5-1509295ec50c",
   "metadata": {},
   "outputs": [],
   "source": [
    "# Salvar o gráfico\n",
    "savefig(\"C:\\\\Users\\\\daves\\\\OneDrive\\\\Pessoal\\\\Acadêmico\\\\Mestrado\\\\Dissertação - Execução\\\\Dissertação\\\\Quadros e gráficos\\\\Graph-Colonization with Highways.png\")"
   ]
  },
  {
   "cell_type": "code",
   "execution_count": null,
   "id": "0e784ae5-d225-4f59-b13a-ad101c9f808e",
   "metadata": {},
   "outputs": [],
   "source": []
  }
 ],
 "metadata": {
  "kernelspec": {
   "display_name": "Julia 1.11.0",
   "language": "julia",
   "name": "julia-1.11"
  },
  "language_info": {
   "file_extension": ".jl",
   "mimetype": "application/julia",
   "name": "julia",
   "version": "1.11.0"
  }
 },
 "nbformat": 4,
 "nbformat_minor": 5
}
