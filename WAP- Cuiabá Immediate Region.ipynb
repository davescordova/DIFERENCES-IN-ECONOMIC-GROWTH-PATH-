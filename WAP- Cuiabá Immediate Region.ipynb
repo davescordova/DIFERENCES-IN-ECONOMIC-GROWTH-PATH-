{
 "cells": [
  {
   "cell_type": "code",
   "execution_count": 19,
   "id": "296a7625",
   "metadata": {},
   "outputs": [
    {
     "name": "stderr",
     "output_type": "stream",
     "text": [
      "C:\\Users\\daves\\AppData\\Local\\Temp\\ipykernel_26296\\1888920079.py:65: OptimizeWarning:\n",
      "\n",
      "Covariance of the parameters could not be estimated\n",
      "\n"
     ]
    }
   ],
   "source": [
    "import pandas as pd\n",
    "import numpy as np\n",
    "import matplotlib.pyplot as plt\n",
    "from scipy.optimize import curve_fit\n",
    "import plotly.graph_objects as go\n",
    "\n",
    "# Define the logistic function\n",
    "def logistic_function(x, capacity, growth_rate, x0):\n",
    "    \"\"\"The logistic function.\"\"\"\n",
    "    return capacity / (1 + np.exp(-growth_rate * (x - x0)))\n",
    "\n",
    "# Load the data\n",
    "file_path = r\"C:\\Users\\daves\\OneDrive\\Pessoal\\Acadêmico\\Mestrado\\Dissertação - Execução\\Análises\\Dados do Censo - não usar na regressão\\PIA individuais.xlsx\"\n",
    "df = pd.read_excel(file_path, sheet_name=\"Cuiabá\")\n",
    "\n",
    "# Filter out zeros or negative values\n",
    "df = df[df['Totalammount'] > 0].copy()\n",
    "\n",
    "# Define municipalities and their colors/line styles\n",
    "municipality_styles = {\n",
    "    \"Acorizal\": {'color': 'green', 'line_style': '--'},\n",
    "    \"Barão de Melgaço\": {'color': 'green', 'line_style': '-'},\n",
    "    \"Campo Verde\": {'color': 'blue', 'line_style': '--'},\n",
    "    \"Chapada dos Guimarães\": {'color': 'blue', 'line_style': '-'},\n",
    "    \"Cuiabá\": {'color': 'red', 'line_style': '--'},\n",
    "    \"Jangada\": {'color': 'black', 'line_style': '-'},\n",
    "    \"Nobres\": {'color': 'black', 'line_style': '--'},\n",
    "    \"Nossa Senhora do Livramento\": {'color': 'yellow', 'line_style': '-'},\n",
    "    \"Nova Brasilândia\": {'color': 'yellow', 'line_style': '--'},\n",
    "    \"Planalto da Serra\": {'color': 'orange', 'line_style': '-'},\n",
    "    \"Poconé\": {'color': 'purple', 'line_style': '--'},\n",
    "    \"Rosário Oeste\": {'color': 'gray', 'line_style': '-'},\n",
    "    \"Santo Antônio do Leverger\": {'color': 'gray', 'line_style': '--'},\n",
    "    \"Várzea Grande\": {'color': 'brown', 'line_style': '-'}\n",
    "}\n",
    "\n",
    "# ==============================================\n",
    "# STATIC PLOT (matplotlib)\n",
    "# ==============================================\n",
    "plt.figure(figsize=(24, 16))\n",
    "\n",
    "# Set global font size to 16\n",
    "plt.rcParams.update({\n",
    "    'font.size': 16,\n",
    "    'axes.titlesize': 16,\n",
    "    'axes.labelsize': 16,\n",
    "    'xtick.labelsize': 16,\n",
    "    'ytick.labelsize': 16,\n",
    "    'legend.fontsize': 16\n",
    "})\n",
    "\n",
    "# For each municipality, perform logistic fit and plot\n",
    "for mun, styles in municipality_styles.items():\n",
    "    mun_df = df[df['Municipios'] == mun]\n",
    "    if len(mun_df) >= 3:  # Need at least 3 points for a logistic fit\n",
    "        try:\n",
    "            years = np.array(mun_df['Year'])\n",
    "            amounts = np.array(mun_df['Totalammount'])\n",
    "            \n",
    "            # Initial guesses for parameters\n",
    "            p0 = [max(amounts) * 1.5, 0.5, np.median(years)]\n",
    "            bounds = ([max(amounts), 0.01, min(years)], [max(amounts) * 10, 5, max(years)])\n",
    "            \n",
    "            # Fit logistic curve\n",
    "            popt_logistic, _ = curve_fit(logistic_function, years, amounts, p0=p0, bounds=bounds, maxfev=10000)\n",
    "            \n",
    "            # Generate predictions\n",
    "            years_pred = np.linspace(min(years) - 2, max(years) + 2, 100)\n",
    "            pred_logistic = logistic_function(years_pred, *popt_logistic)\n",
    "            \n",
    "            # Plot the fitted line with thicker lines\n",
    "            plt.plot(years_pred, pred_logistic, \n",
    "                     color=styles['color'], \n",
    "                     linestyle=styles['line_style'], \n",
    "                     linewidth=3.0,\n",
    "                     label=mun)\n",
    "            \n",
    "        except RuntimeError as e:\n",
    "            print(f\"Could not fit logistic curve for {mun}: {str(e)}\")\n",
    "        except Exception as e:\n",
    "            print(f\"An error occurred during logistic fit for {mun}: {str(e)}\")\n",
    "\n",
    "# Customize the plot\n",
    "plt.xlabel('Year', fontsize=16)\n",
    "plt.ylabel('')  # Empty string removes y-axis label\n",
    "plt.yticks(rotation=45)\n",
    "plt.grid(False)\n",
    "\n",
    "# Legend settings with larger font\n",
    "legend = plt.legend(\n",
    "    fontsize=16,\n",
    "    ncol=6,\n",
    "    bbox_to_anchor=(0.5, -0.15),\n",
    "    loc='upper center',\n",
    "    frameon=True,\n",
    "    framealpha=0.8,\n",
    "    edgecolor='black',\n",
    "    borderpad=1.2\n",
    ")\n",
    "\n",
    "# Adjust layout to make room for the legend\n",
    "plt.tight_layout(rect=[0, 0.15, 1, 0.95])\n",
    "\n",
    "# Save the static plot with 1200 DPI\n",
    "static_output_path = r\"C:/Users/daves/OneDrive/Pessoal/Acadêmico/Mestrado/Dissertação - Execução/Dissertação/Quadros e gráficos/Graph8_logistic_static.jpg\"\n",
    "plt.savefig(static_output_path, dpi=1200, bbox_inches='tight', facecolor='white')\n",
    "plt.close()  # Close the figure to free memory"
   ]
  },
  {
   "cell_type": "code",
   "execution_count": 20,
   "id": "6fb3ac27",
   "metadata": {},
   "outputs": [
    {
     "name": "stdout",
     "output_type": "stream",
     "text": [
      "Interactive plot saved to: C:/Users/daves/OneDrive/Pessoal/Acadêmico/Mestrado/Dissertação - Execução/Dissertação/Quadros e gráficos/WAP(Cuiabá Immediate Region).html\n"
     ]
    },
    {
     "name": "stderr",
     "output_type": "stream",
     "text": [
      "C:\\Users\\daves\\AppData\\Local\\Temp\\ipykernel_26296\\2037514275.py:53: OptimizeWarning:\n",
      "\n",
      "Covariance of the parameters could not be estimated\n",
      "\n"
     ]
    },
    {
     "data": {
      "application/vnd.plotly.v1+json": {
       "config": {
        "plotlyServerURL": "https://plot.ly"
       },
       "data": [
        {
         "hovertemplate": "Year: %{x}<br>Total Amount: %{y:.2f}<extra></extra>",
         "line": {
          "color": "green",
          "dash": "dash",
          "width": 3
         },
         "mode": "lines",
         "name": "Acorizal",
         "type": "scatter",
         "visible": true,
         "x": {
          "bdata": "AAAAAADAnkANiXk7Q8KeQBoS83aGxJ5AJ5tsssnGnkA0JObtDMmeQEGtXylQy55ATjbZZJPNnkBbv1Kg1s+eQGdIzNsZ0p5AdNFFF13UnkCBWr9SoNaeQI7jOI7j2J5Am2yyySbbnkCo9SsFat2eQLV+pUCt355AwgcffPDhnkDPkJi3M+SeQNwZEvN25p5A6aKLLrronkD2KwVq/eqeQAO1fqVA7Z5AED744IPvnkAcx3Ecx/GeQClQ61cK9J5ANtlkk032nkBDYt7OkPieQFDrVwrU+p5AXXTRRRf9nkBq/UqBWv+eQHeGxLydAZ9AhA8++OADn0CRmLczJAafQJ4hMW9nCJ9Aq6qqqqoKn0C4MyTm7QyfQMW8nSExD59A0UUXXXQRn0DezpCYtxOfQOtXCtT6FZ9A+OCDDz4Yn0AFav1KgRqfQBLzdobEHJ9AH3zwwQcfn0AsBWr9SiGfQDmO4ziOI59ARhdddNEln0BToNavFCifQGApUOtXKp9AbbLJJpssn0B6O0Ni3i6fQIbEvJ0hMZ9Ak0022WQzn0Cg1q8UqDWfQK1fKVDrN59Auuiiiy46n0DHcRzHcTyfQNT6lQK1Pp9A4YMPPvhAn0DuDIl5O0OfQPuVArV+RZ9ACB988MFHn0AVqPUrBUqfQCIxb2dITJ9AL7roootOn0A7Q2LezlCfQEjM2xkSU59AVVVVVVVVn0Bi3s6QmFefQG9nSMzbWZ9AfPDBBx9cn0CJeTtDYl6fQJYCtX6lYJ9Ao4suuuhin0CwFKj1K2WfQL2dITFvZ59AyiabbLJpn0DXrxSo9WufQOQ4juM4bp9A8MEHH3xwn0D9SoFav3KfQArU+pUCdZ9AF1100UV3n0Ak5u0MiXmfQDFvZ0jMe59APvjggw9+n0BLgVq/UoCfQFgK1PqVgp9AZZNNNtmEn0ByHMdxHIefQH+lQK1fiZ9AjC666KKLn0CZtzMk5o2fQKZArV8pkJ9Asskmm2ySn0C/UqDWr5SfQMzbGRLzlp9A2WSTTTaZn0Dm7QyJeZufQPN2hsS8nZ9AAAAAAACgn0A=",
          "dtype": "f8"
         },
         "y": {
          "bdata": "j02yFfpdqUBgCSEgh3CpQCup4VsUg6lAe0iBtaGVqUCbhYwZL6ipQBvTj3S8uqlAc8kXs0nNqUCKeLHB1t+pQDu56oxj8qlAAn9SAfAEqkBHKXkLfBeqQOvU8JcHKqpApq1Nk5I8qkBPPybqHE+qQBjHE4mmYapAtYSyXC90qkBYC6JRt4aqQKKShVQ+mapAaUcEUsSrqkBbnMk2Sb6qQIOahe/M0KpAmjHtaE/jqkAqiLqP0PWqQLFLrVBQCKtAOACLmM4aq0ALUB9USy2rQBZbPHDGP6tABga72T9Sq0BBSXt9t2SrQIx/ZEgtd6tAdrRlJ6GJq0CL8nUHE5yrQCiRlNWCrqtAJILJfvDAq0ASnyXwW9OrQEb2whbF5atAdxfF3yv4q0A/YFk4kAqsQO1Htw3yHKxAUqsgTVEvrEAJGOLjrUGsQG0XU78HVKxAMXnWzF5mrECGndr5snisQPa+2TMEi6xAwTtaaFKdrEDd3u6Ena+sQIYoN3flwaxAYpbfLCrUrEAt66GTa+asQPx1RZmp+KxAH1mfK+QKrUBF0JI4Gx2tQHx2Ea5OL61AgIsben5BrUCkOMCKqlOtQCvVHc7SZa1ANypiMvd3rUAQtsqlF4qtQA3vpBY0nK1A2IVOc0yurUA3pzWqYMCtQEQ92alw0q1AGTDJYHzkrUDkpaa9g/atQJJCJK+GCK5AmGYGJIUarkB2bSMLfyyuQHbrY1N0Pq5A6+rC62RQrkDDKE7DUGKuQIpQJsk3dK5Axjd/7BmGrkDEGKAc95euQLLM40jPqa5AIgW5YKK7rkDphKJTcM2uQFlYNxE5365AzAwjifzwrkCn5yWrugKvQHkcFWdzFK9AsALbrCYmr0B4Snds1DevQAEx/5V8Sa9AFbSdGR9br0D0xJPnu2yvQI56OPBSfq9ABEP5I+SPr0B6FFpzb6GvQDCd9c70sq9A+HJ9J3TEr0DVQbpt7dWvQBD6i5Jg569Aav3phs34r0DmpfEdGgWwQH1XT1HKDbBA33ItVncWsEArZzclIR+wQAzIJLfHJ7BALGK5BGswsEA=",
          "dtype": "f8"
         }
        },
        {
         "hovertemplate": "Year: %{x}<br>Total Amount: %{y:.2f}<extra></extra>",
         "line": {
          "color": "green",
          "dash": "solid",
          "width": 3
         },
         "mode": "lines",
         "name": "Barão de Melgaço",
         "type": "scatter",
         "visible": true,
         "x": {
          "bdata": "AAAAAADAnkANiXk7Q8KeQBoS83aGxJ5AJ5tsssnGnkA0JObtDMmeQEGtXylQy55ATjbZZJPNnkBbv1Kg1s+eQGdIzNsZ0p5AdNFFF13UnkCBWr9SoNaeQI7jOI7j2J5Am2yyySbbnkCo9SsFat2eQLV+pUCt355AwgcffPDhnkDPkJi3M+SeQNwZEvN25p5A6aKLLrronkD2KwVq/eqeQAO1fqVA7Z5AED744IPvnkAcx3Ecx/GeQClQ61cK9J5ANtlkk032nkBDYt7OkPieQFDrVwrU+p5AXXTRRRf9nkBq/UqBWv+eQHeGxLydAZ9AhA8++OADn0CRmLczJAafQJ4hMW9nCJ9Aq6qqqqoKn0C4MyTm7QyfQMW8nSExD59A0UUXXXQRn0DezpCYtxOfQOtXCtT6FZ9A+OCDDz4Yn0AFav1KgRqfQBLzdobEHJ9AH3zwwQcfn0AsBWr9SiGfQDmO4ziOI59ARhdddNEln0BToNavFCifQGApUOtXKp9AbbLJJpssn0B6O0Ni3i6fQIbEvJ0hMZ9Ak0022WQzn0Cg1q8UqDWfQK1fKVDrN59Auuiiiy46n0DHcRzHcTyfQNT6lQK1Pp9A4YMPPvhAn0DuDIl5O0OfQPuVArV+RZ9ACB988MFHn0AVqPUrBUqfQCIxb2dITJ9AL7roootOn0A7Q2LezlCfQEjM2xkSU59AVVVVVVVVn0Bi3s6QmFefQG9nSMzbWZ9AfPDBBx9cn0CJeTtDYl6fQJYCtX6lYJ9Ao4suuuhin0CwFKj1K2WfQL2dITFvZ59AyiabbLJpn0DXrxSo9WufQOQ4juM4bp9A8MEHH3xwn0D9SoFav3KfQArU+pUCdZ9AF1100UV3n0Ak5u0MiXmfQDFvZ0jMe59APvjggw9+n0BLgVq/UoCfQFgK1PqVgp9AZZNNNtmEn0ByHMdxHIefQH+lQK1fiZ9AjC666KKLn0CZtzMk5o2fQKZArV8pkJ9Asskmm2ySn0C/UqDWr5SfQMzbGRLzlp9A2WSTTTaZn0Dm7QyJeZufQPN2hsS8nZ9AAAAAAACgn0A=",
          "dtype": "f8"
         },
         "y": {
          "bdata": "EaTYbJSEsEBLeVnIqJCwQBK190O9nLBAq1AJ09GosEDN8+No5rSwQLYp3fj6wLBAUJZKdg/NsEBMK4LUI9mwQDZd2gY45bBAoViqAEzxsEAZN0q1X/2wQDw0ExhzCbFAtOJfHIYVsUAqYYy1mCGxQCaP9taqLbFA5kH+c7w5sUAdeQWAzUWxQKiTcO7dUbFAI4Smsu1dsUBuBRHA/GmxQBrPHAoLdrFAs8k5hBiCsUD1QtshJY6xQPMheNYwmrFA8BqLlTumsUBC45JSRbKxQAVlEgFOvrFAoPKQlFXKsUAuepoAXNaxQLe4vzhh4rFAP22WMGXusUCyi7nbZ/qxQJJvyS1pBrJAhQ5sGmkSskCqKk2VZx6yQLqEHpJkKrJA8Q2YBGA2skDdGXjgWUKyQL+PgxlSTrJA5BuGo0haskCsYFJyPWayQFknwnkwcrJAoJC2rSF+skD1RBgCEYqyQJ+k12r+lbJAfffs2+mhskCRnFhJ062yQD85I6e6ubJAR+hd6Z/FskBuaCIEg9GyQOlKk+tj3bJAgSHck0LpskBBrDHxHvWyQAoH0vf4ALNAt9YEnNAMs0D4dRvSpRizQNYhcY54JLNA7SVrxUgws0A9CHlrFjyzQLy0FHXhR7NAeKjC1qlTs0BzHBKFb1+zQBcwnXQya7NAUhMJmvJ2s0BRMAbqr4KzQPZUUFlqjrNAuduu3CGas0Bb1PRo1qWzQB0sAfOHsbNAodW+bza9s0BZ8CTU4cizQJzvNhWK1LNAUMEEKC/gs0At9KoB0euzQJjdUpdv97NAFL8y3goDtEBK643Log60QKXqtFQ3GrRAf58Fb8gltEDyaesPVjG0QBRL3yzgPLRA8gdou2ZItED+Sxqx6VO0QBXLmANpX7RAGmOUqORqtEATPcyVXHa0QN3tDcHQgbRAZ5Y1IEGNtEB9Ay6prZi0QB3N8FEWpLRAWXWGEHuvtEC2hgbb27q0QCyyl6c4xrRAlexvbJHRtEDFi9Qf5ty0QP9iGrg26LRAFt+lK4PztEACIutwy/60QAYebn4PCrVAVbDCSk8VtUA=",
          "dtype": "f8"
         }
        },
        {
         "hovertemplate": "Year: %{x}<br>Total Amount: %{y:.2f}<extra></extra>",
         "line": {
          "color": "blue",
          "dash": "dash",
          "width": 3
         },
         "mode": "lines",
         "name": "Campo Verde",
         "type": "scatter",
         "visible": true,
         "x": {
          "bdata": "AAAAAAAUn0Co9SsFahWfQFDrVwrUFp9A+OCDDz4Yn0Cg1q8UqBmfQEjM2xkSG59A8MEHH3wcn0CZtzMk5h2fQEGtXylQH59A6aKLLrogn0CRmLczJCKfQDmO4ziOI59A4YMPPvgkn0CJeTtDYiafQDFvZ0jMJ59A2WSTTTYpn0CBWr9SoCqfQClQ61cKLJ9A0UUXXXQtn0B6O0Ni3i6fQCIxb2dIMJ9AyiabbLIxn0ByHMdxHDOfQBoS83aGNJ9AwgcffPA1n0Bq/UqBWjefQBLzdobEOJ9Auuiiiy46n0Bi3s6QmDufQArU+pUCPZ9Asskmm2w+n0Bbv1Kg1j+fQAO1fqVAQZ9Aq6qqqqpCn0BToNavFESfQPuVArV+RZ9Ao4suuuhGn0BLgVq/UkifQPN2hsS8SZ9Am2yyySZLn0BDYt7OkEyfQOtXCtT6TZ9Ak0022WRPn0A7Q2LezlCfQOQ4juM4Up9AjC666KJTn0A0JObtDFWfQNwZEvN2Vp9AhA8++OBXn0AsBWr9SlmfQNT6lQK1Wp9AfPDBBx9cn0Ak5u0MiV2fQMzbGRLzXp9AdNFFF11gn0Acx3Ecx2GfQMW8nSExY59AbbLJJptkn0AVqPUrBWafQL2dITFvZ59AZZNNNtlon0ANiXk7Q2qfQLV+pUCta59AXXTRRRdtn0AFav1KgW6fQK1fKVDrb59AVVVVVVVxn0D9SoFav3KfQKZArV8pdJ9ATjbZZJN1n0D2KwVq/XafQJ4hMW9neJ9ARhdddNF5n0DuDIl5O3ufQJYCtX6lfJ9APvjggw9+n0Dm7QyJeX+fQI7jOI7jgJ9ANtlkk02Cn0DezpCYt4OfQIbEvJ0hhZ9AL7rooouGn0DXrxSo9YefQH+lQK1fiZ9AJ5tsssmKn0DPkJi3M4yfQHeGxLydjZ9AH3zwwQePn0DHcRzHcZCfQG9nSMzbkZ9AF1100UWTn0C/UqDWr5SfQGdIzNsZlp9AED744IOXn0C4MyTm7ZifQGApUOtXmp9ACB988MGbn0CwFKj1K52fQFgK1PqVnp9AAAAAAACgn0A=",
          "dtype": "f8"
         },
         "y": {
          "bdata": "2JU0kAQuqUAvT6k/lEqqQFojFFNRcqtAl8bwkoylrEAObQ08luStQHETRrK9L69A3Eu1lqhDsECenSSwzvWwQE9B8ox2rrFAYEh1cMRtskAPY8pE2zOzQGWJFGPcALRAiUE1WefUtED/Ki6tGbC1QMsPaZ6OkrZAjfcv5V58t0CMd6twoG24QI+XyiNmZrlAifGEkb9mukAe/fS4uG67QPZ91cFZfrxAkKL5uaaVvUBMA2NUn7S+QMZpo6o+279A2rSggL2EwECKIu/Hoh/BQIty8CZFvsFASEk24pdgwkB9HTVziwbDQNkUtHcNsMNA5/gGpQhdxEDEUWy/ZA3FQF8T45UGwcVAHuTCAtB3xkCaslfxnzHHQGFhtWhS7sdAOaDqm8CtyECg7Kr/wG/JQNJId2UnNMpAB8g7HMX6ykB/4UUWacPLQGjoZBTgjcxAvGjz1fRZzUBf4nVNcCfOQLzRadkZ9s5ALIXPgLfFz0CbL3UZB0vQQKf/0gRxs9BAc/sBR/sb0UCalfZ+h4TRQPgYXkn37NFAYnXpYyxV0kC2s0bQCL3SQKJxc/ZuJNNAJoMVxkGL00CN6orWZPHTQGilZ4W8VtRAkzIeEy671EAJFZe9nx7VQP2sg9j4gNVAbIBB4yHi1UBPICycBELWQNYlRRGMoNZA5g8jrqT91kCK6CBHPFnXQBdh0SFCs9dACFvA+qYL2ECYe5UIXWLYQDpUsfxXt9hAucRkAY0K2UDqfee18lvZQCDaNiiBq9lAKrUJzTH52UDBbgh2/0TaQMPqeUbmjtpAxTWXpuPW2kAPhLc19hzbQGaehbsdYdtAq45uGFuj20DIk3c1sOPbQKwlp/MfItxAATUqG65e3ECG6ltKX5ncQOYQ0+Q40txAnA6VAkEJ3UD/CYtffj7dQKh5Ukv4cd1AWRt/mbaj3UDFF2GSwdPdQFIGX+QhAt5A2pfwleAu3kAV8UP4BlreQP4wlZqeg95AJUg9PrGr3kB0JHvLSNLeQFJN+EZv995AUFUIyC4b30BzDKFvkT3fQHcRCGChXt9AfUcxtWh+30A=",
          "dtype": "f8"
         }
        },
        {
         "hovertemplate": "Year: %{x}<br>Total Amount: %{y:.2f}<extra></extra>",
         "line": {
          "color": "blue",
          "dash": "solid",
          "width": 3
         },
         "mode": "lines",
         "name": "Chapada dos Guimarães",
         "type": "scatter",
         "visible": true,
         "x": {
          "bdata": "AAAAAADAnkANiXk7Q8KeQBoS83aGxJ5AJ5tsssnGnkA0JObtDMmeQEGtXylQy55ATjbZZJPNnkBbv1Kg1s+eQGdIzNsZ0p5AdNFFF13UnkCBWr9SoNaeQI7jOI7j2J5Am2yyySbbnkCo9SsFat2eQLV+pUCt355AwgcffPDhnkDPkJi3M+SeQNwZEvN25p5A6aKLLrronkD2KwVq/eqeQAO1fqVA7Z5AED744IPvnkAcx3Ecx/GeQClQ61cK9J5ANtlkk032nkBDYt7OkPieQFDrVwrU+p5AXXTRRRf9nkBq/UqBWv+eQHeGxLydAZ9AhA8++OADn0CRmLczJAafQJ4hMW9nCJ9Aq6qqqqoKn0C4MyTm7QyfQMW8nSExD59A0UUXXXQRn0DezpCYtxOfQOtXCtT6FZ9A+OCDDz4Yn0AFav1KgRqfQBLzdobEHJ9AH3zwwQcfn0AsBWr9SiGfQDmO4ziOI59ARhdddNEln0BToNavFCifQGApUOtXKp9AbbLJJpssn0B6O0Ni3i6fQIbEvJ0hMZ9Ak0022WQzn0Cg1q8UqDWfQK1fKVDrN59Auuiiiy46n0DHcRzHcTyfQNT6lQK1Pp9A4YMPPvhAn0DuDIl5O0OfQPuVArV+RZ9ACB988MFHn0AVqPUrBUqfQCIxb2dITJ9AL7roootOn0A7Q2LezlCfQEjM2xkSU59AVVVVVVVVn0Bi3s6QmFefQG9nSMzbWZ9AfPDBBx9cn0CJeTtDYl6fQJYCtX6lYJ9Ao4suuuhin0CwFKj1K2WfQL2dITFvZ59AyiabbLJpn0DXrxSo9WufQOQ4juM4bp9A8MEHH3xwn0D9SoFav3KfQArU+pUCdZ9AF1100UV3n0Ak5u0MiXmfQDFvZ0jMe59APvjggw9+n0BLgVq/UoCfQFgK1PqVgp9AZZNNNtmEn0ByHMdxHIefQH+lQK1fiZ9AjC666KKLn0CZtzMk5o2fQKZArV8pkJ9Asskmm2ySn0C/UqDWr5SfQMzbGRLzlp9A2WSTTTaZn0Dm7QyJeZufQPN2hsS8nZ9AAAAAAACgn0A=",
          "dtype": "f8"
         },
         "y": {
          "bdata": "DnNka2ShtkCohuq6Ndq2QHHoBlxqE7dAE4RNIwJNt0BClp7g/Ia3QOzSGV9awbdADd0RZRr8t0B0EwC0PDe4QBG2eAjBcrhAmmcfGqeuuEDPDZyb7uq4QIwVkDqXJ7lAyRyMn6BkuUCNBgZuCqK5QCF8T0TU37lA4t6Mu/0dukAurqxnhly6QKJkX9dtm7pAF9APlLPaukCd59shVxq7QJoijv9XWrtAVlSXprWau0D5DgmLb9u7QKGRkBuFHLxABUNywfVdvEC4vYXgwJ+8QGBvMtfl4bxAOc5s/mMkvUCaJ7SpOme9QBYKESdpqr1Azk0Uv+7tvUBYvda0yjG+QLRh+UX8db5AgXOmqoK6vkCZ85IVXf++QCvtALSKRL9AHGPCrQqKv0A/6zwl3M+/QJr7thv/CsBAief3/TcuwECjnn9CmFHAQOv2wG8fdcBADcGGCc2YwEDUrPeQoLzAQO6ImoSZ4MBAB95aYLcEwUDU5Y2d+SjBQBHe97JfTcFAqrfRFOlxwUAXIs80lZbBQN3yJIJju8FAZ+mPaVPgwUAwzltVZAXCQB7uaq2VKsJA1fA91+ZPwkDnCfw1V3XCQFCEeyrmmsJAnadKE5PAwkAA9rhMXebCQKfC4DBEDMNATB+xF0cyw0AuIPhWZVjDQER1bUKefsNAq1e9K/Gkw0DqyZNiXcvDQCQqqDTi8cNA/hPJ7X4YxEDGkejXMj/EQKSaKDv9ZcRAV9znXd2MxEDUzs6E0rPEQPAP3fLb2sRANAV36fgBxUDywXOoKCnFQIEvK25qUMVAkHWEd713xUBvoAQAIZ/FQPqC3UGUxsVA0tH8dRbuxUDqdRvUphXGQAATzZJEPcZAysCP5+5kxkBT89sGpYzGQE6QNCRmtMZAty43cjHcxkDvfawiBgTHQLPRmGbjK8dAB9BMbshTx0BdPnZptHvHQPfqMIemo8dAv68X9p3Lx0CPi1XkmfPHQALPtn+ZG8hAtVm69ZtDyEB15aJzoGvIQCxbiCamk8hAGjBpO6y7yEAKxzvfsePIQCDT/z62C8lA67jPh7gzyUA=",
          "dtype": "f8"
         }
        },
        {
         "hovertemplate": "Year: %{x}<br>Total Amount: %{y:.2f}<extra></extra>",
         "line": {
          "color": "red",
          "dash": "dash",
          "width": 3
         },
         "mode": "lines",
         "name": "Cuiabá",
         "type": "scatter",
         "visible": true,
         "x": {
          "bdata": "AAAAAADAnkANiXk7Q8KeQBoS83aGxJ5AJ5tsssnGnkA0JObtDMmeQEGtXylQy55ATjbZZJPNnkBbv1Kg1s+eQGdIzNsZ0p5AdNFFF13UnkCBWr9SoNaeQI7jOI7j2J5Am2yyySbbnkCo9SsFat2eQLV+pUCt355AwgcffPDhnkDPkJi3M+SeQNwZEvN25p5A6aKLLrronkD2KwVq/eqeQAO1fqVA7Z5AED744IPvnkAcx3Ecx/GeQClQ61cK9J5ANtlkk032nkBDYt7OkPieQFDrVwrU+p5AXXTRRRf9nkBq/UqBWv+eQHeGxLydAZ9AhA8++OADn0CRmLczJAafQJ4hMW9nCJ9Aq6qqqqoKn0C4MyTm7QyfQMW8nSExD59A0UUXXXQRn0DezpCYtxOfQOtXCtT6FZ9A+OCDDz4Yn0AFav1KgRqfQBLzdobEHJ9AH3zwwQcfn0AsBWr9SiGfQDmO4ziOI59ARhdddNEln0BToNavFCifQGApUOtXKp9AbbLJJpssn0B6O0Ni3i6fQIbEvJ0hMZ9Ak0022WQzn0Cg1q8UqDWfQK1fKVDrN59Auuiiiy46n0DHcRzHcTyfQNT6lQK1Pp9A4YMPPvhAn0DuDIl5O0OfQPuVArV+RZ9ACB988MFHn0AVqPUrBUqfQCIxb2dITJ9AL7roootOn0A7Q2LezlCfQEjM2xkSU59AVVVVVVVVn0Bi3s6QmFefQG9nSMzbWZ9AfPDBBx9cn0CJeTtDYl6fQJYCtX6lYJ9Ao4suuuhin0CwFKj1K2WfQL2dITFvZ59AyiabbLJpn0DXrxSo9WufQOQ4juM4bp9A8MEHH3xwn0D9SoFav3KfQArU+pUCdZ9AF1100UV3n0Ak5u0MiXmfQDFvZ0jMe59APvjggw9+n0BLgVq/UoCfQFgK1PqVgp9AZZNNNtmEn0ByHMdxHIefQH+lQK1fiZ9AjC666KKLn0CZtzMk5o2fQKZArV8pkJ9Asskmm2ySn0C/UqDWr5SfQMzbGRLzlp9A2WSTTTaZn0Dm7QyJeZufQPN2hsS8nZ9AAAAAAACgn0A=",
          "dtype": "f8"
         },
         "y": {
          "bdata": "jRkIilTu6EChfLzqvxfqQO94odQ7TetAG3ILYBqP7EBLtjm/q93tQAWnD8g9Oe9A67k2uw1R8EBIFrYzRgzxQBn/7iZqzvFAA4pJMJmX8kAtxoJh8GfzQPSRmfSJP/RAxXrI+3we9UAdYxYQ3QT2QI5+G/+58vZAzgCseB/o90AyOC29FOX4QNhAbE2c6flAFozenLP1+kAilkPHUgn8QBrBq0psJP1A8tbxxuxG/kBhlrrDunD/QEayBz/bUABB8xdT39zsAEH/PvDcS4wBQfr0Pn0OLwJB6YT1qwfVAkG2P378Fn4DQciC47EYKgRB9GKQzeXYBEFWShclVIoFQa6zGH82PgZBnB1Lt1z0BkEQyYrpk6wHQQthvKOmZghBD94xHl0iCUFLfCV6fd8JQXMPxAXMnQpBbygnhQtdC0HG3Yh//RwMQRZc549i3QxBIh8+uPqdDUHsVm62hV4OQaHd51nDHg9Bon4g2XPeD0HaH/QSrE4QQVNu1x+ZrRBBLUVsweILEUE6DCd6a2kRQYQhQ8QWxhFB2X2tMskhEkE8gwqPaHwSQTn6mPTb1RJBPL3B5wsuE0GcbTFq4oQTQTNqZwtL2hNBmdKy9TIuFEE2YKP3iIAUQXEIAIo90RRB1Xlg0kIgFUEmbpCijG0VQRpd7HQQuRVBE0LuZcUCFkHM2SYrpEoWQfj84wenkBZBm5DHv8nUFkHuCJSHCRcXQZ24c/RkVxdBqkr/6duVF0Ea50WHb9IXQYXLFhMiDRhBzrLI5/ZFGEHpaLde8nwYQSp7q7sZshhBAj1bGHPlGEFZcy9QBRcZQW0BcezXRhlBXgIAEfN0GUFf569pX6EZQWSLXxgmzBlBrMbfo1D1GUFD57bn6BwaQYOiywT5QhpBNpT+UotnGkGsOLZTqooaQbh/XqVgrBpB7J3a97jMGkF6neUBvusaQfdcXHd6CRtBKyNqAPklG0E/r48xREEbQUyue4RmWxtBQ7yqUWp0G0FCicTKWYwbQQJeq/U+oxtBRggzqCO5G0E2J3SEEc4bQXvhsPUR4htByjjALS71G0E=",
          "dtype": "f8"
         }
        },
        {
         "hovertemplate": "Year: %{x}<br>Total Amount: %{y:.2f}<extra></extra>",
         "line": {
          "color": "black",
          "dash": "solid",
          "width": 3
         },
         "mode": "lines",
         "name": "Jangada",
         "type": "scatter",
         "visible": true,
         "x": {
          "bdata": "AAAAAAAUn0Co9SsFahWfQFDrVwrUFp9A+OCDDz4Yn0Cg1q8UqBmfQEjM2xkSG59A8MEHH3wcn0CZtzMk5h2fQEGtXylQH59A6aKLLrogn0CRmLczJCKfQDmO4ziOI59A4YMPPvgkn0CJeTtDYiafQDFvZ0jMJ59A2WSTTTYpn0CBWr9SoCqfQClQ61cKLJ9A0UUXXXQtn0B6O0Ni3i6fQCIxb2dIMJ9AyiabbLIxn0ByHMdxHDOfQBoS83aGNJ9AwgcffPA1n0Bq/UqBWjefQBLzdobEOJ9Auuiiiy46n0Bi3s6QmDufQArU+pUCPZ9Asskmm2w+n0Bbv1Kg1j+fQAO1fqVAQZ9Aq6qqqqpCn0BToNavFESfQPuVArV+RZ9Ao4suuuhGn0BLgVq/UkifQPN2hsS8SZ9Am2yyySZLn0BDYt7OkEyfQOtXCtT6TZ9Ak0022WRPn0A7Q2LezlCfQOQ4juM4Up9AjC666KJTn0A0JObtDFWfQNwZEvN2Vp9AhA8++OBXn0AsBWr9SlmfQNT6lQK1Wp9AfPDBBx9cn0Ak5u0MiV2fQMzbGRLzXp9AdNFFF11gn0Acx3Ecx2GfQMW8nSExY59AbbLJJptkn0AVqPUrBWafQL2dITFvZ59AZZNNNtlon0ANiXk7Q2qfQLV+pUCta59AXXTRRRdtn0AFav1KgW6fQK1fKVDrb59AVVVVVVVxn0D9SoFav3KfQKZArV8pdJ9ATjbZZJN1n0D2KwVq/XafQJ4hMW9neJ9ARhdddNF5n0DuDIl5O3ufQJYCtX6lfJ9APvjggw9+n0Dm7QyJeX+fQI7jOI7jgJ9ANtlkk02Cn0DezpCYt4OfQIbEvJ0hhZ9AL7rooouGn0DXrxSo9YefQH+lQK1fiZ9AJ5tsssmKn0DPkJi3M4yfQHeGxLydjZ9AH3zwwQePn0DHcRzHcZCfQG9nSMzbkZ9AF1100UWTn0C/UqDWr5SfQGdIzNsZlp9AED744IOXn0C4MyTm7ZifQGApUOtXmp9ACB988MGbn0CwFKj1K52fQFgK1PqVnp9AAAAAAACgn0A=",
          "dtype": "f8"
         },
         "y": {
          "bdata": "yzE7dbR+oEC6GSOhuAuhQMcbvhnQmaFAH1rauMEookCb7TrwUriiQL67LihISKNAE+3MIWXYo0Cmv4FbbWikQJJqiHYk+KRADC3pm06HpUCJh5XfsBWmQAUYSKARo6ZAXgbh4jgvp0CXyxKo8LmnQM5kVDsFQ6hAs480ekXKqEBJNVQTg0+pQHtHe7yS0qlAzaZpX0xTqkCOxzM9i9GqQD53JwguTatAmjlf9BbGq0DqIVG/KzysQNM1yK5Vr6xAg4zUh4EfrUCCQVZ+n4ytQDfC2R2j9q1ArgOJLINdrkAn//yIOcGuQCzGvQPDIa9AZwU+NR9/r0CjcBlRUNmvQIJxqnstGLBAx9ApAiNCsEBH0xMwjWqwQNrv6WZxkbBAX6CD3dW2sECThmOIwdqwQOgUtwI8/bBAr4IreE0esUCVALuP/j2xQPK9jVdYXLFA/W8DMmR5sUCmwvPDK5WxQOFwLuS4r7FASbw+jBXJsUBDnHHKS+GxQCk5GrVl+LFAHCMNX20OskAOG0jNbCOyQDszuu1tN7JAlXMej3pKskBpA9pZnFyyQBUPzsncbbJAOCoNKUV+skBvwWOL3o2yQJw+o8qxnLJAd8Wfg8eqskCw29ATKLiyQFPchZfbxLJA6b6f6OnQskC5c8KdWtyyQC3e8Ak157JA/USHPIDxskCC4ogBQ/uyQF4SNuKDBLNAzWnhJUkNs0Aj0/rSmBWzQBeJSLB4HbNAoopGRu4ks0Bx06Xg/iuzQOxM5Y+vMrNAmQv/KgU5s0Dg/yRRBD+zQEfLiGuxRLNAR+oqrxBKs0Aj2K0eJk+zQF89Koz1U7NAv5sBm4JYs0CmQ63B0FyzQL6vh0vjYLNAl6yOWr1ks0Cu8xzpYWizQEMcmsvTa7NAi/gfshVvs0AcpRQqKnKzQFy5uJ8TdbNAqSypX9R3s0Doo1SYbnqzQED3Y1vkfLNAb9gVnzd/s0ABl40/aoGzQEkSFQB+g7NAMvhRjHSFs0BWfW55T4ezQPXFNUcQibNAK0AkYbiKs0DAN2wfSYyzQI3x7sfDjbNAZqEqjymPs0A=",
          "dtype": "f8"
         }
        },
        {
         "hovertemplate": "Year: %{x}<br>Total Amount: %{y:.2f}<extra></extra>",
         "line": {
          "color": "black",
          "dash": "dash",
          "width": 3
         },
         "mode": "lines",
         "name": "Nobres",
         "type": "scatter",
         "visible": true,
         "x": {
          "bdata": "AAAAAADAnkANiXk7Q8KeQBoS83aGxJ5AJ5tsssnGnkA0JObtDMmeQEGtXylQy55ATjbZZJPNnkBbv1Kg1s+eQGdIzNsZ0p5AdNFFF13UnkCBWr9SoNaeQI7jOI7j2J5Am2yyySbbnkCo9SsFat2eQLV+pUCt355AwgcffPDhnkDPkJi3M+SeQNwZEvN25p5A6aKLLrronkD2KwVq/eqeQAO1fqVA7Z5AED744IPvnkAcx3Ecx/GeQClQ61cK9J5ANtlkk032nkBDYt7OkPieQFDrVwrU+p5AXXTRRRf9nkBq/UqBWv+eQHeGxLydAZ9AhA8++OADn0CRmLczJAafQJ4hMW9nCJ9Aq6qqqqoKn0C4MyTm7QyfQMW8nSExD59A0UUXXXQRn0DezpCYtxOfQOtXCtT6FZ9A+OCDDz4Yn0AFav1KgRqfQBLzdobEHJ9AH3zwwQcfn0AsBWr9SiGfQDmO4ziOI59ARhdddNEln0BToNavFCifQGApUOtXKp9AbbLJJpssn0B6O0Ni3i6fQIbEvJ0hMZ9Ak0022WQzn0Cg1q8UqDWfQK1fKVDrN59Auuiiiy46n0DHcRzHcTyfQNT6lQK1Pp9A4YMPPvhAn0DuDIl5O0OfQPuVArV+RZ9ACB988MFHn0AVqPUrBUqfQCIxb2dITJ9AL7roootOn0A7Q2LezlCfQEjM2xkSU59AVVVVVVVVn0Bi3s6QmFefQG9nSMzbWZ9AfPDBBx9cn0CJeTtDYl6fQJYCtX6lYJ9Ao4suuuhin0CwFKj1K2WfQL2dITFvZ59AyiabbLJpn0DXrxSo9WufQOQ4juM4bp9A8MEHH3xwn0D9SoFav3KfQArU+pUCdZ9AF1100UV3n0Ak5u0MiXmfQDFvZ0jMe59APvjggw9+n0BLgVq/UoCfQFgK1PqVgp9AZZNNNtmEn0ByHMdxHIefQH+lQK1fiZ9AjC666KKLn0CZtzMk5o2fQKZArV8pkJ9Asskmm2ySn0C/UqDWr5SfQMzbGRLzlp9A2WSTTTaZn0Dm7QyJeZufQPN2hsS8nZ9AAAAAAACgn0A=",
          "dtype": "f8"
         },
         "y": {
          "bdata": "HFj6di7ApkBrLQ7MiNinQD91/KaX+KhAeckQXAYgqkDLYkBwc06rQMg+FMVwg6xA3GGd8IO+rUC7CrjCJv+uQJX07/tjIrBAnmhfDGbHsEBoFj1CR26xQH47TlGxFrJAG1ItnErAskBi0fbttmqzQM+x6D+YFbRANst/h4/AtEANjVqJPWu1QCY7Aq1DFbZAL5W0zUS+tkAo918E5mW3QLJsOmfPC7hAI0uuu6yvuEDH2MAXLlG5QMh9lHAI8LlA/mIyFPaLukBecVkNtyS7QGNRpHARurtAvOLnktFLvECakzIpytm8QO/cTlPUY71ApbUUks/pvUAn0SyroWu+QEXDK3w26b5AAG8av39iv0DwFp3CdNe/QDEo+gsJJMBAInCGnCxawEB3t18UKI7AQEq9oIcAwMBAyU1Q6rzvwEAbOXndZR3BQANw2HwFScFAbMXCLadywUAgeMlvV5rBQKoDi68jwMFA62QFHBrkwUDYcqh+SQbCQIZ1UhbBJsJAwvVOdZBFwkC/6l9ix2LCQL/vy7x1fsJAO/ZgY6uYwkBy1lEeeLHCQOIJzovryMJAJootDxXfwkDTFIfCA/TCQK65hGrGB8NAqmlJbGsaw0CZCTrFACzDQMYkfQSUPMNAPJkFRjJMw0CJU/4u6FrDQJ9Jb+vBaMNAnED2LMt1w0D/bnAqD4LDQOuodKCYjcNALWWA0nGYw0D5hLyMpKLDQNhPQSY6rMNAQIXDgzu1w0AwtZYasb3DQJ8+8/OixcNAhFpwsBjNw0Dge6SLGdTDQDMI4F+s2sNAYAD4qdfgw0ARoheNoebDQL5VkdYP7MNAemioASjxw0CwG0477/XDQKiCzWVq+sNAynhiHJ7+w0CLtLi2jgLEQGieUExABsRABSHIt7YJxEAwIwaa9QzEQNHGR10AEMRAYeMOONoSxEBVgPEvhhXEQNFVShwHGMRAYZHKqF8axEA4Su1XkhzEQGw2TYWhHsRA9lDdZ48gxECcOAUUXiLEQM8ion0PJMRAgkvteaUlxEBA1UjBISfEQE0T9PCFKMRAeTuojNMpxEA=",
          "dtype": "f8"
         }
        },
        {
         "hovertemplate": "Year: %{x}<br>Total Amount: %{y:.2f}<extra></extra>",
         "line": {
          "color": "yellow",
          "dash": "solid",
          "width": 3
         },
         "mode": "lines",
         "name": "Nossa Senhora do Livramento",
         "type": "scatter",
         "visible": true,
         "x": {
          "bdata": "AAAAAADAnkANiXk7Q8KeQBoS83aGxJ5AJ5tsssnGnkA0JObtDMmeQEGtXylQy55ATjbZZJPNnkBbv1Kg1s+eQGdIzNsZ0p5AdNFFF13UnkCBWr9SoNaeQI7jOI7j2J5Am2yyySbbnkCo9SsFat2eQLV+pUCt355AwgcffPDhnkDPkJi3M+SeQNwZEvN25p5A6aKLLrronkD2KwVq/eqeQAO1fqVA7Z5AED744IPvnkAcx3Ecx/GeQClQ61cK9J5ANtlkk032nkBDYt7OkPieQFDrVwrU+p5AXXTRRRf9nkBq/UqBWv+eQHeGxLydAZ9AhA8++OADn0CRmLczJAafQJ4hMW9nCJ9Aq6qqqqoKn0C4MyTm7QyfQMW8nSExD59A0UUXXXQRn0DezpCYtxOfQOtXCtT6FZ9A+OCDDz4Yn0AFav1KgRqfQBLzdobEHJ9AH3zwwQcfn0AsBWr9SiGfQDmO4ziOI59ARhdddNEln0BToNavFCifQGApUOtXKp9AbbLJJpssn0B6O0Ni3i6fQIbEvJ0hMZ9Ak0022WQzn0Cg1q8UqDWfQK1fKVDrN59Auuiiiy46n0DHcRzHcTyfQNT6lQK1Pp9A4YMPPvhAn0DuDIl5O0OfQPuVArV+RZ9ACB988MFHn0AVqPUrBUqfQCIxb2dITJ9AL7roootOn0A7Q2LezlCfQEjM2xkSU59AVVVVVVVVn0Bi3s6QmFefQG9nSMzbWZ9AfPDBBx9cn0CJeTtDYl6fQJYCtX6lYJ9Ao4suuuhin0CwFKj1K2WfQL2dITFvZ59AyiabbLJpn0DXrxSo9WufQOQ4juM4bp9A8MEHH3xwn0D9SoFav3KfQArU+pUCdZ9AF1100UV3n0Ak5u0MiXmfQDFvZ0jMe59APvjggw9+n0BLgVq/UoCfQFgK1PqVgp9AZZNNNtmEn0ByHMdxHIefQH+lQK1fiZ9AjC666KKLn0CZtzMk5o2fQKZArV8pkJ9Asskmm2ySn0C/UqDWr5SfQMzbGRLzlp9A2WSTTTaZn0Dm7QyJeZufQPN2hsS8nZ9AAAAAAACgn0A=",
          "dtype": "f8"
         },
         "y": {
          "bdata": "LBa10ZI2tUAjk9WX4VG1QKAExSJCbbVA5Id7UbSItUAxwIUCOKS1QBE1BRTNv7VAlLWwY3PbtUCcwNTOKve1QCnyUzLzErZA63WnaswutkByft9Ttkq2QNnBo8mwZrZAWvszp7uCtkDycWjH1p62QCGEsgQCu7ZAujgdOT3XtkDM1E0+iPO2QJl2hO3iD7dAoLWcH00st0C+Rw6txki3QFOr7W1PZbdAfNbsOeeBt0BL61vojZ63QD7xKVBDu7dAP5PlRwfYt0Ak472l2fS3QOghgz+6EbhA7Yyn6qguuEAZMEB8pUu4QAm9BcmvaLhA+GZVpceFuECtwzHl7KK4QCmxQ1wfwLhAMUDb3V7duECdo/A8q/q4QG0kJUwEGLlAeRrE3Wk1uUAw6sPD21K5QFUGx89ZcLlA/vYc0+ONuUDHZMOeeau5QKsoZwMbyblAUGBl0cfmuUDJhszYfwS6QLiRXelCIrpAxRKN0hBAukBwXYRj6V26QAyxImvMe7pA9Wb+t7mZukDqJGYYsbe6QHMTYlqy1bpAfBi1S73zukBvFd650RG7QMApGXLvL7tA/fhgQRZOu0C+9G/0RWy7QEWqwVd+irtAyBOUN7+ou0BH7ehfCMe7QOgMh5xZ5btA0L77uLIDvEA2JJyAEyK8QPCVhr57QLxACQqkPetevECVfKnIYX28QMBbGSrfm7xAV/ZELGO6vEDO7U2Z7di8QL+qJzt+97xAT9SY2xQWvUAoyjxEsTS9QAshhT5TU71A9CG7k/pxvUCFSwENp5C9QOTVVHNYr71AuTiPjw7OvUBus2cqyey9QFzXdAyIC75ABRQu/koqvkBYRe3HEUm+QD1D8DHcZ75AYHNaBKqGvkBKXDYHe6W+QAw6dwJPxL5AUZT6vSXjvkDB1YkB/wG/QJvk25TaIL9Ad7yWP7g/v0ABCVHJl16/QKrBk/l4fb9AL8bbl1ucv0DYe5trP7u/QGFrPDwk2r9AVt8g0Qn5v0CVwdL49wvAQBCBkTJrG8BAd9N3ed4qwECqfTCxUTrAQN6zZr3EScBAaOnGgTdZwEA=",
          "dtype": "f8"
         }
        },
        {
         "hovertemplate": "Year: %{x}<br>Total Amount: %{y:.2f}<extra></extra>",
         "line": {
          "color": "yellow",
          "dash": "dash",
          "width": 3
         },
         "mode": "lines",
         "name": "Nova Brasilândia",
         "type": "scatter",
         "visible": true,
         "x": {
          "bdata": "AAAAAADonkBvZ0jM2+meQN7OkJi3655ATjbZZJPtnkC9nSExb++eQCwFav1K8Z5Am2yyySbznkAK1PqVAvWeQHo7Q2Le9p5A6aKLLrr4nkBYCtT6lfqeQMdxHMdx/J5ANtlkk03+nkClQK1fKQCfQBWo9SsFAp9AhA8++OADn0DzdobEvAWfQGLezpCYB59A0UUXXXQJn0BBrV8pUAufQLAUqPUrDZ9AH3zwwQcPn0CO4ziO4xCfQP1KgVq/Ep9AbbLJJpsUn0DcGRLzdhafQEuBWr9SGJ9Auuiiiy4an0ApUOtXChyfQJm3MyTmHZ9ACB988MEfn0B3hsS8nSGfQObtDIl5I59AVVVVVVUln0DFvJ0hMSefQDQk5u0MKZ9Ao4suuugqn0AS83aGxCyfQIFav1KgLp9A8MEHH3wwn0BgKVDrVzKfQM+QmLczNJ9APvjggw82n0CtXylQ6zefQBzHcRzHOZ9AjC666KI7n0D7lQK1fj2fQGr9SoFaP59A2WSTTTZBn0BIzNsZEkOfQLgzJObtRJ9AJ5tssslGn0CWArV+pUifQAVq/UqBSp9AdNFFF11Mn0DkOI7jOE6fQFOg1q8UUJ9AwgcffPBRn0Axb2dIzFOfQKDWrxSoVZ9AED744INXn0B/pUCtX1mfQO4MiXk7W59AXXTRRRddn0DM2xkS816fQDtDYt7OYJ9Aq6qqqqpin0AaEvN2hmSfQIl5O0NiZp9A+OCDDz5on0BnSMzbGWqfQNevFKj1a59ARhdddNFtn0C1fqVArW+fQCTm7QyJcZ9Ak0022WRzn0ADtX6lQHWfQHIcx3Ecd59A4YMPPvh4n0BQ61cK1HqfQL9SoNavfJ9AL7rooot+n0CeITFvZ4CfQA2JeTtDgp9AfPDBBx+En0DrVwrU+oWfQFq/UqDWh59AyiabbLKJn0A5juM4joufQKj1KwVqjZ9AF1100UWPn0CGxLydIZGfQPYrBWr9kp9AZZNNNtmUn0DU+pUCtZafQENi3s6QmJ9Asskmm2yan0AiMW9nSJyfQJGYtzMknp9AAAAAAACgn0A=",
          "dtype": "f8"
         },
         "y": {
          "bdata": "bDgKi15mrEDdMc/obXesQHKKdW59iKxAJ97rD42ZrEAmeiDBnKqsQCB/AXasu6xAYgN9IrzMrED2NIG6y92sQNx7/DHb7qxACJzdfOr/rEC31xOP+RCtQHgRj1wIIq1ARu4/2RYzrUCm9xf5JEStQMS9CbAyVa1AVPkI8j9mrUDdrQqzTHetQH9LBedYiK1AA9HwgWSZrUDI7cZ3b6qtQIEjg7x5u61AROgiRIPMrUAyyKUCjN2tQDuHDeyT7q1A3UJe9Jr/rUCik54PoRCuQOmu1zGmIa5ASogVT6oyrkAO82ZbrUOuQKTD3UqvVK5AyPCOEbBlrkD2tJKjr3auQHmvBPWth65AhAUE+qqYrkA+g7OmpqmuQI+8Oe+guq5AJS7Bx5nLrkASXngkkdyuQHn8kfmG7a5AIgRFO3v+rkDt2szdbQ+vQAxyadVeIK9AfGZfFk4xr0ACIfiUO0KvQDb2gUUnU69AeUZQHBFkr0CfnbsN+XSvQM3SIQ7fha9A6ifmEcOWr0ANaXENpaevQNwLMvWEuK9AjU6cvWLJr0ApVypbPtqvQFJSXMIX669ADJK45+77r0Ay1uXfYQawQOZMlB/LDrBA0mk0LTMXsEAlORYDmh+wQJIljZv/J7BASQfw8GMwsEC/Mpn9xjiwQJWH5rsoQbBAOH85JolJsECEO/c26FGwQE+ViOhFWrBA5SpaNaJisEBMbtwX/WqwQLKzg4pWc7BAhj/Ih657sECcVCYKBYSwQDJCHgxajLBAznE0iK2UsEAydfF4/5ywQAEU4thPpbBAb1mXop6tsEDPoabQ67WwQPmnqV03vrBAwJI+RIHGsEAmAgh/yc6wQIQcrQgQ17BAo5vZ21TfsECg2T3zl+ewQOPdjknZ77BAzGmG2Rj4sEBiBeOdVgCxQOELaJGSCLFAKbjdrswQsUAJMRHxBBmxQJGV1FI7IbFAIQn/zm8psUBvv2xgojGxQHMI/wHTObFAIVycrgFCsUAvZjBhLkqxQJkRrBRZUrFAFpQFxIFasUB1eThqqGKxQMquRQLNarFAnY0zh+9ysUA=",
          "dtype": "f8"
         }
        },
        {
         "hovertemplate": "Year: %{x}<br>Total Amount: %{y:.2f}<extra></extra>",
         "line": {
          "color": "orange",
          "dash": "solid",
          "width": 3
         },
         "mode": "lines",
         "name": "Planalto da Serra",
         "type": "scatter",
         "visible": true,
         "x": {
          "bdata": "AAAAAAA4n0A0JObtDDmfQGdIzNsZOp9Am2yyySY7n0DPkJi3MzyfQAO1fqVAPZ9ANtlkk00+n0Bq/UqBWj+fQJ4hMW9nQJ9A0UUXXXRBn0AFav1KgUKfQDmO4ziOQ59AbbLJJptEn0Cg1q8UqEWfQNT6lQK1Rp9ACB988MFHn0A7Q2LezkifQG9nSMzbSZ9Ao4suuuhKn0DXrxSo9UufQArU+pUCTZ9APvjggw9On0ByHMdxHE+fQKVArV8pUJ9A2WSTTTZRn0ANiXk7Q1KfQEGtXylQU59AdNFFF11Un0Co9SsFalWfQNwZEvN2Vp9AED744INXn0BDYt7OkFifQHeGxLydWZ9Aq6qqqqpan0DezpCYt1ufQBLzdobEXJ9ARhdddNFdn0B6O0Ni3l6fQK1fKVDrX59A4YMPPvhgn0AVqPUrBWKfQEjM2xkSY59AfPDBBx9kn0CwFKj1K2WfQOQ4juM4Zp9AF1100UVnn0BLgVq/UmifQH+lQK1faZ9Asskmm2xqn0Dm7QyJeWufQBoS83aGbJ9ATjbZZJNtn0CBWr9SoG6fQLV+pUCtb59A6aKLLrpwn0Acx3Ecx3GfQFDrVwrUcp9AhA8++OBzn0C4MyTm7XSfQOtXCtT6dZ9AH3zwwQd3n0BToNavFHifQIbEvJ0heZ9Auuiiiy56n0DuDIl5O3ufQCIxb2dIfJ9AVVVVVVV9n0CJeTtDYn6fQL2dITFvf59A8MEHH3yAn0Ak5u0MiYGfQFgK1PqVgp9AjC666KKDn0C/UqDWr4SfQPN2hsS8hZ9AJ5tsssmGn0Bbv1Kg1oefQI7jOI7jiJ9AwgcffPCJn0D2KwVq/YqfQClQ61cKjJ9AXXTRRReNn0CRmLczJI6fQMW8nSExj59A+OCDDz6Qn0AsBWr9SpGfQGApUOtXkp9Ak0022WSTn0DHcRzHcZSfQPuVArV+lZ9AL7rooouWn0Bi3s6QmJefQJYCtX6lmJ9AyiabbLKZn0D9SoFav5qfQDFvZ0jMm59AZZNNNtmcn0CZtzMk5p2fQMzbGRLznp9AAAAAAACgn0A=",
          "dtype": "f8"
         },
         "y": {
          "bdata": "JSHrZrfcmkB4zqXIoeqaQMDSRx2O+JpAKK2nX3wGm0Bv45iKbBSbQH4J7JheIptAqshuhVIwm0Bh5+tKSD6bQE1QK+Q/TJtABhrySzlam0C6jgJ9NGibQH8zHHIxdptAGND7JTCEm0CLdluTMJKbQAOL8rQyoJtANMt1hTaum0BIVpf/O7ybQNG0Bh5DyptAQeBw20vYm0AMS4AyVuabQF7o3B1i9JtAQDQsmG8CnEBBOxGcfhCcQJWiLCSPHpxAOLAcK6EsnEC2Un2rtDqcQGwp6J/JSJxAgYz0AuBWnEBHlTfP92ScQBMmRP8Qc5xAlvKqjSuBnEALiPp0R4+cQKBVv69knZxAa7SDOIOrnEDn788Jo7mcQGdOKh7Ex5xAIxkXcObVnEDPpBj6CeScQONZr7Yu8pxASL1ZoFQAnUBveJSxew6dQPxh2uSjHJ1AbIakNM0qnUBHMGqb9zidQOjwoBMjR51A86i8l09VnUAbkS8ifWOdQHhCaq2rcZ1ASr/bM9t/nUDNe/GvC46dQJlmFxw9nJ1Af/G3cm+qnUAzGjyuoridQCxzC8nWxp1ALSyMvQvVnUAZGyOGQeOdQPjEMx148Z1AZ2Ygfa//nUCt/Emg5w2eQG5OEIEgHJ5AxfTRGVoqnkC/Y+xklDieQITzu1zPRp5ASemb+wpVnkD8f+Y7R2OeQGPx9BeEcZ5A634fisF/nkDger2M/42eQAdRJRo+nJ5AyI+sLH2qnkBP8ae+vLieQERka8r8xp5A/RRKSj3VnkBrdpY4fuOeQFNLoo+/8Z5AE6++SQEAn0DZHjxhQw6fQJ6CatCFHJ9AajaZkcgqn0ATExefCzmfQIN3MvNOR59A6lE5iJJVn0CMKHlY1mOfQBEjP14acp9AgRPYk16An0CUf5Dzoo6fQICptHfnnJ9AP5mQGiyrn0DTJXDWcLmfQBL+nqW1x59ABbJogvrVn0DbuxhnP+SfQFeJ+k2E8p9AQcKsmGQAoECFjsAFhwegQMNoXmupDqBAHhysxssVoEA/hM8U7hygQNaR7lIQJKBARk8vfjIroEA=",
          "dtype": "f8"
         }
        },
        {
         "hovertemplate": "Year: %{x}<br>Total Amount: %{y:.2f}<extra></extra>",
         "line": {
          "color": "purple",
          "dash": "dash",
          "width": 3
         },
         "mode": "lines",
         "name": "Poconé",
         "type": "scatter",
         "visible": true,
         "x": {
          "bdata": "AAAAAADAnkANiXk7Q8KeQBoS83aGxJ5AJ5tsssnGnkA0JObtDMmeQEGtXylQy55ATjbZZJPNnkBbv1Kg1s+eQGdIzNsZ0p5AdNFFF13UnkCBWr9SoNaeQI7jOI7j2J5Am2yyySbbnkCo9SsFat2eQLV+pUCt355AwgcffPDhnkDPkJi3M+SeQNwZEvN25p5A6aKLLrronkD2KwVq/eqeQAO1fqVA7Z5AED744IPvnkAcx3Ecx/GeQClQ61cK9J5ANtlkk032nkBDYt7OkPieQFDrVwrU+p5AXXTRRRf9nkBq/UqBWv+eQHeGxLydAZ9AhA8++OADn0CRmLczJAafQJ4hMW9nCJ9Aq6qqqqoKn0C4MyTm7QyfQMW8nSExD59A0UUXXXQRn0DezpCYtxOfQOtXCtT6FZ9A+OCDDz4Yn0AFav1KgRqfQBLzdobEHJ9AH3zwwQcfn0AsBWr9SiGfQDmO4ziOI59ARhdddNEln0BToNavFCifQGApUOtXKp9AbbLJJpssn0B6O0Ni3i6fQIbEvJ0hMZ9Ak0022WQzn0Cg1q8UqDWfQK1fKVDrN59Auuiiiy46n0DHcRzHcTyfQNT6lQK1Pp9A4YMPPvhAn0DuDIl5O0OfQPuVArV+RZ9ACB988MFHn0AVqPUrBUqfQCIxb2dITJ9AL7roootOn0A7Q2LezlCfQEjM2xkSU59AVVVVVVVVn0Bi3s6QmFefQG9nSMzbWZ9AfPDBBx9cn0CJeTtDYl6fQJYCtX6lYJ9Ao4suuuhin0CwFKj1K2WfQL2dITFvZ59AyiabbLJpn0DXrxSo9WufQOQ4juM4bp9A8MEHH3xwn0D9SoFav3KfQArU+pUCdZ9AF1100UV3n0Ak5u0MiXmfQDFvZ0jMe59APvjggw9+n0BLgVq/UoCfQFgK1PqVgp9AZZNNNtmEn0ByHMdxHIefQH+lQK1fiZ9AjC666KKLn0CZtzMk5o2fQKZArV8pkJ9Asskmm2ySn0C/UqDWr5SfQMzbGRLzlp9A2WSTTTaZn0Dm7QyJeZufQPN2hsS8nZ9AAAAAAACgn0A=",
          "dtype": "f8"
         },
         "y": {
          "bdata": "5W+VXx5VwUABNBKU+q/BQMzaDxx2C8JAXmSRYYVnwkDkkoN+HMTCQAFjgkIvIcNAhWrzOLF+w0A3DG+vldzDQJ3VcbzPOsRAls1ORlKZxEBG9VoKEPjEQN3OSaT7VsVArVOylQe2xUC1c7NNJhXGQBD2rjBKdMZArmMRoGXTxkCDih0CazLHQL0fsslMkcdACxQAfv3vx0CfTCjCb07IQMimt1yWrMhAhnH4PmQKyUCX3xCMzGfJQM5d5p/CxMlAGC2+FTohykAAK5TOJn3KQCM/Ifd82MpAIoSLDTEzy0Cj5rrmN43LQJGhTbOG5stASLAoBBM/zEA5BKHO0pbMQPIBO3C87cxA7X7+scZDzUDALV7L6JjNQJgVsmQa7c1AhVxFmVNAzkC0UPj4jJLOQCk1eIm/485AFO4Ox+Qzz0DEKw2l9oLPQNYz0o3v0M9AK2w6MeUO0EBeyQg9wTTQQK8IYdAJWtBAjGkhC71+0EA61iVG2aLQQP8iUBJdxtBAS+VuN0fp0EBejAWzlgvRQD5t+LZKLdFACXcfqGJO0UCmQcIc3m7RQB0kANu8jtFA0/Im1/6t0UBe+PoxpMzRQLyo8jat6tFAg3loWhoI0kBMMcU37CTSQE3mpI8jQdJAusf4RcFc0kC1rydgxnfSQINcLwM0ktJA/w/IcQus0kDQM4wKTsXSQLyAJUb93dJA7gWBtRr20kCOTgsAqA3TQKLC9eGmJNNAV0KGKhk700Ba3HG6AFHTQAJjQ4JfZtNAGojOgDd700CeDLDBio/TQF9421tbo9NAqLU2cKu200Ci1kMofcnTQCY12bTS29NAPAroTK7t00CkiFEsEv/TQKV0ypIAENRASiXNwnsg1EBezJkAhjDUQN7WRJEhQNRAJCzTuVBP1EBwCGS+FV7UQNEmaOFybNRA2ublYmp61EBkFMp//ofUQOvxRHExldRABCIzbAWi1EByCJKgfK7UQPc4/ziZutRAxodCWl3G1EBOTuIiy9HUQCF2wark3NRAHdzGAqzn1EDVnY00I/LUQGnkHUJM/NRAFsGtJSkG1UA=",
          "dtype": "f8"
         }
        },
        {
         "hovertemplate": "Year: %{x}<br>Total Amount: %{y:.2f}<extra></extra>",
         "line": {
          "color": "gray",
          "dash": "solid",
          "width": 3
         },
         "mode": "lines",
         "name": "Rosário Oeste",
         "type": "scatter",
         "visible": true,
         "x": {
          "bdata": "AAAAAADAnkANiXk7Q8KeQBoS83aGxJ5AJ5tsssnGnkA0JObtDMmeQEGtXylQy55ATjbZZJPNnkBbv1Kg1s+eQGdIzNsZ0p5AdNFFF13UnkCBWr9SoNaeQI7jOI7j2J5Am2yyySbbnkCo9SsFat2eQLV+pUCt355AwgcffPDhnkDPkJi3M+SeQNwZEvN25p5A6aKLLrronkD2KwVq/eqeQAO1fqVA7Z5AED744IPvnkAcx3Ecx/GeQClQ61cK9J5ANtlkk032nkBDYt7OkPieQFDrVwrU+p5AXXTRRRf9nkBq/UqBWv+eQHeGxLydAZ9AhA8++OADn0CRmLczJAafQJ4hMW9nCJ9Aq6qqqqoKn0C4MyTm7QyfQMW8nSExD59A0UUXXXQRn0DezpCYtxOfQOtXCtT6FZ9A+OCDDz4Yn0AFav1KgRqfQBLzdobEHJ9AH3zwwQcfn0AsBWr9SiGfQDmO4ziOI59ARhdddNEln0BToNavFCifQGApUOtXKp9AbbLJJpssn0B6O0Ni3i6fQIbEvJ0hMZ9Ak0022WQzn0Cg1q8UqDWfQK1fKVDrN59Auuiiiy46n0DHcRzHcTyfQNT6lQK1Pp9A4YMPPvhAn0DuDIl5O0OfQPuVArV+RZ9ACB988MFHn0AVqPUrBUqfQCIxb2dITJ9AL7roootOn0A7Q2LezlCfQEjM2xkSU59AVVVVVVVVn0Bi3s6QmFefQG9nSMzbWZ9AfPDBBx9cn0CJeTtDYl6fQJYCtX6lYJ9Ao4suuuhin0CwFKj1K2WfQL2dITFvZ59AyiabbLJpn0DXrxSo9WufQOQ4juM4bp9A8MEHH3xwn0D9SoFav3KfQArU+pUCdZ9AF1100UV3n0Ak5u0MiXmfQDFvZ0jMe59APvjggw9+n0BLgVq/UoCfQFgK1PqVgp9AZZNNNtmEn0ByHMdxHIefQH+lQK1fiZ9AjC666KKLn0CZtzMk5o2fQKZArV8pkJ9Asskmm2ySn0C/UqDWr5SfQMzbGRLzlp9A2WSTTTaZn0Dm7QyJeZufQPN2hsS8nZ9AAAAAAACgn0A=",
          "dtype": "f8"
         },
         "y": {
          "bdata": "ROTJo/ILwkBmXVM0JRnCQIYn8+dXJsJAtSzTsIozwkDf/RyBvUDCQN0M+krwTcJAeOaTACNbwkBzbBSUVWjCQIkPpveHdcJAhQl0HbqCwkAYl6r364/CQOExd3gdncJAScoIkk6qwkBcAZA2f7fCQJViP1ivxMJAkJ1L6d7RwkC0v+vbDd/CQMFtWSI87MJARB3Rrmn5wkD/TZJzlgbDQCTD32LCE8NAhLz/bu0gw0CRLzyKFy7DQFgA46ZAO8NAJjpGt2hIw0BBSLytj1XDQFkuoHy1YsNA18BRFtpvw0AJ3TVt/XzDQBOhtnMfisNAw6NDHECXw0AjLFJZX6TDQOtoXR19scNArafmWpm+w0DXi3UEtMvDQH5FmAzN2MNA3sfjZeTlw0DJ//MC+vLDQJcJbNYNAMRAFGf20h8NxEAPNUXrLxrEQK1gEhI+J8RAddwfOko0xEAf1TdWVEHEQA7mLFlcTsRAi03aNWJbxECxICTfZWjEQBB/90dndcRA98VKY2aCxEB9wx0kY4/EQCjpeX1dnMRAYX5yYlWpxEBa0iTGSrbEQNdtuJs9w8RAgkRf1i3QxEDs5VVpG93EQDKu40cG6sRASfZaZe72xEDmQxm10wPFQA15hyq2EMVAQQMauZUdxUBDClFUcirFQIWeuO9LN8VAJefofiJExUCFT4b19VDFQJi0QUfGXcVAhpHYZ5NqxUAuLBVLXXfFQBDBzuQjhMVA3q7pKOeQxUCRoVcLp53FQCC9F4BjqsVAusc2exy3xUCVU8/w0cPFQEvoCdWD0MVAwCsdHDLdxUCbCk663OnFQEDg76OD9sVAWp5kzSYDxkD88xwrxg/GQCF0mLFhHMZA37tlVfkoxkAJmCILjTXGQGAqfMccQsZAPA4vf6hOxkDHfAcnMFvGQLFw4bOzZ8ZAasmoGjN0xkDdbVlQroDGQKtu/0kljcZA5Se3/JeZxkBEYq1dBqbGQOlzH2JwssZAhWBb/9W+xkAm+b8qN8vGQE37vNmT18ZAoy/TAezjxkAqiJSYP/DGQNc9pJOO/MZAuO226NgIx0A=",
          "dtype": "f8"
         }
        },
        {
         "hovertemplate": "Year: %{x}<br>Total Amount: %{y:.2f}<extra></extra>",
         "line": {
          "color": "gray",
          "dash": "dash",
          "width": 3
         },
         "mode": "lines",
         "name": "Santo Antônio do Leverger",
         "type": "scatter",
         "visible": true,
         "x": {
          "bdata": "AAAAAADAnkANiXk7Q8KeQBoS83aGxJ5AJ5tsssnGnkA0JObtDMmeQEGtXylQy55ATjbZZJPNnkBbv1Kg1s+eQGdIzNsZ0p5AdNFFF13UnkCBWr9SoNaeQI7jOI7j2J5Am2yyySbbnkCo9SsFat2eQLV+pUCt355AwgcffPDhnkDPkJi3M+SeQNwZEvN25p5A6aKLLrronkD2KwVq/eqeQAO1fqVA7Z5AED744IPvnkAcx3Ecx/GeQClQ61cK9J5ANtlkk032nkBDYt7OkPieQFDrVwrU+p5AXXTRRRf9nkBq/UqBWv+eQHeGxLydAZ9AhA8++OADn0CRmLczJAafQJ4hMW9nCJ9Aq6qqqqoKn0C4MyTm7QyfQMW8nSExD59A0UUXXXQRn0DezpCYtxOfQOtXCtT6FZ9A+OCDDz4Yn0AFav1KgRqfQBLzdobEHJ9AH3zwwQcfn0AsBWr9SiGfQDmO4ziOI59ARhdddNEln0BToNavFCifQGApUOtXKp9AbbLJJpssn0B6O0Ni3i6fQIbEvJ0hMZ9Ak0022WQzn0Cg1q8UqDWfQK1fKVDrN59Auuiiiy46n0DHcRzHcTyfQNT6lQK1Pp9A4YMPPvhAn0DuDIl5O0OfQPuVArV+RZ9ACB988MFHn0AVqPUrBUqfQCIxb2dITJ9AL7roootOn0A7Q2LezlCfQEjM2xkSU59AVVVVVVVVn0Bi3s6QmFefQG9nSMzbWZ9AfPDBBx9cn0CJeTtDYl6fQJYCtX6lYJ9Ao4suuuhin0CwFKj1K2WfQL2dITFvZ59AyiabbLJpn0DXrxSo9WufQOQ4juM4bp9A8MEHH3xwn0D9SoFav3KfQArU+pUCdZ9AF1100UV3n0Ak5u0MiXmfQDFvZ0jMe59APvjggw9+n0BLgVq/UoCfQFgK1PqVgp9AZZNNNtmEn0ByHMdxHIefQH+lQK1fiZ9AjC666KKLn0CZtzMk5o2fQKZArV8pkJ9Asskmm2ySn0C/UqDWr5SfQMzbGRLzlp9A2WSTTTaZn0Dm7QyJeZufQPN2hsS8nZ9AAAAAAACgn0A=",
          "dtype": "f8"
         },
         "y": {
          "bdata": "PBvWhtkcuUALCXQu1Vm5QG7DCYTXlrlAsDO25d3TuUDeVOWw5RC6QDWvxELsTbpAcOq3+O6KukA0TM0w68e6QN33MUreBLtAicWlpcVBu0CyhO6lnn67QEWCSrBmu7tAWCfiLBv4u0ACiDiHuTS8QB+6mi4/cbxAXMyNlqmtvED4Njs39um8QIOg240iJr1Az9EfHSxivUCstZdtEJ69QOFBFw7N2b1AZCgZlF8VvkDGMB+cxVC+QEEcEMr8i75AtfWSyQLHvkBqtGdO1QG/QAAWvRRyPL9AIpiD4dZ2v0AWe72CAbG/QFm4y8/v6r9ADu3b1E8SwEACUb19By/AQMe3H92dS8BAFyzS8hFowEBdcvvDYoTAQP+0NluPoMBAtnmuyJa8wEDs3DUieNjAQK0PYIMy9MBAfheWDcUPwUB6ziroLivBQO4jbUBvRsFAIZ64SYVhwUD/HoQ9cHzBQMTtblsvl8FA9QhM6cGxwUBdxCszJ8zBQJu3Y4te5sFAggKVSmcAwkAc7bDPQBrCQMrp+3/qM8JA0QAPx2NNwkBYrNcWrGbCQOAtlufCf8JANWXat6eYwkA/Mn8MWrHCQDxrpHDZycJAVnGndSXiwkDnbRqzPfrCQBlDusYhEsNAzTpjVNEpw0AOfwQGTEHDQHxnkouRWMNAWaf3mqFvw0ABaAXwe4bDQP9bYkwgncNAONZ4d46zw0Af8mM+xsnDQIzY23PH38NAoy0h8JH1w0ABtOeQJQvEQGAxQDmCIMRAtaCB0ac1xEAIvjFHlkrEQL337IxNX8RATdFNms1zxEADw9NrFojEQEaiyQIonMRAwZ0rZQKwxEC22IydpcPEQPGv/LoR18RAo7Pr0EbqxEBBYBD3RP3EQJGgS0kMEMVACSON55wixUD5i7f19jTFQAWOhJsaR8VA6fFoBAhZxUBelnhfv2rFQKtwSt9AfMVA9JXcuYyNxUA+VXgoo57FQLJplmeEr8VAUkzDtjDAxUA8rINYqNDFQLcTOZLr4MVA0cAGrPrwxUA4t7bw1QDGQBURn619EMZATZSHMvIfxkA=",
          "dtype": "f8"
         }
        },
        {
         "hovertemplate": "Year: %{x}<br>Total Amount: %{y:.2f}<extra></extra>",
         "line": {
          "color": "brown",
          "dash": "solid",
          "width": 3
         },
         "mode": "lines",
         "name": "Várzea Grande",
         "type": "scatter",
         "visible": true,
         "x": {
          "bdata": "AAAAAADAnkANiXk7Q8KeQBoS83aGxJ5AJ5tsssnGnkA0JObtDMmeQEGtXylQy55ATjbZZJPNnkBbv1Kg1s+eQGdIzNsZ0p5AdNFFF13UnkCBWr9SoNaeQI7jOI7j2J5Am2yyySbbnkCo9SsFat2eQLV+pUCt355AwgcffPDhnkDPkJi3M+SeQNwZEvN25p5A6aKLLrronkD2KwVq/eqeQAO1fqVA7Z5AED744IPvnkAcx3Ecx/GeQClQ61cK9J5ANtlkk032nkBDYt7OkPieQFDrVwrU+p5AXXTRRRf9nkBq/UqBWv+eQHeGxLydAZ9AhA8++OADn0CRmLczJAafQJ4hMW9nCJ9Aq6qqqqoKn0C4MyTm7QyfQMW8nSExD59A0UUXXXQRn0DezpCYtxOfQOtXCtT6FZ9A+OCDDz4Yn0AFav1KgRqfQBLzdobEHJ9AH3zwwQcfn0AsBWr9SiGfQDmO4ziOI59ARhdddNEln0BToNavFCifQGApUOtXKp9AbbLJJpssn0B6O0Ni3i6fQIbEvJ0hMZ9Ak0022WQzn0Cg1q8UqDWfQK1fKVDrN59Auuiiiy46n0DHcRzHcTyfQNT6lQK1Pp9A4YMPPvhAn0DuDIl5O0OfQPuVArV+RZ9ACB988MFHn0AVqPUrBUqfQCIxb2dITJ9AL7roootOn0A7Q2LezlCfQEjM2xkSU59AVVVVVVVVn0Bi3s6QmFefQG9nSMzbWZ9AfPDBBx9cn0CJeTtDYl6fQJYCtX6lYJ9Ao4suuuhin0CwFKj1K2WfQL2dITFvZ59AyiabbLJpn0DXrxSo9WufQOQ4juM4bp9A8MEHH3xwn0D9SoFav3KfQArU+pUCdZ9AF1100UV3n0Ak5u0MiXmfQDFvZ0jMe59APvjggw9+n0BLgVq/UoCfQFgK1PqVgp9AZZNNNtmEn0ByHMdxHIefQH+lQK1fiZ9AjC666KKLn0CZtzMk5o2fQKZArV8pkJ9Asskmm2ySn0C/UqDWr5SfQMzbGRLzlp9A2WSTTTaZn0Dm7QyJeZufQPN2hsS8nZ9AAAAAAACgn0A=",
          "dtype": "f8"
         },
         "y": {
          "bdata": "ABSMs+/5yUB9ZGmsEnXLQJNpSqU+BM1AmMftrFOozkAQ/RgWGzHQQICxpCZnGdFAA+cipYMN0kCVpqdQ5w3TQJavd5YJG9RAPpZ8D2I11UDZzGHuZ13WQPje0V2Rk9dAnG9vzlLY2EBNEVI0HizaQLwzBDRij9tA1JU9P4kC3UCLIN2h+IXeQO/c+r8HDeBALpgN45Lf4EAOFb+GxbrhQIV857rCnuJAI+6mO6iL40CXyfDXjYHkQJ1oQNeEgOVA3oNWYJeI5kC5/RTjx5nnQDW7wIcQtOhAiascpmLX6UDeyvNGpgPrQOmbv7K5OOxAGxAjEHF27UDcEe0UlrzuQKsLIOZzBfBAa/MpOo2w8EDPkAW7a1/xQDJ6I7zeEfJAVHBASLDH8kBcEt9IpYDzQL7iNb19PPRAjFOQAPX69EB93tMfwrv1QNfXiT2YfvZAQft9AydD90CcPbMgGwn4QEPSJtIe0PhAFxuXdNqX+UBlzEsd9V/6QHf7rzcVKPtAoMhvJeHv+0BpCbve/7b8QOtmTZAZff1A5trqNNhB/kB4uRwo6AT/QGOCJrD4xf9AAGGwPl5CAEGHu7QOdaAAQbMkcTAe/QBBrW9hWTlYAUEHFkuwqLEBQeoLpelQCQJB9H5DXBlfAkEoAGcO7LICQRsocLu1BANBLGWW0mVUA0Fpzxlv7qEDQdFDfEpE7QNB/oJdqV42BEGEt6BDN30EQZLBhyjKwQRBFVhynxUEBUFr3+wFGkQFQTNJtavZgQVB5PJTrVi9BUFo2dvNnPYFQUgkWVCtLQZBtIpn0ZJiBkEp41shV5UGQRm7XR8FxgZByH6/laj0BkE509UXTiEHQZqKgeECTAdBO0eTuNR0B0G6iiTQ0ZsHQSy4960IwQdBvHznEYjkB0FBKGbfXgYIQZ+3BgmcJghBiqIDfk5FCEFW1LIZhWIIQZWA0pROfghBhqqXeLmYCEGxImUT1LEIQWNZEG+syQhBKZiYSFDgCEFg6jQJzfUIQTcfncAvCglBd85yIIUdCUGdDrB42S8JQVSLArU4QQlBi9b6Wq5RCUE=",
          "dtype": "f8"
         }
        }
       ],
       "layout": {
        "font": {
         "size": 14
        },
        "height": 800,
        "legend": {
         "font": {
          "size": 12
         },
         "orientation": "h",
         "x": 0.5,
         "xanchor": "center",
         "y": -0.3,
         "yanchor": "bottom"
        },
        "margin": {
         "b": 150,
         "l": 50,
         "r": 50,
         "t": 100
        },
        "plot_bgcolor": "white",
        "template": {
         "data": {
          "bar": [
           {
            "error_x": {
             "color": "#2a3f5f"
            },
            "error_y": {
             "color": "#2a3f5f"
            },
            "marker": {
             "line": {
              "color": "#E5ECF6",
              "width": 0.5
             },
             "pattern": {
              "fillmode": "overlay",
              "size": 10,
              "solidity": 0.2
             }
            },
            "type": "bar"
           }
          ],
          "barpolar": [
           {
            "marker": {
             "line": {
              "color": "#E5ECF6",
              "width": 0.5
             },
             "pattern": {
              "fillmode": "overlay",
              "size": 10,
              "solidity": 0.2
             }
            },
            "type": "barpolar"
           }
          ],
          "carpet": [
           {
            "aaxis": {
             "endlinecolor": "#2a3f5f",
             "gridcolor": "white",
             "linecolor": "white",
             "minorgridcolor": "white",
             "startlinecolor": "#2a3f5f"
            },
            "baxis": {
             "endlinecolor": "#2a3f5f",
             "gridcolor": "white",
             "linecolor": "white",
             "minorgridcolor": "white",
             "startlinecolor": "#2a3f5f"
            },
            "type": "carpet"
           }
          ],
          "choropleth": [
           {
            "colorbar": {
             "outlinewidth": 0,
             "ticks": ""
            },
            "type": "choropleth"
           }
          ],
          "contour": [
           {
            "colorbar": {
             "outlinewidth": 0,
             "ticks": ""
            },
            "colorscale": [
             [
              0,
              "#0d0887"
             ],
             [
              0.1111111111111111,
              "#46039f"
             ],
             [
              0.2222222222222222,
              "#7201a8"
             ],
             [
              0.3333333333333333,
              "#9c179e"
             ],
             [
              0.4444444444444444,
              "#bd3786"
             ],
             [
              0.5555555555555556,
              "#d8576b"
             ],
             [
              0.6666666666666666,
              "#ed7953"
             ],
             [
              0.7777777777777778,
              "#fb9f3a"
             ],
             [
              0.8888888888888888,
              "#fdca26"
             ],
             [
              1,
              "#f0f921"
             ]
            ],
            "type": "contour"
           }
          ],
          "contourcarpet": [
           {
            "colorbar": {
             "outlinewidth": 0,
             "ticks": ""
            },
            "type": "contourcarpet"
           }
          ],
          "heatmap": [
           {
            "colorbar": {
             "outlinewidth": 0,
             "ticks": ""
            },
            "colorscale": [
             [
              0,
              "#0d0887"
             ],
             [
              0.1111111111111111,
              "#46039f"
             ],
             [
              0.2222222222222222,
              "#7201a8"
             ],
             [
              0.3333333333333333,
              "#9c179e"
             ],
             [
              0.4444444444444444,
              "#bd3786"
             ],
             [
              0.5555555555555556,
              "#d8576b"
             ],
             [
              0.6666666666666666,
              "#ed7953"
             ],
             [
              0.7777777777777778,
              "#fb9f3a"
             ],
             [
              0.8888888888888888,
              "#fdca26"
             ],
             [
              1,
              "#f0f921"
             ]
            ],
            "type": "heatmap"
           }
          ],
          "histogram": [
           {
            "marker": {
             "pattern": {
              "fillmode": "overlay",
              "size": 10,
              "solidity": 0.2
             }
            },
            "type": "histogram"
           }
          ],
          "histogram2d": [
           {
            "colorbar": {
             "outlinewidth": 0,
             "ticks": ""
            },
            "colorscale": [
             [
              0,
              "#0d0887"
             ],
             [
              0.1111111111111111,
              "#46039f"
             ],
             [
              0.2222222222222222,
              "#7201a8"
             ],
             [
              0.3333333333333333,
              "#9c179e"
             ],
             [
              0.4444444444444444,
              "#bd3786"
             ],
             [
              0.5555555555555556,
              "#d8576b"
             ],
             [
              0.6666666666666666,
              "#ed7953"
             ],
             [
              0.7777777777777778,
              "#fb9f3a"
             ],
             [
              0.8888888888888888,
              "#fdca26"
             ],
             [
              1,
              "#f0f921"
             ]
            ],
            "type": "histogram2d"
           }
          ],
          "histogram2dcontour": [
           {
            "colorbar": {
             "outlinewidth": 0,
             "ticks": ""
            },
            "colorscale": [
             [
              0,
              "#0d0887"
             ],
             [
              0.1111111111111111,
              "#46039f"
             ],
             [
              0.2222222222222222,
              "#7201a8"
             ],
             [
              0.3333333333333333,
              "#9c179e"
             ],
             [
              0.4444444444444444,
              "#bd3786"
             ],
             [
              0.5555555555555556,
              "#d8576b"
             ],
             [
              0.6666666666666666,
              "#ed7953"
             ],
             [
              0.7777777777777778,
              "#fb9f3a"
             ],
             [
              0.8888888888888888,
              "#fdca26"
             ],
             [
              1,
              "#f0f921"
             ]
            ],
            "type": "histogram2dcontour"
           }
          ],
          "mesh3d": [
           {
            "colorbar": {
             "outlinewidth": 0,
             "ticks": ""
            },
            "type": "mesh3d"
           }
          ],
          "parcoords": [
           {
            "line": {
             "colorbar": {
              "outlinewidth": 0,
              "ticks": ""
             }
            },
            "type": "parcoords"
           }
          ],
          "pie": [
           {
            "automargin": true,
            "type": "pie"
           }
          ],
          "scatter": [
           {
            "fillpattern": {
             "fillmode": "overlay",
             "size": 10,
             "solidity": 0.2
            },
            "type": "scatter"
           }
          ],
          "scatter3d": [
           {
            "line": {
             "colorbar": {
              "outlinewidth": 0,
              "ticks": ""
             }
            },
            "marker": {
             "colorbar": {
              "outlinewidth": 0,
              "ticks": ""
             }
            },
            "type": "scatter3d"
           }
          ],
          "scattercarpet": [
           {
            "marker": {
             "colorbar": {
              "outlinewidth": 0,
              "ticks": ""
             }
            },
            "type": "scattercarpet"
           }
          ],
          "scattergeo": [
           {
            "marker": {
             "colorbar": {
              "outlinewidth": 0,
              "ticks": ""
             }
            },
            "type": "scattergeo"
           }
          ],
          "scattergl": [
           {
            "marker": {
             "colorbar": {
              "outlinewidth": 0,
              "ticks": ""
             }
            },
            "type": "scattergl"
           }
          ],
          "scattermap": [
           {
            "marker": {
             "colorbar": {
              "outlinewidth": 0,
              "ticks": ""
             }
            },
            "type": "scattermap"
           }
          ],
          "scattermapbox": [
           {
            "marker": {
             "colorbar": {
              "outlinewidth": 0,
              "ticks": ""
             }
            },
            "type": "scattermapbox"
           }
          ],
          "scatterpolar": [
           {
            "marker": {
             "colorbar": {
              "outlinewidth": 0,
              "ticks": ""
             }
            },
            "type": "scatterpolar"
           }
          ],
          "scatterpolargl": [
           {
            "marker": {
             "colorbar": {
              "outlinewidth": 0,
              "ticks": ""
             }
            },
            "type": "scatterpolargl"
           }
          ],
          "scatterternary": [
           {
            "marker": {
             "colorbar": {
              "outlinewidth": 0,
              "ticks": ""
             }
            },
            "type": "scatterternary"
           }
          ],
          "surface": [
           {
            "colorbar": {
             "outlinewidth": 0,
             "ticks": ""
            },
            "colorscale": [
             [
              0,
              "#0d0887"
             ],
             [
              0.1111111111111111,
              "#46039f"
             ],
             [
              0.2222222222222222,
              "#7201a8"
             ],
             [
              0.3333333333333333,
              "#9c179e"
             ],
             [
              0.4444444444444444,
              "#bd3786"
             ],
             [
              0.5555555555555556,
              "#d8576b"
             ],
             [
              0.6666666666666666,
              "#ed7953"
             ],
             [
              0.7777777777777778,
              "#fb9f3a"
             ],
             [
              0.8888888888888888,
              "#fdca26"
             ],
             [
              1,
              "#f0f921"
             ]
            ],
            "type": "surface"
           }
          ],
          "table": [
           {
            "cells": {
             "fill": {
              "color": "#EBF0F8"
             },
             "line": {
              "color": "white"
             }
            },
            "header": {
             "fill": {
              "color": "#C8D4E3"
             },
             "line": {
              "color": "white"
             }
            },
            "type": "table"
           }
          ]
         },
         "layout": {
          "annotationdefaults": {
           "arrowcolor": "#2a3f5f",
           "arrowhead": 0,
           "arrowwidth": 1
          },
          "autotypenumbers": "strict",
          "coloraxis": {
           "colorbar": {
            "outlinewidth": 0,
            "ticks": ""
           }
          },
          "colorscale": {
           "diverging": [
            [
             0,
             "#8e0152"
            ],
            [
             0.1,
             "#c51b7d"
            ],
            [
             0.2,
             "#de77ae"
            ],
            [
             0.3,
             "#f1b6da"
            ],
            [
             0.4,
             "#fde0ef"
            ],
            [
             0.5,
             "#f7f7f7"
            ],
            [
             0.6,
             "#e6f5d0"
            ],
            [
             0.7,
             "#b8e186"
            ],
            [
             0.8,
             "#7fbc41"
            ],
            [
             0.9,
             "#4d9221"
            ],
            [
             1,
             "#276419"
            ]
           ],
           "sequential": [
            [
             0,
             "#0d0887"
            ],
            [
             0.1111111111111111,
             "#46039f"
            ],
            [
             0.2222222222222222,
             "#7201a8"
            ],
            [
             0.3333333333333333,
             "#9c179e"
            ],
            [
             0.4444444444444444,
             "#bd3786"
            ],
            [
             0.5555555555555556,
             "#d8576b"
            ],
            [
             0.6666666666666666,
             "#ed7953"
            ],
            [
             0.7777777777777778,
             "#fb9f3a"
            ],
            [
             0.8888888888888888,
             "#fdca26"
            ],
            [
             1,
             "#f0f921"
            ]
           ],
           "sequentialminus": [
            [
             0,
             "#0d0887"
            ],
            [
             0.1111111111111111,
             "#46039f"
            ],
            [
             0.2222222222222222,
             "#7201a8"
            ],
            [
             0.3333333333333333,
             "#9c179e"
            ],
            [
             0.4444444444444444,
             "#bd3786"
            ],
            [
             0.5555555555555556,
             "#d8576b"
            ],
            [
             0.6666666666666666,
             "#ed7953"
            ],
            [
             0.7777777777777778,
             "#fb9f3a"
            ],
            [
             0.8888888888888888,
             "#fdca26"
            ],
            [
             1,
             "#f0f921"
            ]
           ]
          },
          "colorway": [
           "#636efa",
           "#EF553B",
           "#00cc96",
           "#ab63fa",
           "#FFA15A",
           "#19d3f3",
           "#FF6692",
           "#B6E880",
           "#FF97FF",
           "#FECB52"
          ],
          "font": {
           "color": "#2a3f5f"
          },
          "geo": {
           "bgcolor": "white",
           "lakecolor": "white",
           "landcolor": "#E5ECF6",
           "showlakes": true,
           "showland": true,
           "subunitcolor": "white"
          },
          "hoverlabel": {
           "align": "left"
          },
          "hovermode": "closest",
          "mapbox": {
           "style": "light"
          },
          "paper_bgcolor": "white",
          "plot_bgcolor": "#E5ECF6",
          "polar": {
           "angularaxis": {
            "gridcolor": "white",
            "linecolor": "white",
            "ticks": ""
           },
           "bgcolor": "#E5ECF6",
           "radialaxis": {
            "gridcolor": "white",
            "linecolor": "white",
            "ticks": ""
           }
          },
          "scene": {
           "xaxis": {
            "backgroundcolor": "#E5ECF6",
            "gridcolor": "white",
            "gridwidth": 2,
            "linecolor": "white",
            "showbackground": true,
            "ticks": "",
            "zerolinecolor": "white"
           },
           "yaxis": {
            "backgroundcolor": "#E5ECF6",
            "gridcolor": "white",
            "gridwidth": 2,
            "linecolor": "white",
            "showbackground": true,
            "ticks": "",
            "zerolinecolor": "white"
           },
           "zaxis": {
            "backgroundcolor": "#E5ECF6",
            "gridcolor": "white",
            "gridwidth": 2,
            "linecolor": "white",
            "showbackground": true,
            "ticks": "",
            "zerolinecolor": "white"
           }
          },
          "shapedefaults": {
           "line": {
            "color": "#2a3f5f"
           }
          },
          "ternary": {
           "aaxis": {
            "gridcolor": "white",
            "linecolor": "white",
            "ticks": ""
           },
           "baxis": {
            "gridcolor": "white",
            "linecolor": "white",
            "ticks": ""
           },
           "bgcolor": "#E5ECF6",
           "caxis": {
            "gridcolor": "white",
            "linecolor": "white",
            "ticks": ""
           }
          },
          "title": {
           "x": 0.05
          },
          "xaxis": {
           "automargin": true,
           "gridcolor": "white",
           "linecolor": "white",
           "ticks": "",
           "title": {
            "standoff": 15
           },
           "zerolinecolor": "white",
           "zerolinewidth": 2
          },
          "yaxis": {
           "automargin": true,
           "gridcolor": "white",
           "linecolor": "white",
           "ticks": "",
           "title": {
            "standoff": 15
           },
           "zerolinecolor": "white",
           "zerolinewidth": 2
          }
         }
        },
        "title": {
         "text": "Total Amount Logistic Fits for Cuiabá Immediate Region",
         "x": 0.5,
         "xanchor": "center",
         "y": 0.95,
         "yanchor": "top"
        },
        "updatemenus": [
         {
          "buttons": [
           {
            "args": [
             {
              "visible": [
               true,
               true,
               true,
               true,
               true,
               true,
               true,
               true,
               true,
               true,
               true,
               true,
               true,
               true
              ]
             },
             {
              "title": "Total Amount Logistic Fits for All Municipalities"
             }
            ],
            "label": "All",
            "method": "update"
           },
           {
            "args": [
             {
              "visible": [
               true,
               false,
               false,
               false,
               false,
               false,
               false,
               false,
               false,
               false,
               false,
               false,
               false,
               false
              ]
             },
             {
              "title": "Total Amount Logistic Fit for Acorizal"
             }
            ],
            "label": "Acorizal",
            "method": "update"
           },
           {
            "args": [
             {
              "visible": [
               false,
               true,
               false,
               false,
               false,
               false,
               false,
               false,
               false,
               false,
               false,
               false,
               false,
               false
              ]
             },
             {
              "title": "Total Amount Logistic Fit for Barão de Melgaço"
             }
            ],
            "label": "Barão de Melgaço",
            "method": "update"
           },
           {
            "args": [
             {
              "visible": [
               false,
               false,
               true,
               false,
               false,
               false,
               false,
               false,
               false,
               false,
               false,
               false,
               false,
               false
              ]
             },
             {
              "title": "Total Amount Logistic Fit for Campo Verde"
             }
            ],
            "label": "Campo Verde",
            "method": "update"
           },
           {
            "args": [
             {
              "visible": [
               false,
               false,
               false,
               true,
               false,
               false,
               false,
               false,
               false,
               false,
               false,
               false,
               false,
               false
              ]
             },
             {
              "title": "Total Amount Logistic Fit for Chapada dos Guimarães"
             }
            ],
            "label": "Chapada dos Guimarães",
            "method": "update"
           },
           {
            "args": [
             {
              "visible": [
               false,
               false,
               false,
               false,
               true,
               false,
               false,
               false,
               false,
               false,
               false,
               false,
               false,
               false
              ]
             },
             {
              "title": "Total Amount Logistic Fit for Cuiabá"
             }
            ],
            "label": "Cuiabá",
            "method": "update"
           },
           {
            "args": [
             {
              "visible": [
               false,
               false,
               false,
               false,
               false,
               true,
               false,
               false,
               false,
               false,
               false,
               false,
               false,
               false
              ]
             },
             {
              "title": "Total Amount Logistic Fit for Jangada"
             }
            ],
            "label": "Jangada",
            "method": "update"
           },
           {
            "args": [
             {
              "visible": [
               false,
               false,
               false,
               false,
               false,
               false,
               true,
               false,
               false,
               false,
               false,
               false,
               false,
               false
              ]
             },
             {
              "title": "Total Amount Logistic Fit for Nobres"
             }
            ],
            "label": "Nobres",
            "method": "update"
           },
           {
            "args": [
             {
              "visible": [
               false,
               false,
               false,
               false,
               false,
               false,
               false,
               true,
               false,
               false,
               false,
               false,
               false,
               false
              ]
             },
             {
              "title": "Total Amount Logistic Fit for Nossa Senhora do Livramento"
             }
            ],
            "label": "Nossa Senhora do Livramento",
            "method": "update"
           },
           {
            "args": [
             {
              "visible": [
               false,
               false,
               false,
               false,
               false,
               false,
               false,
               false,
               true,
               false,
               false,
               false,
               false,
               false
              ]
             },
             {
              "title": "Total Amount Logistic Fit for Nova Brasilândia"
             }
            ],
            "label": "Nova Brasilândia",
            "method": "update"
           },
           {
            "args": [
             {
              "visible": [
               false,
               false,
               false,
               false,
               false,
               false,
               false,
               false,
               false,
               true,
               false,
               false,
               false,
               false
              ]
             },
             {
              "title": "Total Amount Logistic Fit for Planalto da Serra"
             }
            ],
            "label": "Planalto da Serra",
            "method": "update"
           },
           {
            "args": [
             {
              "visible": [
               false,
               false,
               false,
               false,
               false,
               false,
               false,
               false,
               false,
               false,
               true,
               false,
               false,
               false
              ]
             },
             {
              "title": "Total Amount Logistic Fit for Poconé"
             }
            ],
            "label": "Poconé",
            "method": "update"
           },
           {
            "args": [
             {
              "visible": [
               false,
               false,
               false,
               false,
               false,
               false,
               false,
               false,
               false,
               false,
               false,
               true,
               false,
               false
              ]
             },
             {
              "title": "Total Amount Logistic Fit for Rosário Oeste"
             }
            ],
            "label": "Rosário Oeste",
            "method": "update"
           },
           {
            "args": [
             {
              "visible": [
               false,
               false,
               false,
               false,
               false,
               false,
               false,
               false,
               false,
               false,
               false,
               false,
               true,
               false
              ]
             },
             {
              "title": "Total Amount Logistic Fit for Santo Antônio do Leverger"
             }
            ],
            "label": "Santo Antônio do Leverger",
            "method": "update"
           },
           {
            "args": [
             {
              "visible": [
               false,
               false,
               false,
               false,
               false,
               false,
               false,
               false,
               false,
               false,
               false,
               false,
               false,
               true
              ]
             },
             {
              "title": "Total Amount Logistic Fit for Várzea Grande"
             }
            ],
            "label": "Várzea Grande",
            "method": "update"
           }
          ],
          "direction": "down",
          "pad": {
           "b": 10,
           "r": 10,
           "t": 10
          },
          "showactive": true,
          "x": 0.5,
          "xanchor": "center",
          "y": 0.88,
          "yanchor": "top"
         }
        ],
        "xaxis": {
         "title": {
          "text": "Year"
         }
        },
        "yaxis": {
         "title": {
          "text": "Total Amount"
         }
        }
       }
      }
     },
     "metadata": {},
     "output_type": "display_data"
    }
   ],
   "source": [
    "import pandas as pd\n",
    "import numpy as np\n",
    "import matplotlib.pyplot as plt\n",
    "from scipy.optimize import curve_fit\n",
    "import plotly.graph_objects as go\n",
    "\n",
    "# Define the logistic function\n",
    "def logistic_function(x, capacity, growth_rate, x0):\n",
    "    \"\"\"The logistic function.\"\"\"\n",
    "    return capacity / (1 + np.exp(-growth_rate * (x - x0)))\n",
    "\n",
    "# Load the data\n",
    "file_path = r\"C:\\Users\\daves\\OneDrive\\Pessoal\\Acadêmico\\Mestrado\\Dissertação - Execução\\Análises\\Dados do Censo - não usar na regressão\\PIA individuais.xlsx\"\n",
    "df = pd.read_excel(file_path, sheet_name=\"Cuiabá\")\n",
    "\n",
    "# Filter out zeros or negative values\n",
    "df = df[df['Totalammount'] > 0].copy()\n",
    "\n",
    "# Define municipalities and their colors/line styles\n",
    "municipality_styles = {\n",
    "    \"Acorizal\": {'color': 'green', 'line_style': '--'},\n",
    "    \"Barão de Melgaço\": {'color': 'green', 'line_style': '-'},\n",
    "    \"Campo Verde\": {'color': 'blue', 'line_style': '--'},\n",
    "    \"Chapada dos Guimarães\": {'color': 'blue', 'line_style': '-'},\n",
    "    \"Cuiabá\": {'color': 'red', 'line_style': '--'},\n",
    "    \"Jangada\": {'color': 'black', 'line_style': '-'},\n",
    "    \"Nobres\": {'color': 'black', 'line_style': '--'},\n",
    "    \"Nossa Senhora do Livramento\": {'color': 'yellow', 'line_style': '-'},\n",
    "    \"Nova Brasilândia\": {'color': 'yellow', 'line_style': '--'},\n",
    "    \"Planalto da Serra\": {'color': 'orange', 'line_style': '-'},\n",
    "    \"Poconé\": {'color': 'purple', 'line_style': '--'},\n",
    "    \"Rosário Oeste\": {'color': 'gray', 'line_style': '-'},\n",
    "    \"Santo Antônio do Leverger\": {'color': 'gray', 'line_style': '--'},\n",
    "    \"Várzea Grande\": {'color': 'brown', 'line_style': '-'}\n",
    "}\n",
    "\n",
    "# ==============================================\n",
    "# INTERACTIVE PLOT (plotly) - MAIN FOCUS\n",
    "# ==============================================\n",
    "fig = go.Figure()\n",
    "\n",
    "# For each municipality, add logistic fit to interactive plot\n",
    "for mun, styles in municipality_styles.items():\n",
    "    mun_df = df[df['Municipios'] == mun]\n",
    "    if len(mun_df) >= 3:\n",
    "        try:\n",
    "            years = np.array(mun_df['Year'])\n",
    "            amounts = np.array(mun_df['Totalammount'])\n",
    "            \n",
    "            # Fit logistic curve\n",
    "            p0 = [max(amounts) * 1.5, 0.5, np.median(years)]\n",
    "            bounds = ([max(amounts), 0.01, min(years)], [max(amounts) * 10, 5, max(years)])\n",
    "            popt_logistic, _ = curve_fit(logistic_function, years, amounts, p0=p0, bounds=bounds, maxfev=10000)\n",
    "            \n",
    "            # Generate predictions\n",
    "            years_pred = np.linspace(min(years) - 2, max(years) + 2, 100)\n",
    "            pred_logistic = logistic_function(years_pred, *popt_logistic)\n",
    "            \n",
    "            # Add trace to interactive plot\n",
    "            fig.add_trace(go.Scatter(\n",
    "                x=years_pred, \n",
    "                y=pred_logistic,\n",
    "                mode='lines',\n",
    "                line=dict(\n",
    "                    color=styles['color'],\n",
    "                    width=3,\n",
    "                    dash='dash' if styles['line_style'] == '--' else 'solid'\n",
    "                ),\n",
    "                name=mun,\n",
    "                visible=True,\n",
    "                hovertemplate='Year: %{x}<br>Total Amount: %{y:.2f}<extra></extra>'\n",
    "            ))\n",
    "        except Exception as e:\n",
    "            print(f\"Error creating interactive plot for {mun}: {str(e)}\")\n",
    "\n",
    "# Create dropdown buttons to toggle visibility\n",
    "buttons = []\n",
    "buttons.append(dict(\n",
    "    label=\"All\",\n",
    "    method=\"update\",\n",
    "    args=[{\"visible\": [True] * len(fig.data)},\n",
    "          {\"title\": \"Total Amount Logistic Fits for All Municipalities\"}]\n",
    "))\n",
    "\n",
    "for i, mun in enumerate(municipality_styles.keys()):\n",
    "    visible = [False] * len(fig.data)\n",
    "    for j, trace in enumerate(fig.data):\n",
    "        if trace.name == mun:\n",
    "            visible[j] = True\n",
    "    buttons.append(dict(\n",
    "        label=mun,\n",
    "        method=\"update\",\n",
    "        args=[{\"visible\": visible},\n",
    "              {\"title\": f\"Total Amount Logistic Fit for {mun}\"}]\n",
    "    ))\n",
    "\n",
    "# Update layout with dropdown BELOW TITLE\n",
    "fig.update_layout(\n",
    "    title=dict(\n",
    "        text='Total Amount Logistic Fits for Cuiabá Immediate Region',\n",
    "        y=0.95,\n",
    "        x=0.5,\n",
    "        xanchor='center',\n",
    "        yanchor='top'\n",
    "    ),\n",
    "    updatemenus=[dict(\n",
    "        buttons=buttons,\n",
    "        direction=\"down\",\n",
    "        pad={\"r\": 10, \"t\": 10, \"b\": 10},\n",
    "        showactive=True,\n",
    "        x=0.5,\n",
    "        xanchor=\"center\",\n",
    "        y=0.88,  # Positioned just below title\n",
    "        yanchor=\"top\"\n",
    "    )],\n",
    "    xaxis_title='Year',\n",
    "    yaxis_title='Total Amount',\n",
    "    legend=dict(\n",
    "        orientation=\"h\",\n",
    "        yanchor=\"bottom\",\n",
    "        y=-0.3,\n",
    "        xanchor=\"center\",\n",
    "        x=0.5,\n",
    "        font=dict(size=12)\n",
    "    ),\n",
    "    font=dict(size=14),\n",
    "    plot_bgcolor='white',\n",
    "    height=800,\n",
    "    margin=dict(t=100, b=150, l=50, r=50)  # Adjusted margins\n",
    ")\n",
    "\n",
    "# Save the interactive plot\n",
    "interactive_output_path = r\"C:/Users/daves/OneDrive/Pessoal/Acadêmico/Mestrado/Dissertação - Execução/Dissertação/Quadros e gráficos/WAP(Cuiabá Immediate Region).html\"\n",
    "fig.write_html(interactive_output_path)\n",
    "\n",
    "print(f\"Interactive plot saved to: {interactive_output_path}\")\n",
    "\n",
    "# Show the interactive plot\n",
    "fig.show()"
   ]
  },
  {
   "cell_type": "code",
   "execution_count": null,
   "id": "368cbe41",
   "metadata": {},
   "outputs": [],
   "source": []
  }
 ],
 "metadata": {
  "kernelspec": {
   "display_name": "Python 3",
   "language": "python",
   "name": "python3"
  },
  "language_info": {
   "codemirror_mode": {
    "name": "ipython",
    "version": 3
   },
   "file_extension": ".py",
   "mimetype": "text/x-python",
   "name": "python",
   "nbconvert_exporter": "python",
   "pygments_lexer": "ipython3",
   "version": "3.13.3"
  }
 },
 "nbformat": 4,
 "nbformat_minor": 5
}
