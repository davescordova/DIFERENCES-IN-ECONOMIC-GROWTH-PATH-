{
 "cells": [
  {
   "cell_type": "code",
   "execution_count": null,
   "id": "93016e5d-2cae-4a78-89a0-c726a4ca9d13",
   "metadata": {},
   "outputs": [],
   "source": [
    "using GeoDataFrames\n",
    "using DataFrames\n",
    "using Plots\n",
    "using Shapefile\n",
    "using Random\n",
    "using ArchGDAL\n",
    "using GeoInterface"
   ]
  },
  {
   "cell_type": "code",
   "execution_count": null,
   "id": "52bd6258-3b81-4974-ba4a-a3071305ede3",
   "metadata": {},
   "outputs": [],
   "source": [
    "###Load shapefile\n",
    "\n",
    "shapefile_path = \"C:\\\\Users\\\\daves\\\\OneDrive\\\\Pessoal\\\\Acadêmico\\\\Mestrado\\\\Dissertação - Execução\\\\Análises\\\\MT_Municipios_2022\\\\MT_Municipios_2022.shp\"\n",
    "municipalities = Shapefile.Table(shapefile_path) |> DataFrame"
   ]
  },
  {
   "cell_type": "code",
   "execution_count": null,
   "id": "a23196ec-c556-4dfd-9e8a-bcad3faa5e82",
   "metadata": {},
   "outputs": [],
   "source": [
    "# Fi\n",
    "municipios_filtrados = [\n",
    "    \"Cáceres\", \"Primavera do Leste\", \"Rondonópolis\", \"Sinop\", \"Sorriso\", \n",
    "    \"Guarantã do Norte\", \"Matupá\", \"Peixoto de Azevedo\", \"Terra Nova do Norte\", \n",
    "    \"Nova Santa Helena\", \"Itaúba\", \"Lucas do Rio Verde\", \"Nova Mutum\",\n",
    "    \"Barra do Garças\", \"Campo Verde\"\n",
    "]\n",
    "\n",
    "# Filtrando os dados\n",
    "filtered_municipalities = filter(row -> row.NM_MUN in municipios_filtrados, municipalities)\n",
    "\n",
    "# Exibindo os dados filtrados\n",
    "println(filtered_municipalities)"
   ]
  },
  {
   "cell_type": "code",
   "execution_count": null,
   "id": "8648a1fc-0265-4594-9e79-b24e29c1c9de",
   "metadata": {},
   "outputs": [],
   "source": [
    "# Caminho para o shapefile das rodovias\n",
    "shapefile_path_rodovias = \"C:\\\\Users\\\\daves\\\\OneDrive\\\\Pessoal\\\\Acadêmico\\\\Mestrado\\\\Dissertação - Execução\\\\Análises\\\\Rodovias\\\\SNV_202410A.shp\"\n",
    "# Carregar o shapefile das rodovias\n",
    "rodovias = Shapefile.Table(shapefile_path_rodovias) |> DataFrame\n",
    "\n",
    "# Filtrar as rodovias com a coluna vl_br igual a 070 ou 163 e sg_uf igual a MT\n",
    "filtered_rodovias_070 = filter(row -> row.vl_br == \"070\" && row.sg_uf == \"MT\", rodovias)\n",
    "filtered_rodovias_163 = filter(row -> row.vl_br == \"163\" && row.sg_uf == \"MT\", rodovias)"
   ]
  },
  {
   "cell_type": "code",
   "execution_count": null,
   "id": "e8c7c8e2-c713-45aa-8f4d-08505f7229a1",
   "metadata": {},
   "outputs": [],
   "source": [
    "# Combinar os dataframes filtrados\n",
    "filtered_highways_MT = vcat(filtered_rodovias_070, filtered_rodovias_163)\n",
    "\n",
    "# Agrupar por vl_br\n",
    "grouped_highways = groupby(filtered_highways_MT, :vl_br)"
   ]
  },
  {
   "cell_type": "code",
   "execution_count": null,
   "id": "8b4ec8c1-820a-4c67-8372-742a3be26f0c",
   "metadata": {},
   "outputs": [],
   "source": [
    "#Combine geometries\n",
    "function combine_geometries(geometries)\n",
    "\n",
    "    return mapfoldl(\n",
    "        x -> GeoInterface.convert(ArchGDAL, x), # map - apply to each element\n",
    "        ArchGDAL.union, # reduce 2 elements to 1 element\n",
    "        geometries # the vector to perform the operation on\n",
    "    )\n",
    "end"
   ]
  },
  {
   "cell_type": "code",
   "execution_count": null,
   "id": "e901e85d-6ddd-4a7c-b1c0-77185f5cd843",
   "metadata": {},
   "outputs": [],
   "source": [
    "# Applying function\n",
    "combined_highways = combine(grouped_highways, :geometry => combine_geometries => :geometry)\n",
    "\n",
    "#Showing results\n",
    "println(combined_highways)"
   ]
  },
  {
   "cell_type": "code",
   "execution_count": null,
   "id": "a9818b31-c13a-4a10-9067-5ca0bc7a8917",
   "metadata": {},
   "outputs": [],
   "source": [
    "# Gerar cores aleatórias para os municípios filtrados\n",
    "colors = [RGB(rand(), rand(), rand()) for _ in 1:length(municipios_filtrados)]"
   ]
  },
  {
   "cell_type": "code",
   "execution_count": null,
   "id": "c02bdf49-5e0c-4419-af03-b4cdbe0b169f",
   "metadata": {},
   "outputs": [],
   "source": [
    "# Definir cores para combined_geometries\n",
    "combined_colors = [:black, :gray]  # Adicione mais cores conforme necessário"
   ]
  },
  {
   "cell_type": "code",
   "execution_count": null,
   "id": "106c90dc-51c5-4542-bbe4-71c350768b39",
   "metadata": {},
   "outputs": [],
   "source": [
    "# Plotar todos os municípios e as rodovias filtradas\n",
    "plot(size=(1000, 800))  # Definir tamanho do gráfico\n",
    "plot!(legend=:outerright)\n",
    "plot!(municipalities.geometry, color=:white, linecolor=:black, label=false)\n",
    "\n",
    "for (i, municipio) in enumerate(filtered_municipalities.geometry)\n",
    "    plot!(municipio, color=colors[i], label=municipios_filtrados[i])\n",
    "end\n",
    "\n",
    "for (i, geometry) in enumerate(combined_highways.geometry)\n",
    "    plot!(geometry, color=combined_colors[i], linewidth=4, label=\"BR-\" * string(combined_highways.vl_br[i]))\n",
    "end\n",
    "\n",
    "xlabel!(\"\")\n",
    "ylabel!(\"\")\n",
    "title!(\"\")\n",
    "plot!(legend=:outerright, legendfontsize=8)  # Colocar a legenda ao lado e diminuir o tamanho da legenda\n",
    "plot!(framestyle=:none, grid=false)  # Excluir eixos e marcas de quadrado"
   ]
  },
  {
   "cell_type": "code",
   "execution_count": null,
   "id": "c6067200-8255-4cc7-89db-1a515d94dfa5",
   "metadata": {},
   "outputs": [],
   "source": [
    "# Salvar o gráfico\n",
    "savefig(\"C:\\\\Users\\\\daves\\\\OneDrive\\\\Pessoal\\\\Acadêmico\\\\Mestrado\\\\Dissertação - Execução\\\\Dissertação\\\\Quadros e gráficos\\\\Graph-Cities BR070 and BR163.png\")\n"
   ]
  }
 ],
 "metadata": {
  "kernelspec": {
   "display_name": "Julia 1.11.5",
   "language": "julia",
   "name": "julia-1.11"
  },
  "language_info": {
   "file_extension": ".jl",
   "mimetype": "application/julia",
   "name": "julia",
   "version": "1.11.5"
  }
 },
 "nbformat": 4,
 "nbformat_minor": 5
}
