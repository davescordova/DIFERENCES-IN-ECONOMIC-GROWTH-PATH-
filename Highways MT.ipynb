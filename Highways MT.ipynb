{
 "cells": [
  {
   "cell_type": "code",
   "execution_count": null,
   "id": "93016e5d-2cae-4a78-89a0-c726a4ca9d13",
   "metadata": {},
   "outputs": [],
   "source": [
    "using GeoDataFrames\n",
    "using DataFrames\n",
    "using Plots\n",
    "using Shapefile\n",
    "using Random\n",
    "using ArchGDAL\n",
    "using GeoInterface"
   ]
  },
  {
   "cell_type": "code",
   "execution_count": null,
   "id": "5791935e-dc48-4b65-908c-f53a74faec39",
   "metadata": {},
   "outputs": [],
   "source": [
    "###Shapefile municipalities\n",
    "\n",
    "shapefile_path = \"C:\\\\Users\\\\daves\\\\OneDrive\\\\Pessoal\\\\Acadêmico\\\\Mestrado\\\\Dissertação - Execução\\\\Análises\\\\MT_Municipios_2022\\\\MT_Municipios_2022.shp\"\n",
    "municipalities = Shapefile.Table(shapefile_path) |> DataFrame\n",
    "\n",
    "# Highway shapefile\n",
    "shapefile_path_highways = \"C:\\\\Users\\\\daves\\\\OneDrive\\\\Pessoal\\\\Acadêmico\\\\Mestrado\\\\Dissertação - Execução\\\\Análises\\\\Rodovias\\\\SNV_202410A.shp\"\n",
    "highways = Shapefile.Table(shapefile_path_highways) |> DataFrame"
   ]
  },
  {
   "cell_type": "code",
   "execution_count": null,
   "id": "8600f904-457e-4469-bf77-00f0a5805298",
   "metadata": {},
   "outputs": [],
   "source": [
    "# Filtering sg_uf equals to MT\n",
    "filtered_highways_MT = filter(row -> row.sg_uf == \"MT\", highways)\n",
    "\n",
    "# Grouping by vl_br row\n",
    "grouped_highways = groupby(filtered_highways_MT, :vl_br)"
   ]
  },
  {
   "cell_type": "code",
   "execution_count": null,
   "id": "daf2dae1-e64e-49fd-a846-8ab1d2d1bb45",
   "metadata": {},
   "outputs": [],
   "source": [
    "#Combine geometries\n",
    "function combine_geometries(geometries)\n",
    "\n",
    "    return mapfoldl(\n",
    "        x -> GeoInterface.convert(ArchGDAL, x), # map - apply to each element\n",
    "        ArchGDAL.union, # reduce 2 elements to 1 element\n",
    "        geometries # the vector to perform the operation on\n",
    "    )\n",
    "end"
   ]
  },
  {
   "cell_type": "code",
   "execution_count": null,
   "id": "672f4a4a-7759-4283-80fa-25d540a77264",
   "metadata": {},
   "outputs": [],
   "source": [
    "# Applying function\n",
    "combined_geometries = combine(grouped_highways, :geometry => combine_geometries => :geometry)\n",
    "\n",
    "#Showing results\n",
    "println(combined_geometries)"
   ]
  },
  {
   "cell_type": "code",
   "execution_count": null,
   "id": "4fd5e515-daa9-481e-bd47-5a9c54432d2c",
   "metadata": {},
   "outputs": [],
   "source": [
    "# Gerar cores aleatórias para cada geometria\n",
    "colors = [RGB(rand(), rand(), rand()) for _ in 1:length(combined_geometries.geometry)]"
   ]
  },
  {
   "cell_type": "code",
   "execution_count": null,
   "id": "32781ca0-d19c-43af-82fd-936f37d93467",
   "metadata": {},
   "outputs": [],
   "source": [
    "# Plotar todos os municípios e as rodovias filtradas\n",
    "plot(size=(1000, 800))  # Definir tamanho do gráfico\n",
    "plot!(legend=:outerright)\n",
    "plot!(municipalities.geometry, color=:white, linecolor=:black, label=false)"
   ]
  },
  {
   "cell_type": "code",
   "execution_count": null,
   "id": "9aa873e0-434a-4bd2-bc1b-1fe0040af824",
   "metadata": {},
   "outputs": [],
   "source": [
    "# Plotar as rodovias com cores diferentes e adicionar legenda\n",
    "for (i, geom) in enumerate(combined_geometries.geometry)\n",
    "    plot!(geom, color=colors[i], linewidth=4, label=\"BR-\" * string(combined_geometries.vl_br[i]))\n",
    "end"
   ]
  },
  {
   "cell_type": "code",
   "execution_count": null,
   "id": "06438c8d-eea5-4337-a0fb-6c5983eddc57",
   "metadata": {},
   "outputs": [],
   "source": [
    "# Ajustar a legenda\n",
    "plot!(legend=:outerright, legendfontsize=8)\n",
    "\n",
    "# Remover eixos e grades\n",
    "plot!(framestyle=:none, grid=false)\n",
    "\n",
    "# Ajustar títulos e rótulos dos eixos\n",
    "xlabel!(\"\")\n",
    "ylabel!(\"\")\n",
    "title!(\"\")"
   ]
  },
  {
   "cell_type": "code",
   "execution_count": null,
   "id": "b0a9f440-6e47-43f1-8cf5-1509295ec50c",
   "metadata": {},
   "outputs": [],
   "source": [
    "# Salvar o gráfico\n",
    "savefig(\"C:\\\\Users\\\\daves\\\\OneDrive\\\\Pessoal\\\\Acadêmico\\\\Mestrado\\\\Dissertação - Execução\\\\Dissertação\\\\Quadros e gráficos\\\\Graph-Rodovias.png\")"
   ]
  },
  {
   "cell_type": "code",
   "execution_count": null,
   "id": "0e784ae5-d225-4f59-b13a-ad101c9f808e",
   "metadata": {},
   "outputs": [],
   "source": []
  },
  {
   "cell_type": "code",
   "execution_count": null,
   "id": "3bd38392-468f-4a9e-b4cd-6c6b5979caa5",
   "metadata": {},
   "outputs": [],
   "source": []
  }
 ],
 "metadata": {
  "kernelspec": {
   "display_name": "Julia 1.11.0",
   "language": "julia",
   "name": "julia-1.11"
  },
  "language_info": {
   "file_extension": ".jl",
   "mimetype": "application/julia",
   "name": "julia",
   "version": "1.11.0"
  }
 },
 "nbformat": 4,
 "nbformat_minor": 5
}
