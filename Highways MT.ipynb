{
 "cells": [
  {
   "cell_type": "code",
   "execution_count": null,
   "id": "d0ccd2bf",
   "metadata": {},
   "outputs": [],
   "source": [
    "using GeoDataFrames\n",
    "using DataFrames\n",
    "using Plots\n",
    "using Shapefile\n",
    "using Random\n",
    "using ArchGDAL\n",
    "using GeoInterface\n",
    "using ColorSchemes\n",
    "\n",
    "# Set a backend for Plots.jl\n",
    "gr()"
   ]
  },
  {
   "cell_type": "code",
   "execution_count": null,
   "id": "d1fc4cb1",
   "metadata": {},
   "outputs": [],
   "source": [
    "### Municipalities Shapefile\n",
    "shapefile_path_municipalities = \"C:\\\\Users\\\\daves\\\\OneDrive\\\\Pessoal\\\\Acadêmico\\\\Mestrado\\\\Dissertação - Execução\\\\Análises\\\\MT_Municipios_2022\\\\MT_Municipios_2022.shp\"\n",
    "municipalities = Shapefile.Table(shapefile_path_municipalities) |> DataFrame\n",
    "\n",
    "# Highways Shapefile\n",
    "shapefile_path_highways = \"C:\\\\Users\\\\daves\\\\OneDrive\\\\Pessoal\\\\Acadêmico\\\\Mestrado\\\\Dissertação - Execução\\\\Análises\\\\Rodovias\\\\SNV_202410A.shp\"\n",
    "highways = Shapefile.Table(shapefile_path_highways) |> DataFrame"
   ]
  },
  {
   "cell_type": "code",
   "execution_count": null,
   "id": "d148431d",
   "metadata": {},
   "outputs": [],
   "source": [
    "# Filter for highways where sg_uf equals \"MT\"\n",
    "filtered_highways_MT = filter(row -> row.sg_uf == \"MT\", highways)\n",
    "\n",
    "# Group highways by the 'vl_br' column\n",
    "grouped_highways = groupby(filtered_highways_MT, :vl_br)"
   ]
  },
  {
   "cell_type": "code",
   "execution_count": null,
   "id": "2c6195ec",
   "metadata": {},
   "outputs": [],
   "source": [
    "# Function to combine geometries within a group\n",
    "function combine_geometries(geometries)\n",
    "    # Filter out any missing or invalid geometries before processing\n",
    "    valid_geoms = filter(g -> !isnothing(g) && GeoInterface.npoint(g) > 0, geometries)\n",
    "    if isempty(valid_geoms)\n",
    "        return nothing\n",
    "    end\n",
    "    \n",
    "    return mapfoldl(\n",
    "        x -> GeoInterface.convert(ArchGDAL, x), # map: convert each geometry to an ArchGDAL object\n",
    "        ArchGDAL.union,                          # reduce: combine two geometries\n",
    "        valid_geoms                              # the collection to operate on\n",
    "    )\n",
    "end\n",
    "\n",
    "# Apply the function to create a new DataFrame with combined geometries\n",
    "combined_highways = combine(grouped_highways, :geometry => combine_geometries => :geometry)"
   ]
  },
  {
   "cell_type": "code",
   "execution_count": null,
   "id": "d57d01a7",
   "metadata": {},
   "outputs": [],
   "source": [
    "## --- Plotting Section ---\n",
    "\n",
    "# 1. Get the number of unique highways for coloring\n",
    "num_highways = nrow(combined_highways)\n",
    "\n",
    "# 2. Generate a list of high-contrast colors\n",
    "palette = colorschemes[:Set1_9]\n",
    "high_contrast_colors = [palette[mod1(i, length(palette))] for i in 1:num_highways]\n",
    "\n",
    "# 3. Initialize the plot with a specific size\n",
    "plot(size=(1000, 800), dpi=1800)\n",
    "\n",
    "# 4. Plot the municipalities as the base map layer\n",
    "plot!(municipalities.geometry,\n",
    "    color=:white,\n",
    "    linecolor=:black,\n",
    "    label=false\n",
    ")\n",
    "\n",
    "# 5. Loop through the combined highways and plot each one\n",
    "for (i, row) in enumerate(eachrow(combined_highways))\n",
    "    plot!(row.geometry,\n",
    "        color = high_contrast_colors[i], \n",
    "        linewidth = 4,\n",
    "        label = \"BR-\" * string(row.vl_br)\n",
    "    )\n",
    "end\n",
    "\n",
    "# 6. Finalize plot aesthetics\n",
    "plot!(\n",
    "    legend = :outerright,\n",
    "    legendfontsize = 8,\n",
    "    legendtitle = \"Highways\",\n",
    "    framestyle = :none,\n",
    "    grid = false\n",
    ")\n",
    "\n",
    "# 7. Display the plot on the screen 🖥️\n",
    "display(current())\n",
    "\n",
    "# 8. Save the final plot to a file \n",
    "Plots.savefig(\"C:\\\\Users\\\\daves\\\\OneDrive\\\\Pessoal\\\\Acadêmico\\\\Mestrado\\\\Dissertação - Execução\\\\Dissertação\\\\Quadros e gráficos\\\\Graph-Highways\")"
   ]
  },
  {
   "cell_type": "code",
   "execution_count": null,
   "id": "7e881a71",
   "metadata": {},
   "outputs": [],
   "source": []
  }
 ],
 "metadata": {
  "kernelspec": {
   "display_name": "Julia 1.11.5",
   "language": "julia",
   "name": "julia-1.11"
  },
  "language_info": {
   "file_extension": ".jl",
   "mimetype": "application/julia",
   "name": "julia",
   "version": "1.11.5"
  }
 },
 "nbformat": 4,
 "nbformat_minor": 5
}
