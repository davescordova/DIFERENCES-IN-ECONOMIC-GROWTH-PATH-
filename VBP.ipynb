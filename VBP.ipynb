{
 "cells": [
  {
   "cell_type": "code",
   "execution_count": null,
   "id": "93016e5d-2cae-4a78-89a0-c726a4ca9d13",
   "metadata": {},
   "outputs": [],
   "source": [
    "import pandas as pd\n",
    "import matplotlib.pyplot as plt"
   ]
  },
  {
   "cell_type": "code",
   "execution_count": null,
   "id": "70b74293-14a6-4283-9d65-e9536260fb28",
   "metadata": {},
   "outputs": [],
   "source": [
    "# Load data\n",
    "file_path = \"C:\\\\Users\\\\daves\\\\OneDrive\\\\Pessoal\\\\Acadêmico\\\\Mestrado\\\\Dissertação - Execução\\\\Análises\\\\VBP\\\\VBP.xlsx\"\n",
    "sheet_name = \"VBP Corrigido\"\n",
    "df = pd.read_excel(file_path, sheet_name=sheet_name, engine='openpyxl')"
   ]
  },
  {
   "cell_type": "code",
   "execution_count": null,
   "id": "35f45dec-4b41-4380-ac70-a4b4e45a9e38",
   "metadata": {
    "scrolled": true
   },
   "outputs": [],
   "source": [
    "# Substitute missing by zero\n",
    "df.fillna(0, inplace=True)\n",
    "df"
   ]
  },
  {
   "cell_type": "code",
   "execution_count": null,
   "id": "e8b0dc1a-9cf1-492d-a5d3-abe31d98026d",
   "metadata": {},
   "outputs": [],
   "source": [
    "# Grouping by\"Região imediata\" and summing 1994 a 2023\n",
    "grouped_df = df.groupby('Região imediata').sum(numeric_only=True).reset_index()\n",
    "\n",
    "# Dividing values 1994 a 2023 por mil\n",
    "grouped_df.iloc[:, 1:] = grouped_df.iloc[:, 1:].astype(float) / 1000000\n",
    "grouped_df"
   ]
  },
  {
   "cell_type": "code",
   "execution_count": null,
   "id": "ba6d7e51-1994-4531-8382-df6450a7a36a",
   "metadata": {},
   "outputs": [],
   "source": [
    "# Ploting\n",
    "plt.figure(figsize=(12, 8))\n",
    "\n",
    "# Each \"Região Imediata\"\n",
    "for regiao in grouped_df['Região imediata']:\n",
    "    # Filtrar os dados para a região atual\n",
    "    dados_regiao = grouped_df[grouped_df['Região imediata'] == regiao]\n",
    "    \n",
    "    \n",
    "    anos = dados_regiao.columns[1:] \n",
    "    valores = dados_regiao.values[0][1:]  \n",
    "    \n",
    "    # Plotar a linha\n",
    "    plt.plot(anos, valores, label=regiao)\n",
    "\n",
    "plt.xlabel('Year')\n",
    "plt.ylabel('Value (2023 billion Reais)')\n",
    "\n",
    "plt.legend(title='Immediate Region', loc='upper center', bbox_to_anchor=(0.5, -0.15), ncol=3)\n",
    "\n",
    "plt.xticks(rotation=45)\n",
    "\n",
    "plt.tight_layout()\n",
    "\n",
    "caminho_salvar = r\"C:\\Users\\daves\\OneDrive\\Pessoal\\Acadêmico\\Mestrado\\Dissertação - Execução\\Dissertação\\Quadros e gráficos\\VBP.png\"\n",
    "\n",
    "plt.savefig(caminho_salvar, dpi=1200, bbox_inches='tight')\n",
    "\n",
    "plt.show()"
   ]
  },
  {
   "cell_type": "code",
   "execution_count": null,
   "id": "5081a9a0-e63c-4b99-a63f-5240ae726e36",
   "metadata": {},
   "outputs": [],
   "source": [
    "# Ploting\n",
    "plt.figure(figsize=(12, 8))\n",
    "\n",
    "regioes_destacadas = ['Sinop', 'Sorriso', 'Água Boa', 'Primavera do Leste', 'Rondonópolis', 'Tangará da Serra']\n",
    "\n",
    "cores_destacadas = ['blue', 'green', 'red', 'purple', 'orange', 'pink', 'yellow']\n",
    "\n",
    "# ploting each \"Região Imediata\"\n",
    "for regiao in grouped_df['Região imediata']:\n",
    "    # FIltering data for region \n",
    "    dados_regiao = grouped_df[grouped_df['Região imediata'] == regiao]\n",
    "    \n",
    "        anos = dados_regiao.columns[1:] \n",
    "    valores = dados_regiao.values[0][1:]  \n",
    "    \n",
    "    # Verifying if the region is in the destacated\n",
    "    if regiao in regioes_destacadas:\n",
    "        # Obtaining color\n",
    "        cor = cores_destacadas[regioes_destacadas.index(regiao)]\n",
    "        plt.plot(anos, valores, label=regiao, color=cor, linewidth=2.5)\n",
    "    else:\n",
    "        # Gray to other regions\n",
    "        plt.plot(anos, valores, color='gray', alpha=0.5, linewidth=1)\n",
    "\n",
    "plt.xlabel('Year')\n",
    "plt.ylabel('Value (2023 billion Reais)')\n",
    "plt.legend(title='Immediate Region', bbox_to_anchor=(1.05, 1), loc='upper left')  \n",
    "\n",
    "plt.xticks(rotation=45)\n",
    "\n",
    "plt.tight_layout()\n",
    "\n",
    "caminho_salvar = r\"C:\\Users\\daves\\OneDrive\\Pessoal\\Acadêmico\\Mestrado\\Dissertação - Execução\\Dissertação\\Quadros e gráficos\\VBP-Regiões destacadas.png\"\n",
    "\n",
    "plt.savefig(caminho_salvar, dpi=1200, bbox_inches='tight')\n",
    "\n",
    "plt.show()"
   ]
  },
  {
   "cell_type": "code",
   "execution_count": null,
   "id": "c241025c-83d5-4afb-b580-2093fcbd06fe",
   "metadata": {},
   "outputs": [],
   "source": []
  }
 ],
 "metadata": {
  "kernelspec": {
   "display_name": "Python [conda env:base] *",
   "language": "python",
   "name": "conda-base-py"
  },
  "language_info": {
   "codemirror_mode": {
    "name": "ipython",
    "version": 3
   },
   "file_extension": ".py",
   "mimetype": "text/x-python",
   "name": "python",
   "nbconvert_exporter": "python",
   "pygments_lexer": "ipython3",
   "version": "3.12.8"
  }
 },
 "nbformat": 4,
 "nbformat_minor": 5
}
